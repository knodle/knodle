{
 "cells": [
  {
   "cell_type": "markdown",
   "metadata": {},
   "source": [
    "# Relation Exraction Dataset based on CONLL data"
   ]
  },
  {
   "cell_type": "markdown",
   "metadata": {},
   "source": [
    "In this small tutorial we are going to look at how we could make the weak annotation of data for relation extraction task using simple patterns. \n",
    "\n",
    "For that, we are going to use dataset in CONLL format that already has gold labels, which we are going to use for comparing with the labels we receive. The examples of such files could be downloaded by the following link: https://ucloud.univie.ac.at/index.php/s/cGQNRgbPHZU89mY\n",
    "\n",
    "The steps are the following:\n",
    "- process the data in CONLL format (an example could be downloaded by the following link:)\n",
    "- extract all the relevant for us information (the sample and the relation label)\n",
    "- create a sample set of hand-crafted patterns in the format: _\"\\\\$ARG1 \\<some words\\> \\\\$ARG2\"_ where _\\\\$ARG1_ and _\\\\$ARG2_ are the entities between that the relation is hold\n",
    "- annotated sample with Spacy package in order to get the entities\n",
    "- take the entities pairwise and extract the part of sentences between them \n",
    "\n",
    "(e.g. from a sentence _\"Margaret Thatcher was born on 13 October 1925\"_ a subsentence _\"\\\\$ARG1 was born on \\\\$ARG2\"_ will be extracted given _\"Margaret Thatcher\"_ and _\"13 October 1925\"_ were the only entities defined by Spacy)\n",
    "\n",
    "- check if there is a pattern in this subsentences. If so, it receives a label corresponding to the relation that pattern support and becomes a part of our new weakly annotated training set. "
   ]
  },
  {
   "cell_type": "markdown",
   "metadata": {},
   "source": [
    "## Imports"
   ]
  },
  {
   "cell_type": "code",
   "execution_count": 78,
   "metadata": {},
   "outputs": [
    {
     "name": "stderr",
     "output_type": "stream",
     "text": [
      "/opt/anaconda3/lib/python3.8/site-packages/tqdm/std.py:668: FutureWarning: The Panel class is removed from pandas. Accessing it from the top-level namespace will also be removed in the next version\n",
      "  from pandas import Panel\n"
     ]
    }
   ],
   "source": [
    "import spacy\n",
    "import pandas as pd\n",
    "# import en_core_web_sm\n",
    "import re\n",
    "import itertools\n",
    "from tqdm import tqdm\n",
    "tqdm.pandas()\n",
    "\n",
    "pd.set_option('display.max_colwidth', -1)"
   ]
  },
  {
   "cell_type": "code",
   "execution_count": 79,
   "metadata": {},
   "outputs": [],
   "source": [
    "# in oder to avoid issues with en_core_web_lg, please execute the following command\n",
    "!python -m spacy download en_core_web_sm"
   ]
  },
  {
   "cell_type": "code",
   "execution_count": null,
   "outputs": [],
   "source": [
    "ARG1 = \"$ARG1\"\n",
    "ARG2 = \"$ARG2\"\n",
    "FINAL_DF_COLUMNS = ['sample', 'extr_sample', 'pattern', 'weak_label', 'gold_label']"
   ],
   "metadata": {
    "collapsed": false,
    "pycharm": {
     "name": "#%%\n"
    }
   }
  },
  {
   "cell_type": "markdown",
   "metadata": {},
   "source": [
    "We are going to use this function each time we want to print out a Dataframe in order to escape dollar symbol in patterns"
   ]
  },
  {
   "cell_type": "code",
   "execution_count": 80,
   "metadata": {},
   "outputs": [],
   "source": [
    "def escape_dollar(strings):\n",
    "    return [re.sub(\"\\\\$\", \"\\\\\\\\$\", str(string)) for string in strings]"
   ]
  },
  {
   "cell_type": "markdown",
   "metadata": {},
   "source": [
    "## Read and preprocess CONLL data"
   ]
  },
  {
   "cell_type": "markdown",
   "metadata": {},
   "source": [
    "Firstly, we are going to read the input .conll file. Please make sure that it is saved in the same directory as this tutorial notebook and path to it is solved in conll_file variable."
   ]
  },
  {
   "cell_type": "code",
   "execution_count": 81,
   "metadata": {},
   "outputs": [],
   "source": [
    "conll_file = \"dev.conll\""
   ]
  },
  {
   "cell_type": "code",
   "execution_count": 82,
   "metadata": {},
   "outputs": [],
   "source": [
    "def process_data(path_to_data):\n",
    "    samples, relations = [], []\n",
    "    with open(path_to_data, encoding='utf-8') as f:\n",
    "        for line in f:\n",
    "            line = line.strip()\n",
    "            if line.startswith(\"# id=\"):    # Instance starts\n",
    "                sample = \"\"\n",
    "                label = line.split(\" \")[3][5:]\n",
    "            elif line == \"\":  # Instance ends\n",
    "                samples.append(sample)\n",
    "                relations.append(label)\n",
    "            elif line.startswith(\"#\"):  # comment\n",
    "                continue\n",
    "            else:\n",
    "                parts = line.split(\"\\t\")\n",
    "                token = parts[1]\n",
    "                if token == \"-LRB-\":\n",
    "                    token = \"(\"\n",
    "                elif token == \"-RRB-\":\n",
    "                    token = \")\"\n",
    "                sample += \" \" + token\n",
    "    return pd.DataFrame.from_dict({\"sample\": samples, \"label\": relations})\n",
    "\n",
    "samples = process_data(conll_file)"
   ]
  },
  {
   "cell_type": "markdown",
   "metadata": {},
   "source": [
    "Let's inspect all relation labels that we have in our dataset"
   ]
  },
  {
   "cell_type": "code",
   "execution_count": 83,
   "metadata": {},
   "outputs": [
    {
     "name": "stdout",
     "output_type": "stream",
     "text": [
      "{'org:founded', 'org:country_of_headquarters', 'per:city_of_birth', 'per:origin', 'per:other_family', 'per:country_of_birth', 'org:dissolved', 'org:shareholders', 'per:parents', 'per:cause_of_death', 'per:spouse', 'per:stateorprovince_of_death', 'no_relation', 'org:members', 'org:stateorprovince_of_headquarters', 'org:number_of_employees/members', 'per:cities_of_residence', 'org:political/religious_affiliation', 'per:children', 'per:date_of_death', 'org:top_members/employees', 'org:city_of_headquarters', 'org:subsidiaries', 'per:city_of_death', 'per:countries_of_residence', 'per:schools_attended', 'per:stateorprovinces_of_residence', 'org:alternate_names', 'org:parents', 'per:religion', 'org:founded_by', 'per:age', 'per:employee_of', 'per:title', 'per:date_of_birth', 'org:member_of', 'per:alternate_names', 'per:country_of_death', 'per:stateorprovince_of_birth', 'per:charges', 'org:website', 'per:siblings'}\n"
     ]
    }
   ],
   "source": [
    "print(set(samples[\"label\"]))"
   ]
  },
  {
   "cell_type": "markdown",
   "metadata": {},
   "source": [
    "To make the calculation quicklier, let's choose only the samples that contain a relation (that is, labelled not with \"no_relation\" label). "
   ]
  },
  {
   "cell_type": "code",
   "execution_count": 84,
   "metadata": {},
   "outputs": [],
   "source": [
    "selected_samples = samples[samples[\"label\"]!='no_relation'].sample(n=1000, random_state=100)"
   ]
  },
  {
   "cell_type": "code",
   "execution_count": 85,
   "metadata": {},
   "outputs": [
    {
     "data": {
      "text/html": [
       "<div>\n",
       "<style scoped>\n",
       "    .dataframe tbody tr th:only-of-type {\n",
       "        vertical-align: middle;\n",
       "    }\n",
       "\n",
       "    .dataframe tbody tr th {\n",
       "        vertical-align: top;\n",
       "    }\n",
       "\n",
       "    .dataframe thead th {\n",
       "        text-align: right;\n",
       "    }\n",
       "</style>\n",
       "<table border=\"1\" class=\"dataframe\">\n",
       "  <thead>\n",
       "    <tr style=\"text-align: right;\">\n",
       "      <th></th>\n",
       "      <th>sample</th>\n",
       "      <th>label</th>\n",
       "    </tr>\n",
       "  </thead>\n",
       "  <tbody>\n",
       "    <tr>\n",
       "      <th>4777</th>\n",
       "      <td>Or as one hotel executive , James Anhut , of InterContinental Hotels Group , put it , `` Travelers can stay in a cool hotel and earn their Priority Club frequency points , too . ''</td>\n",
       "      <td>org:top_members/employees</td>\n",
       "    </tr>\n",
       "    <tr>\n",
       "      <th>4068</th>\n",
       "      <td>Prolific French film maker Claude Chabrol , who helped start the New Wave movement in the 1950s , died on Sunday , aged 80 , an aide to Paris mayor Bertrand Delanoe told AFP .</td>\n",
       "      <td>per:origin</td>\n",
       "    </tr>\n",
       "    <tr>\n",
       "      <th>5581</th>\n",
       "      <td>Try the Public Library of Science ( http://www.plos.org/ ) , which does have some drawbacks , but also appears to have a clue .</td>\n",
       "      <td>org:website</td>\n",
       "    </tr>\n",
       "    <tr>\n",
       "      <th>21851</th>\n",
       "      <td>His main Shiite rival , Abdul Aziz al-Hakim , who heads the Islamic Supreme Council of Iraq , an influential Shiite political party that is part of Maliki 's ruling coalition , has also denounced the plans .</td>\n",
       "      <td>per:religion</td>\n",
       "    </tr>\n",
       "    <tr>\n",
       "      <th>4237</th>\n",
       "      <td>Popular Kabul lawmaker Ramazan Bashardost , who camps out in a tent near parliament and campaigned against corruption , attracted 359,214 votes and former World Bank economist Ashraf Ghani 62,536 votes , Najafi added .</td>\n",
       "      <td>per:cities_of_residence</td>\n",
       "    </tr>\n",
       "  </tbody>\n",
       "</table>\n",
       "</div>"
      ],
      "text/plain": [
       "                                                                                                                                                                                                                            sample  \\\n",
       "4777    Or as one hotel executive , James Anhut , of InterContinental Hotels Group , put it , `` Travelers can stay in a cool hotel and earn their Priority Club frequency points , too . ''                                         \n",
       "4068    Prolific French film maker Claude Chabrol , who helped start the New Wave movement in the 1950s , died on Sunday , aged 80 , an aide to Paris mayor Bertrand Delanoe told AFP .                                              \n",
       "5581    Try the Public Library of Science ( http://www.plos.org/ ) , which does have some drawbacks , but also appears to have a clue .                                                                                              \n",
       "21851   His main Shiite rival , Abdul Aziz al-Hakim , who heads the Islamic Supreme Council of Iraq , an influential Shiite political party that is part of Maliki 's ruling coalition , has also denounced the plans .              \n",
       "4237    Popular Kabul lawmaker Ramazan Bashardost , who camps out in a tent near parliament and campaigned against corruption , attracted 359,214 votes and former World Bank economist Ashraf Ghani 62,536 votes , Najafi added .   \n",
       "\n",
       "                           label  \n",
       "4777   org:top_members/employees  \n",
       "4068   per:origin                 \n",
       "5581   org:website                \n",
       "21851  per:religion               \n",
       "4237   per:cities_of_residence    "
      ]
     },
     "execution_count": 85,
     "metadata": {},
     "output_type": "execute_result"
    }
   ],
   "source": [
    "selected_samples.head()"
   ]
  },
  {
   "cell_type": "markdown",
   "metadata": {},
   "source": [
    "## Defining patterns"
   ]
  },
  {
   "cell_type": "markdown",
   "metadata": {},
   "source": [
    "In order to turn the data into distantly supervised one, we write down a couple of simple patterns for each relation that could help us to find these relations in training samples. For complexity reasons we reduced the number of relation we want to write patterns for and choose 3 relations from the TACRED relation labels: \"org:alternate_names\", \"per:date_of_birth\" and \"org:top_members/employees\". "
   ]
  },
  {
   "cell_type": "code",
   "execution_count": 86,
   "metadata": {},
   "outputs": [],
   "source": [
    "relation_patterns = {\"org:alternate_names\":\n",
    "                     [\"$ARG1 ( $ARG2 \", \n",
    "                       \"$ARG1 formerly known as $ARG2\",\n",
    "                       \"$ARG1 aka $ARG2\", \n",
    "                       \"$ARG1 ( also known as $ARG2 )\"],\n",
    "                     \"per:date_of_birth\": \n",
    "                     [\"$ARG1 ( born $ARG2 )\", \n",
    "                       \"$ARG1 ( born $ARG2 in\",\n",
    "                       \"$ARG1 ( $ARG2 -\",\n",
    "                       \"$ARG1 was born in $ARG2\"],\n",
    "                     \"org:top_members/employees\":\n",
    "                     [\"$ARG1 , executive director of $ARG2\",\n",
    "                       \"$ARG1 , head of $ARG2\",\n",
    "                       \"$ARG1 , who heads $ARG2\",\n",
    "                       \"$ARG1 , chief executive of $ARG2\"]}\n",
    "\n",
    "relation_patterns_df = pd.DataFrame.from_dict(relation_patterns, orient='index')\n",
    "relation_patterns_df['raw pattern']=relation_patterns_df.apply(lambda row: row.dropna().tolist(), axis=1)\n",
    "relation_patterns_df = relation_patterns_df[['raw pattern']]"
   ]
  },
  {
   "cell_type": "code",
   "execution_count": 87,
   "metadata": {
    "scrolled": true
   },
   "outputs": [
    {
     "data": {
      "text/html": [
       "<div>\n",
       "<style scoped>\n",
       "    .dataframe tbody tr th:only-of-type {\n",
       "        vertical-align: middle;\n",
       "    }\n",
       "\n",
       "    .dataframe tbody tr th {\n",
       "        vertical-align: top;\n",
       "    }\n",
       "\n",
       "    .dataframe thead th {\n",
       "        text-align: right;\n",
       "    }\n",
       "</style>\n",
       "<table border=\"1\" class=\"dataframe\">\n",
       "  <thead>\n",
       "    <tr style=\"text-align: right;\">\n",
       "      <th></th>\n",
       "      <th>raw pattern</th>\n",
       "    </tr>\n",
       "  </thead>\n",
       "  <tbody>\n",
       "    <tr>\n",
       "      <th>org:alternate_names</th>\n",
       "      <td>['\\$ARG1 ( \\$ARG2 ', '\\$ARG1 formerly known as \\$ARG2', '\\$ARG1 aka \\$ARG2', '\\$ARG1 ( also known as \\$ARG2 )']</td>\n",
       "    </tr>\n",
       "    <tr>\n",
       "      <th>per:date_of_birth</th>\n",
       "      <td>['\\$ARG1 ( born \\$ARG2 )', '\\$ARG1 ( born \\$ARG2 in', '\\$ARG1 ( \\$ARG2 -', '\\$ARG1 was born in \\$ARG2']</td>\n",
       "    </tr>\n",
       "    <tr>\n",
       "      <th>org:top_members/employees</th>\n",
       "      <td>['\\$ARG1 , executive director of \\$ARG2', '\\$ARG1 , head of \\$ARG2', '\\$ARG1 , who heads \\$ARG2', '\\$ARG1 , chief executive of \\$ARG2']</td>\n",
       "    </tr>\n",
       "  </tbody>\n",
       "</table>\n",
       "</div>"
      ],
      "text/plain": [
       "                                                                                                                                                       raw pattern\n",
       "org:alternate_names        ['\\$ARG1 ( \\$ARG2 ', '\\$ARG1 formerly known as \\$ARG2', '\\$ARG1 aka \\$ARG2', '\\$ARG1 ( also known as \\$ARG2 )']                        \n",
       "per:date_of_birth          ['\\$ARG1 ( born \\$ARG2 )', '\\$ARG1 ( born \\$ARG2 in', '\\$ARG1 ( \\$ARG2 -', '\\$ARG1 was born in \\$ARG2']                                \n",
       "org:top_members/employees  ['\\$ARG1 , executive director of \\$ARG2', '\\$ARG1 , head of \\$ARG2', '\\$ARG1 , who heads \\$ARG2', '\\$ARG1 , chief executive of \\$ARG2']"
      ]
     },
     "execution_count": 87,
     "metadata": {},
     "output_type": "execute_result"
    }
   ],
   "source": [
    "relation_patterns_df.apply(lambda x: escape_dollar(x)).head()"
   ]
  },
  {
   "cell_type": "markdown",
   "metadata": {
    "pycharm": {
     "name": "#%% md\n"
    }
   },
   "source": [
    "Since we want to make a simple regex search, we convert the handßwritten patterns into regexes."
   ]
  },
  {
   "cell_type": "code",
   "execution_count": 88,
   "metadata": {
    "pycharm": {
     "name": "#%%\n"
    }
   },
   "outputs": [],
   "source": [
    "def preprocess_patterns(patterns):\n",
    "    regex_patterns = [re.sub(\"\\\\\\\\\\\\$ARG\", \"(A )?(a )?(The )?(the )?\\\\$ARG\", re.escape(pattern)) for pattern in patterns]\n",
    "    return regex_patterns\n",
    "\n",
    "relation_patterns_df[\"regex pattern\"] = relation_patterns_df[\"raw pattern\"].apply(preprocess_patterns)"
   ]
  },
  {
   "cell_type": "code",
   "execution_count": 89,
   "metadata": {},
   "outputs": [
    {
     "data": {
      "text/html": [
       "<div>\n",
       "<style scoped>\n",
       "    .dataframe tbody tr th:only-of-type {\n",
       "        vertical-align: middle;\n",
       "    }\n",
       "\n",
       "    .dataframe tbody tr th {\n",
       "        vertical-align: top;\n",
       "    }\n",
       "\n",
       "    .dataframe thead th {\n",
       "        text-align: right;\n",
       "    }\n",
       "</style>\n",
       "<table border=\"1\" class=\"dataframe\">\n",
       "  <thead>\n",
       "    <tr style=\"text-align: right;\">\n",
       "      <th></th>\n",
       "      <th>raw pattern</th>\n",
       "      <th>regex pattern</th>\n",
       "    </tr>\n",
       "  </thead>\n",
       "  <tbody>\n",
       "    <tr>\n",
       "      <th>org:alternate_names</th>\n",
       "      <td>['\\$ARG1 ( \\$ARG2 ', '\\$ARG1 formerly known as \\$ARG2', '\\$ARG1 aka \\$ARG2', '\\$ARG1 ( also known as \\$ARG2 )']</td>\n",
       "      <td>['(A )?(a )?(The )?(the )?\\\\\\$ARG1\\\\ \\\\(\\\\ (A )?(a )?(The )?(the )?\\\\\\$ARG2\\\\ ', '(A )?(a )?(The )?(the )?\\\\\\$ARG1\\\\ formerly\\\\ known\\\\ as\\\\ (A )?(a )?(The )?(the )?\\\\\\$ARG2', '(A )?(a )?(The )?(the )?\\\\\\$ARG1\\\\ aka\\\\ (A )?(a )?(The )?(the )?\\\\\\$ARG2', '(A )?(a )?(The )?(the )?\\\\\\$ARG1\\\\ \\\\(\\\\ also\\\\ known\\\\ as\\\\ (A )?(a )?(The )?(the )?\\\\\\$ARG2\\\\ \\\\)']</td>\n",
       "    </tr>\n",
       "    <tr>\n",
       "      <th>per:date_of_birth</th>\n",
       "      <td>['\\$ARG1 ( born \\$ARG2 )', '\\$ARG1 ( born \\$ARG2 in', '\\$ARG1 ( \\$ARG2 -', '\\$ARG1 was born in \\$ARG2']</td>\n",
       "      <td>['(A )?(a )?(The )?(the )?\\\\\\$ARG1\\\\ \\\\(\\\\ born\\\\ (A )?(a )?(The )?(the )?\\\\\\$ARG2\\\\ \\\\)', '(A )?(a )?(The )?(the )?\\\\\\$ARG1\\\\ \\\\(\\\\ born\\\\ (A )?(a )?(The )?(the )?\\\\\\$ARG2\\\\ in', '(A )?(a )?(The )?(the )?\\\\\\$ARG1\\\\ \\\\(\\\\ (A )?(a )?(The )?(the )?\\\\\\$ARG2\\\\ \\\\-', '(A )?(a )?(The )?(the )?\\\\\\$ARG1\\\\ was\\\\ born\\\\ in\\\\ (A )?(a )?(The )?(the )?\\\\\\$ARG2']</td>\n",
       "    </tr>\n",
       "    <tr>\n",
       "      <th>org:top_members/employees</th>\n",
       "      <td>['\\$ARG1 , executive director of \\$ARG2', '\\$ARG1 , head of \\$ARG2', '\\$ARG1 , who heads \\$ARG2', '\\$ARG1 , chief executive of \\$ARG2']</td>\n",
       "      <td>['(A )?(a )?(The )?(the )?\\\\\\$ARG1\\\\ ,\\\\ executive\\\\ director\\\\ of\\\\ (A )?(a )?(The )?(the )?\\\\\\$ARG2', '(A )?(a )?(The )?(the )?\\\\\\$ARG1\\\\ ,\\\\ head\\\\ of\\\\ (A )?(a )?(The )?(the )?\\\\\\$ARG2', '(A )?(a )?(The )?(the )?\\\\\\$ARG1\\\\ ,\\\\ who\\\\ heads\\\\ (A )?(a )?(The )?(the )?\\\\\\$ARG2', '(A )?(a )?(The )?(the )?\\\\\\$ARG1\\\\ ,\\\\ chief\\\\ executive\\\\ of\\\\ (A )?(a )?(The )?(the )?\\\\\\$ARG2']</td>\n",
       "    </tr>\n",
       "  </tbody>\n",
       "</table>\n",
       "</div>"
      ],
      "text/plain": [
       "                                                                                                                                                       raw pattern  \\\n",
       "org:alternate_names        ['\\$ARG1 ( \\$ARG2 ', '\\$ARG1 formerly known as \\$ARG2', '\\$ARG1 aka \\$ARG2', '\\$ARG1 ( also known as \\$ARG2 )']                           \n",
       "per:date_of_birth          ['\\$ARG1 ( born \\$ARG2 )', '\\$ARG1 ( born \\$ARG2 in', '\\$ARG1 ( \\$ARG2 -', '\\$ARG1 was born in \\$ARG2']                                   \n",
       "org:top_members/employees  ['\\$ARG1 , executive director of \\$ARG2', '\\$ARG1 , head of \\$ARG2', '\\$ARG1 , who heads \\$ARG2', '\\$ARG1 , chief executive of \\$ARG2']   \n",
       "\n",
       "                                                                                                                                                                                                                                                                                                                                                                                                         regex pattern  \n",
       "org:alternate_names        ['(A )?(a )?(The )?(the )?\\\\\\$ARG1\\\\ \\\\(\\\\ (A )?(a )?(The )?(the )?\\\\\\$ARG2\\\\ ', '(A )?(a )?(The )?(the )?\\\\\\$ARG1\\\\ formerly\\\\ known\\\\ as\\\\ (A )?(a )?(The )?(the )?\\\\\\$ARG2', '(A )?(a )?(The )?(the )?\\\\\\$ARG1\\\\ aka\\\\ (A )?(a )?(The )?(the )?\\\\\\$ARG2', '(A )?(a )?(The )?(the )?\\\\\\$ARG1\\\\ \\\\(\\\\ also\\\\ known\\\\ as\\\\ (A )?(a )?(The )?(the )?\\\\\\$ARG2\\\\ \\\\)']                          \n",
       "per:date_of_birth          ['(A )?(a )?(The )?(the )?\\\\\\$ARG1\\\\ \\\\(\\\\ born\\\\ (A )?(a )?(The )?(the )?\\\\\\$ARG2\\\\ \\\\)', '(A )?(a )?(The )?(the )?\\\\\\$ARG1\\\\ \\\\(\\\\ born\\\\ (A )?(a )?(The )?(the )?\\\\\\$ARG2\\\\ in', '(A )?(a )?(The )?(the )?\\\\\\$ARG1\\\\ \\\\(\\\\ (A )?(a )?(The )?(the )?\\\\\\$ARG2\\\\ \\\\-', '(A )?(a )?(The )?(the )?\\\\\\$ARG1\\\\ was\\\\ born\\\\ in\\\\ (A )?(a )?(The )?(the )?\\\\\\$ARG2']                              \n",
       "org:top_members/employees  ['(A )?(a )?(The )?(the )?\\\\\\$ARG1\\\\ ,\\\\ executive\\\\ director\\\\ of\\\\ (A )?(a )?(The )?(the )?\\\\\\$ARG2', '(A )?(a )?(The )?(the )?\\\\\\$ARG1\\\\ ,\\\\ head\\\\ of\\\\ (A )?(a )?(The )?(the )?\\\\\\$ARG2', '(A )?(a )?(The )?(the )?\\\\\\$ARG1\\\\ ,\\\\ who\\\\ heads\\\\ (A )?(a )?(The )?(the )?\\\\\\$ARG2', '(A )?(a )?(The )?(the )?\\\\\\$ARG1\\\\ ,\\\\ chief\\\\ executive\\\\ of\\\\ (A )?(a )?(The )?(the )?\\\\\\$ARG2']  "
      ]
     },
     "execution_count": 89,
     "metadata": {},
     "output_type": "execute_result"
    }
   ],
   "source": [
    "relation_patterns_df.apply(lambda x: escape_dollar(x)).head()"
   ]
  },
  {
   "cell_type": "markdown",
   "metadata": {},
   "source": [
    "## Entity pairing"
   ]
  },
  {
   "cell_type": "markdown",
   "metadata": {},
   "source": [
    "We get the sentence annotations with the Spacy package"
   ]
  },
  {
   "cell_type": "code",
   "execution_count": 90,
   "metadata": {},
   "outputs": [],
   "source": [
    "analyzer = spacy.load(\"en_core_web_sm\")\n",
    "selected_samples[\"spacy info\"] = selected_samples[\"sample\"].apply(lambda x: analyzer(x).to_json())"
   ]
  },
  {
   "cell_type": "markdown",
   "metadata": {
    "pycharm": {
     "name": "#%% md\n"
    }
   },
   "source": [
    "After that, we take the arguments pairwise in each sentence and create subsentences that include:\n",
    "- the first entity substituted with \"ARG1\"\n",
    "- the second argument substituted with \"$ARG2\"\n",
    "- all the words inbetween"
   ]
  },
  {
   "cell_type": "code",
   "execution_count": 91,
   "metadata": {
    "pycharm": {
     "name": "#%%\n"
    }
   },
   "outputs": [],
   "source": [
    "def get_extracted_sample(sample):\n",
    "    return [(ARG1 + sample[\"text\"][ent1[\"end\"]:ent2[\"start\"]] + ARG2) if ent1[\"end\"] < ent2[\"end\"] \n",
    "            else (ARG2 + sample[\"text\"][ent2[\"end\"]:ent1[\"start\"]] + ARG1)\n",
    "            for ent1, ent2 in itertools.permutations(sample[\"ents\"],2)]\n",
    "\n",
    "selected_samples[\"extr\"] = selected_samples[\"spacy info\"].apply(lambda x: get_extracted_sample(x))\n",
    "selected_samples = selected_samples.loc[selected_samples[\"extr\"].apply(lambda x: len(x) != 0)]"
   ]
  },
  {
   "cell_type": "code",
   "execution_count": 92,
   "metadata": {},
   "outputs": [
    {
     "data": {
      "text/html": [
       "<div>\n",
       "<style scoped>\n",
       "    .dataframe tbody tr th:only-of-type {\n",
       "        vertical-align: middle;\n",
       "    }\n",
       "\n",
       "    .dataframe tbody tr th {\n",
       "        vertical-align: top;\n",
       "    }\n",
       "\n",
       "    .dataframe thead th {\n",
       "        text-align: right;\n",
       "    }\n",
       "</style>\n",
       "<table border=\"1\" class=\"dataframe\">\n",
       "  <thead>\n",
       "    <tr style=\"text-align: right;\">\n",
       "      <th></th>\n",
       "      <th>sample</th>\n",
       "      <th>label</th>\n",
       "      <th>extr</th>\n",
       "    </tr>\n",
       "  </thead>\n",
       "  <tbody>\n",
       "    <tr>\n",
       "      <th>4777</th>\n",
       "      <td>Or as one hotel executive , James Anhut , of InterContinental Hotels Group , put it , `` Travelers can stay in a cool hotel and earn their Priority Club frequency points , too . ''</td>\n",
       "      <td>org:top_members/employees</td>\n",
       "      <td>['\\$ARG1 hotel executive , \\$ARG2', '\\$ARG1 hotel executive , James Anhut , of \\$ARG2', '\\$ARG1 hotel executive , James Anhut , of InterContinental Hotels Group , put it , `` \\$ARG2', '\\$ARG1 hotel executive , James Anhut , of InterContinental Hotels Group , put it , `` Travelers can stay in a cool hotel and earn their \\$ARG2', '\\$ARG2 hotel executive , \\$ARG1', '\\$ARG1 , of \\$ARG2', '\\$ARG1 , of InterContinental Hotels Group , put it , `` \\$ARG2', '\\$ARG1 , of InterContinental Hotels Group , put it , `` Travelers can stay in a cool hotel and earn their \\$ARG2', '\\$ARG2 hotel executive , James Anhut , of \\$ARG1', '\\$ARG2 , of \\$ARG1', '\\$ARG1 , put it , `` \\$ARG2', '\\$ARG1 , put it , `` Travelers can stay in a cool hotel and earn their \\$ARG2', '\\$ARG2 hotel executive , James Anhut , of InterContinental Hotels Group , put it , `` \\$ARG1', '\\$ARG2 , of InterContinental Hotels Group , put it , `` \\$ARG1', '\\$ARG2 , put it , `` \\$ARG1', '\\$ARG1 can stay in a cool hotel and earn their \\$ARG2', '\\$ARG2 hotel executive , James Anhut , of InterContinental Hotels Group , put it , `` Travelers can stay in a cool hotel and earn their \\$ARG1', '\\$ARG2 , of InterContinental Hotels Group , put it , `` Travelers can stay in a cool hotel and earn their \\$ARG1', '\\$ARG2 , put it , `` Travelers can stay in a cool hotel and earn their \\$ARG1', '\\$ARG2 can stay in a cool hotel and earn their \\$ARG1']</td>\n",
       "    </tr>\n",
       "    <tr>\n",
       "      <th>4068</th>\n",
       "      <td>Prolific French film maker Claude Chabrol , who helped start the New Wave movement in the 1950s , died on Sunday , aged 80 , an aide to Paris mayor Bertrand Delanoe told AFP .</td>\n",
       "      <td>per:origin</td>\n",
       "      <td>['\\$ARG1 film maker \\$ARG2', '\\$ARG1 film maker Claude Chabrol , who helped start the \\$ARG2', '\\$ARG1 film maker Claude Chabrol , who helped start the New Wave movement in \\$ARG2', '\\$ARG1 film maker Claude Chabrol , who helped start the New Wave movement in the 1950s , died on \\$ARG2', '\\$ARG1 film maker Claude Chabrol , who helped start the New Wave movement in the 1950s , died on Sunday , aged \\$ARG2', '\\$ARG1 film maker Claude Chabrol , who helped start the New Wave movement in the 1950s , died on Sunday , aged 80 , an aide to \\$ARG2', '\\$ARG1 film maker Claude Chabrol , who helped start the New Wave movement in the 1950s , died on Sunday , aged 80 , an aide to Paris mayor \\$ARG2', '\\$ARG1 film maker Claude Chabrol , who helped start the New Wave movement in the 1950s , died on Sunday , aged 80 , an aide to Paris mayor Bertrand Delanoe told \\$ARG2', '\\$ARG2 film maker \\$ARG1', '\\$ARG1 , who helped start the \\$ARG2', '\\$ARG1 , who helped start the New Wave movement in \\$ARG2', '\\$ARG1 , who helped start the New Wave movement in the 1950s , died on \\$ARG2', '\\$ARG1 , who helped start the New Wave movement in the 1950s , died on Sunday , aged \\$ARG2', '\\$ARG1 , who helped start the New Wave movement in the 1950s , died on Sunday , aged 80 , an aide to \\$ARG2', '\\$ARG1 , who helped start the New Wave movement in the 1950s , died on Sunday , aged 80 , an aide to Paris mayor \\$ARG2', '\\$ARG1 , who helped start the New Wave movement in the 1950s , died on Sunday , aged 80 , an aide to Paris mayor Bertrand Delanoe told \\$ARG2', '\\$ARG2 film maker Claude Chabrol , who helped start the \\$ARG1', '\\$ARG2 , who helped start the \\$ARG1', '\\$ARG1 movement in \\$ARG2', '\\$ARG1 movement in the 1950s , died on \\$ARG2', '\\$ARG1 movement in the 1950s , died on Sunday , aged \\$ARG2', '\\$ARG1 movement in the 1950s , died on Sunday , aged 80 , an aide to \\$ARG2', '\\$ARG1 movement in the 1950s , died on Sunday , aged 80 , an aide to Paris mayor \\$ARG2', '\\$ARG1 movement in the 1950s , died on Sunday , aged 80 , an aide to Paris mayor Bertrand Delanoe told \\$ARG2', '\\$ARG2 film maker Claude Chabrol , who helped start the New Wave movement in \\$ARG1', '\\$ARG2 , who helped start the New Wave movement in \\$ARG1', '\\$ARG2 movement in \\$ARG1', '\\$ARG1 , died on \\$ARG2', '\\$ARG1 , died on Sunday , aged \\$ARG2', '\\$ARG1 , died on Sunday , aged 80 , an aide to \\$ARG2', '\\$ARG1 , died on Sunday , aged 80 , an aide to Paris mayor \\$ARG2', '\\$ARG1 , died on Sunday , aged 80 , an aide to Paris mayor Bertrand Delanoe told \\$ARG2', '\\$ARG2 film maker Claude Chabrol , who helped start the New Wave movement in the 1950s , died on \\$ARG1', '\\$ARG2 , who helped start the New Wave movement in the 1950s , died on \\$ARG1', '\\$ARG2 movement in the 1950s , died on \\$ARG1', '\\$ARG2 , died on \\$ARG1', '\\$ARG1 , aged \\$ARG2', '\\$ARG1 , aged 80 , an aide to \\$ARG2', '\\$ARG1 , aged 80 , an aide to Paris mayor \\$ARG2', '\\$ARG1 , aged 80 , an aide to Paris mayor Bertrand Delanoe told \\$ARG2', '\\$ARG2 film maker Claude Chabrol , who helped start the New Wave movement in the 1950s , died on Sunday , aged \\$ARG1', '\\$ARG2 , who helped start the New Wave movement in the 1950s , died on Sunday , aged \\$ARG1', '\\$ARG2 movement in the 1950s , died on Sunday , aged \\$ARG1', '\\$ARG2 , died on Sunday , aged \\$ARG1', '\\$ARG2 , aged \\$ARG1', '\\$ARG1 , an aide to \\$ARG2', '\\$ARG1 , an aide to Paris mayor \\$ARG2', '\\$ARG1 , an aide to Paris mayor Bertrand Delanoe told \\$ARG2', '\\$ARG2 film maker Claude Chabrol , who helped start the New Wave movement in the 1950s , died on Sunday , aged 80 , an aide to \\$ARG1', '\\$ARG2 , who helped start the New Wave movement in the 1950s , died on Sunday , aged 80 , an aide to \\$ARG1', '\\$ARG2 movement in the 1950s , died on Sunday , aged 80 , an aide to \\$ARG1', '\\$ARG2 , died on Sunday , aged 80 , an aide to \\$ARG1', '\\$ARG2 , aged 80 , an aide to \\$ARG1', '\\$ARG2 , an aide to \\$ARG1', '\\$ARG1 mayor \\$ARG2', '\\$ARG1 mayor Bertrand Delanoe told \\$ARG2', '\\$ARG2 film maker Claude Chabrol , who helped start the New Wave movement in the 1950s , died on Sunday , aged 80 , an aide to Paris mayor \\$ARG1', '\\$ARG2 , who helped start the New Wave movement in the 1950s , died on Sunday , aged 80 , an aide to Paris mayor \\$ARG1', '\\$ARG2 movement in the 1950s , died on Sunday , aged 80 , an aide to Paris mayor \\$ARG1', '\\$ARG2 , died on Sunday , aged 80 , an aide to Paris mayor \\$ARG1', '\\$ARG2 , aged 80 , an aide to Paris mayor \\$ARG1', '\\$ARG2 , an aide to Paris mayor \\$ARG1', '\\$ARG2 mayor \\$ARG1', '\\$ARG1 told \\$ARG2', '\\$ARG2 film maker Claude Chabrol , who helped start the New Wave movement in the 1950s , died on Sunday , aged 80 , an aide to Paris mayor Bertrand Delanoe told \\$ARG1', '\\$ARG2 , who helped start the New Wave movement in the 1950s , died on Sunday , aged 80 , an aide to Paris mayor Bertrand Delanoe told \\$ARG1', '\\$ARG2 movement in the 1950s , died on Sunday , aged 80 , an aide to Paris mayor Bertrand Delanoe told \\$ARG1', '\\$ARG2 , died on Sunday , aged 80 , an aide to Paris mayor Bertrand Delanoe told \\$ARG1', '\\$ARG2 , aged 80 , an aide to Paris mayor Bertrand Delanoe told \\$ARG1', '\\$ARG2 , an aide to Paris mayor Bertrand Delanoe told \\$ARG1', '\\$ARG2 mayor Bertrand Delanoe told \\$ARG1', '\\$ARG2 told \\$ARG1']</td>\n",
       "    </tr>\n",
       "    <tr>\n",
       "      <th>21851</th>\n",
       "      <td>His main Shiite rival , Abdul Aziz al-Hakim , who heads the Islamic Supreme Council of Iraq , an influential Shiite political party that is part of Maliki 's ruling coalition , has also denounced the plans .</td>\n",
       "      <td>per:religion</td>\n",
       "      <td>['\\$ARG1 rival , \\$ARG2', '\\$ARG1 rival , Abdul Aziz al-Hakim , who heads \\$ARG2', '\\$ARG1 rival , Abdul Aziz al-Hakim , who heads the Islamic Supreme Council of Iraq , an influential \\$ARG2', '\\$ARG1 rival , Abdul Aziz al-Hakim , who heads the Islamic Supreme Council of Iraq , an influential Shiite political party that is part of \\$ARG2', '\\$ARG2 rival , \\$ARG1', '\\$ARG1 , who heads \\$ARG2', '\\$ARG1 , who heads the Islamic Supreme Council of Iraq , an influential \\$ARG2', '\\$ARG1 , who heads the Islamic Supreme Council of Iraq , an influential Shiite political party that is part of \\$ARG2', '\\$ARG2 rival , Abdul Aziz al-Hakim , who heads \\$ARG1', '\\$ARG2 , who heads \\$ARG1', '\\$ARG1 , an influential \\$ARG2', '\\$ARG1 , an influential Shiite political party that is part of \\$ARG2', '\\$ARG2 rival , Abdul Aziz al-Hakim , who heads the Islamic Supreme Council of Iraq , an influential \\$ARG1', '\\$ARG2 , who heads the Islamic Supreme Council of Iraq , an influential \\$ARG1', '\\$ARG2 , an influential \\$ARG1', '\\$ARG1 political party that is part of \\$ARG2', '\\$ARG2 rival , Abdul Aziz al-Hakim , who heads the Islamic Supreme Council of Iraq , an influential Shiite political party that is part of \\$ARG1', '\\$ARG2 , who heads the Islamic Supreme Council of Iraq , an influential Shiite political party that is part of \\$ARG1', '\\$ARG2 , an influential Shiite political party that is part of \\$ARG1', '\\$ARG2 political party that is part of \\$ARG1']</td>\n",
       "    </tr>\n",
       "    <tr>\n",
       "      <th>4237</th>\n",
       "      <td>Popular Kabul lawmaker Ramazan Bashardost , who camps out in a tent near parliament and campaigned against corruption , attracted 359,214 votes and former World Bank economist Ashraf Ghani 62,536 votes , Najafi added .</td>\n",
       "      <td>per:cities_of_residence</td>\n",
       "      <td>['\\$ARG1 lawmaker \\$ARG2', '\\$ARG1 lawmaker Ramazan Bashardost , who camps out in a tent near parliament and campaigned against corruption , attracted \\$ARG2', '\\$ARG1 lawmaker Ramazan Bashardost , who camps out in a tent near parliament and campaigned against corruption , attracted 359,214 votes and former \\$ARG2', '\\$ARG1 lawmaker Ramazan Bashardost , who camps out in a tent near parliament and campaigned against corruption , attracted 359,214 votes and former World Bank economist \\$ARG2', '\\$ARG1 lawmaker Ramazan Bashardost , who camps out in a tent near parliament and campaigned against corruption , attracted 359,214 votes and former World Bank economist Ashraf Ghani \\$ARG2', '\\$ARG1 lawmaker Ramazan Bashardost , who camps out in a tent near parliament and campaigned against corruption , attracted 359,214 votes and former World Bank economist Ashraf Ghani 62,536 votes , \\$ARG2', '\\$ARG2 lawmaker \\$ARG1', '\\$ARG1 , who camps out in a tent near parliament and campaigned against corruption , attracted \\$ARG2', '\\$ARG1 , who camps out in a tent near parliament and campaigned against corruption , attracted 359,214 votes and former \\$ARG2', '\\$ARG1 , who camps out in a tent near parliament and campaigned against corruption , attracted 359,214 votes and former World Bank economist \\$ARG2', '\\$ARG1 , who camps out in a tent near parliament and campaigned against corruption , attracted 359,214 votes and former World Bank economist Ashraf Ghani \\$ARG2', '\\$ARG1 , who camps out in a tent near parliament and campaigned against corruption , attracted 359,214 votes and former World Bank economist Ashraf Ghani 62,536 votes , \\$ARG2', '\\$ARG2 lawmaker Ramazan Bashardost , who camps out in a tent near parliament and campaigned against corruption , attracted \\$ARG1', '\\$ARG2 , who camps out in a tent near parliament and campaigned against corruption , attracted \\$ARG1', '\\$ARG1 votes and former \\$ARG2', '\\$ARG1 votes and former World Bank economist \\$ARG2', '\\$ARG1 votes and former World Bank economist Ashraf Ghani \\$ARG2', '\\$ARG1 votes and former World Bank economist Ashraf Ghani 62,536 votes , \\$ARG2', '\\$ARG2 lawmaker Ramazan Bashardost , who camps out in a tent near parliament and campaigned against corruption , attracted 359,214 votes and former \\$ARG1', '\\$ARG2 , who camps out in a tent near parliament and campaigned against corruption , attracted 359,214 votes and former \\$ARG1', '\\$ARG2 votes and former \\$ARG1', '\\$ARG1 economist \\$ARG2', '\\$ARG1 economist Ashraf Ghani \\$ARG2', '\\$ARG1 economist Ashraf Ghani 62,536 votes , \\$ARG2', '\\$ARG2 lawmaker Ramazan Bashardost , who camps out in a tent near parliament and campaigned against corruption , attracted 359,214 votes and former World Bank economist \\$ARG1', '\\$ARG2 , who camps out in a tent near parliament and campaigned against corruption , attracted 359,214 votes and former World Bank economist \\$ARG1', '\\$ARG2 votes and former World Bank economist \\$ARG1', '\\$ARG2 economist \\$ARG1', '\\$ARG1 \\$ARG2', '\\$ARG1 62,536 votes , \\$ARG2', '\\$ARG2 lawmaker Ramazan Bashardost , who camps out in a tent near parliament and campaigned against corruption , attracted 359,214 votes and former World Bank economist Ashraf Ghani \\$ARG1', '\\$ARG2 , who camps out in a tent near parliament and campaigned against corruption , attracted 359,214 votes and former World Bank economist Ashraf Ghani \\$ARG1', '\\$ARG2 votes and former World Bank economist Ashraf Ghani \\$ARG1', '\\$ARG2 economist Ashraf Ghani \\$ARG1', '\\$ARG2 \\$ARG1', '\\$ARG1 votes , \\$ARG2', '\\$ARG2 lawmaker Ramazan Bashardost , who camps out in a tent near parliament and campaigned against corruption , attracted 359,214 votes and former World Bank economist Ashraf Ghani 62,536 votes , \\$ARG1', '\\$ARG2 , who camps out in a tent near parliament and campaigned against corruption , attracted 359,214 votes and former World Bank economist Ashraf Ghani 62,536 votes , \\$ARG1', '\\$ARG2 votes and former World Bank economist Ashraf Ghani 62,536 votes , \\$ARG1', '\\$ARG2 economist Ashraf Ghani 62,536 votes , \\$ARG1', '\\$ARG2 62,536 votes , \\$ARG1', '\\$ARG2 votes , \\$ARG1']</td>\n",
       "    </tr>\n",
       "    <tr>\n",
       "      <th>3311</th>\n",
       "      <td>`` Our entire organization grieves at the death of Mike Coolbaugh , '' Rockies president Keli McGregor said .</td>\n",
       "      <td>per:title</td>\n",
       "      <td>[\"\\$ARG1 , '' Rockies president \\$ARG2\", \"\\$ARG2 , '' Rockies president \\$ARG1\"]</td>\n",
       "    </tr>\n",
       "  </tbody>\n",
       "</table>\n",
       "</div>"
      ],
      "text/plain": [
       "                                                                                                                                                                                                                            sample  \\\n",
       "4777    Or as one hotel executive , James Anhut , of InterContinental Hotels Group , put it , `` Travelers can stay in a cool hotel and earn their Priority Club frequency points , too . ''                                         \n",
       "4068    Prolific French film maker Claude Chabrol , who helped start the New Wave movement in the 1950s , died on Sunday , aged 80 , an aide to Paris mayor Bertrand Delanoe told AFP .                                              \n",
       "21851   His main Shiite rival , Abdul Aziz al-Hakim , who heads the Islamic Supreme Council of Iraq , an influential Shiite political party that is part of Maliki 's ruling coalition , has also denounced the plans .              \n",
       "4237    Popular Kabul lawmaker Ramazan Bashardost , who camps out in a tent near parliament and campaigned against corruption , attracted 359,214 votes and former World Bank economist Ashraf Ghani 62,536 votes , Najafi added .   \n",
       "3311    `` Our entire organization grieves at the death of Mike Coolbaugh , '' Rockies president Keli McGregor said .                                                                                                                \n",
       "\n",
       "                           label  \\\n",
       "4777   org:top_members/employees   \n",
       "4068   per:origin                  \n",
       "21851  per:religion                \n",
       "4237   per:cities_of_residence     \n",
       "3311   per:title                   \n",
       "\n",
       "                                                                                                                                                                                                                                                                                                                                                                                                                                                                                                                                                                                                                                                                                                                                                                                                                                                                                                                                                                                                                                                                                                                                                                                                                                                                                                                                                                                                                                                                                                                                                                                                                                                                                                                                                                                                                                                                                                                                                                                                                                                                                                                                                                                                                                                                                                                                                                                                                                                                                                                                                                                                                                                                                                                                                                                                                                                                                                                                                                                                                                                                                                                                                                                                                                                                                                                                                                                                                                                                                                                                                                                                                                                                                                                                                                                                                                                                                                                                                                                                                                                                                                                                                                                                                                                                                                                                                                                                                                                                                                                                                                                                                                                                                                                                                                                                                                                                                                                                                                                                                                                                                                                                                                                                                                                                                                                                                                                                                                                                                                                 extr  \n",
       "4777   ['\\$ARG1 hotel executive , \\$ARG2', '\\$ARG1 hotel executive , James Anhut , of \\$ARG2', '\\$ARG1 hotel executive , James Anhut , of InterContinental Hotels Group , put it , `` \\$ARG2', '\\$ARG1 hotel executive , James Anhut , of InterContinental Hotels Group , put it , `` Travelers can stay in a cool hotel and earn their \\$ARG2', '\\$ARG2 hotel executive , \\$ARG1', '\\$ARG1 , of \\$ARG2', '\\$ARG1 , of InterContinental Hotels Group , put it , `` \\$ARG2', '\\$ARG1 , of InterContinental Hotels Group , put it , `` Travelers can stay in a cool hotel and earn their \\$ARG2', '\\$ARG2 hotel executive , James Anhut , of \\$ARG1', '\\$ARG2 , of \\$ARG1', '\\$ARG1 , put it , `` \\$ARG2', '\\$ARG1 , put it , `` Travelers can stay in a cool hotel and earn their \\$ARG2', '\\$ARG2 hotel executive , James Anhut , of InterContinental Hotels Group , put it , `` \\$ARG1', '\\$ARG2 , of InterContinental Hotels Group , put it , `` \\$ARG1', '\\$ARG2 , put it , `` \\$ARG1', '\\$ARG1 can stay in a cool hotel and earn their \\$ARG2', '\\$ARG2 hotel executive , James Anhut , of InterContinental Hotels Group , put it , `` Travelers can stay in a cool hotel and earn their \\$ARG1', '\\$ARG2 , of InterContinental Hotels Group , put it , `` Travelers can stay in a cool hotel and earn their \\$ARG1', '\\$ARG2 , put it , `` Travelers can stay in a cool hotel and earn their \\$ARG1', '\\$ARG2 can stay in a cool hotel and earn their \\$ARG1']                                                                                                                                                                                                                                                                                                                                                                                                                                                                                                                                                                                                                                                                                                                                                                                                                                                                                                                                                                                                                                                                                                                                                                                                                                                                                                                                                                                                                                                                                                                                                                                                                                                                                                                                                                                                                                                                                                                                                                                                                                                                                                                                                                                                                                                                                                                                                                                                                                                                                                                                                                                                                                                                                                                                                                                                                                                                                                                                                                                                                                                                                                                                                                                                                                                                                                                                                                                                                                                                                                                                                                                                                                                                                                                                                                                                                                                                                                                                                                                                                                                    \n",
       "4068   ['\\$ARG1 film maker \\$ARG2', '\\$ARG1 film maker Claude Chabrol , who helped start the \\$ARG2', '\\$ARG1 film maker Claude Chabrol , who helped start the New Wave movement in \\$ARG2', '\\$ARG1 film maker Claude Chabrol , who helped start the New Wave movement in the 1950s , died on \\$ARG2', '\\$ARG1 film maker Claude Chabrol , who helped start the New Wave movement in the 1950s , died on Sunday , aged \\$ARG2', '\\$ARG1 film maker Claude Chabrol , who helped start the New Wave movement in the 1950s , died on Sunday , aged 80 , an aide to \\$ARG2', '\\$ARG1 film maker Claude Chabrol , who helped start the New Wave movement in the 1950s , died on Sunday , aged 80 , an aide to Paris mayor \\$ARG2', '\\$ARG1 film maker Claude Chabrol , who helped start the New Wave movement in the 1950s , died on Sunday , aged 80 , an aide to Paris mayor Bertrand Delanoe told \\$ARG2', '\\$ARG2 film maker \\$ARG1', '\\$ARG1 , who helped start the \\$ARG2', '\\$ARG1 , who helped start the New Wave movement in \\$ARG2', '\\$ARG1 , who helped start the New Wave movement in the 1950s , died on \\$ARG2', '\\$ARG1 , who helped start the New Wave movement in the 1950s , died on Sunday , aged \\$ARG2', '\\$ARG1 , who helped start the New Wave movement in the 1950s , died on Sunday , aged 80 , an aide to \\$ARG2', '\\$ARG1 , who helped start the New Wave movement in the 1950s , died on Sunday , aged 80 , an aide to Paris mayor \\$ARG2', '\\$ARG1 , who helped start the New Wave movement in the 1950s , died on Sunday , aged 80 , an aide to Paris mayor Bertrand Delanoe told \\$ARG2', '\\$ARG2 film maker Claude Chabrol , who helped start the \\$ARG1', '\\$ARG2 , who helped start the \\$ARG1', '\\$ARG1 movement in \\$ARG2', '\\$ARG1 movement in the 1950s , died on \\$ARG2', '\\$ARG1 movement in the 1950s , died on Sunday , aged \\$ARG2', '\\$ARG1 movement in the 1950s , died on Sunday , aged 80 , an aide to \\$ARG2', '\\$ARG1 movement in the 1950s , died on Sunday , aged 80 , an aide to Paris mayor \\$ARG2', '\\$ARG1 movement in the 1950s , died on Sunday , aged 80 , an aide to Paris mayor Bertrand Delanoe told \\$ARG2', '\\$ARG2 film maker Claude Chabrol , who helped start the New Wave movement in \\$ARG1', '\\$ARG2 , who helped start the New Wave movement in \\$ARG1', '\\$ARG2 movement in \\$ARG1', '\\$ARG1 , died on \\$ARG2', '\\$ARG1 , died on Sunday , aged \\$ARG2', '\\$ARG1 , died on Sunday , aged 80 , an aide to \\$ARG2', '\\$ARG1 , died on Sunday , aged 80 , an aide to Paris mayor \\$ARG2', '\\$ARG1 , died on Sunday , aged 80 , an aide to Paris mayor Bertrand Delanoe told \\$ARG2', '\\$ARG2 film maker Claude Chabrol , who helped start the New Wave movement in the 1950s , died on \\$ARG1', '\\$ARG2 , who helped start the New Wave movement in the 1950s , died on \\$ARG1', '\\$ARG2 movement in the 1950s , died on \\$ARG1', '\\$ARG2 , died on \\$ARG1', '\\$ARG1 , aged \\$ARG2', '\\$ARG1 , aged 80 , an aide to \\$ARG2', '\\$ARG1 , aged 80 , an aide to Paris mayor \\$ARG2', '\\$ARG1 , aged 80 , an aide to Paris mayor Bertrand Delanoe told \\$ARG2', '\\$ARG2 film maker Claude Chabrol , who helped start the New Wave movement in the 1950s , died on Sunday , aged \\$ARG1', '\\$ARG2 , who helped start the New Wave movement in the 1950s , died on Sunday , aged \\$ARG1', '\\$ARG2 movement in the 1950s , died on Sunday , aged \\$ARG1', '\\$ARG2 , died on Sunday , aged \\$ARG1', '\\$ARG2 , aged \\$ARG1', '\\$ARG1 , an aide to \\$ARG2', '\\$ARG1 , an aide to Paris mayor \\$ARG2', '\\$ARG1 , an aide to Paris mayor Bertrand Delanoe told \\$ARG2', '\\$ARG2 film maker Claude Chabrol , who helped start the New Wave movement in the 1950s , died on Sunday , aged 80 , an aide to \\$ARG1', '\\$ARG2 , who helped start the New Wave movement in the 1950s , died on Sunday , aged 80 , an aide to \\$ARG1', '\\$ARG2 movement in the 1950s , died on Sunday , aged 80 , an aide to \\$ARG1', '\\$ARG2 , died on Sunday , aged 80 , an aide to \\$ARG1', '\\$ARG2 , aged 80 , an aide to \\$ARG1', '\\$ARG2 , an aide to \\$ARG1', '\\$ARG1 mayor \\$ARG2', '\\$ARG1 mayor Bertrand Delanoe told \\$ARG2', '\\$ARG2 film maker Claude Chabrol , who helped start the New Wave movement in the 1950s , died on Sunday , aged 80 , an aide to Paris mayor \\$ARG1', '\\$ARG2 , who helped start the New Wave movement in the 1950s , died on Sunday , aged 80 , an aide to Paris mayor \\$ARG1', '\\$ARG2 movement in the 1950s , died on Sunday , aged 80 , an aide to Paris mayor \\$ARG1', '\\$ARG2 , died on Sunday , aged 80 , an aide to Paris mayor \\$ARG1', '\\$ARG2 , aged 80 , an aide to Paris mayor \\$ARG1', '\\$ARG2 , an aide to Paris mayor \\$ARG1', '\\$ARG2 mayor \\$ARG1', '\\$ARG1 told \\$ARG2', '\\$ARG2 film maker Claude Chabrol , who helped start the New Wave movement in the 1950s , died on Sunday , aged 80 , an aide to Paris mayor Bertrand Delanoe told \\$ARG1', '\\$ARG2 , who helped start the New Wave movement in the 1950s , died on Sunday , aged 80 , an aide to Paris mayor Bertrand Delanoe told \\$ARG1', '\\$ARG2 movement in the 1950s , died on Sunday , aged 80 , an aide to Paris mayor Bertrand Delanoe told \\$ARG1', '\\$ARG2 , died on Sunday , aged 80 , an aide to Paris mayor Bertrand Delanoe told \\$ARG1', '\\$ARG2 , aged 80 , an aide to Paris mayor Bertrand Delanoe told \\$ARG1', '\\$ARG2 , an aide to Paris mayor Bertrand Delanoe told \\$ARG1', '\\$ARG2 mayor Bertrand Delanoe told \\$ARG1', '\\$ARG2 told \\$ARG1']  \n",
       "21851  ['\\$ARG1 rival , \\$ARG2', '\\$ARG1 rival , Abdul Aziz al-Hakim , who heads \\$ARG2', '\\$ARG1 rival , Abdul Aziz al-Hakim , who heads the Islamic Supreme Council of Iraq , an influential \\$ARG2', '\\$ARG1 rival , Abdul Aziz al-Hakim , who heads the Islamic Supreme Council of Iraq , an influential Shiite political party that is part of \\$ARG2', '\\$ARG2 rival , \\$ARG1', '\\$ARG1 , who heads \\$ARG2', '\\$ARG1 , who heads the Islamic Supreme Council of Iraq , an influential \\$ARG2', '\\$ARG1 , who heads the Islamic Supreme Council of Iraq , an influential Shiite political party that is part of \\$ARG2', '\\$ARG2 rival , Abdul Aziz al-Hakim , who heads \\$ARG1', '\\$ARG2 , who heads \\$ARG1', '\\$ARG1 , an influential \\$ARG2', '\\$ARG1 , an influential Shiite political party that is part of \\$ARG2', '\\$ARG2 rival , Abdul Aziz al-Hakim , who heads the Islamic Supreme Council of Iraq , an influential \\$ARG1', '\\$ARG2 , who heads the Islamic Supreme Council of Iraq , an influential \\$ARG1', '\\$ARG2 , an influential \\$ARG1', '\\$ARG1 political party that is part of \\$ARG2', '\\$ARG2 rival , Abdul Aziz al-Hakim , who heads the Islamic Supreme Council of Iraq , an influential Shiite political party that is part of \\$ARG1', '\\$ARG2 , who heads the Islamic Supreme Council of Iraq , an influential Shiite political party that is part of \\$ARG1', '\\$ARG2 , an influential Shiite political party that is part of \\$ARG1', '\\$ARG2 political party that is part of \\$ARG1']                                                                                                                                                                                                                                                                                                                                                                                                                                                                                                                                                                                                                                                                                                                                                                                                                                                                                                                                                                                                                                                                                                                                                                                                                                                                                                                                                                                                                                                                                                                                                                                                                                                                                                                                                                                                                                                                                                                                                                                                                                                                                                                                                                                                                                                                                                                                                                                                                                                                                                                                                                                                                                                                                                                                                                                                                                                                                                                                                                                                                                                                                                                                                                                                                                                                                                                                                                                                                                                                                                                                                                                                                                                                                                                                                                                                                                                                                                                                                                                              \n",
       "4237   ['\\$ARG1 lawmaker \\$ARG2', '\\$ARG1 lawmaker Ramazan Bashardost , who camps out in a tent near parliament and campaigned against corruption , attracted \\$ARG2', '\\$ARG1 lawmaker Ramazan Bashardost , who camps out in a tent near parliament and campaigned against corruption , attracted 359,214 votes and former \\$ARG2', '\\$ARG1 lawmaker Ramazan Bashardost , who camps out in a tent near parliament and campaigned against corruption , attracted 359,214 votes and former World Bank economist \\$ARG2', '\\$ARG1 lawmaker Ramazan Bashardost , who camps out in a tent near parliament and campaigned against corruption , attracted 359,214 votes and former World Bank economist Ashraf Ghani \\$ARG2', '\\$ARG1 lawmaker Ramazan Bashardost , who camps out in a tent near parliament and campaigned against corruption , attracted 359,214 votes and former World Bank economist Ashraf Ghani 62,536 votes , \\$ARG2', '\\$ARG2 lawmaker \\$ARG1', '\\$ARG1 , who camps out in a tent near parliament and campaigned against corruption , attracted \\$ARG2', '\\$ARG1 , who camps out in a tent near parliament and campaigned against corruption , attracted 359,214 votes and former \\$ARG2', '\\$ARG1 , who camps out in a tent near parliament and campaigned against corruption , attracted 359,214 votes and former World Bank economist \\$ARG2', '\\$ARG1 , who camps out in a tent near parliament and campaigned against corruption , attracted 359,214 votes and former World Bank economist Ashraf Ghani \\$ARG2', '\\$ARG1 , who camps out in a tent near parliament and campaigned against corruption , attracted 359,214 votes and former World Bank economist Ashraf Ghani 62,536 votes , \\$ARG2', '\\$ARG2 lawmaker Ramazan Bashardost , who camps out in a tent near parliament and campaigned against corruption , attracted \\$ARG1', '\\$ARG2 , who camps out in a tent near parliament and campaigned against corruption , attracted \\$ARG1', '\\$ARG1 votes and former \\$ARG2', '\\$ARG1 votes and former World Bank economist \\$ARG2', '\\$ARG1 votes and former World Bank economist Ashraf Ghani \\$ARG2', '\\$ARG1 votes and former World Bank economist Ashraf Ghani 62,536 votes , \\$ARG2', '\\$ARG2 lawmaker Ramazan Bashardost , who camps out in a tent near parliament and campaigned against corruption , attracted 359,214 votes and former \\$ARG1', '\\$ARG2 , who camps out in a tent near parliament and campaigned against corruption , attracted 359,214 votes and former \\$ARG1', '\\$ARG2 votes and former \\$ARG1', '\\$ARG1 economist \\$ARG2', '\\$ARG1 economist Ashraf Ghani \\$ARG2', '\\$ARG1 economist Ashraf Ghani 62,536 votes , \\$ARG2', '\\$ARG2 lawmaker Ramazan Bashardost , who camps out in a tent near parliament and campaigned against corruption , attracted 359,214 votes and former World Bank economist \\$ARG1', '\\$ARG2 , who camps out in a tent near parliament and campaigned against corruption , attracted 359,214 votes and former World Bank economist \\$ARG1', '\\$ARG2 votes and former World Bank economist \\$ARG1', '\\$ARG2 economist \\$ARG1', '\\$ARG1 \\$ARG2', '\\$ARG1 62,536 votes , \\$ARG2', '\\$ARG2 lawmaker Ramazan Bashardost , who camps out in a tent near parliament and campaigned against corruption , attracted 359,214 votes and former World Bank economist Ashraf Ghani \\$ARG1', '\\$ARG2 , who camps out in a tent near parliament and campaigned against corruption , attracted 359,214 votes and former World Bank economist Ashraf Ghani \\$ARG1', '\\$ARG2 votes and former World Bank economist Ashraf Ghani \\$ARG1', '\\$ARG2 economist Ashraf Ghani \\$ARG1', '\\$ARG2 \\$ARG1', '\\$ARG1 votes , \\$ARG2', '\\$ARG2 lawmaker Ramazan Bashardost , who camps out in a tent near parliament and campaigned against corruption , attracted 359,214 votes and former World Bank economist Ashraf Ghani 62,536 votes , \\$ARG1', '\\$ARG2 , who camps out in a tent near parliament and campaigned against corruption , attracted 359,214 votes and former World Bank economist Ashraf Ghani 62,536 votes , \\$ARG1', '\\$ARG2 votes and former World Bank economist Ashraf Ghani 62,536 votes , \\$ARG1', '\\$ARG2 economist Ashraf Ghani 62,536 votes , \\$ARG1', '\\$ARG2 62,536 votes , \\$ARG1', '\\$ARG2 votes , \\$ARG1']                                                                                                                                                                                                                                                                                                                                                                                                                                                                                                                                                                                                                                                                                                                                                                                                                                                                                                                                                                                                                                                                                                                                                                                                                        \n",
       "3311   [\"\\$ARG1 , '' Rockies president \\$ARG2\", \"\\$ARG2 , '' Rockies president \\$ARG1\"]                                                                                                                                                                                                                                                                                                                                                                                                                                                                                                                                                                                                                                                                                                                                                                                                                                                                                                                                                                                                                                                                                                                                                                                                                                                                                                                                                                                                                                                                                                                                                                                                                                                                                                                                                                                                                                                                                                                                                                                                                                                                                                                                                                                                                                                                                                                                                                                                                                                                                                                                                                                                                                                                                                                                                                                                                                                                                                                                                                                                                                                                                                                                                                                                                                                                                                                                                                                                                                                                                                                                                                                                                                                                                                                                                                                                                                                                                                                                                                                                                                                                                                                                                                                                                                                                                                                                                                                                                                                                                                                                                                                                                                                                                                                                                                                                                                                                                                                                                                                                                                                                                                                                                                                                                                                                                                                                                                                                                                "
      ]
     },
     "execution_count": 92,
     "metadata": {},
     "output_type": "execute_result"
    }
   ],
   "source": [
    "selected_samples[[\"sample\", \"label\", \"extr\"]].apply(lambda x: escape_dollar(x)).head()"
   ]
  },
  {
   "cell_type": "markdown",
   "metadata": {},
   "source": [
    "## Pattern search"
   ]
  },
  {
   "cell_type": "markdown",
   "metadata": {},
   "source": [
    "Now we look for patterns in each of these subsentences. If there is a match, we add a corresponding sentence to the final DataFrame with the information about pattern that matched and weak label it received. The fold labels are still there for comparing. "
   ]
  },
  {
   "cell_type": "code",
   "execution_count": 93,
   "metadata": {},
   "outputs": [],
   "source": [
    "def pattern_search(extr_sample, patterns, row):\n",
    "    for relation, rel_patterns in patterns.iterrows():\n",
    "        matches = [[row[\"sample\"], extr_sample, pattern, relation, row[\"label\"]] \n",
    "                   for pattern in rel_patterns[\"regex pattern\"]\n",
    "                   if re.match(pattern, extr_sample) is not None]   # todo\n",
    "        if len(matches) > 0:\n",
    "            return pd.DataFrame(matches, columns = FINAL_DF_COLUMNS)"
   ]
  },
  {
   "cell_type": "code",
   "execution_count": 94,
   "metadata": {
    "pycharm": {
     "name": "#%%\n"
    }
   },
   "outputs": [],
   "source": [
    "all_matches = pd.DataFrame(columns = FINAL_DF_COLUMNS)\n",
    "for _, row in selected_samples.iterrows():\n",
    "    for cand_sample in row[\"extr\"]:\n",
    "        df_found = pattern_search(cand_sample, relation_patterns_df, row)\n",
    "        if isinstance(df_found, pd.DataFrame) and not df_found.empty:\n",
    "            all_matches = pd.concat([all_matches, df_found])"
   ]
  },
  {
   "cell_type": "code",
   "execution_count": 95,
   "metadata": {
    "scrolled": false
   },
   "outputs": [
    {
     "data": {
      "text/html": [
       "<div>\n",
       "<style scoped>\n",
       "    .dataframe tbody tr th:only-of-type {\n",
       "        vertical-align: middle;\n",
       "    }\n",
       "\n",
       "    .dataframe tbody tr th {\n",
       "        vertical-align: top;\n",
       "    }\n",
       "\n",
       "    .dataframe thead th {\n",
       "        text-align: right;\n",
       "    }\n",
       "</style>\n",
       "<table border=\"1\" class=\"dataframe\">\n",
       "  <thead>\n",
       "    <tr style=\"text-align: right;\">\n",
       "      <th></th>\n",
       "      <th>sample</th>\n",
       "      <th>extr_sample</th>\n",
       "      <th>pattern</th>\n",
       "      <th>weak_label</th>\n",
       "      <th>gold_label</th>\n",
       "    </tr>\n",
       "  </thead>\n",
       "  <tbody>\n",
       "    <tr>\n",
       "      <th>0</th>\n",
       "      <td>His main Shiite rival , Abdul Aziz al-Hakim , who heads the Islamic Supreme Council of Iraq , an influential Shiite political party that is part of Maliki 's ruling coalition , has also denounced the plans .</td>\n",
       "      <td>\\$ARG1 , who heads \\$ARG2</td>\n",
       "      <td>(A )?(a )?(The )?(the )?\\\\$ARG1\\ ,\\ who\\ heads\\ (A )?(a )?(The )?(the )?\\\\$ARG2</td>\n",
       "      <td>org:top_members/employees</td>\n",
       "      <td>per:religion</td>\n",
       "    </tr>\n",
       "    <tr>\n",
       "      <th>0</th>\n",
       "      <td>`` It 's an issue for everybody in the state because peanuts are a big part of our economy , '' said Don Koehler , executive director of the Georgia Peanut Commission .</td>\n",
       "      <td>\\$ARG1 , executive director of \\$ARG2</td>\n",
       "      <td>(A )?(a )?(The )?(the )?\\\\$ARG1\\ ,\\ executive\\ director\\ of\\ (A )?(a )?(The )?(the )?\\\\$ARG2</td>\n",
       "      <td>org:top_members/employees</td>\n",
       "      <td>org:top_members/employees</td>\n",
       "    </tr>\n",
       "    <tr>\n",
       "      <th>0</th>\n",
       "      <td>Water and its links to development , peace and conflict were key words in the annual sessions , Anders Berntell , executive director of Stockholm International Water Institute ( SIWI ) , said in his opening address .</td>\n",
       "      <td>\\$ARG1 , executive director of \\$ARG2</td>\n",
       "      <td>(A )?(a )?(The )?(the )?\\\\$ARG1\\ ,\\ executive\\ director\\ of\\ (A )?(a )?(The )?(the )?\\\\$ARG2</td>\n",
       "      <td>org:top_members/employees</td>\n",
       "      <td>org:alternate_names</td>\n",
       "    </tr>\n",
       "    <tr>\n",
       "      <th>0</th>\n",
       "      <td>Gwathmey was born in 1938 , the only child of painter Robert Gwathmey and his wife , Rosalie , a photographer .</td>\n",
       "      <td>\\$ARG1 was born in \\$ARG2</td>\n",
       "      <td>(A )?(a )?(The )?(the )?\\\\$ARG1\\ was\\ born\\ in\\ (A )?(a )?(The )?(the )?\\\\$ARG2</td>\n",
       "      <td>per:date_of_birth</td>\n",
       "      <td>per:children</td>\n",
       "    </tr>\n",
       "    <tr>\n",
       "      <th>0</th>\n",
       "      <td>A professor emeritus at Yale University , Mandelbrot was born in Poland but as a child moved with his family to France where he was educated .</td>\n",
       "      <td>\\$ARG1 was born in \\$ARG2</td>\n",
       "      <td>(A )?(a )?(The )?(the )?\\\\$ARG1\\ was\\ born\\ in\\ (A )?(a )?(The )?(the )?\\\\$ARG2</td>\n",
       "      <td>per:date_of_birth</td>\n",
       "      <td>per:employee_of</td>\n",
       "    </tr>\n",
       "  </tbody>\n",
       "</table>\n",
       "</div>"
      ],
      "text/plain": [
       "                                                                                                                                                                                                                      sample  \\\n",
       "0   His main Shiite rival , Abdul Aziz al-Hakim , who heads the Islamic Supreme Council of Iraq , an influential Shiite political party that is part of Maliki 's ruling coalition , has also denounced the plans .            \n",
       "0   `` It 's an issue for everybody in the state because peanuts are a big part of our economy , '' said Don Koehler , executive director of the Georgia Peanut Commission .                                                   \n",
       "0   Water and its links to development , peace and conflict were key words in the annual sessions , Anders Berntell , executive director of Stockholm International Water Institute ( SIWI ) , said in his opening address .   \n",
       "0   Gwathmey was born in 1938 , the only child of painter Robert Gwathmey and his wife , Rosalie , a photographer .                                                                                                            \n",
       "0   A professor emeritus at Yale University , Mandelbrot was born in Poland but as a child moved with his family to France where he was educated .                                                                             \n",
       "\n",
       "                             extr_sample  \\\n",
       "0  \\$ARG1 , who heads \\$ARG2               \n",
       "0  \\$ARG1 , executive director of \\$ARG2   \n",
       "0  \\$ARG1 , executive director of \\$ARG2   \n",
       "0  \\$ARG1 was born in \\$ARG2               \n",
       "0  \\$ARG1 was born in \\$ARG2               \n",
       "\n",
       "                                                                                        pattern  \\\n",
       "0  (A )?(a )?(The )?(the )?\\\\$ARG1\\ ,\\ who\\ heads\\ (A )?(a )?(The )?(the )?\\\\$ARG2                \n",
       "0  (A )?(a )?(The )?(the )?\\\\$ARG1\\ ,\\ executive\\ director\\ of\\ (A )?(a )?(The )?(the )?\\\\$ARG2   \n",
       "0  (A )?(a )?(The )?(the )?\\\\$ARG1\\ ,\\ executive\\ director\\ of\\ (A )?(a )?(The )?(the )?\\\\$ARG2   \n",
       "0  (A )?(a )?(The )?(the )?\\\\$ARG1\\ was\\ born\\ in\\ (A )?(a )?(The )?(the )?\\\\$ARG2                \n",
       "0  (A )?(a )?(The )?(the )?\\\\$ARG1\\ was\\ born\\ in\\ (A )?(a )?(The )?(the )?\\\\$ARG2                \n",
       "\n",
       "                  weak_label                 gold_label  \n",
       "0  org:top_members/employees  per:religion               \n",
       "0  org:top_members/employees  org:top_members/employees  \n",
       "0  org:top_members/employees  org:alternate_names        \n",
       "0  per:date_of_birth          per:children               \n",
       "0  per:date_of_birth          per:employee_of            "
      ]
     },
     "execution_count": 95,
     "metadata": {},
     "output_type": "execute_result"
    }
   ],
   "source": [
    "all_matches.apply(lambda x: escape_dollar(x)).head()"
   ]
  },
  {
   "cell_type": "code",
   "execution_count": 96,
   "metadata": {},
   "outputs": [
    {
     "data": {
      "text/plain": [
       "105"
      ]
     },
     "execution_count": 96,
     "metadata": {},
     "output_type": "execute_result"
    }
   ],
   "source": [
    "all_matches.size"
   ]
  },
  {
   "cell_type": "markdown",
   "metadata": {
    "pycharm": {
     "name": "#%% md\n"
    }
   },
   "source": [
    "But here we can observe some misclassified sentences: for example, a sentence \n",
    "\n",
    "\"A professor emeritus at Yale University , Mandelbrot was born in Poland but as a child moved with his family to France where he was educated\" \n",
    "\n",
    "was assigned with a label \"per:date_of_birth\" (presumably by a pattern \"ARG1 was born in ARG2\"), what is definitely wrong. In order to avoid such mistake, let's add additional constraints on the argument types."
   ]
  },
  {
   "cell_type": "code",
   "execution_count": 97,
   "metadata": {},
   "outputs": [],
   "source": [
    "relation_to_types = {\"org:alternate_names\": ['PERSON', 'PERSON'], \n",
    "                     \"per:date_of_birth\": ['PERSON', 'DATE'],\n",
    "                     \"org:top_members/employees\": ['PERSON', 'ORG']}"
   ]
  },
  {
   "cell_type": "markdown",
   "metadata": {
    "pycharm": {
     "name": "#%% md\n"
    }
   },
   "source": [
    "So, when we look for these patterns in samples, we should take into account the entity types referred to corresponding relation. "
   ]
  },
  {
   "cell_type": "code",
   "execution_count": 98,
   "metadata": {},
   "outputs": [],
   "source": [
    "relation_patterns_df[\"type\"] = pd.Series(relation_to_types)"
   ]
  },
  {
   "cell_type": "code",
   "execution_count": 99,
   "metadata": {
    "pycharm": {
     "name": "#%%\n"
    }
   },
   "outputs": [
    {
     "data": {
      "text/html": [
       "<div>\n",
       "<style scoped>\n",
       "    .dataframe tbody tr th:only-of-type {\n",
       "        vertical-align: middle;\n",
       "    }\n",
       "\n",
       "    .dataframe tbody tr th {\n",
       "        vertical-align: top;\n",
       "    }\n",
       "\n",
       "    .dataframe thead th {\n",
       "        text-align: right;\n",
       "    }\n",
       "</style>\n",
       "<table border=\"1\" class=\"dataframe\">\n",
       "  <thead>\n",
       "    <tr style=\"text-align: right;\">\n",
       "      <th></th>\n",
       "      <th>raw pattern</th>\n",
       "      <th>regex pattern</th>\n",
       "      <th>type</th>\n",
       "    </tr>\n",
       "  </thead>\n",
       "  <tbody>\n",
       "    <tr>\n",
       "      <th>org:alternate_names</th>\n",
       "      <td>['\\$ARG1 ( \\$ARG2 ', '\\$ARG1 formerly known as \\$ARG2', '\\$ARG1 aka \\$ARG2', '\\$ARG1 ( also known as \\$ARG2 )']</td>\n",
       "      <td>['(A )?(a )?(The )?(the )?\\\\\\$ARG1\\\\ \\\\(\\\\ (A )?(a )?(The )?(the )?\\\\\\$ARG2\\\\ ', '(A )?(a )?(The )?(the )?\\\\\\$ARG1\\\\ formerly\\\\ known\\\\ as\\\\ (A )?(a )?(The )?(the )?\\\\\\$ARG2', '(A )?(a )?(The )?(the )?\\\\\\$ARG1\\\\ aka\\\\ (A )?(a )?(The )?(the )?\\\\\\$ARG2', '(A )?(a )?(The )?(the )?\\\\\\$ARG1\\\\ \\\\(\\\\ also\\\\ known\\\\ as\\\\ (A )?(a )?(The )?(the )?\\\\\\$ARG2\\\\ \\\\)']</td>\n",
       "      <td>['PERSON', 'PERSON']</td>\n",
       "    </tr>\n",
       "    <tr>\n",
       "      <th>per:date_of_birth</th>\n",
       "      <td>['\\$ARG1 ( born \\$ARG2 )', '\\$ARG1 ( born \\$ARG2 in', '\\$ARG1 ( \\$ARG2 -', '\\$ARG1 was born in \\$ARG2']</td>\n",
       "      <td>['(A )?(a )?(The )?(the )?\\\\\\$ARG1\\\\ \\\\(\\\\ born\\\\ (A )?(a )?(The )?(the )?\\\\\\$ARG2\\\\ \\\\)', '(A )?(a )?(The )?(the )?\\\\\\$ARG1\\\\ \\\\(\\\\ born\\\\ (A )?(a )?(The )?(the )?\\\\\\$ARG2\\\\ in', '(A )?(a )?(The )?(the )?\\\\\\$ARG1\\\\ \\\\(\\\\ (A )?(a )?(The )?(the )?\\\\\\$ARG2\\\\ \\\\-', '(A )?(a )?(The )?(the )?\\\\\\$ARG1\\\\ was\\\\ born\\\\ in\\\\ (A )?(a )?(The )?(the )?\\\\\\$ARG2']</td>\n",
       "      <td>['PERSON', 'DATE']</td>\n",
       "    </tr>\n",
       "    <tr>\n",
       "      <th>org:top_members/employees</th>\n",
       "      <td>['\\$ARG1 , executive director of \\$ARG2', '\\$ARG1 , head of \\$ARG2', '\\$ARG1 , who heads \\$ARG2', '\\$ARG1 , chief executive of \\$ARG2']</td>\n",
       "      <td>['(A )?(a )?(The )?(the )?\\\\\\$ARG1\\\\ ,\\\\ executive\\\\ director\\\\ of\\\\ (A )?(a )?(The )?(the )?\\\\\\$ARG2', '(A )?(a )?(The )?(the )?\\\\\\$ARG1\\\\ ,\\\\ head\\\\ of\\\\ (A )?(a )?(The )?(the )?\\\\\\$ARG2', '(A )?(a )?(The )?(the )?\\\\\\$ARG1\\\\ ,\\\\ who\\\\ heads\\\\ (A )?(a )?(The )?(the )?\\\\\\$ARG2', '(A )?(a )?(The )?(the )?\\\\\\$ARG1\\\\ ,\\\\ chief\\\\ executive\\\\ of\\\\ (A )?(a )?(The )?(the )?\\\\\\$ARG2']</td>\n",
       "      <td>['PERSON', 'ORG']</td>\n",
       "    </tr>\n",
       "  </tbody>\n",
       "</table>\n",
       "</div>"
      ],
      "text/plain": [
       "                                                                                                                                                       raw pattern  \\\n",
       "org:alternate_names        ['\\$ARG1 ( \\$ARG2 ', '\\$ARG1 formerly known as \\$ARG2', '\\$ARG1 aka \\$ARG2', '\\$ARG1 ( also known as \\$ARG2 )']                           \n",
       "per:date_of_birth          ['\\$ARG1 ( born \\$ARG2 )', '\\$ARG1 ( born \\$ARG2 in', '\\$ARG1 ( \\$ARG2 -', '\\$ARG1 was born in \\$ARG2']                                   \n",
       "org:top_members/employees  ['\\$ARG1 , executive director of \\$ARG2', '\\$ARG1 , head of \\$ARG2', '\\$ARG1 , who heads \\$ARG2', '\\$ARG1 , chief executive of \\$ARG2']   \n",
       "\n",
       "                                                                                                                                                                                                                                                                                                                                                                                                         regex pattern  \\\n",
       "org:alternate_names        ['(A )?(a )?(The )?(the )?\\\\\\$ARG1\\\\ \\\\(\\\\ (A )?(a )?(The )?(the )?\\\\\\$ARG2\\\\ ', '(A )?(a )?(The )?(the )?\\\\\\$ARG1\\\\ formerly\\\\ known\\\\ as\\\\ (A )?(a )?(The )?(the )?\\\\\\$ARG2', '(A )?(a )?(The )?(the )?\\\\\\$ARG1\\\\ aka\\\\ (A )?(a )?(The )?(the )?\\\\\\$ARG2', '(A )?(a )?(The )?(the )?\\\\\\$ARG1\\\\ \\\\(\\\\ also\\\\ known\\\\ as\\\\ (A )?(a )?(The )?(the )?\\\\\\$ARG2\\\\ \\\\)']                           \n",
       "per:date_of_birth          ['(A )?(a )?(The )?(the )?\\\\\\$ARG1\\\\ \\\\(\\\\ born\\\\ (A )?(a )?(The )?(the )?\\\\\\$ARG2\\\\ \\\\)', '(A )?(a )?(The )?(the )?\\\\\\$ARG1\\\\ \\\\(\\\\ born\\\\ (A )?(a )?(The )?(the )?\\\\\\$ARG2\\\\ in', '(A )?(a )?(The )?(the )?\\\\\\$ARG1\\\\ \\\\(\\\\ (A )?(a )?(The )?(the )?\\\\\\$ARG2\\\\ \\\\-', '(A )?(a )?(The )?(the )?\\\\\\$ARG1\\\\ was\\\\ born\\\\ in\\\\ (A )?(a )?(The )?(the )?\\\\\\$ARG2']                               \n",
       "org:top_members/employees  ['(A )?(a )?(The )?(the )?\\\\\\$ARG1\\\\ ,\\\\ executive\\\\ director\\\\ of\\\\ (A )?(a )?(The )?(the )?\\\\\\$ARG2', '(A )?(a )?(The )?(the )?\\\\\\$ARG1\\\\ ,\\\\ head\\\\ of\\\\ (A )?(a )?(The )?(the )?\\\\\\$ARG2', '(A )?(a )?(The )?(the )?\\\\\\$ARG1\\\\ ,\\\\ who\\\\ heads\\\\ (A )?(a )?(The )?(the )?\\\\\\$ARG2', '(A )?(a )?(The )?(the )?\\\\\\$ARG1\\\\ ,\\\\ chief\\\\ executive\\\\ of\\\\ (A )?(a )?(The )?(the )?\\\\\\$ARG2']   \n",
       "\n",
       "                                           type  \n",
       "org:alternate_names        ['PERSON', 'PERSON']  \n",
       "per:date_of_birth          ['PERSON', 'DATE']    \n",
       "org:top_members/employees  ['PERSON', 'ORG']     "
      ]
     },
     "execution_count": 99,
     "metadata": {},
     "output_type": "execute_result"
    }
   ],
   "source": [
    "relation_patterns_df.apply(lambda x: escape_dollar(x)).head()"
   ]
  },
  {
   "cell_type": "markdown",
   "metadata": {},
   "source": [
    "The information about type of the entities we get from the Spacy annotations as well and build a new format of extracted subsentences: now they are not lists but dictionaries in format {subsentence: entity types}"
   ]
  },
  {
   "cell_type": "code",
   "execution_count": 100,
   "metadata": {},
   "outputs": [],
   "source": [
    "def get_arg_types(sample):\n",
    "    return [{ARG1 + sample[\"text\"][ent1[\"end\"]:ent2[\"start\"]] + ARG2 : [ent1[\"label\"], ent2[\"label\"]]}\n",
    "            if ent1[\"end\"] < ent2[\"end\"]\n",
    "            else {(ARG2 + sample[\"text\"][ent2[\"end\"]:ent1[\"start\"]] + ARG1) : [ent2[\"label\"], ent1[\"label\"]]}\n",
    "            for ent1, ent2 in itertools.permutations(sample[\"ents\"],2)]"
   ]
  },
  {
   "cell_type": "code",
   "execution_count": 101,
   "metadata": {},
   "outputs": [],
   "source": [
    "selected_samples[\"extr_with_types\"] = selected_samples[\"spacy info\"].apply(lambda x: get_arg_types(x))"
   ]
  },
  {
   "cell_type": "markdown",
   "metadata": {
    "pycharm": {
     "name": "#%% md\n"
    }
   },
   "source": [
    "We do a similar pattern search, but now taking into account entity types."
   ]
  },
  {
   "cell_type": "code",
   "execution_count": 102,
   "metadata": {
    "pycharm": {
     "name": "#%%\n"
    }
   },
   "outputs": [],
   "source": [
    "def pattern_search_filter_types(cand_sample_with_types, patterns, row):\n",
    "    for relation, rel_patterns in patterns.iterrows():\n",
    "        cand_sample_types = [item for type_pair in cand_sample_with_types.values() for item in type_pair]\n",
    "        if rel_patterns[\"type\"] == cand_sample_types:\n",
    "            sample = list(cand_sample_with_types.keys())[0]\n",
    "            matches = [[row[\"sample\"], sample, pattern, relation, row[\"label\"]] \n",
    "                       for pattern in rel_patterns[\"regex pattern\"]\n",
    "                       if re.match(pattern, sample) is not None]   # todo\n",
    "            if len(matches) > 0:\n",
    "                return pd.DataFrame(matches, columns = FINAL_DF_COLUMNS)"
   ]
  },
  {
   "cell_type": "code",
   "execution_count": 103,
   "metadata": {},
   "outputs": [],
   "source": [
    "all_matches_filter_types = pd.DataFrame(columns = FINAL_DF_COLUMNS)\n",
    "for _, row in selected_samples.iterrows():\n",
    "    for cand_sample_with_types in row[\"extr_with_types\"]:\n",
    "        df_found = pattern_search_filter_types(cand_sample_with_types, relation_patterns_df, row)\n",
    "        if isinstance(df_found, pd.DataFrame) and not df_found.empty:\n",
    "            all_matches_filter_types = pd.concat([all_matches_filter_types, df_found])"
   ]
  },
  {
   "cell_type": "code",
   "execution_count": 104,
   "metadata": {},
   "outputs": [
    {
     "data": {
      "text/html": [
       "<div>\n",
       "<style scoped>\n",
       "    .dataframe tbody tr th:only-of-type {\n",
       "        vertical-align: middle;\n",
       "    }\n",
       "\n",
       "    .dataframe tbody tr th {\n",
       "        vertical-align: top;\n",
       "    }\n",
       "\n",
       "    .dataframe thead th {\n",
       "        text-align: right;\n",
       "    }\n",
       "</style>\n",
       "<table border=\"1\" class=\"dataframe\">\n",
       "  <thead>\n",
       "    <tr style=\"text-align: right;\">\n",
       "      <th></th>\n",
       "      <th>sample</th>\n",
       "      <th>extr_sample</th>\n",
       "      <th>pattern</th>\n",
       "      <th>weak_label</th>\n",
       "      <th>gold_label</th>\n",
       "    </tr>\n",
       "  </thead>\n",
       "  <tbody>\n",
       "    <tr>\n",
       "      <th>0</th>\n",
       "      <td>His main Shiite rival , Abdul Aziz al-Hakim , who heads the Islamic Supreme Council of Iraq , an influential Shiite political party that is part of Maliki 's ruling coalition , has also denounced the plans .</td>\n",
       "      <td>\\$ARG1 , who heads \\$ARG2</td>\n",
       "      <td>(A )?(a )?(The )?(the )?\\\\$ARG1\\ ,\\ who\\ heads\\ (A )?(a )?(The )?(the )?\\\\$ARG2</td>\n",
       "      <td>org:top_members/employees</td>\n",
       "      <td>per:religion</td>\n",
       "    </tr>\n",
       "    <tr>\n",
       "      <th>0</th>\n",
       "      <td>`` It 's an issue for everybody in the state because peanuts are a big part of our economy , '' said Don Koehler , executive director of the Georgia Peanut Commission .</td>\n",
       "      <td>\\$ARG1 , executive director of \\$ARG2</td>\n",
       "      <td>(A )?(a )?(The )?(the )?\\\\$ARG1\\ ,\\ executive\\ director\\ of\\ (A )?(a )?(The )?(the )?\\\\$ARG2</td>\n",
       "      <td>org:top_members/employees</td>\n",
       "      <td>org:top_members/employees</td>\n",
       "    </tr>\n",
       "    <tr>\n",
       "      <th>0</th>\n",
       "      <td>Water and its links to development , peace and conflict were key words in the annual sessions , Anders Berntell , executive director of Stockholm International Water Institute ( SIWI ) , said in his opening address .</td>\n",
       "      <td>\\$ARG1 , executive director of \\$ARG2</td>\n",
       "      <td>(A )?(a )?(The )?(the )?\\\\$ARG1\\ ,\\ executive\\ director\\ of\\ (A )?(a )?(The )?(the )?\\\\$ARG2</td>\n",
       "      <td>org:top_members/employees</td>\n",
       "      <td>org:alternate_names</td>\n",
       "    </tr>\n",
       "    <tr>\n",
       "      <th>0</th>\n",
       "      <td>Gwathmey was born in 1938 , the only child of painter Robert Gwathmey and his wife , Rosalie , a photographer .</td>\n",
       "      <td>\\$ARG1 was born in \\$ARG2</td>\n",
       "      <td>(A )?(a )?(The )?(the )?\\\\$ARG1\\ was\\ born\\ in\\ (A )?(a )?(The )?(the )?\\\\$ARG2</td>\n",
       "      <td>per:date_of_birth</td>\n",
       "      <td>per:children</td>\n",
       "    </tr>\n",
       "    <tr>\n",
       "      <th>0</th>\n",
       "      <td>Water and its links to development , peace and conflict were key words in the annual sessions , Anders Berntell , executive director of Stockholm International Water Institute ( SIWI ) , said in his opening address .</td>\n",
       "      <td>\\$ARG1 , executive director of \\$ARG2</td>\n",
       "      <td>(A )?(a )?(The )?(the )?\\\\$ARG1\\ ,\\ executive\\ director\\ of\\ (A )?(a )?(The )?(the )?\\\\$ARG2</td>\n",
       "      <td>org:top_members/employees</td>\n",
       "      <td>org:top_members/employees</td>\n",
       "    </tr>\n",
       "    <tr>\n",
       "      <th>0</th>\n",
       "      <td>`` At the moment the water issue does n't get enough attention in the climate negotiations , '' Anders Berntell , head of the Stockholm International Water Institute , told The Associated Press .</td>\n",
       "      <td>\\$ARG1 , head of \\$ARG2</td>\n",
       "      <td>(A )?(a )?(The )?(the )?\\\\$ARG1\\ ,\\ head\\ of\\ (A )?(a )?(The )?(the )?\\\\$ARG2</td>\n",
       "      <td>org:top_members/employees</td>\n",
       "      <td>org:top_members/employees</td>\n",
       "    </tr>\n",
       "    <tr>\n",
       "      <th>0</th>\n",
       "      <td>BEIJING , Dec 23 ( Xinhua ) Net profit of the central SOEs totaled 80226 billion yuan ( 12073 billion US dollars ) in the January-to-November period , said Wang Yong , head of the State - owned Assets Supervision and Administration Commission ( SASAC ) .</td>\n",
       "      <td>\\$ARG1 , head of the \\$ARG2</td>\n",
       "      <td>(A )?(a )?(The )?(the )?\\\\$ARG1\\ ,\\ head\\ of\\ (A )?(a )?(The )?(the )?\\\\$ARG2</td>\n",
       "      <td>org:top_members/employees</td>\n",
       "      <td>org:top_members/employees</td>\n",
       "    </tr>\n",
       "    <tr>\n",
       "      <th>0</th>\n",
       "      <td>Gwathmey was born in 1938 , the only child of painter Robert Gwathmey and his wife , Rosalie , a photographer .</td>\n",
       "      <td>\\$ARG1 was born in \\$ARG2</td>\n",
       "      <td>(A )?(a )?(The )?(the )?\\\\$ARG1\\ was\\ born\\ in\\ (A )?(a )?(The )?(the )?\\\\$ARG2</td>\n",
       "      <td>per:date_of_birth</td>\n",
       "      <td>per:date_of_birth</td>\n",
       "    </tr>\n",
       "    <tr>\n",
       "      <th>0</th>\n",
       "      <td>`` It is difficult to put one country and its citizens in the same boat ... some people from Iran have very legitimate interests in Europe and are very trustworthy , '' said Pierre Mirabaud , head of the Swiss Bankers Association .</td>\n",
       "      <td>\\$ARG1 , head of \\$ARG2</td>\n",
       "      <td>(A )?(a )?(The )?(the )?\\\\$ARG1\\ ,\\ head\\ of\\ (A )?(a )?(The )?(the )?\\\\$ARG2</td>\n",
       "      <td>org:top_members/employees</td>\n",
       "      <td>org:top_members/employees</td>\n",
       "    </tr>\n",
       "    <tr>\n",
       "      <th>0</th>\n",
       "      <td>`` The conference is like the science Olympics , '' said Peter Agre , head of the American Association for the Advancement of Sciece ( AAAS ) , which is hosting the meeting in California as the Winter Olympics were in full swing in Vancouver , Canada .</td>\n",
       "      <td>\\$ARG1 , head of \\$ARG2</td>\n",
       "      <td>(A )?(a )?(The )?(the )?\\\\$ARG1\\ ,\\ head\\ of\\ (A )?(a )?(The )?(the )?\\\\$ARG2</td>\n",
       "      <td>org:top_members/employees</td>\n",
       "      <td>org:top_members/employees</td>\n",
       "    </tr>\n",
       "    <tr>\n",
       "      <th>0</th>\n",
       "      <td>Net profit of the central SOEs totaled 802.26 billion yuan ( 120.73 billion U.S. dollars ) in the January-to-November period , said Wang Yong , head of the State - owned Assets Supervision and Administration Commission ( SASAC ) .</td>\n",
       "      <td>\\$ARG1 , head of the \\$ARG2</td>\n",
       "      <td>(A )?(a )?(The )?(the )?\\\\$ARG1\\ ,\\ head\\ of\\ (A )?(a )?(The )?(the )?\\\\$ARG2</td>\n",
       "      <td>org:top_members/employees</td>\n",
       "      <td>org:alternate_names</td>\n",
       "    </tr>\n",
       "    <tr>\n",
       "      <th>0</th>\n",
       "      <td>There is the danger , over time , that the United States could lose its pre-eminence in science and efforts to interest more young people in research are under way , said Alan I Leshner , head of the American Association for the Advancement of Science .</td>\n",
       "      <td>\\$ARG1 , head of \\$ARG2</td>\n",
       "      <td>(A )?(a )?(The )?(the )?\\\\$ARG1\\ ,\\ head\\ of\\ (A )?(a )?(The )?(the )?\\\\$ARG2</td>\n",
       "      <td>org:top_members/employees</td>\n",
       "      <td>org:top_members/employees</td>\n",
       "    </tr>\n",
       "    <tr>\n",
       "      <th>0</th>\n",
       "      <td>Although military spending was n't usually a major part of the economic stimulus packages , it was n't cut either , '' said Sam Perlo-Freeman , head of the Military Expenditure Project at SIPRI .</td>\n",
       "      <td>\\$ARG1 , head of \\$ARG2</td>\n",
       "      <td>(A )?(a )?(The )?(the )?\\\\$ARG1\\ ,\\ head\\ of\\ (A )?(a )?(The )?(the )?\\\\$ARG2</td>\n",
       "      <td>org:top_members/employees</td>\n",
       "      <td>org:top_members/employees</td>\n",
       "    </tr>\n",
       "  </tbody>\n",
       "</table>\n",
       "</div>"
      ],
      "text/plain": [
       "                                                                                                                                                                                                                                                            sample  \\\n",
       "0   His main Shiite rival , Abdul Aziz al-Hakim , who heads the Islamic Supreme Council of Iraq , an influential Shiite political party that is part of Maliki 's ruling coalition , has also denounced the plans .                                                  \n",
       "0   `` It 's an issue for everybody in the state because peanuts are a big part of our economy , '' said Don Koehler , executive director of the Georgia Peanut Commission .                                                                                         \n",
       "0   Water and its links to development , peace and conflict were key words in the annual sessions , Anders Berntell , executive director of Stockholm International Water Institute ( SIWI ) , said in his opening address .                                         \n",
       "0   Gwathmey was born in 1938 , the only child of painter Robert Gwathmey and his wife , Rosalie , a photographer .                                                                                                                                                  \n",
       "0   Water and its links to development , peace and conflict were key words in the annual sessions , Anders Berntell , executive director of Stockholm International Water Institute ( SIWI ) , said in his opening address .                                         \n",
       "0   `` At the moment the water issue does n't get enough attention in the climate negotiations , '' Anders Berntell , head of the Stockholm International Water Institute , told The Associated Press .                                                              \n",
       "0   BEIJING , Dec 23 ( Xinhua ) Net profit of the central SOEs totaled 80226 billion yuan ( 12073 billion US dollars ) in the January-to-November period , said Wang Yong , head of the State - owned Assets Supervision and Administration Commission ( SASAC ) .   \n",
       "0   Gwathmey was born in 1938 , the only child of painter Robert Gwathmey and his wife , Rosalie , a photographer .                                                                                                                                                  \n",
       "0   `` It is difficult to put one country and its citizens in the same boat ... some people from Iran have very legitimate interests in Europe and are very trustworthy , '' said Pierre Mirabaud , head of the Swiss Bankers Association .                          \n",
       "0   `` The conference is like the science Olympics , '' said Peter Agre , head of the American Association for the Advancement of Sciece ( AAAS ) , which is hosting the meeting in California as the Winter Olympics were in full swing in Vancouver , Canada .     \n",
       "0   Net profit of the central SOEs totaled 802.26 billion yuan ( 120.73 billion U.S. dollars ) in the January-to-November period , said Wang Yong , head of the State - owned Assets Supervision and Administration Commission ( SASAC ) .                           \n",
       "0   There is the danger , over time , that the United States could lose its pre-eminence in science and efforts to interest more young people in research are under way , said Alan I Leshner , head of the American Association for the Advancement of Science .    \n",
       "0   Although military spending was n't usually a major part of the economic stimulus packages , it was n't cut either , '' said Sam Perlo-Freeman , head of the Military Expenditure Project at SIPRI .                                                              \n",
       "\n",
       "                             extr_sample  \\\n",
       "0  \\$ARG1 , who heads \\$ARG2               \n",
       "0  \\$ARG1 , executive director of \\$ARG2   \n",
       "0  \\$ARG1 , executive director of \\$ARG2   \n",
       "0  \\$ARG1 was born in \\$ARG2               \n",
       "0  \\$ARG1 , executive director of \\$ARG2   \n",
       "0  \\$ARG1 , head of \\$ARG2                 \n",
       "0  \\$ARG1 , head of the \\$ARG2             \n",
       "0  \\$ARG1 was born in \\$ARG2               \n",
       "0  \\$ARG1 , head of \\$ARG2                 \n",
       "0  \\$ARG1 , head of \\$ARG2                 \n",
       "0  \\$ARG1 , head of the \\$ARG2             \n",
       "0  \\$ARG1 , head of \\$ARG2                 \n",
       "0  \\$ARG1 , head of \\$ARG2                 \n",
       "\n",
       "                                                                                        pattern  \\\n",
       "0  (A )?(a )?(The )?(the )?\\\\$ARG1\\ ,\\ who\\ heads\\ (A )?(a )?(The )?(the )?\\\\$ARG2                \n",
       "0  (A )?(a )?(The )?(the )?\\\\$ARG1\\ ,\\ executive\\ director\\ of\\ (A )?(a )?(The )?(the )?\\\\$ARG2   \n",
       "0  (A )?(a )?(The )?(the )?\\\\$ARG1\\ ,\\ executive\\ director\\ of\\ (A )?(a )?(The )?(the )?\\\\$ARG2   \n",
       "0  (A )?(a )?(The )?(the )?\\\\$ARG1\\ was\\ born\\ in\\ (A )?(a )?(The )?(the )?\\\\$ARG2                \n",
       "0  (A )?(a )?(The )?(the )?\\\\$ARG1\\ ,\\ executive\\ director\\ of\\ (A )?(a )?(The )?(the )?\\\\$ARG2   \n",
       "0  (A )?(a )?(The )?(the )?\\\\$ARG1\\ ,\\ head\\ of\\ (A )?(a )?(The )?(the )?\\\\$ARG2                  \n",
       "0  (A )?(a )?(The )?(the )?\\\\$ARG1\\ ,\\ head\\ of\\ (A )?(a )?(The )?(the )?\\\\$ARG2                  \n",
       "0  (A )?(a )?(The )?(the )?\\\\$ARG1\\ was\\ born\\ in\\ (A )?(a )?(The )?(the )?\\\\$ARG2                \n",
       "0  (A )?(a )?(The )?(the )?\\\\$ARG1\\ ,\\ head\\ of\\ (A )?(a )?(The )?(the )?\\\\$ARG2                  \n",
       "0  (A )?(a )?(The )?(the )?\\\\$ARG1\\ ,\\ head\\ of\\ (A )?(a )?(The )?(the )?\\\\$ARG2                  \n",
       "0  (A )?(a )?(The )?(the )?\\\\$ARG1\\ ,\\ head\\ of\\ (A )?(a )?(The )?(the )?\\\\$ARG2                  \n",
       "0  (A )?(a )?(The )?(the )?\\\\$ARG1\\ ,\\ head\\ of\\ (A )?(a )?(The )?(the )?\\\\$ARG2                  \n",
       "0  (A )?(a )?(The )?(the )?\\\\$ARG1\\ ,\\ head\\ of\\ (A )?(a )?(The )?(the )?\\\\$ARG2                  \n",
       "\n",
       "                  weak_label                 gold_label  \n",
       "0  org:top_members/employees  per:religion               \n",
       "0  org:top_members/employees  org:top_members/employees  \n",
       "0  org:top_members/employees  org:alternate_names        \n",
       "0  per:date_of_birth          per:children               \n",
       "0  org:top_members/employees  org:top_members/employees  \n",
       "0  org:top_members/employees  org:top_members/employees  \n",
       "0  org:top_members/employees  org:top_members/employees  \n",
       "0  per:date_of_birth          per:date_of_birth          \n",
       "0  org:top_members/employees  org:top_members/employees  \n",
       "0  org:top_members/employees  org:top_members/employees  \n",
       "0  org:top_members/employees  org:alternate_names        \n",
       "0  org:top_members/employees  org:top_members/employees  \n",
       "0  org:top_members/employees  org:top_members/employees  "
      ]
     },
     "execution_count": 104,
     "metadata": {},
     "output_type": "execute_result"
    }
   ],
   "source": [
    "all_matches_filter_types.apply(lambda x: escape_dollar(x))"
   ]
  },
  {
   "cell_type": "code",
   "execution_count": 105,
   "metadata": {},
   "outputs": [
    {
     "data": {
      "text/plain": [
       "65"
      ]
     },
     "execution_count": 105,
     "metadata": {},
     "output_type": "execute_result"
    }
   ],
   "source": [
    "all_matches_filter_types.size"
   ]
  },
  {
   "cell_type": "markdown",
   "metadata": {
    "pycharm": {
     "name": "#%% md\n"
    }
   },
   "source": [
    "## Input matrices creation"
   ]
  },
  {
   "cell_type": "markdown",
   "metadata": {
    "pycharm": {
     "name": "#%% md\n"
    }
   },
   "source": [
    "So, now we have a smaller dataset (only 60 found samples compared to 120 without argument types filtering), but much more clean. By the way: we have already done our first weakly data preprocessing :)\n",
    "\n",
    "Some weak labels are still not the same as the gold labels, but mostly this happens because they are hold in different parts of a sentence. For example, \"Gwathmey was born in 1938 , the only child of painter Robert Gwathmey and his wife , Rosalie , a photographer.\" sentence definitely contains both relations: \"per:date_of_birth\" and \"per:children\" - so, our distant label is still true. "
   ]
  },
  {
   "cell_type": "markdown",
   "metadata": {},
   "source": [
    "The final step would be a creation of the input matrices needed for knodle framework, namely:\n",
    "\n",
    "- X: input_features (sentence x features): containing information about the data samples\n",
    "- Z: rule_matches (sentence x labelling): in our case labelling functions are patterns and this binary matrix contains information about which pattern match for each sentence\n",
    "- T: mapping_rules_labels (labelling functions x classes): which pattern corresponds to which class\n",
    "\n",
    "We are not going to discuss here encoding of the data samples and creation of X (input_features) matrix, but let's construct Z (rule_matches) and T (mapping_rules_labels) matrices."
   ]
  },
  {
   "cell_type": "code",
   "execution_count": 62,
   "metadata": {
    "pycharm": {
     "name": "#%%\n"
    }
   },
   "outputs": [],
   "source": [
    "def z_matrix_creation(all_matches_filter_types, relation_patterns_df):\n",
    "    \n",
    "    # create empty matrix with columns as patterns + column \"sample\"\n",
    "    sentences_lf_df_columns = [item for relation in relation_patterns_df[\"raw pattern\"] for item in relation] \n",
    "    rule_matches = pd.DataFrame(columns=escape_dollar(sentences_lf_df_columns))\n",
    "    rule_matches.insert(0, \"sample\", all_matches_filter_types[\"sample\"])\n",
    "\n",
    "    for index, row in all_matches_filter_types.iterrows():   # iterate over rows of found samples\n",
    "        curr_sample, curr_pattern, curr_relation = row[0], row[2], row[3]\n",
    "        pattern_index = list(relation_patterns_df.loc[curr_relation][\"regex pattern\"]).index(curr_pattern)    # find idx of current regex pattern in patterns lists in relation_patterns_df\n",
    "        raw_pattern = relation_patterns_df.loc[curr_relation, \"raw pattern\"][pattern_index]   # take the corresponding raw pattern\n",
    "        rule_matches.loc[(rule_matches[\"sample\"] == curr_sample), escape_dollar([raw_pattern])] = 1   # add 1 on the intersection of sample and pattern in Z matrix\n",
    "\n",
    "    return rule_matches.fillna(0)\n",
    "\n",
    "rule_matches = z_matrix_creation(all_matches_filter_types, relation_patterns_df)"
   ]
  },
  {
   "cell_type": "code",
   "execution_count": 63,
   "metadata": {
    "pycharm": {
     "name": "#%%\n"
    }
   },
   "outputs": [
    {
     "data": {
      "text/html": [
       "<div>\n",
       "<style scoped>\n",
       "    .dataframe tbody tr th:only-of-type {\n",
       "        vertical-align: middle;\n",
       "    }\n",
       "\n",
       "    .dataframe tbody tr th {\n",
       "        vertical-align: top;\n",
       "    }\n",
       "\n",
       "    .dataframe thead th {\n",
       "        text-align: right;\n",
       "    }\n",
       "</style>\n",
       "<table border=\"1\" class=\"dataframe\">\n",
       "  <thead>\n",
       "    <tr style=\"text-align: right;\">\n",
       "      <th></th>\n",
       "      <th>sample</th>\n",
       "      <th>\\$ARG1 ( \\$ARG2</th>\n",
       "      <th>\\$ARG1 formerly known as \\$ARG2</th>\n",
       "      <th>\\$ARG1 aka \\$ARG2</th>\n",
       "      <th>\\$ARG1 ( also known as \\$ARG2 )</th>\n",
       "      <th>\\$ARG1 ( born \\$ARG2 )</th>\n",
       "      <th>\\$ARG1 ( born \\$ARG2 in</th>\n",
       "      <th>\\$ARG1 ( \\$ARG2 -</th>\n",
       "      <th>\\$ARG1 was born in \\$ARG2</th>\n",
       "      <th>\\$ARG1 , executive director of \\$ARG2</th>\n",
       "      <th>\\$ARG1 , head of \\$ARG2</th>\n",
       "      <th>\\$ARG1 , who heads \\$ARG2</th>\n",
       "      <th>\\$ARG1 , chief executive of \\$ARG2</th>\n",
       "    </tr>\n",
       "  </thead>\n",
       "  <tbody>\n",
       "    <tr>\n",
       "      <th>0</th>\n",
       "      <td>His main Shiite rival , Abdul Aziz al-Hakim , who heads the Islamic Supreme Council of Iraq , an influential Shiite political party that is part of Maliki 's ruling coalition , has also denounced the plans .</td>\n",
       "      <td>0</td>\n",
       "      <td>0</td>\n",
       "      <td>0</td>\n",
       "      <td>0</td>\n",
       "      <td>0</td>\n",
       "      <td>0</td>\n",
       "      <td>0</td>\n",
       "      <td>0</td>\n",
       "      <td>0</td>\n",
       "      <td>0</td>\n",
       "      <td>1</td>\n",
       "      <td>0</td>\n",
       "    </tr>\n",
       "    <tr>\n",
       "      <th>0</th>\n",
       "      <td>`` It 's an issue for everybody in the state because peanuts are a big part of our economy , '' said Don Koehler , executive director of the Georgia Peanut Commission .</td>\n",
       "      <td>0</td>\n",
       "      <td>0</td>\n",
       "      <td>0</td>\n",
       "      <td>0</td>\n",
       "      <td>0</td>\n",
       "      <td>0</td>\n",
       "      <td>0</td>\n",
       "      <td>0</td>\n",
       "      <td>1</td>\n",
       "      <td>0</td>\n",
       "      <td>0</td>\n",
       "      <td>0</td>\n",
       "    </tr>\n",
       "    <tr>\n",
       "      <th>0</th>\n",
       "      <td>Water and its links to development , peace and conflict were key words in the annual sessions , Anders Berntell , executive director of Stockholm International Water Institute ( SIWI ) , said in his opening address .</td>\n",
       "      <td>0</td>\n",
       "      <td>0</td>\n",
       "      <td>0</td>\n",
       "      <td>0</td>\n",
       "      <td>0</td>\n",
       "      <td>0</td>\n",
       "      <td>0</td>\n",
       "      <td>0</td>\n",
       "      <td>1</td>\n",
       "      <td>0</td>\n",
       "      <td>0</td>\n",
       "      <td>0</td>\n",
       "    </tr>\n",
       "    <tr>\n",
       "      <th>0</th>\n",
       "      <td>Gwathmey was born in 1938 , the only child of painter Robert Gwathmey and his wife , Rosalie , a photographer .</td>\n",
       "      <td>0</td>\n",
       "      <td>0</td>\n",
       "      <td>0</td>\n",
       "      <td>0</td>\n",
       "      <td>0</td>\n",
       "      <td>0</td>\n",
       "      <td>0</td>\n",
       "      <td>1</td>\n",
       "      <td>0</td>\n",
       "      <td>0</td>\n",
       "      <td>0</td>\n",
       "      <td>0</td>\n",
       "    </tr>\n",
       "    <tr>\n",
       "      <th>0</th>\n",
       "      <td>Water and its links to development , peace and conflict were key words in the annual sessions , Anders Berntell , executive director of Stockholm International Water Institute ( SIWI ) , said in his opening address .</td>\n",
       "      <td>0</td>\n",
       "      <td>0</td>\n",
       "      <td>0</td>\n",
       "      <td>0</td>\n",
       "      <td>0</td>\n",
       "      <td>0</td>\n",
       "      <td>0</td>\n",
       "      <td>0</td>\n",
       "      <td>1</td>\n",
       "      <td>0</td>\n",
       "      <td>0</td>\n",
       "      <td>0</td>\n",
       "    </tr>\n",
       "  </tbody>\n",
       "</table>\n",
       "</div>"
      ],
      "text/plain": [
       "                                                                                                                                                                                                                      sample  \\\n",
       "0   His main Shiite rival , Abdul Aziz al-Hakim , who heads the Islamic Supreme Council of Iraq , an influential Shiite political party that is part of Maliki 's ruling coalition , has also denounced the plans .            \n",
       "0   `` It 's an issue for everybody in the state because peanuts are a big part of our economy , '' said Don Koehler , executive director of the Georgia Peanut Commission .                                                   \n",
       "0   Water and its links to development , peace and conflict were key words in the annual sessions , Anders Berntell , executive director of Stockholm International Water Institute ( SIWI ) , said in his opening address .   \n",
       "0   Gwathmey was born in 1938 , the only child of painter Robert Gwathmey and his wife , Rosalie , a photographer .                                                                                                            \n",
       "0   Water and its links to development , peace and conflict were key words in the annual sessions , Anders Berntell , executive director of Stockholm International Water Institute ( SIWI ) , said in his opening address .   \n",
       "\n",
       "   \\$ARG1 ( \\$ARG2   \\$ARG1 formerly known as \\$ARG2  \\$ARG1 aka \\$ARG2  \\\n",
       "0  0                 0                                0                   \n",
       "0  0                 0                                0                   \n",
       "0  0                 0                                0                   \n",
       "0  0                 0                                0                   \n",
       "0  0                 0                                0                   \n",
       "\n",
       "   \\$ARG1 ( also known as \\$ARG2 )  \\$ARG1 ( born \\$ARG2 )  \\\n",
       "0  0                                0                        \n",
       "0  0                                0                        \n",
       "0  0                                0                        \n",
       "0  0                                0                        \n",
       "0  0                                0                        \n",
       "\n",
       "   \\$ARG1 ( born \\$ARG2 in  \\$ARG1 ( \\$ARG2 -  \\$ARG1 was born in \\$ARG2  \\\n",
       "0  0                        0                  0                           \n",
       "0  0                        0                  0                           \n",
       "0  0                        0                  0                           \n",
       "0  0                        0                  1                           \n",
       "0  0                        0                  0                           \n",
       "\n",
       "   \\$ARG1 , executive director of \\$ARG2  \\$ARG1 , head of \\$ARG2  \\\n",
       "0  0                                      0                         \n",
       "0  1                                      0                         \n",
       "0  1                                      0                         \n",
       "0  0                                      0                         \n",
       "0  1                                      0                         \n",
       "\n",
       "   \\$ARG1 , who heads \\$ARG2  \\$ARG1 , chief executive of \\$ARG2  \n",
       "0  1                          0                                   \n",
       "0  0                          0                                   \n",
       "0  0                          0                                   \n",
       "0  0                          0                                   \n",
       "0  0                          0                                   "
      ]
     },
     "execution_count": 63,
     "metadata": {},
     "output_type": "execute_result"
    }
   ],
   "source": [
    "rule_matches.head()"
   ]
  },
  {
   "cell_type": "code",
   "execution_count": 76,
   "metadata": {
    "pycharm": {
     "name": "#%%\n"
    }
   },
   "outputs": [],
   "source": [
    "mapping_rules_labels = pd.concat([pd.Series(escape_dollar(v), name=k).astype(str) for k, v in relation_patterns.items()], axis=1)\n",
    "mapping_rules_labels = pd.get_dummies(mapping_rules_labels.stack()).sum(level=1).clip(upper=1)"
   ]
  },
  {
   "cell_type": "code",
   "execution_count": 77,
   "metadata": {
    "pycharm": {
     "name": "#%%\n"
    }
   },
   "outputs": [
    {
     "data": {
      "text/html": [
       "<div>\n",
       "<style scoped>\n",
       "    .dataframe tbody tr th:only-of-type {\n",
       "        vertical-align: middle;\n",
       "    }\n",
       "\n",
       "    .dataframe tbody tr th {\n",
       "        vertical-align: top;\n",
       "    }\n",
       "\n",
       "    .dataframe thead th {\n",
       "        text-align: right;\n",
       "    }\n",
       "</style>\n",
       "<table border=\"1\" class=\"dataframe\">\n",
       "  <thead>\n",
       "    <tr style=\"text-align: right;\">\n",
       "      <th></th>\n",
       "      <th>\\$ARG1 ( \\$ARG2</th>\n",
       "      <th>\\$ARG1 ( \\$ARG2 -</th>\n",
       "      <th>\\$ARG1 ( also known as \\$ARG2 )</th>\n",
       "      <th>\\$ARG1 ( born \\$ARG2 )</th>\n",
       "      <th>\\$ARG1 ( born \\$ARG2 in</th>\n",
       "      <th>\\$ARG1 , chief executive of \\$ARG2</th>\n",
       "      <th>\\$ARG1 , executive director of \\$ARG2</th>\n",
       "      <th>\\$ARG1 , head of \\$ARG2</th>\n",
       "      <th>\\$ARG1 , who heads \\$ARG2</th>\n",
       "      <th>\\$ARG1 aka \\$ARG2</th>\n",
       "      <th>\\$ARG1 formerly known as \\$ARG2</th>\n",
       "      <th>\\$ARG1 was born in \\$ARG2</th>\n",
       "    </tr>\n",
       "  </thead>\n",
       "  <tbody>\n",
       "    <tr>\n",
       "      <th>org:alternate_names</th>\n",
       "      <td>1</td>\n",
       "      <td>0</td>\n",
       "      <td>1</td>\n",
       "      <td>0</td>\n",
       "      <td>0</td>\n",
       "      <td>0</td>\n",
       "      <td>0</td>\n",
       "      <td>0</td>\n",
       "      <td>0</td>\n",
       "      <td>1</td>\n",
       "      <td>1</td>\n",
       "      <td>0</td>\n",
       "    </tr>\n",
       "    <tr>\n",
       "      <th>per:date_of_birth</th>\n",
       "      <td>0</td>\n",
       "      <td>1</td>\n",
       "      <td>0</td>\n",
       "      <td>1</td>\n",
       "      <td>1</td>\n",
       "      <td>0</td>\n",
       "      <td>0</td>\n",
       "      <td>0</td>\n",
       "      <td>0</td>\n",
       "      <td>0</td>\n",
       "      <td>0</td>\n",
       "      <td>1</td>\n",
       "    </tr>\n",
       "    <tr>\n",
       "      <th>org:top_members/employees</th>\n",
       "      <td>0</td>\n",
       "      <td>0</td>\n",
       "      <td>0</td>\n",
       "      <td>0</td>\n",
       "      <td>0</td>\n",
       "      <td>1</td>\n",
       "      <td>1</td>\n",
       "      <td>1</td>\n",
       "      <td>1</td>\n",
       "      <td>0</td>\n",
       "      <td>0</td>\n",
       "      <td>0</td>\n",
       "    </tr>\n",
       "  </tbody>\n",
       "</table>\n",
       "</div>"
      ],
      "text/plain": [
       "                           \\$ARG1 ( \\$ARG2   \\$ARG1 ( \\$ARG2 -  \\\n",
       "org:alternate_names        1                 0                   \n",
       "per:date_of_birth          0                 1                   \n",
       "org:top_members/employees  0                 0                   \n",
       "\n",
       "                           \\$ARG1 ( also known as \\$ARG2 )  \\\n",
       "org:alternate_names        1                                 \n",
       "per:date_of_birth          0                                 \n",
       "org:top_members/employees  0                                 \n",
       "\n",
       "                           \\$ARG1 ( born \\$ARG2 )  \\$ARG1 ( born \\$ARG2 in  \\\n",
       "org:alternate_names        0                       0                         \n",
       "per:date_of_birth          1                       1                         \n",
       "org:top_members/employees  0                       0                         \n",
       "\n",
       "                           \\$ARG1 , chief executive of \\$ARG2  \\\n",
       "org:alternate_names        0                                    \n",
       "per:date_of_birth          0                                    \n",
       "org:top_members/employees  1                                    \n",
       "\n",
       "                           \\$ARG1 , executive director of \\$ARG2  \\\n",
       "org:alternate_names        0                                       \n",
       "per:date_of_birth          0                                       \n",
       "org:top_members/employees  1                                       \n",
       "\n",
       "                           \\$ARG1 , head of \\$ARG2  \\$ARG1 , who heads \\$ARG2  \\\n",
       "org:alternate_names        0                        0                           \n",
       "per:date_of_birth          0                        0                           \n",
       "org:top_members/employees  1                        1                           \n",
       "\n",
       "                           \\$ARG1 aka \\$ARG2  \\$ARG1 formerly known as \\$ARG2  \\\n",
       "org:alternate_names        1                  1                                 \n",
       "per:date_of_birth          0                  0                                 \n",
       "org:top_members/employees  0                  0                                 \n",
       "\n",
       "                           \\$ARG1 was born in \\$ARG2  \n",
       "org:alternate_names        0                          \n",
       "per:date_of_birth          1                          \n",
       "org:top_members/employees  0                          "
      ]
     },
     "execution_count": 77,
     "metadata": {},
     "output_type": "execute_result"
    }
   ],
   "source": [
    "mapping_rules_labels"
   ]
  },
  {
   "cell_type": "markdown",
   "metadata": {
    "pycharm": {
     "name": "#%% md\n"
    }
   },
   "source": [
    "## Finish"
   ]
  },
  {
   "cell_type": "markdown",
   "metadata": {},
   "source": [
    "Now we have not only a weakly supervised dataset, but also an appropriate input for the knodle framework. What is still to be done is the choosing of text features, converting them to matrix as well and pass all three matrices in knodle to make denoising and model training. Good luck! :) "
   ]
  },
  {
   "cell_type": "code",
   "execution_count": null,
   "metadata": {
    "pycharm": {
     "name": "#%%\n"
    }
   },
   "outputs": [],
   "source": []
  }
 ],
 "metadata": {
  "kernelspec": {
   "display_name": "ds_data_collect",
   "language": "python",
   "name": "ds_data_collect"
  },
  "language_info": {
   "codemirror_mode": {
    "name": "ipython",
    "version": 3
   },
   "file_extension": ".py",
   "mimetype": "text/x-python",
   "name": "python",
   "nbconvert_exporter": "python",
   "pygments_lexer": "ipython3",
   "version": "3.8.3"
  }
 },
 "nbformat": 4,
 "nbformat_minor": 4
}