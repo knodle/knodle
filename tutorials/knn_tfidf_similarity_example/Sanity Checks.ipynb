{
 "cells": [
  {
   "cell_type": "markdown",
   "metadata": {},
   "source": [
    "# Sanity Checks within KNN\n",
    "\n",
    "This notebook shows some options on how to check what knn is doing exactly and where problems can occur"
   ]
  },
  {
   "cell_type": "code",
   "execution_count": 74,
   "metadata": {},
   "outputs": [],
   "source": [
    "from joblib import load\n",
    "from sklearn.neighbors import NearestNeighbors\n",
    "import pandas as pd\n",
    "import numpy as np\n",
    "from tqdm import tqdm\n",
    "from knodle.trainer.utils.denoise import get_majority_vote_probs"
   ]
  },
  {
   "cell_type": "code",
   "execution_count": 43,
   "metadata": {},
   "outputs": [],
   "source": [
    "movie_reviews = pd.read_csv('../../tutorials/ImdbDataset/imdb_data_preprocessed.csv')"
   ]
  },
  {
   "cell_type": "code",
   "execution_count": 44,
   "metadata": {},
   "outputs": [
    {
     "data": {
      "text/html": [
       "<div>\n",
       "<style scoped>\n",
       "    .dataframe tbody tr th:only-of-type {\n",
       "        vertical-align: middle;\n",
       "    }\n",
       "\n",
       "    .dataframe tbody tr th {\n",
       "        vertical-align: top;\n",
       "    }\n",
       "\n",
       "    .dataframe thead th {\n",
       "        text-align: right;\n",
       "    }\n",
       "</style>\n",
       "<table border=\"1\" class=\"dataframe\">\n",
       "  <thead>\n",
       "    <tr style=\"text-align: right;\">\n",
       "      <th></th>\n",
       "      <th>review</th>\n",
       "      <th>sentiment</th>\n",
       "      <th>reviews_preprocessed</th>\n",
       "      <th>label_id</th>\n",
       "    </tr>\n",
       "  </thead>\n",
       "  <tbody>\n",
       "    <tr>\n",
       "      <th>0</th>\n",
       "      <td>One of the other reviewers has mentioned that ...</td>\n",
       "      <td>positive</td>\n",
       "      <td>One reviewers mentioned watching just 1 Oz epi...</td>\n",
       "      <td>1</td>\n",
       "    </tr>\n",
       "    <tr>\n",
       "      <th>1</th>\n",
       "      <td>A wonderful little production. &lt;br /&gt;&lt;br /&gt;The...</td>\n",
       "      <td>positive</td>\n",
       "      <td>A wonderful little production. The filming tec...</td>\n",
       "      <td>1</td>\n",
       "    </tr>\n",
       "    <tr>\n",
       "      <th>2</th>\n",
       "      <td>I thought this was a wonderful way to spend ti...</td>\n",
       "      <td>positive</td>\n",
       "      <td>I thought wonderful way spend time hot summer ...</td>\n",
       "      <td>1</td>\n",
       "    </tr>\n",
       "    <tr>\n",
       "      <th>3</th>\n",
       "      <td>Basically there's a family where a little boy ...</td>\n",
       "      <td>negative</td>\n",
       "      <td>Basically there's family little boy (Jake) thi...</td>\n",
       "      <td>0</td>\n",
       "    </tr>\n",
       "    <tr>\n",
       "      <th>4</th>\n",
       "      <td>Petter Mattei's \"Love in the Time of Money\" is...</td>\n",
       "      <td>positive</td>\n",
       "      <td>Petter Mattei's \"Love Time Money\" visually stu...</td>\n",
       "      <td>1</td>\n",
       "    </tr>\n",
       "    <tr>\n",
       "      <th>...</th>\n",
       "      <td>...</td>\n",
       "      <td>...</td>\n",
       "      <td>...</td>\n",
       "      <td>...</td>\n",
       "    </tr>\n",
       "    <tr>\n",
       "      <th>49995</th>\n",
       "      <td>I thought this movie did a down right good job...</td>\n",
       "      <td>positive</td>\n",
       "      <td>I thought movie did right good job. It wasn't ...</td>\n",
       "      <td>1</td>\n",
       "    </tr>\n",
       "    <tr>\n",
       "      <th>49996</th>\n",
       "      <td>Bad plot, bad dialogue, bad acting, idiotic di...</td>\n",
       "      <td>negative</td>\n",
       "      <td>Bad plot, bad dialogue, bad acting, idiotic di...</td>\n",
       "      <td>0</td>\n",
       "    </tr>\n",
       "    <tr>\n",
       "      <th>49997</th>\n",
       "      <td>I am a Catholic taught in parochial elementary...</td>\n",
       "      <td>negative</td>\n",
       "      <td>I Catholic taught parochial elementary schools...</td>\n",
       "      <td>0</td>\n",
       "    </tr>\n",
       "    <tr>\n",
       "      <th>49998</th>\n",
       "      <td>I'm going to have to disagree with the previou...</td>\n",
       "      <td>negative</td>\n",
       "      <td>I'm going disagree previous comment Maltin one...</td>\n",
       "      <td>0</td>\n",
       "    </tr>\n",
       "    <tr>\n",
       "      <th>49999</th>\n",
       "      <td>No one expects the Star Trek movies to be high...</td>\n",
       "      <td>negative</td>\n",
       "      <td>No expects Star Trek movies high art, fans exp...</td>\n",
       "      <td>0</td>\n",
       "    </tr>\n",
       "  </tbody>\n",
       "</table>\n",
       "<p>50000 rows × 4 columns</p>\n",
       "</div>"
      ],
      "text/plain": [
       "                                                  review sentiment  \\\n",
       "0      One of the other reviewers has mentioned that ...  positive   \n",
       "1      A wonderful little production. <br /><br />The...  positive   \n",
       "2      I thought this was a wonderful way to spend ti...  positive   \n",
       "3      Basically there's a family where a little boy ...  negative   \n",
       "4      Petter Mattei's \"Love in the Time of Money\" is...  positive   \n",
       "...                                                  ...       ...   \n",
       "49995  I thought this movie did a down right good job...  positive   \n",
       "49996  Bad plot, bad dialogue, bad acting, idiotic di...  negative   \n",
       "49997  I am a Catholic taught in parochial elementary...  negative   \n",
       "49998  I'm going to have to disagree with the previou...  negative   \n",
       "49999  No one expects the Star Trek movies to be high...  negative   \n",
       "\n",
       "                                    reviews_preprocessed  label_id  \n",
       "0      One reviewers mentioned watching just 1 Oz epi...         1  \n",
       "1      A wonderful little production. The filming tec...         1  \n",
       "2      I thought wonderful way spend time hot summer ...         1  \n",
       "3      Basically there's family little boy (Jake) thi...         0  \n",
       "4      Petter Mattei's \"Love Time Money\" visually stu...         1  \n",
       "...                                                  ...       ...  \n",
       "49995  I thought movie did right good job. It wasn't ...         1  \n",
       "49996  Bad plot, bad dialogue, bad acting, idiotic di...         0  \n",
       "49997  I Catholic taught parochial elementary schools...         0  \n",
       "49998  I'm going disagree previous comment Maltin one...         0  \n",
       "49999  No expects Star Trek movies high art, fans exp...         0  \n",
       "\n",
       "[50000 rows x 4 columns]"
      ]
     },
     "execution_count": 44,
     "metadata": {},
     "output_type": "execute_result"
    }
   ],
   "source": [
    "movie_reviews"
   ]
  },
  {
   "cell_type": "code",
   "execution_count": 6,
   "metadata": {},
   "outputs": [],
   "source": [
    "tfidf = load('../../tutorials/ImdbDataset/tfidf.lib')"
   ]
  },
  {
   "cell_type": "code",
   "execution_count": 222,
   "metadata": {},
   "outputs": [],
   "source": [
    "neighbors = NearestNeighbors(n_neighbors=5, n_jobs=-1).fit(tfidf)        "
   ]
  },
  {
   "cell_type": "code",
   "execution_count": 223,
   "metadata": {},
   "outputs": [],
   "source": [
    "distances, indices = neighbors.kneighbors(tfidf)"
   ]
  },
  {
   "cell_type": "code",
   "execution_count": 224,
   "metadata": {},
   "outputs": [
    {
     "data": {
      "text/plain": [
       "array([[0.        , 1.12913239, 1.14412834, 1.15702102, 1.16699781],\n",
       "       [0.        , 1.32093838, 1.33250982, 1.3380306 , 1.33981033],\n",
       "       [0.        , 1.19229358, 1.22969181, 1.23894052, 1.25502857],\n",
       "       ...,\n",
       "       [0.        , 1.19657199, 1.23502444, 1.25436794, 1.28945385],\n",
       "       [0.        , 1.2606487 , 1.28046746, 1.28632515, 1.29973308],\n",
       "       [0.        , 1.17322008, 1.2050353 , 1.20907236, 1.22807817]])"
      ]
     },
     "execution_count": 224,
     "metadata": {},
     "output_type": "execute_result"
    }
   ],
   "source": [
    "distances"
   ]
  },
  {
   "cell_type": "code",
   "execution_count": 225,
   "metadata": {},
   "outputs": [
    {
     "data": {
      "text/plain": [
       "array([[    0, 33546, 34461, 25999, 42867],\n",
       "       [    1, 16764, 24062, 33664, 34279],\n",
       "       [    2, 30202,   647, 28846, 48161],\n",
       "       ...,\n",
       "       [49997, 49844,  5356, 11953, 34663],\n",
       "       [49998, 17635, 31421,    76, 27825],\n",
       "       [49999, 41329, 11565,  6385, 49300]])"
      ]
     },
     "execution_count": 225,
     "metadata": {},
     "output_type": "execute_result"
    }
   ],
   "source": [
    "indices"
   ]
  },
  {
   "cell_type": "markdown",
   "metadata": {},
   "source": [
    "## Look at neighbors\n",
    "\n",
    "Here we can see some examples of similar texts which knn find with tfidf values"
   ]
  },
  {
   "cell_type": "code",
   "execution_count": 226,
   "metadata": {
    "scrolled": true
   },
   "outputs": [
    {
     "name": "stdout",
     "output_type": "stream",
     "text": [
      "===\n",
      "Sentiment: positive\n",
      "I thought wonderful way spend time hot summer weekend, sitting air conditioned theater watching light-hearted comedy. The plot simplistic, dialogue witty characters likable (even bread suspected serial killer). While disappointed realize Match Point 2: Risk Addiction, I thought proof Woody Allen fully control style grown love.This I'd laughed Woody's comedies years (dare I say decade?). While I've impressed Scarlet Johanson, managed tone \"sexy\" image jumped right average, spirited young woman.This crown jewel career, wittier \"Devil Wears Prada\" interesting \"Superman\" great comedy friends.\n",
      "===\n",
      "Sentiment: positive\n",
      "Great Woody Allen? No. Good Woody Allen? Definitely. I myself, audience attendance, laughing hard best Woody Allen lines we've heard while. The aging Allen created appropriate role Scarlett Johansson's \"father\" ... well, sort of. Some said Johansson plays \"a young Dianne Keaton.\" I beg differ. She plays Woody's dialogue, which, comedies, similar feel...like, well, Woody Allen comedy. That's fine Woody appreciators. She certainly did Woody's dialogue far better young cast comedy, Melinda/Melinda. Some Woody's humor tiresome, love it's right, look forward next.\n",
      "===\n",
      "Sentiment: positive\n",
      "I huge Woody Allen fan I saw playing cinema I couldn't help myself. I wanted Allen follow magnificent film Match Point seeing films shot G.B. (which unique Allen's work) new muse Scarlett Johanson. Scoop lighter MP humor Scoop's enjoyable aspect. The plot revolves Johanson's character (a journalism student) gets tip hot story grave. She falls love suspected serial killer (Jackman) decide truth worth finding. Oh help bumbling magician turned detective played Allen.I say I thoroughly enjoyed Johanson's performance I bit bias, I watch hour film Johanson frame remain enchanted. She plays ditsy, yappy, bumbling sweetheart kind variation sense Allen's stereotypical neurosis stricken character. She adds appropriate body language comic effect. Needless say sees Johanson's character sickeningly cute plus.Allen Allen... He playing character like Chaplin Little Tramp character. Something occur film makes wonder I neurotic little hypochondriac however. He cast picture spending time exclusively camera late...Jackman enjoyable suave, millionaire murder suspect. I say Jackman does particular make role suits character less.In terms plot I help feel fresh... In fact stinks Curse Jade Scorpion. Johanson Allen detective-like anything. However I applaud Allen ending bit clever typical unoutstanding Hollywood version film. Instead black white, things painted shades gray. Being entirely innocent does unequivocal guilt. Though plot old Woody knack liners. I did allusions film interesting... Come humor, laugh merry.Needless say enjoy Allen's work watch it. If watch else...\n",
      "===\n",
      "Sentiment: positive\n",
      "I lucky free pass advance screening 'Scoop' night. Full house theatre movie ended spontaneous applause. I didn't speak disliked 'Scoop' teenagers sitting sighed fidgeted uncomfortably film. They exception including really enjoyed themselves.'Scoop' quickly paced murder mystery. A young female journalism student unwittingly maneuvered forces control trying catch serial killer loose. Plenty hijinks ensue partners traveling illusionist falls love frisky charming young nobleman.'Scoop' isn't bad addition Woody Allen filmography. It isn't best work enjoyable light hearted romp. I'd say fits quite comfortably average Woody Allen film, right middle pack. If you're Woody Allen fan you'll probably enjoy yourself. If you're indifferent work 'Scoop' interested seeing more. I don't think dislikes style film-making acting going change mind. Woody plays kind neurotic character we've grown accustomed borders dangerously close forced film. While potentially aggravating wishing he'd hurry just spit words, Woody Allen fans know expect.Very good performances opinion I missing Ian McShane excellent camera nearly enough. Hugh Jackman great charming nobleman I think Woody Allen new regular star work Scarlett Johansson. I think 'Match Point' second pairing she's just magic material Woody gives her. Could beginning beautiful relationship! I'm glad I saw movie definitely recommend it. More sophisticated comedy movies like 'Scary Movie 4' brand comedy former, 'Scoop' probably isn't you. If, hand, like touch class, sophistication fun, 'Scoop' you. Probably Woody Allen film I'd introduce newcomer try.\n",
      "===\n",
      "Sentiment: negative\n",
      "Err...this movie sucked. A LOT.I reading reviews. Apparently lot people think Woody Allen writes stars automatically good...I watched films, vain hope I'm missing something. But no, just suck. Poorly written trash. The characters stereotypical (not mention stupid). The plot is...I think supposed mysterious. Not sure that. Mr. Allen's character is...Woody Allen, film seen his.If fan Woody Allen, film. If 50, don't bother. (If fan Woody Allen AND 50...well, atypical. I don't know say.)\n"
     ]
    }
   ],
   "source": [
    "for index, row in movie_reviews.loc[indices[2]].iterrows():\n",
    "    print(\"===\")\n",
    "    print(\"Sentiment: {}\".format(row.sentiment))\n",
    "    print(row.reviews_preprocessed)"
   ]
  },
  {
   "cell_type": "markdown",
   "metadata": {},
   "source": [
    "## Majority Vote\n",
    "\n",
    "- Now we see if the final decision changes before and after denoising"
   ]
  },
  {
   "cell_type": "code",
   "execution_count": 227,
   "metadata": {},
   "outputs": [],
   "source": [
    "rule_matches_z = load('../../tutorials/ImdbDataset/rule_matches.lib')\n",
    "rule_label_t = load('../../tutorials/ImdbDataset/mapping_rules_labels.lib')"
   ]
  },
  {
   "cell_type": "code",
   "execution_count": 228,
   "metadata": {},
   "outputs": [
    {
     "name": "stderr",
     "output_type": "stream",
     "text": [
      "/Users/sandro/repo/knodle/knodle/trainer/utils/denoise.py:23: RuntimeWarning: invalid value encountered in true_divide\n",
      "  rule_counts_probs = rule_counts / rule_counts.sum(axis=1).reshape(-1, 1)\n"
     ]
    }
   ],
   "source": [
    "# Majority Vote without denoising\n",
    "maj_vote = get_majority_vote_probs(rule_matches_z, rule_label_t)"
   ]
  },
  {
   "cell_type": "code",
   "execution_count": 229,
   "metadata": {},
   "outputs": [],
   "source": [
    "# Predictions without denoising\n",
    "preds_wo_denoising = np.argmax(maj_vote, axis=1)"
   ]
  },
  {
   "cell_type": "code",
   "execution_count": 230,
   "metadata": {},
   "outputs": [],
   "source": [
    "# Denoise now\n",
    "def _activate_all_neighbors( lfs: np.ndarray, indices: np.ndarray\n",
    ") -> np.ndarray:\n",
    "    \"\"\"\n",
    "    Find all closest neighbors and take the same label ids\n",
    "    Args:\n",
    "        lfs:\n",
    "        indices:\n",
    "    Returns:\n",
    "    \"\"\"\n",
    "    new_lfs_array = np.full(lfs.shape, fill_value=0)\n",
    "\n",
    "    for index, lf in tqdm(enumerate(lfs)):\n",
    "\n",
    "        try:\n",
    "            matched_lfs = np.where(lf != 0)[0]\n",
    "            if len(matched_lfs) == 0:\n",
    "                continue\n",
    "            matched_lfs = matched_lfs[:, np.newaxis]\n",
    "            neighbors = indices[index]\n",
    "            to_replace = new_lfs_array[neighbors, matched_lfs]\n",
    "            label_matched_lfs = lf[matched_lfs][:, 0]\n",
    "            tiled_labels = np.tile(\n",
    "                np.array(label_matched_lfs), (to_replace.shape[1], 1)\n",
    "            ).transpose()\n",
    "            new_lfs_array[neighbors, matched_lfs] = tiled_labels\n",
    "        except IndexError:\n",
    "            pass\n",
    "\n",
    "    return new_lfs_array\n"
   ]
  },
  {
   "cell_type": "code",
   "execution_count": 231,
   "metadata": {},
   "outputs": [
    {
     "name": "stderr",
     "output_type": "stream",
     "text": [
      "50000it [00:00, 55382.88it/s]\n"
     ]
    }
   ],
   "source": [
    "denoised_z = _activate_all_neighbors(rule_matches_z, indices)"
   ]
  },
  {
   "cell_type": "code",
   "execution_count": 232,
   "metadata": {},
   "outputs": [
    {
     "data": {
      "text/plain": [
       "array([0, 1])"
      ]
     },
     "execution_count": 232,
     "metadata": {},
     "output_type": "execute_result"
    }
   ],
   "source": [
    "np.unique(rule_matches_z)"
   ]
  },
  {
   "cell_type": "code",
   "execution_count": 233,
   "metadata": {},
   "outputs": [
    {
     "data": {
      "text/plain": [
       "array([0, 1])"
      ]
     },
     "execution_count": 233,
     "metadata": {},
     "output_type": "execute_result"
    }
   ],
   "source": [
    "np.unique(denoised_z)"
   ]
  },
  {
   "cell_type": "code",
   "execution_count": 234,
   "metadata": {},
   "outputs": [],
   "source": [
    "maj_vote_denoised = get_majority_vote_probs(denoised_z, rule_label_t)"
   ]
  },
  {
   "cell_type": "code",
   "execution_count": 235,
   "metadata": {},
   "outputs": [],
   "source": [
    "preds_with_denoising = np.argmax(maj_vote_denoised, axis=1)"
   ]
  },
  {
   "cell_type": "code",
   "execution_count": 236,
   "metadata": {},
   "outputs": [
    {
     "data": {
      "text/plain": [
       "False"
      ]
     },
     "execution_count": 236,
     "metadata": {},
     "output_type": "execute_result"
    }
   ],
   "source": [
    "# Check if final predictions have changed with denoising\n",
    "np.all(preds_with_denoising == preds_wo_denoising)"
   ]
  },
  {
   "cell_type": "code",
   "execution_count": 237,
   "metadata": {},
   "outputs": [
    {
     "data": {
      "text/plain": [
       "188181"
      ]
     },
     "execution_count": 237,
     "metadata": {},
     "output_type": "execute_result"
    }
   ],
   "source": [
    "rule_matches_z.sum()"
   ]
  },
  {
   "cell_type": "code",
   "execution_count": 238,
   "metadata": {},
   "outputs": [
    {
     "data": {
      "text/plain": [
       "463272"
      ]
     },
     "execution_count": 238,
     "metadata": {},
     "output_type": "execute_result"
    }
   ],
   "source": [
    "denoised_z.sum()"
   ]
  },
  {
   "cell_type": "markdown",
   "metadata": {},
   "source": [
    "If this is true it means the results are all the same before and after denoising."
   ]
  },
  {
   "cell_type": "markdown",
   "metadata": {},
   "source": [
    "## Different sentiments per neighbor"
   ]
  },
  {
   "cell_type": "code",
   "execution_count": 247,
   "metadata": {},
   "outputs": [
    {
     "data": {
      "text/html": [
       "<div>\n",
       "<style scoped>\n",
       "    .dataframe tbody tr th:only-of-type {\n",
       "        vertical-align: middle;\n",
       "    }\n",
       "\n",
       "    .dataframe tbody tr th {\n",
       "        vertical-align: top;\n",
       "    }\n",
       "\n",
       "    .dataframe thead th {\n",
       "        text-align: right;\n",
       "    }\n",
       "</style>\n",
       "<table border=\"1\" class=\"dataframe\">\n",
       "  <thead>\n",
       "    <tr style=\"text-align: right;\">\n",
       "      <th></th>\n",
       "      <th>neighbor_0</th>\n",
       "      <th>neighbor_1</th>\n",
       "      <th>neighbor_2</th>\n",
       "      <th>neighbor_3</th>\n",
       "      <th>neighbor_4</th>\n",
       "    </tr>\n",
       "  </thead>\n",
       "  <tbody>\n",
       "    <tr>\n",
       "      <th>0</th>\n",
       "      <td>0</td>\n",
       "      <td>33546</td>\n",
       "      <td>34461</td>\n",
       "      <td>25999</td>\n",
       "      <td>42867</td>\n",
       "    </tr>\n",
       "    <tr>\n",
       "      <th>1</th>\n",
       "      <td>1</td>\n",
       "      <td>16764</td>\n",
       "      <td>24062</td>\n",
       "      <td>33664</td>\n",
       "      <td>34279</td>\n",
       "    </tr>\n",
       "    <tr>\n",
       "      <th>2</th>\n",
       "      <td>2</td>\n",
       "      <td>30202</td>\n",
       "      <td>647</td>\n",
       "      <td>28846</td>\n",
       "      <td>48161</td>\n",
       "    </tr>\n",
       "    <tr>\n",
       "      <th>3</th>\n",
       "      <td>3</td>\n",
       "      <td>39638</td>\n",
       "      <td>7400</td>\n",
       "      <td>31299</td>\n",
       "      <td>4635</td>\n",
       "    </tr>\n",
       "    <tr>\n",
       "      <th>4</th>\n",
       "      <td>4</td>\n",
       "      <td>700</td>\n",
       "      <td>41941</td>\n",
       "      <td>4602</td>\n",
       "      <td>2028</td>\n",
       "    </tr>\n",
       "  </tbody>\n",
       "</table>\n",
       "</div>"
      ],
      "text/plain": [
       "   neighbor_0  neighbor_1  neighbor_2  neighbor_3  neighbor_4\n",
       "0           0       33546       34461       25999       42867\n",
       "1           1       16764       24062       33664       34279\n",
       "2           2       30202         647       28846       48161\n",
       "3           3       39638        7400       31299        4635\n",
       "4           4         700       41941        4602        2028"
      ]
     },
     "execution_count": 247,
     "metadata": {},
     "output_type": "execute_result"
    }
   ],
   "source": [
    "df = pd.DataFrame(indices)\n",
    "column_names = [\"neighbor_{}\".format(i) for i in range(0,len(df.columns),1)]\n",
    "df.columns=column_names\n",
    "df.head()"
   ]
  },
  {
   "cell_type": "code",
   "execution_count": 248,
   "metadata": {},
   "outputs": [],
   "source": [
    "df = df.assign(sentiment1 = df['neighbor_0'].apply(lambda x:movie_reviews.loc[x, 'sentiment']))"
   ]
  },
  {
   "cell_type": "code",
   "execution_count": 249,
   "metadata": {},
   "outputs": [],
   "source": [
    "df = df.assign(sentiment2 = df['neighbor_1'].apply(lambda x:movie_reviews.loc[x, 'sentiment']))"
   ]
  },
  {
   "cell_type": "code",
   "execution_count": 250,
   "metadata": {},
   "outputs": [],
   "source": [
    "df = df.assign(sameSentiments= df.sentiment1 == df.sentiment2)"
   ]
  },
  {
   "cell_type": "code",
   "execution_count": 251,
   "metadata": {},
   "outputs": [
    {
     "data": {
      "text/plain": [
       "True     38187\n",
       "False    11813\n",
       "Name: sameSentiments, dtype: int64"
      ]
     },
     "execution_count": 251,
     "metadata": {},
     "output_type": "execute_result"
    }
   ],
   "source": [
    "df.sameSentiments.value_counts()"
   ]
  },
  {
   "cell_type": "code",
   "execution_count": 252,
   "metadata": {
    "scrolled": true
   },
   "outputs": [
    {
     "data": {
      "text/plain": [
       "\"Basically there's a family where a little boy (Jake) thinks there's a zombie in his closet & his parents are fighting all the time.<br /><br />This movie is slower than a soap opera... and suddenly, Jake decides to become Rambo and kill the zombie.<br /><br />OK, first of all when you're going to make a film you must Decide if its a thriller or a drama! As a drama the movie is watchable. Parents are divorcing & arguing like in real life. And then we have Jake with his closet which totally ruins all the film! I expected to see a BOOGEYMAN similar movie, and instead i watched a drama with some meaningless thriller spots.<br /><br />3 out of 10 just for the well playing parents & descent dialogs. As for the shots with Jake: just ignore them.\""
      ]
     },
     "execution_count": 252,
     "metadata": {},
     "output_type": "execute_result"
    }
   ],
   "source": [
    "movie_reviews.loc[df.loc[df.sameSentiments == False].iloc[0]['neighbor_0'], 'review']"
   ]
  },
  {
   "cell_type": "code",
   "execution_count": 253,
   "metadata": {
    "scrolled": true
   },
   "outputs": [
    {
     "data": {
      "text/plain": [
       "'\"Jake Speed\" is a fine movie with a wonderful message. It has its flaws of course. At times it\\'s a little slow. It introduces its villain too far into the story. It\\'s action is paced at the rate of a snail\\'s heartbeat. It has a Z-grade cast (Although I\\'ve always admired the work of Karen Kopins, who has the straight-laced good looks of Sandra Bullock).<br /><br />But with all this going against it, \"Jake Speed\" really is inspiring, thanks to a charming script by Wayne Crawford(who plays the title role) and Andrew Lane.<br /><br />Why do I find it so inspiring? Because it says to me \"Hey, why not try to be a good person.\"<br /><br />The story is essentially a \"stranger in a strange land\" premise, that is good-and-heroic Jake Speed is placed in the real world where bad things happen to good people. Jake is more than a Boy Scout. He\\'s more than a knight in shining armor. Jake Speed is the patron saint of optimism in a dirty, mean and evil world.<br /><br />It\\'s because of this that \"Jake Speed\" really needed to be a hit. It has a great message that should have gotten out to Hollywood and then to the rest of the world.<br /><br />Imagine a movie industry that really pushed itself to portray good and decent people. I\\'m not saying that we should be watching the Waltons in every theater at the cineplex, but that it would be nice if more movies such as \"Jake Speed\" would get a chance. (\"Due South,\" a TV show about a Canadian Mountie, is a good comparison of what can be done to brighten up American entertainment.)<br /><br />Sure, \"Jake Speed\" has violence, blood and guns, but the overall message is that if you try hard enough to be a good person, you\\'ll beat the forces of evil every time. 10/14/99'"
      ]
     },
     "execution_count": 253,
     "metadata": {},
     "output_type": "execute_result"
    }
   ],
   "source": [
    "movie_reviews.loc[df.loc[df.sameSentiments == False].iloc[0]['neighbor_1'], 'review']"
   ]
  },
  {
   "cell_type": "code",
   "execution_count": 254,
   "metadata": {
    "scrolled": true
   },
   "outputs": [
    {
     "data": {
      "text/plain": [
       "'Petter Mattei\\'s \"Love in the Time of Money\" is a visually stunning film to watch. Mr. Mattei offers us a vivid portrait about human relations. This is a movie that seems to be telling us what money, power and success do to people in the different situations we encounter. <br /><br />This being a variation on the Arthur Schnitzler\\'s play about the same theme, the director transfers the action to the present time New York where all these different characters meet and connect. Each one is connected in one way, or another to the next person, but no one seems to know the previous point of contact. Stylishly, the film has a sophisticated luxurious look. We are taken to see how these people live and the world they live in their own habitat.<br /><br />The only thing one gets out of all these souls in the picture is the different stages of loneliness each one inhabits. A big city is not exactly the best place in which human relations find sincere fulfillment, as one discerns is the case with most of the people we encounter.<br /><br />The acting is good under Mr. Mattei\\'s direction. Steve Buscemi, Rosario Dawson, Carol Kane, Michael Imperioli, Adrian Grenier, and the rest of the talented cast, make these characters come alive.<br /><br />We wish Mr. Mattei good luck and await anxiously for his next work.'"
      ]
     },
     "execution_count": 254,
     "metadata": {},
     "output_type": "execute_result"
    }
   ],
   "source": [
    "movie_reviews.loc[df.loc[df.sameSentiments == False].iloc[1]['neighbor_0'], 'review']"
   ]
  },
  {
   "cell_type": "code",
   "execution_count": 255,
   "metadata": {
    "scrolled": true
   },
   "outputs": [
    {
     "data": {
      "text/plain": [
       "\"Unfortunately the only spoiler in this review is that there's nothing to spoil about that movie.Even if B. Mattei had never done any master piece he use to do his job with a bit of humor and craziness that made him a fun Eurotrash director. But for the last 10 years he seemed to have lost it.This film is just empty, nothing at all to wake us up from the deep sleep you sink into after the first 10 min.No sex, no blood(it's suppose to be about snuff?),no actors, no dialogs, just as bad as an 90'T.V film.It's even worse than his last cannibals and zombies epics.So Rest in peace Bruno, you will stay in our minds forever anyway, thanks to such unforgettable gems as:Zombi 3, Robowar,Rats, l'altro inferno,Virus, Cruel jaws and few others.So except if you want to see B Mattei possessed by jess Franco's spirit's new film, pass on this one.But if you don't know this nice artisan's career track down his old films and have fun.\""
      ]
     },
     "execution_count": 255,
     "metadata": {},
     "output_type": "execute_result"
    }
   ],
   "source": [
    "movie_reviews.loc[df.loc[df.sameSentiments == False].iloc[1]['neighbor_1'], 'review']"
   ]
  }
 ],
 "metadata": {
  "kernelspec": {
   "display_name": "Python 3",
   "language": "python",
   "name": "python3"
  },
  "language_info": {
   "codemirror_mode": {
    "name": "ipython",
    "version": 3
   },
   "file_extension": ".py",
   "mimetype": "text/x-python",
   "name": "python",
   "nbconvert_exporter": "python",
   "pygments_lexer": "ipython3",
   "version": "3.7.1"
  }
 },
 "nbformat": 4,
 "nbformat_minor": 4
}
