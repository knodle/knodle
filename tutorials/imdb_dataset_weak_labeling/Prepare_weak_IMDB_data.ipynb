{
 "cells": [
  {
   "cell_type": "markdown",
   "metadata": {},
   "source": [
    "# IMDB Dataset - Create Weak Supervision Sources\n",
    "\n",
    "This notebook shows how to create labeling functions on the IMDB Movie Review dataset and apply them on text data.\n",
    "\n",
    "The original dataset has gold labels, but we will use these labels only for evaluation purposes, since we want to test models under the weak supervision setting with Knodle. The idea behind it is that you don't have a dataset which is purely labeled with strong supervision (manual) and instead use heuristics (e.g. rules) to obtain a weak labeling. In the following tutorial, we will look for certain keywords in texts that can be helpful to distinguish between classes.\n",
    "\n",
    "First, we load the dataset from a Knodle dataset collection. Then, we will create labeling functions from simple keywords and apply them to the IMDB reviews. Each labeling function will be associated with a target label (positive or negative). To estimate how good our weak labeling works on its own, we will use the resulting keyword matches together with a basic majority vote model. Finally, the preprocessed data will be saved in a knodle-friendly format, so that other denoising models can be trained with the IMDB dataset."
   ]
  },
  {
   "cell_type": "markdown",
   "metadata": {},
   "source": [
    "The IMDB dataset available in the Knodle collection was downloaded from [Kaggle](https://www.kaggle.com/lakshmi25npathi/imdb-dataset-of-50k-movie-reviews) in January 2021. "
   ]
  },
  {
   "cell_type": "markdown",
   "metadata": {},
   "source": [
    "## Imports\n",
    "\n",
    "Lets make some basic imports "
   ]
  },
  {
   "cell_type": "code",
   "execution_count": 1,
   "metadata": {
    "ExecuteTime": {
     "end_time": "2021-03-25T20:36:22.272987Z",
     "start_time": "2021-03-25T20:36:20.365076Z"
    }
   },
   "outputs": [],
   "source": [
    "import os\n",
    "from tqdm import tqdm\n",
    "from typing import List\n",
    "\n",
    "import pandas as pd \n",
    "import numpy as np \n",
    "\n",
    "from bs4 import BeautifulSoup\n",
    "from sklearn.feature_extraction.text import ENGLISH_STOP_WORDS, CountVectorizer\n",
    "from snorkel.labeling import LabelingFunction, PandasLFApplier, filter_unlabeled_dataframe, LFAnalysis\n",
    "from snorkel.labeling.model import MajorityLabelVoter, LabelModel\n",
    "\n",
    "# client to access the dataset collection\n",
    "from minio import Minio\n",
    "client = Minio(\"knodle.dm.univie.ac.at\", secure=False)"
   ]
  },
  {
   "cell_type": "code",
   "execution_count": 2,
   "metadata": {
    "ExecuteTime": {
     "end_time": "2021-03-25T20:36:22.279844Z",
     "start_time": "2021-03-25T20:36:22.275259Z"
    }
   },
   "outputs": [
    {
     "name": "stderr",
     "output_type": "stream",
     "text": [
      "/mounts/Users/student/speranskaya/.local/lib/python3.8/site-packages/tqdm/std.py:699: FutureWarning: The Panel class is removed from pandas. Accessing it from the top-level namespace will also be removed in the next version\n",
      "  from pandas import Panel\n",
      "<ipython-input-2-b8e999b6de0d>:3: FutureWarning: Passing a negative integer is deprecated in version 1.0 and will not be supported in future version. Instead, use None to not limit the column width.\n",
      "  pd.set_option('display.max_colwidth', -1)\n"
     ]
    }
   ],
   "source": [
    "# Init\n",
    "tqdm.pandas()\n",
    "pd.set_option('display.max_colwidth', -1)"
   ]
  },
  {
   "cell_type": "code",
   "execution_count": 3,
   "metadata": {
    "ExecuteTime": {
     "end_time": "2021-03-25T20:36:22.284409Z",
     "start_time": "2021-03-25T20:36:22.282174Z"
    }
   },
   "outputs": [],
   "source": [
    "# Constants for Snorkel labeling functions\n",
    "POSITIVE = 1\n",
    "NEGATIVE = 0\n",
    "ABSTAIN = -1\n",
    "COLUMN_WITH_TEXT = \"reviews_preprocessed\""
   ]
  },
  {
   "cell_type": "markdown",
   "metadata": {},
   "source": [
    "## Download the dataset"
   ]
  },
  {
   "cell_type": "code",
   "execution_count": 4,
   "metadata": {
    "ExecuteTime": {
     "end_time": "2021-03-25T20:36:22.288888Z",
     "start_time": "2021-03-25T20:36:22.286685Z"
    }
   },
   "outputs": [],
   "source": [
    "# define the path to the folder where the data will be stored\n",
    "data_path = \"../../../data_from_minio/imdb\""
   ]
  },
  {
   "cell_type": "markdown",
   "metadata": {},
   "source": [
    "Together with the IMDB data, let us also collect the keywords that we will need later."
   ]
  },
  {
   "cell_type": "code",
   "execution_count": 5,
   "metadata": {
    "ExecuteTime": {
     "end_time": "2021-03-25T20:36:23.371638Z",
     "start_time": "2021-03-25T20:36:22.290849Z"
    }
   },
   "outputs": [
    {
     "name": "stderr",
     "output_type": "stream",
     "text": [
      "100%|██████████| 3/3 [00:01<00:00,  2.80it/s]\n"
     ]
    }
   ],
   "source": [
    "files = [(\"IMDB Dataset.csv\",), (\"keywords\", \"negative-words.txt\"), (\"keywords\", \"positive-words.txt\")]\n",
    "\n",
    "for file in tqdm(files):\n",
    "    client.fget_object(\n",
    "        bucket_name=\"knodle\",\n",
    "        object_name=os.path.join(\"datasets/imdb\", *file),\n",
    "        file_path=os.path.join(data_path, file[-1]),\n",
    "    )"
   ]
  },
  {
   "cell_type": "markdown",
   "metadata": {},
   "source": [
    "## Preview dataset\n",
    "\n",
    "After downloading and unpacking the dataset we can have a first look at it and work with it."
   ]
  },
  {
   "cell_type": "code",
   "execution_count": 6,
   "metadata": {
    "ExecuteTime": {
     "end_time": "2021-03-25T20:36:24.016131Z",
     "start_time": "2021-03-25T20:36:23.374527Z"
    }
   },
   "outputs": [],
   "source": [
    "imdb_dataset_raw = pd.read_csv(os.path.join(data_path, \"IMDB Dataset.csv\"))"
   ]
  },
  {
   "cell_type": "code",
   "execution_count": 7,
   "metadata": {
    "ExecuteTime": {
     "end_time": "2021-03-25T20:36:24.032384Z",
     "start_time": "2021-03-25T20:36:24.018019Z"
    }
   },
   "outputs": [
    {
     "data": {
      "text/html": [
       "<div>\n",
       "<style scoped>\n",
       "    .dataframe tbody tr th:only-of-type {\n",
       "        vertical-align: middle;\n",
       "    }\n",
       "\n",
       "    .dataframe tbody tr th {\n",
       "        vertical-align: top;\n",
       "    }\n",
       "\n",
       "    .dataframe thead th {\n",
       "        text-align: right;\n",
       "    }\n",
       "</style>\n",
       "<table border=\"1\" class=\"dataframe\">\n",
       "  <thead>\n",
       "    <tr style=\"text-align: right;\">\n",
       "      <th></th>\n",
       "      <th>review</th>\n",
       "      <th>sentiment</th>\n",
       "    </tr>\n",
       "  </thead>\n",
       "  <tbody>\n",
       "    <tr>\n",
       "      <th>0</th>\n",
       "      <td>One of the other reviewers has mentioned that after watching just 1 Oz episode you'll be hooked. They are right, as this is exactly what happened with me.&lt;br /&gt;&lt;br /&gt;The first thing that struck me about Oz was its brutality and unflinching scenes of violence, which set in right from the word GO. Trust me, this is not a show for the faint hearted or timid. This show pulls no punches with regards to drugs, sex or violence. Its is hardcore, in the classic use of the word.&lt;br /&gt;&lt;br /&gt;It is called OZ as that is the nickname given to the Oswald Maximum Security State Penitentary. It focuses mainly on Emerald City, an experimental section of the prison where all the cells have glass fronts and face inwards, so privacy is not high on the agenda. Em City is home to many..Aryans, Muslims, gangstas, Latinos, Christians, Italians, Irish and more....so scuffles, death stares, dodgy dealings and shady agreements are never far away.&lt;br /&gt;&lt;br /&gt;I would say the main appeal of the show is due to the fact that it goes where other shows wouldn't dare. Forget pretty pictures painted for mainstream audiences, forget charm, forget romance...OZ doesn't mess around. The first episode I ever saw struck me as so nasty it was surreal, I couldn't say I was ready for it, but as I watched more, I developed a taste for Oz, and got accustomed to the high levels of graphic violence. Not just violence, but injustice (crooked guards who'll be sold out for a nickel, inmates who'll kill on order and get away with it, well mannered, middle class inmates being turned into prison bitches due to their lack of street skills or prison experience) Watching Oz, you may become comfortable with what is uncomfortable viewing....thats if you can get in touch with your darker side.</td>\n",
       "      <td>positive</td>\n",
       "    </tr>\n",
       "  </tbody>\n",
       "</table>\n",
       "</div>"
      ],
      "text/plain": [
       "                                                                                                                                                                                                                                                                                                                                                                                                                                                                                                                                                                                                                                                                                                                                                                                                                                                                                                                                                                                                                                                                                                                                                                                                                                                                                                                                                                                                                                                                                                                                                                                                                                                                                                                                                                                                                              review  \\\n",
       "0  One of the other reviewers has mentioned that after watching just 1 Oz episode you'll be hooked. They are right, as this is exactly what happened with me.<br /><br />The first thing that struck me about Oz was its brutality and unflinching scenes of violence, which set in right from the word GO. Trust me, this is not a show for the faint hearted or timid. This show pulls no punches with regards to drugs, sex or violence. Its is hardcore, in the classic use of the word.<br /><br />It is called OZ as that is the nickname given to the Oswald Maximum Security State Penitentary. It focuses mainly on Emerald City, an experimental section of the prison where all the cells have glass fronts and face inwards, so privacy is not high on the agenda. Em City is home to many..Aryans, Muslims, gangstas, Latinos, Christians, Italians, Irish and more....so scuffles, death stares, dodgy dealings and shady agreements are never far away.<br /><br />I would say the main appeal of the show is due to the fact that it goes where other shows wouldn't dare. Forget pretty pictures painted for mainstream audiences, forget charm, forget romance...OZ doesn't mess around. The first episode I ever saw struck me as so nasty it was surreal, I couldn't say I was ready for it, but as I watched more, I developed a taste for Oz, and got accustomed to the high levels of graphic violence. Not just violence, but injustice (crooked guards who'll be sold out for a nickel, inmates who'll kill on order and get away with it, well mannered, middle class inmates being turned into prison bitches due to their lack of street skills or prison experience) Watching Oz, you may become comfortable with what is uncomfortable viewing....thats if you can get in touch with your darker side.   \n",
       "\n",
       "  sentiment  \n",
       "0  positive  "
      ]
     },
     "execution_count": 7,
     "metadata": {},
     "output_type": "execute_result"
    }
   ],
   "source": [
    "imdb_dataset_raw.head(1)"
   ]
  },
  {
   "cell_type": "code",
   "execution_count": 8,
   "metadata": {
    "ExecuteTime": {
     "end_time": "2021-03-25T20:36:24.049057Z",
     "start_time": "2021-03-25T20:36:24.034207Z"
    }
   },
   "outputs": [
    {
     "data": {
      "text/html": [
       "<div>\n",
       "<style scoped>\n",
       "    .dataframe tbody tr th:only-of-type {\n",
       "        vertical-align: middle;\n",
       "    }\n",
       "\n",
       "    .dataframe tbody tr th {\n",
       "        vertical-align: top;\n",
       "    }\n",
       "\n",
       "    .dataframe thead th {\n",
       "        text-align: right;\n",
       "    }\n",
       "</style>\n",
       "<table border=\"1\" class=\"dataframe\">\n",
       "  <thead>\n",
       "    <tr style=\"text-align: right;\">\n",
       "      <th></th>\n",
       "      <th>review</th>\n",
       "    </tr>\n",
       "    <tr>\n",
       "      <th>sentiment</th>\n",
       "      <th></th>\n",
       "    </tr>\n",
       "  </thead>\n",
       "  <tbody>\n",
       "    <tr>\n",
       "      <th>negative</th>\n",
       "      <td>25000</td>\n",
       "    </tr>\n",
       "    <tr>\n",
       "      <th>positive</th>\n",
       "      <td>25000</td>\n",
       "    </tr>\n",
       "  </tbody>\n",
       "</table>\n",
       "</div>"
      ],
      "text/plain": [
       "           review\n",
       "sentiment        \n",
       "negative   25000 \n",
       "positive   25000 "
      ]
     },
     "execution_count": 8,
     "metadata": {},
     "output_type": "execute_result"
    }
   ],
   "source": [
    "imdb_dataset_raw.groupby('sentiment').count()\n"
   ]
  },
  {
   "cell_type": "code",
   "execution_count": 9,
   "metadata": {
    "ExecuteTime": {
     "end_time": "2021-03-25T20:36:24.061351Z",
     "start_time": "2021-03-25T20:36:24.051971Z"
    }
   },
   "outputs": [
    {
     "data": {
      "text/plain": [
       "review       0\n",
       "sentiment    0\n",
       "dtype: int64"
      ]
     },
     "execution_count": 9,
     "metadata": {},
     "output_type": "execute_result"
    }
   ],
   "source": [
    "imdb_dataset_raw.isna().sum()"
   ]
  },
  {
   "cell_type": "markdown",
   "metadata": {},
   "source": [
    "## Preprocess dataset\n",
    "\n",
    "Now lets take some basic preprocessing steps"
   ]
  },
  {
   "cell_type": "markdown",
   "metadata": {},
   "source": [
    "### Remove Stopwords\n",
    "\n",
    "We begin by removing all common stop words. We use `scikit-learn`'s stopwords that we don't install to many packages."
   ]
  },
  {
   "cell_type": "code",
   "execution_count": 10,
   "metadata": {
    "ExecuteTime": {
     "end_time": "2021-03-25T20:36:25.661901Z",
     "start_time": "2021-03-25T20:36:24.063930Z"
    }
   },
   "outputs": [],
   "source": [
    "imdb_dataset_raw[COLUMN_WITH_TEXT] = imdb_dataset_raw['review'].apply(\n",
    "    lambda x: ' '.join([word for word in x.split() if word not in (ENGLISH_STOP_WORDS)]))"
   ]
  },
  {
   "cell_type": "code",
   "execution_count": 11,
   "metadata": {
    "ExecuteTime": {
     "end_time": "2021-03-25T20:36:25.671797Z",
     "start_time": "2021-03-25T20:36:25.663657Z"
    }
   },
   "outputs": [
    {
     "data": {
      "text/html": [
       "<div>\n",
       "<style scoped>\n",
       "    .dataframe tbody tr th:only-of-type {\n",
       "        vertical-align: middle;\n",
       "    }\n",
       "\n",
       "    .dataframe tbody tr th {\n",
       "        vertical-align: top;\n",
       "    }\n",
       "\n",
       "    .dataframe thead th {\n",
       "        text-align: right;\n",
       "    }\n",
       "</style>\n",
       "<table border=\"1\" class=\"dataframe\">\n",
       "  <thead>\n",
       "    <tr style=\"text-align: right;\">\n",
       "      <th></th>\n",
       "      <th>review</th>\n",
       "      <th>sentiment</th>\n",
       "      <th>reviews_preprocessed</th>\n",
       "    </tr>\n",
       "  </thead>\n",
       "  <tbody>\n",
       "    <tr>\n",
       "      <th>0</th>\n",
       "      <td>One of the other reviewers has mentioned that after watching just 1 Oz episode you'll be hooked. They are right, as this is exactly what happened with me.&lt;br /&gt;&lt;br /&gt;The first thing that struck me about Oz was its brutality and unflinching scenes of violence, which set in right from the word GO. Trust me, this is not a show for the faint hearted or timid. This show pulls no punches with regards to drugs, sex or violence. Its is hardcore, in the classic use of the word.&lt;br /&gt;&lt;br /&gt;It is called OZ as that is the nickname given to the Oswald Maximum Security State Penitentary. It focuses mainly on Emerald City, an experimental section of the prison where all the cells have glass fronts and face inwards, so privacy is not high on the agenda. Em City is home to many..Aryans, Muslims, gangstas, Latinos, Christians, Italians, Irish and more....so scuffles, death stares, dodgy dealings and shady agreements are never far away.&lt;br /&gt;&lt;br /&gt;I would say the main appeal of the show is due to the fact that it goes where other shows wouldn't dare. Forget pretty pictures painted for mainstream audiences, forget charm, forget romance...OZ doesn't mess around. The first episode I ever saw struck me as so nasty it was surreal, I couldn't say I was ready for it, but as I watched more, I developed a taste for Oz, and got accustomed to the high levels of graphic violence. Not just violence, but injustice (crooked guards who'll be sold out for a nickel, inmates who'll kill on order and get away with it, well mannered, middle class inmates being turned into prison bitches due to their lack of street skills or prison experience) Watching Oz, you may become comfortable with what is uncomfortable viewing....thats if you can get in touch with your darker side.</td>\n",
       "      <td>positive</td>\n",
       "      <td>One reviewers mentioned watching just 1 Oz episode you'll hooked. They right, exactly happened me.&lt;br /&gt;&lt;br /&gt;The thing struck Oz brutality unflinching scenes violence, set right word GO. Trust me, faint hearted timid. This pulls punches regards drugs, sex violence. Its hardcore, classic use word.&lt;br /&gt;&lt;br /&gt;It called OZ nickname given Oswald Maximum Security State Penitentary. It focuses mainly Emerald City, experimental section prison cells glass fronts face inwards, privacy high agenda. Em City home many..Aryans, Muslims, gangstas, Latinos, Christians, Italians, Irish more....so scuffles, death stares, dodgy dealings shady agreements far away.&lt;br /&gt;&lt;br /&gt;I say main appeal fact goes shows wouldn't dare. Forget pretty pictures painted mainstream audiences, forget charm, forget romance...OZ doesn't mess around. The episode I saw struck nasty surreal, I couldn't say I ready it, I watched more, I developed taste Oz, got accustomed high levels graphic violence. Not just violence, injustice (crooked guards who'll sold nickel, inmates who'll kill order away it, mannered, middle class inmates turned prison bitches lack street skills prison experience) Watching Oz, comfortable uncomfortable viewing....thats touch darker side.</td>\n",
       "    </tr>\n",
       "  </tbody>\n",
       "</table>\n",
       "</div>"
      ],
      "text/plain": [
       "                                                                                                                                                                                                                                                                                                                                                                                                                                                                                                                                                                                                                                                                                                                                                                                                                                                                                                                                                                                                                                                                                                                                                                                                                                                                                                                                                                                                                                                                                                                                                                                                                                                                                                                                                                                                                              review  \\\n",
       "0  One of the other reviewers has mentioned that after watching just 1 Oz episode you'll be hooked. They are right, as this is exactly what happened with me.<br /><br />The first thing that struck me about Oz was its brutality and unflinching scenes of violence, which set in right from the word GO. Trust me, this is not a show for the faint hearted or timid. This show pulls no punches with regards to drugs, sex or violence. Its is hardcore, in the classic use of the word.<br /><br />It is called OZ as that is the nickname given to the Oswald Maximum Security State Penitentary. It focuses mainly on Emerald City, an experimental section of the prison where all the cells have glass fronts and face inwards, so privacy is not high on the agenda. Em City is home to many..Aryans, Muslims, gangstas, Latinos, Christians, Italians, Irish and more....so scuffles, death stares, dodgy dealings and shady agreements are never far away.<br /><br />I would say the main appeal of the show is due to the fact that it goes where other shows wouldn't dare. Forget pretty pictures painted for mainstream audiences, forget charm, forget romance...OZ doesn't mess around. The first episode I ever saw struck me as so nasty it was surreal, I couldn't say I was ready for it, but as I watched more, I developed a taste for Oz, and got accustomed to the high levels of graphic violence. Not just violence, but injustice (crooked guards who'll be sold out for a nickel, inmates who'll kill on order and get away with it, well mannered, middle class inmates being turned into prison bitches due to their lack of street skills or prison experience) Watching Oz, you may become comfortable with what is uncomfortable viewing....thats if you can get in touch with your darker side.   \n",
       "\n",
       "  sentiment  \\\n",
       "0  positive   \n",
       "\n",
       "                                                                                                                                                                                                                                                                                                                                                                                                                                                                                                                                                                                                                                                                                                                                                                                                                                                                                                                                                                                                                                                                                                                                                                                                                                                                     reviews_preprocessed  \n",
       "0  One reviewers mentioned watching just 1 Oz episode you'll hooked. They right, exactly happened me.<br /><br />The thing struck Oz brutality unflinching scenes violence, set right word GO. Trust me, faint hearted timid. This pulls punches regards drugs, sex violence. Its hardcore, classic use word.<br /><br />It called OZ nickname given Oswald Maximum Security State Penitentary. It focuses mainly Emerald City, experimental section prison cells glass fronts face inwards, privacy high agenda. Em City home many..Aryans, Muslims, gangstas, Latinos, Christians, Italians, Irish more....so scuffles, death stares, dodgy dealings shady agreements far away.<br /><br />I say main appeal fact goes shows wouldn't dare. Forget pretty pictures painted mainstream audiences, forget charm, forget romance...OZ doesn't mess around. The episode I saw struck nasty surreal, I couldn't say I ready it, I watched more, I developed taste Oz, got accustomed high levels graphic violence. Not just violence, injustice (crooked guards who'll sold nickel, inmates who'll kill order away it, mannered, middle class inmates turned prison bitches lack street skills prison experience) Watching Oz, comfortable uncomfortable viewing....thats touch darker side.  "
      ]
     },
     "execution_count": 11,
     "metadata": {},
     "output_type": "execute_result"
    }
   ],
   "source": [
    "imdb_dataset_raw.head(1)"
   ]
  },
  {
   "cell_type": "markdown",
   "metadata": {},
   "source": [
    "### Remove HTML Tags\n",
    "\n",
    "The dataset contains many HTML tags. We'll remove them"
   ]
  },
  {
   "cell_type": "code",
   "execution_count": 12,
   "metadata": {
    "ExecuteTime": {
     "end_time": "2021-03-25T20:36:32.914177Z",
     "start_time": "2021-03-25T20:36:25.673665Z"
    }
   },
   "outputs": [],
   "source": [
    "def strip_html(text):\n",
    "    soup = BeautifulSoup(text, \"html.parser\")\n",
    "    return soup.get_text()\n",
    "\n",
    "imdb_dataset_raw[COLUMN_WITH_TEXT] = imdb_dataset_raw[COLUMN_WITH_TEXT].apply(\n",
    "    lambda x: strip_html(x))"
   ]
  },
  {
   "cell_type": "code",
   "execution_count": 13,
   "metadata": {
    "ExecuteTime": {
     "end_time": "2021-03-25T20:36:32.920626Z",
     "start_time": "2021-03-25T20:36:32.916168Z"
    }
   },
   "outputs": [
    {
     "data": {
      "text/plain": [
       "0    One reviewers mentioned watching just 1 Oz episode you'll hooked. They right, exactly happened me.The thing struck Oz brutality unflinching scenes violence, set right word GO. Trust me, faint hearted timid. This pulls punches regards drugs, sex violence. Its hardcore, classic use word.It called OZ nickname given Oswald Maximum Security State Penitentary. It focuses mainly Emerald City, experimental section prison cells glass fronts face inwards, privacy high agenda. Em City home many..Aryans, Muslims, gangstas, Latinos, Christians, Italians, Irish more....so scuffles, death stares, dodgy dealings shady agreements far away.I say main appeal fact goes shows wouldn't dare. Forget pretty pictures painted mainstream audiences, forget charm, forget romance...OZ doesn't mess around. The episode I saw struck nasty surreal, I couldn't say I ready it, I watched more, I developed taste Oz, got accustomed high levels graphic violence. Not just violence, injustice (crooked guards who'll sold nickel, inmates who'll kill order away it, mannered, middle class inmates turned prison bitches lack street skills prison experience) Watching Oz, comfortable uncomfortable viewing....thats touch darker side.\n",
       "Name: reviews_preprocessed, dtype: object"
      ]
     },
     "execution_count": 13,
     "metadata": {},
     "output_type": "execute_result"
    }
   ],
   "source": [
    "imdb_dataset_raw[COLUMN_WITH_TEXT].head(1)"
   ]
  },
  {
   "cell_type": "markdown",
   "metadata": {},
   "source": [
    "## Keywords\n",
    "\n",
    "For weak supervision sources we use sentiment keyword lists for positive and negative words.\n",
    "https://www.cs.uic.edu/~liub/FBS/sentiment-analysis.html\n",
    "\n",
    "We have downloaded them from the Knodle collection earlier, with the IMDB dataset. \n",
    "\n",
    "After parsing the keywords from separate files, they are stored in a pd.DataFrame with the corresponding sentiment as \"label\"."
   ]
  },
  {
   "cell_type": "code",
   "execution_count": 14,
   "metadata": {
    "ExecuteTime": {
     "end_time": "2021-03-25T20:36:32.934200Z",
     "start_time": "2021-03-25T20:36:32.922512Z"
    }
   },
   "outputs": [
    {
     "data": {
      "text/html": [
       "<div>\n",
       "<style scoped>\n",
       "    .dataframe tbody tr th:only-of-type {\n",
       "        vertical-align: middle;\n",
       "    }\n",
       "\n",
       "    .dataframe tbody tr th {\n",
       "        vertical-align: top;\n",
       "    }\n",
       "\n",
       "    .dataframe thead th {\n",
       "        text-align: right;\n",
       "    }\n",
       "</style>\n",
       "<table border=\"1\" class=\"dataframe\">\n",
       "  <thead>\n",
       "    <tr style=\"text-align: right;\">\n",
       "      <th></th>\n",
       "      <th>keyword</th>\n",
       "      <th>label</th>\n",
       "    </tr>\n",
       "  </thead>\n",
       "  <tbody>\n",
       "    <tr>\n",
       "      <th>0</th>\n",
       "      <td>a+</td>\n",
       "      <td>positive</td>\n",
       "    </tr>\n",
       "    <tr>\n",
       "      <th>1</th>\n",
       "      <td>abound</td>\n",
       "      <td>positive</td>\n",
       "    </tr>\n",
       "  </tbody>\n",
       "</table>\n",
       "</div>"
      ],
      "text/plain": [
       "  keyword     label\n",
       "0  a+      positive\n",
       "1  abound  positive"
      ]
     },
     "execution_count": 14,
     "metadata": {},
     "output_type": "execute_result"
    }
   ],
   "source": [
    "positive_keywords = pd.read_csv(os.path.join(data_path, \"positive-words.txt\"), sep=\" \", header=None, error_bad_lines=False, skiprows=30)\n",
    "positive_keywords.columns = [\"keyword\"]\n",
    "positive_keywords[\"label\"] = \"positive\"\n",
    "positive_keywords.head(2)"
   ]
  },
  {
   "cell_type": "code",
   "execution_count": 15,
   "metadata": {
    "ExecuteTime": {
     "end_time": "2021-03-25T20:36:32.947640Z",
     "start_time": "2021-03-25T20:36:32.935724Z"
    }
   },
   "outputs": [
    {
     "data": {
      "text/html": [
       "<div>\n",
       "<style scoped>\n",
       "    .dataframe tbody tr th:only-of-type {\n",
       "        vertical-align: middle;\n",
       "    }\n",
       "\n",
       "    .dataframe tbody tr th {\n",
       "        vertical-align: top;\n",
       "    }\n",
       "\n",
       "    .dataframe thead th {\n",
       "        text-align: right;\n",
       "    }\n",
       "</style>\n",
       "<table border=\"1\" class=\"dataframe\">\n",
       "  <thead>\n",
       "    <tr style=\"text-align: right;\">\n",
       "      <th></th>\n",
       "      <th>keyword</th>\n",
       "      <th>label</th>\n",
       "    </tr>\n",
       "  </thead>\n",
       "  <tbody>\n",
       "    <tr>\n",
       "      <th>0</th>\n",
       "      <td>2-faced</td>\n",
       "      <td>negative</td>\n",
       "    </tr>\n",
       "    <tr>\n",
       "      <th>1</th>\n",
       "      <td>2-faces</td>\n",
       "      <td>negative</td>\n",
       "    </tr>\n",
       "  </tbody>\n",
       "</table>\n",
       "</div>"
      ],
      "text/plain": [
       "   keyword     label\n",
       "0  2-faced  negative\n",
       "1  2-faces  negative"
      ]
     },
     "execution_count": 15,
     "metadata": {},
     "output_type": "execute_result"
    }
   ],
   "source": [
    "negative_keywords = pd.read_csv(os.path.join(data_path, \"negative-words.txt\"),\n",
    "                                sep=\" \", header=None, error_bad_lines=False,  encoding='latin-1', skiprows=30)\n",
    "negative_keywords.columns = [\"keyword\"]\n",
    "negative_keywords[\"label\"] = \"negative\"\n",
    "negative_keywords.head(2)"
   ]
  },
  {
   "cell_type": "code",
   "execution_count": 16,
   "metadata": {
    "ExecuteTime": {
     "end_time": "2021-03-25T20:36:32.956447Z",
     "start_time": "2021-03-25T20:36:32.949380Z"
    }
   },
   "outputs": [
    {
     "data": {
      "text/plain": [
       "negative    4783\n",
       "positive    2006\n",
       "Name: label, dtype: int64"
      ]
     },
     "execution_count": 16,
     "metadata": {},
     "output_type": "execute_result"
    }
   ],
   "source": [
    "all_keywords = pd.concat([positive_keywords, negative_keywords])\n",
    "all_keywords.label.value_counts()"
   ]
  },
  {
   "cell_type": "code",
   "execution_count": 17,
   "metadata": {
    "ExecuteTime": {
     "end_time": "2021-03-25T20:36:32.966435Z",
     "start_time": "2021-03-25T20:36:32.958054Z"
    }
   },
   "outputs": [
    {
     "data": {
      "text/plain": [
       "negative    4780\n",
       "positive    2006\n",
       "Name: label, dtype: int64"
      ]
     },
     "execution_count": 17,
     "metadata": {},
     "output_type": "execute_result"
    }
   ],
   "source": [
    "# remove overlap of keywords between two sentiments\n",
    "all_keywords.drop_duplicates('keyword',inplace=True)\n",
    "all_keywords.label.value_counts()"
   ]
  },
  {
   "cell_type": "markdown",
   "metadata": {},
   "source": [
    "## Labeling Functions\n",
    "\n",
    "Now we start to build labeling functions with Snorkel with these keywords and check the coverage.\n",
    "\n",
    "This is an iterative process of course so we surely have to add more keywords and regulary expressions ;-) "
   ]
  },
  {
   "cell_type": "code",
   "execution_count": 18,
   "metadata": {
    "ExecuteTime": {
     "end_time": "2021-03-25T20:36:32.970398Z",
     "start_time": "2021-03-25T20:36:32.967980Z"
    }
   },
   "outputs": [],
   "source": [
    "def keyword_lookup(x, keyword, label):\n",
    "    return label if keyword in x[COLUMN_WITH_TEXT].lower() else ABSTAIN\n"
   ]
  },
  {
   "cell_type": "code",
   "execution_count": 19,
   "metadata": {
    "ExecuteTime": {
     "end_time": "2021-03-25T20:36:32.975515Z",
     "start_time": "2021-03-25T20:36:32.972044Z"
    }
   },
   "outputs": [],
   "source": [
    "def make_keyword_lf(keyword: str, label: str) -> LabelingFunction:\n",
    "    \"\"\"\n",
    "    Creates labeling function based on keyword.\n",
    "    Args:\n",
    "        keyword: what keyword should be look for\n",
    "        label: what label does this keyword imply\n",
    "\n",
    "    Returns: LabelingFunction object\n",
    "\n",
    "    \"\"\"\n",
    "    return LabelingFunction(\n",
    "        name=f\"keyword_{keyword}\",\n",
    "        f=keyword_lookup,\n",
    "        resources=dict(keyword=keyword, label=label),\n",
    "    )"
   ]
  },
  {
   "cell_type": "code",
   "execution_count": 20,
   "metadata": {
    "ExecuteTime": {
     "end_time": "2021-03-25T20:36:32.980343Z",
     "start_time": "2021-03-25T20:36:32.977242Z"
    }
   },
   "outputs": [],
   "source": [
    "def create_labeling_functions(keywords: pd.DataFrame) -> np.ndarray:\n",
    "    \"\"\"\n",
    "    Create Labeling Functions based on the columns keyword and regex. Appends column lf to df.\n",
    "\n",
    "    Args:\n",
    "        keywords: DataFrame with processed keywords\n",
    "\n",
    "    Returns:\n",
    "        All labeling functions. 1d Array with shape: (number_of_lfs x 1)\n",
    "    \"\"\"\n",
    "    keywords = keywords.assign(lf=keywords.progress_apply(\n",
    "        lambda x:make_keyword_lf(x.keyword, x.label_id), axis=1\n",
    "    ))\n",
    "    lfs = keywords.lf.values\n",
    "    return lfs"
   ]
  },
  {
   "cell_type": "code",
   "execution_count": 21,
   "metadata": {
    "ExecuteTime": {
     "end_time": "2021-03-25T20:36:32.986156Z",
     "start_time": "2021-03-25T20:36:32.981984Z"
    }
   },
   "outputs": [],
   "source": [
    "all_keywords[\"label_id\"] = all_keywords.label.map({'positive':POSITIVE, 'negative':NEGATIVE})"
   ]
  },
  {
   "cell_type": "code",
   "execution_count": 22,
   "metadata": {
    "ExecuteTime": {
     "end_time": "2021-03-25T20:36:32.997631Z",
     "start_time": "2021-03-25T20:36:32.987818Z"
    }
   },
   "outputs": [
    {
     "data": {
      "text/html": [
       "<div>\n",
       "<style scoped>\n",
       "    .dataframe tbody tr th:only-of-type {\n",
       "        vertical-align: middle;\n",
       "    }\n",
       "\n",
       "    .dataframe tbody tr th {\n",
       "        vertical-align: top;\n",
       "    }\n",
       "\n",
       "    .dataframe thead th {\n",
       "        text-align: right;\n",
       "    }\n",
       "</style>\n",
       "<table border=\"1\" class=\"dataframe\">\n",
       "  <thead>\n",
       "    <tr style=\"text-align: right;\">\n",
       "      <th></th>\n",
       "      <th>keyword</th>\n",
       "      <th>label</th>\n",
       "      <th>label_id</th>\n",
       "    </tr>\n",
       "  </thead>\n",
       "  <tbody>\n",
       "    <tr>\n",
       "      <th>0</th>\n",
       "      <td>a+</td>\n",
       "      <td>positive</td>\n",
       "      <td>1</td>\n",
       "    </tr>\n",
       "    <tr>\n",
       "      <th>1</th>\n",
       "      <td>abound</td>\n",
       "      <td>positive</td>\n",
       "      <td>1</td>\n",
       "    </tr>\n",
       "    <tr>\n",
       "      <th>2</th>\n",
       "      <td>abounds</td>\n",
       "      <td>positive</td>\n",
       "      <td>1</td>\n",
       "    </tr>\n",
       "    <tr>\n",
       "      <th>3</th>\n",
       "      <td>abundance</td>\n",
       "      <td>positive</td>\n",
       "      <td>1</td>\n",
       "    </tr>\n",
       "    <tr>\n",
       "      <th>4</th>\n",
       "      <td>abundant</td>\n",
       "      <td>positive</td>\n",
       "      <td>1</td>\n",
       "    </tr>\n",
       "    <tr>\n",
       "      <th>...</th>\n",
       "      <td>...</td>\n",
       "      <td>...</td>\n",
       "      <td>...</td>\n",
       "    </tr>\n",
       "    <tr>\n",
       "      <th>4778</th>\n",
       "      <td>zaps</td>\n",
       "      <td>negative</td>\n",
       "      <td>0</td>\n",
       "    </tr>\n",
       "    <tr>\n",
       "      <th>4779</th>\n",
       "      <td>zealot</td>\n",
       "      <td>negative</td>\n",
       "      <td>0</td>\n",
       "    </tr>\n",
       "    <tr>\n",
       "      <th>4780</th>\n",
       "      <td>zealous</td>\n",
       "      <td>negative</td>\n",
       "      <td>0</td>\n",
       "    </tr>\n",
       "    <tr>\n",
       "      <th>4781</th>\n",
       "      <td>zealously</td>\n",
       "      <td>negative</td>\n",
       "      <td>0</td>\n",
       "    </tr>\n",
       "    <tr>\n",
       "      <th>4782</th>\n",
       "      <td>zombie</td>\n",
       "      <td>negative</td>\n",
       "      <td>0</td>\n",
       "    </tr>\n",
       "  </tbody>\n",
       "</table>\n",
       "<p>6786 rows × 3 columns</p>\n",
       "</div>"
      ],
      "text/plain": [
       "        keyword     label  label_id\n",
       "0     a+         positive  1       \n",
       "1     abound     positive  1       \n",
       "2     abounds    positive  1       \n",
       "3     abundance  positive  1       \n",
       "4     abundant   positive  1       \n",
       "...        ...        ... ..       \n",
       "4778  zaps       negative  0       \n",
       "4779  zealot     negative  0       \n",
       "4780  zealous    negative  0       \n",
       "4781  zealously  negative  0       \n",
       "4782  zombie     negative  0       \n",
       "\n",
       "[6786 rows x 3 columns]"
      ]
     },
     "execution_count": 22,
     "metadata": {},
     "output_type": "execute_result"
    }
   ],
   "source": [
    "all_keywords"
   ]
  },
  {
   "cell_type": "code",
   "execution_count": 23,
   "metadata": {
    "ExecuteTime": {
     "end_time": "2021-03-25T20:36:33.131651Z",
     "start_time": "2021-03-25T20:36:32.999374Z"
    }
   },
   "outputs": [
    {
     "name": "stderr",
     "output_type": "stream",
     "text": [
      "100%|██████████| 6786/6786 [00:00<00:00, 53479.31it/s]\n"
     ]
    }
   ],
   "source": [
    "labeling_functions = create_labeling_functions(all_keywords)"
   ]
  },
  {
   "cell_type": "code",
   "execution_count": 24,
   "metadata": {
    "ExecuteTime": {
     "end_time": "2021-03-25T20:36:33.136571Z",
     "start_time": "2021-03-25T20:36:33.133309Z"
    }
   },
   "outputs": [
    {
     "data": {
      "text/plain": [
       "array([LabelingFunction keyword_a+, Preprocessors: [],\n",
       "       LabelingFunction keyword_abound, Preprocessors: [],\n",
       "       LabelingFunction keyword_abounds, Preprocessors: [], ...,\n",
       "       LabelingFunction keyword_zealous, Preprocessors: [],\n",
       "       LabelingFunction keyword_zealously, Preprocessors: [],\n",
       "       LabelingFunction keyword_zombie, Preprocessors: []], dtype=object)"
      ]
     },
     "execution_count": 24,
     "metadata": {},
     "output_type": "execute_result"
    }
   ],
   "source": [
    "labeling_functions"
   ]
  },
  {
   "cell_type": "markdown",
   "metadata": {},
   "source": [
    "### Apply Labeling Functions\n",
    "\n",
    "Now lets apply all labeling functions on our reviews and check some statistics."
   ]
  },
  {
   "cell_type": "code",
   "execution_count": 25,
   "metadata": {
    "ExecuteTime": {
     "end_time": "2021-03-25T21:12:20.724082Z",
     "start_time": "2021-03-25T20:36:33.138385Z"
    }
   },
   "outputs": [
    {
     "name": "stderr",
     "output_type": "stream",
     "text": [
      "/mounts/Users/student/speranskaya/.local/lib/python3.8/site-packages/tqdm/std.py:699: FutureWarning: The Panel class is removed from pandas. Accessing it from the top-level namespace will also be removed in the next version\n",
      "  from pandas import Panel\n",
      "100%|██████████| 50000/50000 [35:42<00:00, 23.34it/s]   \n"
     ]
    }
   ],
   "source": [
    "applier = PandasLFApplier(lfs=labeling_functions)\n",
    "applied_lfs = applier.apply(df=imdb_dataset_raw)"
   ]
  },
  {
   "cell_type": "code",
   "execution_count": 26,
   "metadata": {
    "ExecuteTime": {
     "end_time": "2021-03-25T21:12:20.735714Z",
     "start_time": "2021-03-25T21:12:20.728090Z"
    }
   },
   "outputs": [
    {
     "data": {
      "text/plain": [
       "array([[-1, -1, -1, ..., -1, -1, -1],\n",
       "       [-1, -1, -1, ..., -1, -1, -1],\n",
       "       [-1, -1, -1, ..., -1, -1, -1],\n",
       "       ...,\n",
       "       [-1, -1, -1, ..., -1, -1, -1],\n",
       "       [-1, -1, -1, ..., -1, -1, -1],\n",
       "       [-1, -1, -1, ..., -1, -1, -1]])"
      ]
     },
     "execution_count": 26,
     "metadata": {},
     "output_type": "execute_result"
    }
   ],
   "source": [
    "applied_lfs"
   ]
  },
  {
   "cell_type": "markdown",
   "metadata": {},
   "source": [
    "Now we have a matrix with all labeling functions applied. This matrix has the shape $(instances \\times labeling functions)$"
   ]
  },
  {
   "cell_type": "code",
   "execution_count": 27,
   "metadata": {
    "ExecuteTime": {
     "end_time": "2021-03-25T21:12:20.745391Z",
     "start_time": "2021-03-25T21:12:20.740337Z"
    }
   },
   "outputs": [
    {
     "name": "stdout",
     "output_type": "stream",
     "text": [
      "Shape of applied labeling functions:  (50000, 6786)\n",
      "Number of reviews 50000\n",
      "Number of labeling functions 6786\n"
     ]
    }
   ],
   "source": [
    "print(\"Shape of applied labeling functions: \", applied_lfs.shape)\n",
    "print(\"Number of reviews\", len(imdb_dataset_raw))\n",
    "print(\"Number of labeling functions\", len(labeling_functions))"
   ]
  },
  {
   "cell_type": "markdown",
   "metadata": {},
   "source": [
    "### Analysis\n",
    "\n",
    "Now we can analyse some basic stats about our labeling functions. The main figures are:\n",
    "\n",
    "- Coverage: How many labeling functions match at all\n",
    "- Overlaps: How many labeling functions overlap with each other (e.g. awesome and amazing)\n",
    "- Conflicts: How many labeling functions overlap and have different labels (e.g. awesome and bad)\n",
    "- Correct: Correct LFs\n",
    "- Incorrect: Incorrect Lfs"
   ]
  },
  {
   "cell_type": "code",
   "execution_count": 93,
   "metadata": {
    "ExecuteTime": {
     "end_time": "2021-03-25T18:10:50.252765Z",
     "start_time": "2021-03-25T18:10:06.994826Z"
    }
   },
   "outputs": [
    {
     "data": {
      "text/html": [
       "<div>\n",
       "<style scoped>\n",
       "    .dataframe tbody tr th:only-of-type {\n",
       "        vertical-align: middle;\n",
       "    }\n",
       "\n",
       "    .dataframe tbody tr th {\n",
       "        vertical-align: top;\n",
       "    }\n",
       "\n",
       "    .dataframe thead th {\n",
       "        text-align: right;\n",
       "    }\n",
       "</style>\n",
       "<table border=\"1\" class=\"dataframe\">\n",
       "  <thead>\n",
       "    <tr style=\"text-align: right;\">\n",
       "      <th></th>\n",
       "      <th>j</th>\n",
       "      <th>Polarity</th>\n",
       "      <th>Coverage</th>\n",
       "      <th>Overlaps</th>\n",
       "      <th>Conflicts</th>\n",
       "    </tr>\n",
       "  </thead>\n",
       "  <tbody>\n",
       "    <tr>\n",
       "      <th>keyword_a+</th>\n",
       "      <td>0</td>\n",
       "      <td>[1]</td>\n",
       "      <td>0.00102</td>\n",
       "      <td>0.00102</td>\n",
       "      <td>0.00102</td>\n",
       "    </tr>\n",
       "    <tr>\n",
       "      <th>keyword_abound</th>\n",
       "      <td>1</td>\n",
       "      <td>[1]</td>\n",
       "      <td>0.00264</td>\n",
       "      <td>0.00264</td>\n",
       "      <td>0.00264</td>\n",
       "    </tr>\n",
       "    <tr>\n",
       "      <th>keyword_abounds</th>\n",
       "      <td>2</td>\n",
       "      <td>[1]</td>\n",
       "      <td>0.00052</td>\n",
       "      <td>0.00052</td>\n",
       "      <td>0.00052</td>\n",
       "    </tr>\n",
       "    <tr>\n",
       "      <th>keyword_abundance</th>\n",
       "      <td>3</td>\n",
       "      <td>[1]</td>\n",
       "      <td>0.00182</td>\n",
       "      <td>0.00182</td>\n",
       "      <td>0.00182</td>\n",
       "    </tr>\n",
       "    <tr>\n",
       "      <th>keyword_abundant</th>\n",
       "      <td>4</td>\n",
       "      <td>[1]</td>\n",
       "      <td>0.00114</td>\n",
       "      <td>0.00114</td>\n",
       "      <td>0.00114</td>\n",
       "    </tr>\n",
       "    <tr>\n",
       "      <th>...</th>\n",
       "      <td>...</td>\n",
       "      <td>...</td>\n",
       "      <td>...</td>\n",
       "      <td>...</td>\n",
       "      <td>...</td>\n",
       "    </tr>\n",
       "    <tr>\n",
       "      <th>keyword_zaps</th>\n",
       "      <td>6781</td>\n",
       "      <td>[0]</td>\n",
       "      <td>0.00012</td>\n",
       "      <td>0.00012</td>\n",
       "      <td>0.00012</td>\n",
       "    </tr>\n",
       "    <tr>\n",
       "      <th>keyword_zealot</th>\n",
       "      <td>6782</td>\n",
       "      <td>[0]</td>\n",
       "      <td>0.00048</td>\n",
       "      <td>0.00048</td>\n",
       "      <td>0.00048</td>\n",
       "    </tr>\n",
       "    <tr>\n",
       "      <th>keyword_zealous</th>\n",
       "      <td>6783</td>\n",
       "      <td>[0]</td>\n",
       "      <td>0.00092</td>\n",
       "      <td>0.00092</td>\n",
       "      <td>0.00092</td>\n",
       "    </tr>\n",
       "    <tr>\n",
       "      <th>keyword_zealously</th>\n",
       "      <td>6784</td>\n",
       "      <td>[0]</td>\n",
       "      <td>0.00006</td>\n",
       "      <td>0.00006</td>\n",
       "      <td>0.00006</td>\n",
       "    </tr>\n",
       "    <tr>\n",
       "      <th>keyword_zombie</th>\n",
       "      <td>6785</td>\n",
       "      <td>[0]</td>\n",
       "      <td>0.01508</td>\n",
       "      <td>0.01508</td>\n",
       "      <td>0.01508</td>\n",
       "    </tr>\n",
       "  </tbody>\n",
       "</table>\n",
       "<p>6786 rows × 5 columns</p>\n",
       "</div>"
      ],
      "text/plain": [
       "                      j Polarity  Coverage  Overlaps  Conflicts\n",
       "keyword_a+         0     [1]      0.00102   0.00102   0.00102  \n",
       "keyword_abound     1     [1]      0.00264   0.00264   0.00264  \n",
       "keyword_abounds    2     [1]      0.00052   0.00052   0.00052  \n",
       "keyword_abundance  3     [1]      0.00182   0.00182   0.00182  \n",
       "keyword_abundant   4     [1]      0.00114   0.00114   0.00114  \n",
       "...               ..     ...          ...       ...       ...  \n",
       "keyword_zaps       6781  [0]      0.00012   0.00012   0.00012  \n",
       "keyword_zealot     6782  [0]      0.00048   0.00048   0.00048  \n",
       "keyword_zealous    6783  [0]      0.00092   0.00092   0.00092  \n",
       "keyword_zealously  6784  [0]      0.00006   0.00006   0.00006  \n",
       "keyword_zombie     6785  [0]      0.01508   0.01508   0.01508  \n",
       "\n",
       "[6786 rows x 5 columns]"
      ]
     },
     "execution_count": 93,
     "metadata": {},
     "output_type": "execute_result"
    }
   ],
   "source": [
    "LFAnalysis(L=applied_lfs, lfs=labeling_functions).lf_summary()"
   ]
  },
  {
   "cell_type": "code",
   "execution_count": 94,
   "metadata": {
    "ExecuteTime": {
     "end_time": "2021-03-25T18:11:33.785286Z",
     "start_time": "2021-03-25T18:10:50.254632Z"
    }
   },
   "outputs": [],
   "source": [
    "lf_analysis = LFAnalysis(L=applied_lfs, lfs=labeling_functions).lf_summary()"
   ]
  },
  {
   "cell_type": "code",
   "execution_count": 95,
   "metadata": {
    "ExecuteTime": {
     "end_time": "2021-03-25T18:11:33.883464Z",
     "start_time": "2021-03-25T18:11:33.787727Z"
    }
   },
   "outputs": [
    {
     "data": {
      "text/html": [
       "<div>\n",
       "<style scoped>\n",
       "    .dataframe tbody tr th:only-of-type {\n",
       "        vertical-align: middle;\n",
       "    }\n",
       "\n",
       "    .dataframe tbody tr th {\n",
       "        vertical-align: top;\n",
       "    }\n",
       "\n",
       "    .dataframe thead th {\n",
       "        text-align: right;\n",
       "    }\n",
       "</style>\n",
       "<table border=\"1\" class=\"dataframe\">\n",
       "  <thead>\n",
       "    <tr style=\"text-align: right;\">\n",
       "      <th></th>\n",
       "      <th>0</th>\n",
       "    </tr>\n",
       "  </thead>\n",
       "  <tbody>\n",
       "    <tr>\n",
       "      <th>j</th>\n",
       "      <td>3392.500000</td>\n",
       "    </tr>\n",
       "    <tr>\n",
       "      <th>Coverage</th>\n",
       "      <td>0.005002</td>\n",
       "    </tr>\n",
       "    <tr>\n",
       "      <th>Overlaps</th>\n",
       "      <td>0.005002</td>\n",
       "    </tr>\n",
       "    <tr>\n",
       "      <th>Conflicts</th>\n",
       "      <td>0.004997</td>\n",
       "    </tr>\n",
       "  </tbody>\n",
       "</table>\n",
       "</div>"
      ],
      "text/plain": [
       "                     0\n",
       "j          3392.500000\n",
       "Coverage   0.005002   \n",
       "Overlaps   0.005002   \n",
       "Conflicts  0.004997   "
      ]
     },
     "execution_count": 95,
     "metadata": {},
     "output_type": "execute_result"
    }
   ],
   "source": [
    "pd.DataFrame(lf_analysis.mean())"
   ]
  },
  {
   "cell_type": "code",
   "execution_count": 96,
   "metadata": {
    "ExecuteTime": {
     "end_time": "2021-03-25T18:11:33.894170Z",
     "start_time": "2021-03-25T18:11:33.885326Z"
    }
   },
   "outputs": [
    {
     "data": {
      "text/html": [
       "<div>\n",
       "<style scoped>\n",
       "    .dataframe tbody tr th:only-of-type {\n",
       "        vertical-align: middle;\n",
       "    }\n",
       "\n",
       "    .dataframe tbody tr th {\n",
       "        vertical-align: top;\n",
       "    }\n",
       "\n",
       "    .dataframe thead th {\n",
       "        text-align: right;\n",
       "    }\n",
       "</style>\n",
       "<table border=\"1\" class=\"dataframe\">\n",
       "  <thead>\n",
       "    <tr style=\"text-align: right;\">\n",
       "      <th></th>\n",
       "      <th>0</th>\n",
       "    </tr>\n",
       "  </thead>\n",
       "  <tbody>\n",
       "    <tr>\n",
       "      <th>j</th>\n",
       "      <td>3392.50000</td>\n",
       "    </tr>\n",
       "    <tr>\n",
       "      <th>Coverage</th>\n",
       "      <td>0.00052</td>\n",
       "    </tr>\n",
       "    <tr>\n",
       "      <th>Overlaps</th>\n",
       "      <td>0.00052</td>\n",
       "    </tr>\n",
       "    <tr>\n",
       "      <th>Conflicts</th>\n",
       "      <td>0.00052</td>\n",
       "    </tr>\n",
       "  </tbody>\n",
       "</table>\n",
       "</div>"
      ],
      "text/plain": [
       "                    0\n",
       "j          3392.50000\n",
       "Coverage   0.00052   \n",
       "Overlaps   0.00052   \n",
       "Conflicts  0.00052   "
      ]
     },
     "execution_count": 96,
     "metadata": {},
     "output_type": "execute_result"
    }
   ],
   "source": [
    "pd.DataFrame(lf_analysis.median())"
   ]
  },
  {
   "cell_type": "markdown",
   "metadata": {},
   "source": [
    "Lets have a look at some examples that were labeled by a positive keyword. You can see, that the true label for some of them is negative."
   ]
  },
  {
   "cell_type": "code",
   "execution_count": 44,
   "metadata": {
    "ExecuteTime": {
     "end_time": "2021-03-25T21:17:12.435873Z",
     "start_time": "2021-03-25T21:17:12.427874Z"
    }
   },
   "outputs": [
    {
     "data": {
      "text/plain": [
       "keyword     loyalty \n",
       "label       positive\n",
       "label_id    1       \n",
       "Name: 1110, dtype: object"
      ]
     },
     "execution_count": 44,
     "metadata": {},
     "output_type": "execute_result"
    }
   ],
   "source": [
    "# consider 50th keyword\n",
    "all_keywords.iloc[1110]"
   ]
  },
  {
   "cell_type": "code",
   "execution_count": 45,
   "metadata": {
    "ExecuteTime": {
     "end_time": "2021-03-25T21:17:14.754954Z",
     "start_time": "2021-03-25T21:17:14.708386Z"
    }
   },
   "outputs": [
    {
     "data": {
      "text/html": [
       "<div>\n",
       "<style scoped>\n",
       "    .dataframe tbody tr th:only-of-type {\n",
       "        vertical-align: middle;\n",
       "    }\n",
       "\n",
       "    .dataframe tbody tr th {\n",
       "        vertical-align: top;\n",
       "    }\n",
       "\n",
       "    .dataframe thead th {\n",
       "        text-align: right;\n",
       "    }\n",
       "</style>\n",
       "<table border=\"1\" class=\"dataframe\">\n",
       "  <thead>\n",
       "    <tr style=\"text-align: right;\">\n",
       "      <th></th>\n",
       "      <th>reviews_preprocessed</th>\n",
       "      <th>sentiment</th>\n",
       "    </tr>\n",
       "  </thead>\n",
       "  <tbody>\n",
       "    <tr>\n",
       "      <th>31052</th>\n",
       "      <td>I finally got wish cinema. I'd seen Fritz Lang's film video years ago. I'd hoping ideal screening conditions work magic.Conditions ideal Cinematheque Ontario. Pristine full-length print. Intertitles original Gothic-script German simultaneous English translation, accurate literal. Live piano accompaniment. Ideal.The film's magic sputtered little ultimately failed catch, me.This film bears real relation Wagner's Ring cycle I knew not. Wagner adapted 13th c. Niebelungenlied purposes. Part I Fritz Lang's epic -- \"Siegfried\" -- familiar listeners Wagner however.\"Kriemhild's Revenge\" story Siegfried's wife Kriemhild, marriage King Etzel (Attila) Hun, desire revenge Hagen Gunther, rechristened Nibelungs, murder Siegfried. The spectacular conflagration film presumably evolved expanded Wagnerian mythos Götterdämmerung, Twilight Gods, end Valhalla. This film remains earthbound.Most film spectacular. The massive sets rival \"Cabiria\" (1914), inspired Griffith's \"Intolerance\" (1916). Their decoration sets new benchmark barbaric splendour. There's huge cast scarred, mangy Huns Art Deco Burgundians. And battles. Battles end fact.Kriemhild successful plan revenge. She manages destroy her. Her loyalty martyred Siegfried stem love, devotion, closer psychosis. Lady Macbeth cried out, \"Unsex here.\" She knew emotionally unprepared needed do. But Kriemhild displays normal human emotions, certainly equates feminine principle. She \"top direst cruelty\", borrow Shakespeare's phrase, outset. Margarethe Schön director convey glower. I don't want exaggerate, glower virtually expression \"animate\" Kriemhild's face. It's ultimate one-note performances. It's clearly intentional however, simply case poor acting.What offer one-dimensional sketch avenging Fury. Some Kriemhild empowered heroine. I just film misogynistic.</td>\n",
       "      <td>positive</td>\n",
       "    </tr>\n",
       "    <tr>\n",
       "      <th>1798</th>\n",
       "      <td>\"Laugh, Clown Laugh\" released 1928, stars legendary Lon Chaney circus clown named Tito. Tito raised foundling (a young beautiful Loretta Young) adulthood names Simonetta. Tito raised girl circus life, accomplished ballerina. While Chaney gives usual great performance, I past fact Tito, middle age, hots young Simonetta. Although biological father, raised like daughter. That kind \"ick\" factor permeates film. Tito competes Simonetta's affections young handsome 'Count' Luigi (Nils Asther). Simonetta clearly falls young man, feels guilt abandoning Tito (out loyalty, romantic love). The premise film ridiculous, I amazing film tells Tito stupid old fool (until reveals end). The film noteworthy Loretta Young, great career. While I adore Chaney's brilliance actor, film just downright creepy.</td>\n",
       "      <td>negative</td>\n",
       "    </tr>\n",
       "  </tbody>\n",
       "</table>\n",
       "</div>"
      ],
      "text/plain": [
       "                                                                                                                                                                                                                                                                                                                                                                                                                                                                                                                                                                                                                                                                                                                                                                                                                                                                                                                                                                                                                                                                                                                                                                                                                                                                                                                                                                                                                                                                                                                                                                                                                                                                                                                                                                                                                                                                          reviews_preprocessed  \\\n",
       "31052  I finally got wish cinema. I'd seen Fritz Lang's film video years ago. I'd hoping ideal screening conditions work magic.Conditions ideal Cinematheque Ontario. Pristine full-length print. Intertitles original Gothic-script German simultaneous English translation, accurate literal. Live piano accompaniment. Ideal.The film's magic sputtered little ultimately failed catch, me.This film bears real relation Wagner's Ring cycle I knew not. Wagner adapted 13th c. Niebelungenlied purposes. Part I Fritz Lang's epic -- \"Siegfried\" -- familiar listeners Wagner however.\"Kriemhild's Revenge\" story Siegfried's wife Kriemhild, marriage King Etzel (Attila) Hun, desire revenge Hagen Gunther, rechristened Nibelungs, murder Siegfried. The spectacular conflagration film presumably evolved expanded Wagnerian mythos Götterdämmerung, Twilight Gods, end Valhalla. This film remains earthbound.Most film spectacular. The massive sets rival \"Cabiria\" (1914), inspired Griffith's \"Intolerance\" (1916). Their decoration sets new benchmark barbaric splendour. There's huge cast scarred, mangy Huns Art Deco Burgundians. And battles. Battles end fact.Kriemhild successful plan revenge. She manages destroy her. Her loyalty martyred Siegfried stem love, devotion, closer psychosis. Lady Macbeth cried out, \"Unsex here.\" She knew emotionally unprepared needed do. But Kriemhild displays normal human emotions, certainly equates feminine principle. She \"top direst cruelty\", borrow Shakespeare's phrase, outset. Margarethe Schön director convey glower. I don't want exaggerate, glower virtually expression \"animate\" Kriemhild's face. It's ultimate one-note performances. It's clearly intentional however, simply case poor acting.What offer one-dimensional sketch avenging Fury. Some Kriemhild empowered heroine. I just film misogynistic.   \n",
       "1798   \"Laugh, Clown Laugh\" released 1928, stars legendary Lon Chaney circus clown named Tito. Tito raised foundling (a young beautiful Loretta Young) adulthood names Simonetta. Tito raised girl circus life, accomplished ballerina. While Chaney gives usual great performance, I past fact Tito, middle age, hots young Simonetta. Although biological father, raised like daughter. That kind \"ick\" factor permeates film. Tito competes Simonetta's affections young handsome 'Count' Luigi (Nils Asther). Simonetta clearly falls young man, feels guilt abandoning Tito (out loyalty, romantic love). The premise film ridiculous, I amazing film tells Tito stupid old fool (until reveals end). The film noteworthy Loretta Young, great career. While I adore Chaney's brilliance actor, film just downright creepy.                                                                                                                                                                                                                                                                                                                                                                                                                                                                                                                                                                                                                                                                                                                                                                                                                                                                                                                                                                                                                                                                 \n",
       "\n",
       "      sentiment  \n",
       "31052  positive  \n",
       "1798   negative  "
      ]
     },
     "execution_count": 45,
     "metadata": {},
     "output_type": "execute_result"
    }
   ],
   "source": [
    "# sample 2 random examples where the 50th LF assigned a positive label\n",
    "imdb_dataset_raw.iloc[applied_lfs[:, 1110] == POSITIVE, :].sample(2, random_state=1).loc[:, [COLUMN_WITH_TEXT,'sentiment']]"
   ]
  },
  {
   "cell_type": "markdown",
   "metadata": {},
   "source": [
    "## Transform rule matches\n",
    "\n",
    "To work with knodle the dataset needs to be transformed into a binary array $Z$\n",
    "\n",
    "(shape: `#instances x # rules_`).\n",
    "\n",
    "Where a cell $Z_{ij}$ means that for instance i\n",
    "\n",
    "    0 -> Rule j didn't match \n",
    "    1 -> Rule j matched\n",
    "\n",
    "Furthermore, we need a matrix `mapping_rule_labels` which has a mapping of all rules to labels, stored in a binary manner as well \n",
    "\n",
    "(shape `#rules x #labels`)."
   ]
  },
  {
   "cell_type": "code",
   "execution_count": 58,
   "metadata": {
    "ExecuteTime": {
     "end_time": "2021-03-25T21:20:48.986385Z",
     "start_time": "2021-03-25T21:20:48.969674Z"
    }
   },
   "outputs": [
    {
     "name": "stderr",
     "output_type": "stream",
     "text": [
      "2021-03-25 22:20:48,979 root         INFO     Initalized logger\n"
     ]
    }
   ],
   "source": [
    "from knodle.data.labelling_fcts import transform_rule_class_matrix_to_z_t"
   ]
  },
  {
   "cell_type": "code",
   "execution_count": 59,
   "metadata": {
    "ExecuteTime": {
     "end_time": "2021-03-25T21:21:14.291710Z",
     "start_time": "2021-03-25T21:20:49.165726Z"
    }
   },
   "outputs": [],
   "source": [
    "rule_matches, mapping_rules_labels = transform_rule_class_matrix_to_z_t(applied_lfs)"
   ]
  },
  {
   "cell_type": "markdown",
   "metadata": {},
   "source": [
    "### Majority Vote\n",
    "\n",
    "Now we make a majority vote based on all rule matches. First we get the `rule_counts` by multiplying `rule_matches` with the `mapping_rules_labels`, then we divide it sumwise by the sum to get a probability value. In the end we counteract the divide with zero issue by setting all nan values to zero. All this happens in the `z_t_matrices_to_majority_vote_labels` function."
   ]
  },
  {
   "cell_type": "code",
   "execution_count": 60,
   "metadata": {
    "ExecuteTime": {
     "end_time": "2021-03-25T21:21:14.331707Z",
     "start_time": "2021-03-25T21:21:14.295467Z"
    }
   },
   "outputs": [],
   "source": [
    "from knodle.transformation.majority import z_t_matrices_to_majority_vote_labels"
   ]
  },
  {
   "cell_type": "code",
   "execution_count": 61,
   "metadata": {
    "ExecuteTime": {
     "end_time": "2021-03-25T21:21:16.617275Z",
     "start_time": "2021-03-25T21:21:14.333978Z"
    },
    "scrolled": true
   },
   "outputs": [
    {
     "name": "stderr",
     "output_type": "stream",
     "text": [
      "/mounts/work/speranskaya/projects/knodle/knodle/knodle/transformation/majority.py:74: RuntimeWarning: invalid value encountered in true_divide\n",
      "  rule_counts_probs = rule_counts / rule_counts.sum(axis=1).reshape(-1, 1)\n"
     ]
    }
   ],
   "source": [
    "# the ties are resolved randomly internally, so the predictions might slightly vary\n",
    "pred_labels = z_t_matrices_to_majority_vote_labels(rule_matches, mapping_rules_labels)"
   ]
  },
  {
   "cell_type": "markdown",
   "metadata": {},
   "source": [
    "There are more positive labels predicted by the majority vote."
   ]
  },
  {
   "cell_type": "code",
   "execution_count": 62,
   "metadata": {
    "ExecuteTime": {
     "end_time": "2021-03-25T21:21:16.625803Z",
     "start_time": "2021-03-25T21:21:16.620575Z"
    }
   },
   "outputs": [
    {
     "data": {
      "text/plain": [
       "(array([0, 1]), array([37063, 12937]))"
      ]
     },
     "execution_count": 62,
     "metadata": {},
     "output_type": "execute_result"
    }
   ],
   "source": [
    "np.unique(pred_labels, return_counts=True)"
   ]
  },
  {
   "cell_type": "code",
   "execution_count": 63,
   "metadata": {
    "ExecuteTime": {
     "end_time": "2021-03-25T21:21:16.645988Z",
     "start_time": "2021-03-25T21:21:16.628121Z"
    }
   },
   "outputs": [
    {
     "data": {
      "text/plain": [
       "0.6637"
      ]
     },
     "execution_count": 63,
     "metadata": {},
     "output_type": "execute_result"
    }
   ],
   "source": [
    "# accuracy of the weak labels\n",
    "(pred_labels == imdb_dataset_raw.sentiment.map({'positive':POSITIVE, 'negative':NEGATIVE})).mean()"
   ]
  },
  {
   "cell_type": "markdown",
   "metadata": {},
   "source": [
    "## Save Files\n"
   ]
  },
  {
   "cell_type": "code",
   "execution_count": 64,
   "metadata": {
    "ExecuteTime": {
     "end_time": "2021-03-25T21:21:16.650189Z",
     "start_time": "2021-03-25T21:21:16.647612Z"
    }
   },
   "outputs": [],
   "source": [
    "from joblib import dump\n",
    "from scipy.sparse import csr_matrix"
   ]
  },
  {
   "cell_type": "code",
   "execution_count": 65,
   "metadata": {
    "ExecuteTime": {
     "end_time": "2021-03-25T21:21:18.531440Z",
     "start_time": "2021-03-25T21:21:16.651897Z"
    }
   },
   "outputs": [],
   "source": [
    "rule_matches_sparse = csr_matrix(rule_matches)"
   ]
  },
  {
   "cell_type": "code",
   "execution_count": 66,
   "metadata": {
    "ExecuteTime": {
     "end_time": "2021-03-25T21:21:18.602061Z",
     "start_time": "2021-03-25T21:21:18.536108Z"
    }
   },
   "outputs": [
    {
     "data": {
      "text/plain": [
       "['../../../data/data_from_minio/imdb/mapping_rules_labels.lib']"
      ]
     },
     "execution_count": 66,
     "metadata": {},
     "output_type": "execute_result"
    }
   ],
   "source": [
    "dump(rule_matches_sparse, os.path.join(data_path, \"rule_matches.lib\"))\n",
    "dump(mapping_rules_labels,  os.path.join(data_path, \"mapping_rules_labels.lib\"))"
   ]
  },
  {
   "cell_type": "markdown",
   "metadata": {},
   "source": [
    "We also save the preprocessed texts with labels to use them later to evalutate a classifier."
   ]
  },
  {
   "cell_type": "code",
   "execution_count": 67,
   "metadata": {
    "ExecuteTime": {
     "end_time": "2021-03-25T21:21:18.614391Z",
     "start_time": "2021-03-25T21:21:18.604764Z"
    }
   },
   "outputs": [],
   "source": [
    "imdb_dataset_raw['label_id'] = imdb_dataset_raw.sentiment.map({'positive':POSITIVE, 'negative':NEGATIVE})"
   ]
  },
  {
   "cell_type": "code",
   "execution_count": 68,
   "metadata": {
    "ExecuteTime": {
     "end_time": "2021-03-25T21:21:21.006406Z",
     "start_time": "2021-03-25T21:21:18.616114Z"
    }
   },
   "outputs": [],
   "source": [
    "imdb_dataset_raw.to_csv(os.path.join(data_path, 'imdb_data_preprocessed.csv'), index=None)"
   ]
  },
  {
   "cell_type": "code",
   "execution_count": 69,
   "metadata": {
    "ExecuteTime": {
     "end_time": "2021-03-25T21:21:21.025687Z",
     "start_time": "2021-03-25T21:21:21.009091Z"
    }
   },
   "outputs": [],
   "source": [
    "all_keywords.to_csv(os.path.join(data_path, 'keywords.csv'), index=None)"
   ]
  },
  {
   "cell_type": "code",
   "execution_count": 70,
   "metadata": {
    "ExecuteTime": {
     "end_time": "2021-03-25T21:21:21.031304Z",
     "start_time": "2021-03-25T21:21:21.027316Z"
    }
   },
   "outputs": [
    {
     "data": {
      "text/plain": [
       "['rule_matches.lib',\n",
       " 'keywords.csv',\n",
       " 'positive-words.txt',\n",
       " 'imdb_data_preprocessed.csv',\n",
       " 'mapping_rules_labels.lib',\n",
       " 'IMDB Dataset.csv',\n",
       " 'negative-words.txt']"
      ]
     },
     "execution_count": 70,
     "metadata": {},
     "output_type": "execute_result"
    }
   ],
   "source": [
    "os.listdir(data_path)"
   ]
  },
  {
   "cell_type": "markdown",
   "metadata": {},
   "source": [
    "# Finish\n",
    "\n",
    "Now, we have created a weak supervision dataset. Of course it is not perfect but it is something with which we can compare performances of different denoising methods with. :-) "
   ]
  }
 ],
 "metadata": {
  "kernelspec": {
   "display_name": "Python 3",
   "language": "python",
   "name": "python3"
  },
  "language_info": {
   "codemirror_mode": {
    "name": "ipython",
    "version": 3
   },
   "file_extension": ".py",
   "mimetype": "text/x-python",
   "name": "python",
   "nbconvert_exporter": "python",
   "pygments_lexer": "ipython3",
   "version": "3.8.5"
  }
 },
 "nbformat": 4,
 "nbformat_minor": 4
}
