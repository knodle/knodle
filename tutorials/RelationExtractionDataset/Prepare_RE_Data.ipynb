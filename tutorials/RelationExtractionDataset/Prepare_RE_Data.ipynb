{
 "cells": [
  {
   "cell_type": "code",
   "execution_count": 21,
   "metadata": {},
   "outputs": [
    {
     "name": "stderr",
     "output_type": "stream",
     "text": [
      "/opt/anaconda3/lib/python3.8/site-packages/tqdm/std.py:668: FutureWarning: The Panel class is removed from pandas. Accessing it from the top-level namespace will also be removed in the next version\n",
      "  from pandas import Panel\n"
     ]
    }
   ],
   "source": [
    "from sklearn.datasets import fetch_20newsgroups\n",
    "from pprint import pprint\n",
    "from IPython.display import display, HTML\n",
    "import urllib\n",
    "import spacy\n",
    "import sklearn\n",
    "import pandas as pd\n",
    "import en_core_web_sm\n",
    "import re\n",
    "import itertools\n",
    "from tqdm import tqdm\n",
    "tqdm.pandas()\n",
    "\n",
    "pd.set_option('display.max_colwidth', -1)"
   ]
  },
  {
   "cell_type": "code",
   "execution_count": 22,
   "metadata": {},
   "outputs": [],
   "source": [
    "ARG1 = \"$ARG1\"\n",
    "ARG2 = \"$ARG2\"\n",
    "FINAL_DF_COLUMNS = ['sample', 'extr_sample', 'pattern', 'weak_label', 'gold_label']\n",
    "\n",
    "conll_file = \"dev.conll\""
   ]
  },
  {
   "cell_type": "code",
   "execution_count": 23,
   "metadata": {},
   "outputs": [],
   "source": [
    "def escape_dollar(strings):\n",
    "    return [re.sub(\"\\\\$\", \"\\\\\\\\$\", str(string)) for string in strings]"
   ]
  },
  {
   "cell_type": "markdown",
   "metadata": {},
   "source": [
    "Upload the CONLL Data"
   ]
  },
  {
   "cell_type": "code",
   "execution_count": 24,
   "metadata": {},
   "outputs": [],
   "source": [
    "def process_data(path_to_data):\n",
    "    samples, relations = [], []\n",
    "    with open(path_to_data, encoding='utf-8') as f:\n",
    "        for line in f:\n",
    "            line = line.strip()\n",
    "            if line.startswith(\"# id=\"):    # Instance starts\n",
    "                sample = \"\"\n",
    "                label = line.split(\" \")[3][5:]\n",
    "            elif line == \"\":  # Instance ends\n",
    "                samples.append(sample)\n",
    "                relations.append(label)\n",
    "            elif line.startswith(\"#\"):  # comment\n",
    "                continue\n",
    "            else:\n",
    "                parts = line.split(\"\\t\")\n",
    "                token = parts[1]\n",
    "                if token == \"-LRB-\":\n",
    "                    token = \"(\"\n",
    "                elif token == \"-RRB-\":\n",
    "                    token = \")\"\n",
    "                sample += \" \" + token\n",
    "    return pd.DataFrame.from_dict({\"sample\": samples, \"label\": relations})\n",
    "\n",
    "samples = process_data(conll_file)"
   ]
  },
  {
   "cell_type": "markdown",
   "metadata": {},
   "source": [
    "Let's inspect all relation labels that we have in our dataset"
   ]
  },
  {
   "cell_type": "code",
   "execution_count": 25,
   "metadata": {},
   "outputs": [
    {
     "name": "stdout",
     "output_type": "stream",
     "text": [
      "{'org:website', 'org:alternate_names', 'per:other_family', 'org:number_of_employees/members', 'per:parents', 'per:country_of_death', 'per:cities_of_residence', 'per:city_of_death', 'org:top_members/employees', 'per:stateorprovince_of_birth', 'per:date_of_birth', 'per:stateorprovince_of_death', 'org:members', 'per:employee_of', 'org:city_of_headquarters', 'per:siblings', 'per:children', 'per:countries_of_residence', 'per:cause_of_death', 'no_relation', 'org:parents', 'per:schools_attended', 'per:country_of_birth', 'org:shareholders', 'org:subsidiaries', 'org:country_of_headquarters', 'per:title', 'per:religion', 'org:stateorprovince_of_headquarters', 'per:stateorprovinces_of_residence', 'org:founded', 'org:dissolved', 'org:member_of', 'per:charges', 'per:date_of_death', 'org:founded_by', 'org:political/religious_affiliation', 'per:age', 'per:origin', 'per:alternate_names', 'per:city_of_birth', 'per:spouse'}\n"
     ]
    }
   ],
   "source": [
    "print(set(samples[\"label\"]))"
   ]
  },
  {
   "cell_type": "markdown",
   "metadata": {},
   "source": [
    "To make the calculation quicklier, let's choose only the samples that contain a relation (that is, labelled not with \"no_relation\" label). Moreover, let's reduce the number of relation we want to find and choose 5 relations from the TACRED relation labels."
   ]
  },
  {
   "cell_type": "code",
   "execution_count": 26,
   "metadata": {},
   "outputs": [],
   "source": [
    "selected_samples = samples[samples[\"label\"]!='no_relation'].sample(n=400, random_state=5)"
   ]
  },
  {
   "cell_type": "code",
   "execution_count": 27,
   "metadata": {},
   "outputs": [
    {
     "data": {
      "text/html": [
       "<div>\n",
       "<style scoped>\n",
       "    .dataframe tbody tr th:only-of-type {\n",
       "        vertical-align: middle;\n",
       "    }\n",
       "\n",
       "    .dataframe tbody tr th {\n",
       "        vertical-align: top;\n",
       "    }\n",
       "\n",
       "    .dataframe thead th {\n",
       "        text-align: right;\n",
       "    }\n",
       "</style>\n",
       "<table border=\"1\" class=\"dataframe\">\n",
       "  <thead>\n",
       "    <tr style=\"text-align: right;\">\n",
       "      <th></th>\n",
       "      <th>sample</th>\n",
       "      <th>label</th>\n",
       "    </tr>\n",
       "  </thead>\n",
       "  <tbody>\n",
       "    <tr>\n",
       "      <th>10731</th>\n",
       "      <td>French filmmaker Claude Chabrol dies at 80</td>\n",
       "      <td>per:title</td>\n",
       "    </tr>\n",
       "    <tr>\n",
       "      <th>14931</th>\n",
       "      <td>But in a reversal of that decision by former CEO Stuart Rose , Bolland said he will cut the range of non-M &amp; S branded foodstuffs from 400 lines to 100 , leaving products the company itself can not replicate .</td>\n",
       "      <td>per:title</td>\n",
       "    </tr>\n",
       "    <tr>\n",
       "      <th>10047</th>\n",
       "      <td>Neal succumbed to complications from lung cancer in Edgarton , Massachussetts , Julie Dougherty , marketing manager of the Patricia Neal Rehabilitation Center in Knoxville , Tennessee , told AFP .</td>\n",
       "      <td>per:country_of_death</td>\n",
       "    </tr>\n",
       "    <tr>\n",
       "      <th>23392</th>\n",
       "      <td>Deshpande made a fortune in communications companies and is chairman of battery-maker A123 Systems .</td>\n",
       "      <td>org:top_members/employees</td>\n",
       "    </tr>\n",
       "    <tr>\n",
       "      <th>17081</th>\n",
       "      <td>CHICAGO 2009-11-10 00:25:56 UTC The filings are part of prosecutors ' efforts to bolster their case that Chicago grocery store owner and immigration counselor Tahawwur Rana , 48 , should not be freed on bond pending resolution of terrorism charges against him and David C Headley .</td>\n",
       "      <td>per:title</td>\n",
       "    </tr>\n",
       "  </tbody>\n",
       "</table>\n",
       "</div>"
      ],
      "text/plain": [
       "                                                                                                                                                                                                                                                                                           sample  \\\n",
       "10731   French filmmaker Claude Chabrol dies at 80                                                                                                                                                                                                                                                  \n",
       "14931   But in a reversal of that decision by former CEO Stuart Rose , Bolland said he will cut the range of non-M & S branded foodstuffs from 400 lines to 100 , leaving products the company itself can not replicate .                                                                           \n",
       "10047   Neal succumbed to complications from lung cancer in Edgarton , Massachussetts , Julie Dougherty , marketing manager of the Patricia Neal Rehabilitation Center in Knoxville , Tennessee , told AFP .                                                                                        \n",
       "23392   Deshpande made a fortune in communications companies and is chairman of battery-maker A123 Systems .                                                                                                                                                                                        \n",
       "17081   CHICAGO 2009-11-10 00:25:56 UTC The filings are part of prosecutors ' efforts to bolster their case that Chicago grocery store owner and immigration counselor Tahawwur Rana , 48 , should not be freed on bond pending resolution of terrorism charges against him and David C Headley .   \n",
       "\n",
       "                           label  \n",
       "10731  per:title                  \n",
       "14931  per:title                  \n",
       "10047  per:country_of_death       \n",
       "23392  org:top_members/employees  \n",
       "17081  per:title                  "
      ]
     },
     "execution_count": 27,
     "metadata": {},
     "output_type": "execute_result"
    }
   ],
   "source": [
    "selected_samples.head()"
   ]
  },
  {
   "cell_type": "markdown",
   "metadata": {},
   "source": [
    "In order to turn the data into distantly supervised one, let's write down for each relation a couple of simple patterns that could help us to find the relations\n"
   ]
  },
  {
   "cell_type": "code",
   "execution_count": 28,
   "metadata": {},
   "outputs": [],
   "source": [
    "relation_patterns_df = pd.DataFrame.from_dict({\"org:alternate_names\": \n",
    "                                               [[\"$ARG1 ( $ARG2 \",\n",
    "                                                 \"$ARG1 formerly known as $ARG2\",\n",
    "                                                 \"$ARG1 aka $ARG2\", \n",
    "                                                 \"$ARG1 ( also known as $ARG2 )\"]],\n",
    "                                               \"per:date_of_birth\": \n",
    "                                               [[\"$ARG1 ( born $ARG2 )\", \n",
    "                                                 \"$ARG1 ( born $ARG2 in\",\n",
    "                                                 \"$ARG1 ( $ARG2 -\",\n",
    "                                                 \"$ARG1 was born in $ARG2\"]],\n",
    "                                               \"org:top_members/employees\":\n",
    "                                                [[\"$ARG1 , executive director of $ARG2\",\n",
    "                                                  \"$ARG1 , head of $ARG2\",\n",
    "                                                  \"$ARG1 , who heads $ARG2\",\n",
    "                                                  \"$ARG1 , chief executive of $ARG2\"]]}, \n",
    "                                              orient='index', columns = [\"raw pattern\"])"
   ]
  },
  {
   "cell_type": "code",
   "execution_count": 29,
   "metadata": {
    "scrolled": true
   },
   "outputs": [
    {
     "data": {
      "text/html": [
       "<div>\n",
       "<style scoped>\n",
       "    .dataframe tbody tr th:only-of-type {\n",
       "        vertical-align: middle;\n",
       "    }\n",
       "\n",
       "    .dataframe tbody tr th {\n",
       "        vertical-align: top;\n",
       "    }\n",
       "\n",
       "    .dataframe thead th {\n",
       "        text-align: right;\n",
       "    }\n",
       "</style>\n",
       "<table border=\"1\" class=\"dataframe\">\n",
       "  <thead>\n",
       "    <tr style=\"text-align: right;\">\n",
       "      <th></th>\n",
       "      <th>raw pattern</th>\n",
       "    </tr>\n",
       "  </thead>\n",
       "  <tbody>\n",
       "    <tr>\n",
       "      <th>org:alternate_names</th>\n",
       "      <td>['\\$ARG1 ( \\$ARG2 ', '\\$ARG1 formerly known as \\$ARG2', '\\$ARG1 aka \\$ARG2', '\\$ARG1 ( also known as \\$ARG2 )']</td>\n",
       "    </tr>\n",
       "    <tr>\n",
       "      <th>per:date_of_birth</th>\n",
       "      <td>['\\$ARG1 ( born \\$ARG2 )', '\\$ARG1 ( born \\$ARG2 in', '\\$ARG1 ( \\$ARG2 -', '\\$ARG1 was born in \\$ARG2']</td>\n",
       "    </tr>\n",
       "    <tr>\n",
       "      <th>org:top_members/employees</th>\n",
       "      <td>['\\$ARG1 , executive director of \\$ARG2', '\\$ARG1 , head of \\$ARG2', '\\$ARG1 , who heads \\$ARG2', '\\$ARG1 , chief executive of \\$ARG2']</td>\n",
       "    </tr>\n",
       "  </tbody>\n",
       "</table>\n",
       "</div>"
      ],
      "text/plain": [
       "                                                                                                                                                       raw pattern\n",
       "org:alternate_names        ['\\$ARG1 ( \\$ARG2 ', '\\$ARG1 formerly known as \\$ARG2', '\\$ARG1 aka \\$ARG2', '\\$ARG1 ( also known as \\$ARG2 )']                        \n",
       "per:date_of_birth          ['\\$ARG1 ( born \\$ARG2 )', '\\$ARG1 ( born \\$ARG2 in', '\\$ARG1 ( \\$ARG2 -', '\\$ARG1 was born in \\$ARG2']                                \n",
       "org:top_members/employees  ['\\$ARG1 , executive director of \\$ARG2', '\\$ARG1 , head of \\$ARG2', '\\$ARG1 , who heads \\$ARG2', '\\$ARG1 , chief executive of \\$ARG2']"
      ]
     },
     "execution_count": 29,
     "metadata": {},
     "output_type": "execute_result"
    }
   ],
   "source": [
    "relation_patterns_df.apply(lambda x: escape_dollar(x)).head()"
   ]
  },
  {
   "cell_type": "markdown",
   "metadata": {
    "pycharm": {
     "name": "#%% md\n"
    }
   },
   "source": [
    "Since we want to make a simple regex search, convert patterns into regexes"
   ]
  },
  {
   "cell_type": "code",
   "execution_count": 30,
   "metadata": {
    "pycharm": {
     "name": "#%%\n"
    }
   },
   "outputs": [],
   "source": [
    "def preprocess_patterns(patterns):\n",
    "    regex_patterns = [re.sub(\"\\\\\\\\\\\\$ARG\", \"(A )?(a )?(The )?(the )?\\\\$ARG\", re.escape(pattern)) for pattern in patterns]\n",
    "    return regex_patterns\n",
    "\n",
    "relation_patterns_df[\"regex pattern\"] = relation_patterns_df[\"raw pattern\"].apply(preprocess_patterns)"
   ]
  },
  {
   "cell_type": "code",
   "execution_count": 31,
   "metadata": {},
   "outputs": [
    {
     "data": {
      "text/html": [
       "<div>\n",
       "<style scoped>\n",
       "    .dataframe tbody tr th:only-of-type {\n",
       "        vertical-align: middle;\n",
       "    }\n",
       "\n",
       "    .dataframe tbody tr th {\n",
       "        vertical-align: top;\n",
       "    }\n",
       "\n",
       "    .dataframe thead th {\n",
       "        text-align: right;\n",
       "    }\n",
       "</style>\n",
       "<table border=\"1\" class=\"dataframe\">\n",
       "  <thead>\n",
       "    <tr style=\"text-align: right;\">\n",
       "      <th></th>\n",
       "      <th>raw pattern</th>\n",
       "      <th>regex pattern</th>\n",
       "    </tr>\n",
       "  </thead>\n",
       "  <tbody>\n",
       "    <tr>\n",
       "      <th>org:alternate_names</th>\n",
       "      <td>['\\$ARG1 ( \\$ARG2 ', '\\$ARG1 formerly known as \\$ARG2', '\\$ARG1 aka \\$ARG2', '\\$ARG1 ( also known as \\$ARG2 )']</td>\n",
       "      <td>['(A )?(a )?(The )?(the )?\\\\\\$ARG1\\\\ \\\\(\\\\ (A )?(a )?(The )?(the )?\\\\\\$ARG2\\\\ ', '(A )?(a )?(The )?(the )?\\\\\\$ARG1\\\\ formerly\\\\ known\\\\ as\\\\ (A )?(a )?(The )?(the )?\\\\\\$ARG2', '(A )?(a )?(The )?(the )?\\\\\\$ARG1\\\\ aka\\\\ (A )?(a )?(The )?(the )?\\\\\\$ARG2', '(A )?(a )?(The )?(the )?\\\\\\$ARG1\\\\ \\\\(\\\\ also\\\\ known\\\\ as\\\\ (A )?(a )?(The )?(the )?\\\\\\$ARG2\\\\ \\\\)']</td>\n",
       "    </tr>\n",
       "    <tr>\n",
       "      <th>per:date_of_birth</th>\n",
       "      <td>['\\$ARG1 ( born \\$ARG2 )', '\\$ARG1 ( born \\$ARG2 in', '\\$ARG1 ( \\$ARG2 -', '\\$ARG1 was born in \\$ARG2']</td>\n",
       "      <td>['(A )?(a )?(The )?(the )?\\\\\\$ARG1\\\\ \\\\(\\\\ born\\\\ (A )?(a )?(The )?(the )?\\\\\\$ARG2\\\\ \\\\)', '(A )?(a )?(The )?(the )?\\\\\\$ARG1\\\\ \\\\(\\\\ born\\\\ (A )?(a )?(The )?(the )?\\\\\\$ARG2\\\\ in', '(A )?(a )?(The )?(the )?\\\\\\$ARG1\\\\ \\\\(\\\\ (A )?(a )?(The )?(the )?\\\\\\$ARG2\\\\ \\\\-', '(A )?(a )?(The )?(the )?\\\\\\$ARG1\\\\ was\\\\ born\\\\ in\\\\ (A )?(a )?(The )?(the )?\\\\\\$ARG2']</td>\n",
       "    </tr>\n",
       "    <tr>\n",
       "      <th>org:top_members/employees</th>\n",
       "      <td>['\\$ARG1 , executive director of \\$ARG2', '\\$ARG1 , head of \\$ARG2', '\\$ARG1 , who heads \\$ARG2', '\\$ARG1 , chief executive of \\$ARG2']</td>\n",
       "      <td>['(A )?(a )?(The )?(the )?\\\\\\$ARG1\\\\ ,\\\\ executive\\\\ director\\\\ of\\\\ (A )?(a )?(The )?(the )?\\\\\\$ARG2', '(A )?(a )?(The )?(the )?\\\\\\$ARG1\\\\ ,\\\\ head\\\\ of\\\\ (A )?(a )?(The )?(the )?\\\\\\$ARG2', '(A )?(a )?(The )?(the )?\\\\\\$ARG1\\\\ ,\\\\ who\\\\ heads\\\\ (A )?(a )?(The )?(the )?\\\\\\$ARG2', '(A )?(a )?(The )?(the )?\\\\\\$ARG1\\\\ ,\\\\ chief\\\\ executive\\\\ of\\\\ (A )?(a )?(The )?(the )?\\\\\\$ARG2']</td>\n",
       "    </tr>\n",
       "  </tbody>\n",
       "</table>\n",
       "</div>"
      ],
      "text/plain": [
       "                                                                                                                                                       raw pattern  \\\n",
       "org:alternate_names        ['\\$ARG1 ( \\$ARG2 ', '\\$ARG1 formerly known as \\$ARG2', '\\$ARG1 aka \\$ARG2', '\\$ARG1 ( also known as \\$ARG2 )']                           \n",
       "per:date_of_birth          ['\\$ARG1 ( born \\$ARG2 )', '\\$ARG1 ( born \\$ARG2 in', '\\$ARG1 ( \\$ARG2 -', '\\$ARG1 was born in \\$ARG2']                                   \n",
       "org:top_members/employees  ['\\$ARG1 , executive director of \\$ARG2', '\\$ARG1 , head of \\$ARG2', '\\$ARG1 , who heads \\$ARG2', '\\$ARG1 , chief executive of \\$ARG2']   \n",
       "\n",
       "                                                                                                                                                                                                                                                                                                                                                                                                         regex pattern  \n",
       "org:alternate_names        ['(A )?(a )?(The )?(the )?\\\\\\$ARG1\\\\ \\\\(\\\\ (A )?(a )?(The )?(the )?\\\\\\$ARG2\\\\ ', '(A )?(a )?(The )?(the )?\\\\\\$ARG1\\\\ formerly\\\\ known\\\\ as\\\\ (A )?(a )?(The )?(the )?\\\\\\$ARG2', '(A )?(a )?(The )?(the )?\\\\\\$ARG1\\\\ aka\\\\ (A )?(a )?(The )?(the )?\\\\\\$ARG2', '(A )?(a )?(The )?(the )?\\\\\\$ARG1\\\\ \\\\(\\\\ also\\\\ known\\\\ as\\\\ (A )?(a )?(The )?(the )?\\\\\\$ARG2\\\\ \\\\)']                          \n",
       "per:date_of_birth          ['(A )?(a )?(The )?(the )?\\\\\\$ARG1\\\\ \\\\(\\\\ born\\\\ (A )?(a )?(The )?(the )?\\\\\\$ARG2\\\\ \\\\)', '(A )?(a )?(The )?(the )?\\\\\\$ARG1\\\\ \\\\(\\\\ born\\\\ (A )?(a )?(The )?(the )?\\\\\\$ARG2\\\\ in', '(A )?(a )?(The )?(the )?\\\\\\$ARG1\\\\ \\\\(\\\\ (A )?(a )?(The )?(the )?\\\\\\$ARG2\\\\ \\\\-', '(A )?(a )?(The )?(the )?\\\\\\$ARG1\\\\ was\\\\ born\\\\ in\\\\ (A )?(a )?(The )?(the )?\\\\\\$ARG2']                              \n",
       "org:top_members/employees  ['(A )?(a )?(The )?(the )?\\\\\\$ARG1\\\\ ,\\\\ executive\\\\ director\\\\ of\\\\ (A )?(a )?(The )?(the )?\\\\\\$ARG2', '(A )?(a )?(The )?(the )?\\\\\\$ARG1\\\\ ,\\\\ head\\\\ of\\\\ (A )?(a )?(The )?(the )?\\\\\\$ARG2', '(A )?(a )?(The )?(the )?\\\\\\$ARG1\\\\ ,\\\\ who\\\\ heads\\\\ (A )?(a )?(The )?(the )?\\\\\\$ARG2', '(A )?(a )?(The )?(the )?\\\\\\$ARG1\\\\ ,\\\\ chief\\\\ executive\\\\ of\\\\ (A )?(a )?(The )?(the )?\\\\\\$ARG2']  "
      ]
     },
     "execution_count": 31,
     "metadata": {},
     "output_type": "execute_result"
    }
   ],
   "source": [
    "relation_patterns_df.apply(lambda x: escape_dollar(x)).head()"
   ]
  },
  {
   "cell_type": "markdown",
   "metadata": {
    "pycharm": {
     "name": "#%% md\n"
    }
   },
   "source": [
    "Now we can simply search patterns in the sentences. Because of the speed reasons, let's take only samples where we will definetly find smth :)"
   ]
  },
  {
   "cell_type": "code",
   "execution_count": 32,
   "metadata": {},
   "outputs": [],
   "source": [
    "analyzer = spacy.load(\"en_core_web_sm\")\n",
    "selected_samples[\"spacy info\"] = selected_samples[\"sample\"].apply(lambda x: analyzer(x).to_json())"
   ]
  },
  {
   "cell_type": "markdown",
   "metadata": {
    "pycharm": {
     "name": "#%% md\n"
    }
   },
   "source": [
    "After that, take the arguments pairwise in each sentence and try if there is a pattern match"
   ]
  },
  {
   "cell_type": "code",
   "execution_count": 33,
   "metadata": {
    "pycharm": {
     "name": "#%%\n"
    }
   },
   "outputs": [],
   "source": [
    "def get_extracted_sample(sample):\n",
    "    return [(ARG1 + sample[\"text\"][ent1[\"end\"]:ent2[\"start\"]] + ARG2) if ent1[\"end\"] < ent2[\"end\"] \n",
    "            else (ARG2 + sample[\"text\"][ent2[\"end\"]:ent1[\"start\"]] + ARG1)\n",
    "            for ent1, ent2 in itertools.permutations(sample[\"ents\"],2)]\n",
    "\n",
    "selected_samples[\"extr\"] = selected_samples[\"spacy info\"].apply(lambda x: get_extracted_sample(x))"
   ]
  },
  {
   "cell_type": "code",
   "execution_count": 35,
   "metadata": {},
   "outputs": [
    {
     "data": {
      "text/html": [
       "<div>\n",
       "<style scoped>\n",
       "    .dataframe tbody tr th:only-of-type {\n",
       "        vertical-align: middle;\n",
       "    }\n",
       "\n",
       "    .dataframe tbody tr th {\n",
       "        vertical-align: top;\n",
       "    }\n",
       "\n",
       "    .dataframe thead th {\n",
       "        text-align: right;\n",
       "    }\n",
       "</style>\n",
       "<table border=\"1\" class=\"dataframe\">\n",
       "  <thead>\n",
       "    <tr style=\"text-align: right;\">\n",
       "      <th></th>\n",
       "      <th>sample</th>\n",
       "      <th>label</th>\n",
       "      <th>extr</th>\n",
       "    </tr>\n",
       "  </thead>\n",
       "  <tbody>\n",
       "    <tr>\n",
       "      <th>10731</th>\n",
       "      <td>French filmmaker Claude Chabrol dies at 80</td>\n",
       "      <td>per:title</td>\n",
       "      <td>['\\$ARG1 filmmaker \\$ARG2', '\\$ARG1 filmmaker Claude Chabrol dies at \\$ARG2', '\\$ARG2 filmmaker \\$ARG1', '\\$ARG1 dies at \\$ARG2', '\\$ARG2 filmmaker Claude Chabrol dies at \\$ARG1', '\\$ARG2 dies at \\$ARG1']</td>\n",
       "    </tr>\n",
       "    <tr>\n",
       "      <th>14931</th>\n",
       "      <td>But in a reversal of that decision by former CEO Stuart Rose , Bolland said he will cut the range of non-M &amp; S branded foodstuffs from 400 lines to 100 , leaving products the company itself can not replicate .</td>\n",
       "      <td>per:title</td>\n",
       "      <td>['\\$ARG1 , \\$ARG2', '\\$ARG1 , Bolland said he will cut the range of \\$ARG2', '\\$ARG1 , Bolland said he will cut the range of non-M &amp; S branded foodstuffs from \\$ARG2', '\\$ARG1 , Bolland said he will cut the range of non-M &amp; S branded foodstuffs from 400 lines to \\$ARG2', '\\$ARG2 , \\$ARG1', '\\$ARG1 said he will cut the range of \\$ARG2', '\\$ARG1 said he will cut the range of non-M &amp; S branded foodstuffs from \\$ARG2', '\\$ARG1 said he will cut the range of non-M &amp; S branded foodstuffs from 400 lines to \\$ARG2', '\\$ARG2 , Bolland said he will cut the range of \\$ARG1', '\\$ARG2 said he will cut the range of \\$ARG1', '\\$ARG1 branded foodstuffs from \\$ARG2', '\\$ARG1 branded foodstuffs from 400 lines to \\$ARG2', '\\$ARG2 , Bolland said he will cut the range of non-M &amp; S branded foodstuffs from \\$ARG1', '\\$ARG2 said he will cut the range of non-M &amp; S branded foodstuffs from \\$ARG1', '\\$ARG2 branded foodstuffs from \\$ARG1', '\\$ARG1 lines to \\$ARG2', '\\$ARG2 , Bolland said he will cut the range of non-M &amp; S branded foodstuffs from 400 lines to \\$ARG1', '\\$ARG2 said he will cut the range of non-M &amp; S branded foodstuffs from 400 lines to \\$ARG1', '\\$ARG2 branded foodstuffs from 400 lines to \\$ARG1', '\\$ARG2 lines to \\$ARG1']</td>\n",
       "    </tr>\n",
       "    <tr>\n",
       "      <th>10047</th>\n",
       "      <td>Neal succumbed to complications from lung cancer in Edgarton , Massachussetts , Julie Dougherty , marketing manager of the Patricia Neal Rehabilitation Center in Knoxville , Tennessee , told AFP .</td>\n",
       "      <td>per:country_of_death</td>\n",
       "      <td>['\\$ARG1 succumbed to complications from lung cancer in \\$ARG2', '\\$ARG1 succumbed to complications from lung cancer in Edgarton , \\$ARG2', '\\$ARG1 succumbed to complications from lung cancer in Edgarton , Massachussetts , Julie Dougherty , marketing manager of \\$ARG2', '\\$ARG1 succumbed to complications from lung cancer in Edgarton , Massachussetts , Julie Dougherty , marketing manager of the Patricia Neal Rehabilitation Center in \\$ARG2', '\\$ARG1 succumbed to complications from lung cancer in Edgarton , Massachussetts , Julie Dougherty , marketing manager of the Patricia Neal Rehabilitation Center in Knoxville , \\$ARG2', '\\$ARG1 succumbed to complications from lung cancer in Edgarton , Massachussetts , Julie Dougherty , marketing manager of the Patricia Neal Rehabilitation Center in Knoxville , Tennessee , told \\$ARG2', '\\$ARG2 succumbed to complications from lung cancer in \\$ARG1', '\\$ARG1 , \\$ARG2', '\\$ARG1 , Massachussetts , Julie Dougherty , marketing manager of \\$ARG2', '\\$ARG1 , Massachussetts , Julie Dougherty , marketing manager of the Patricia Neal Rehabilitation Center in \\$ARG2', '\\$ARG1 , Massachussetts , Julie Dougherty , marketing manager of the Patricia Neal Rehabilitation Center in Knoxville , \\$ARG2', '\\$ARG1 , Massachussetts , Julie Dougherty , marketing manager of the Patricia Neal Rehabilitation Center in Knoxville , Tennessee , told \\$ARG2', '\\$ARG2 succumbed to complications from lung cancer in Edgarton , \\$ARG1', '\\$ARG2 , \\$ARG1', '\\$ARG1 , Julie Dougherty , marketing manager of \\$ARG2', '\\$ARG1 , Julie Dougherty , marketing manager of the Patricia Neal Rehabilitation Center in \\$ARG2', '\\$ARG1 , Julie Dougherty , marketing manager of the Patricia Neal Rehabilitation Center in Knoxville , \\$ARG2', '\\$ARG1 , Julie Dougherty , marketing manager of the Patricia Neal Rehabilitation Center in Knoxville , Tennessee , told \\$ARG2', '\\$ARG2 succumbed to complications from lung cancer in Edgarton , Massachussetts , Julie Dougherty , marketing manager of \\$ARG1', '\\$ARG2 , Massachussetts , Julie Dougherty , marketing manager of \\$ARG1', '\\$ARG2 , Julie Dougherty , marketing manager of \\$ARG1', '\\$ARG1 in \\$ARG2', '\\$ARG1 in Knoxville , \\$ARG2', '\\$ARG1 in Knoxville , Tennessee , told \\$ARG2', '\\$ARG2 succumbed to complications from lung cancer in Edgarton , Massachussetts , Julie Dougherty , marketing manager of the Patricia Neal Rehabilitation Center in \\$ARG1', '\\$ARG2 , Massachussetts , Julie Dougherty , marketing manager of the Patricia Neal Rehabilitation Center in \\$ARG1', '\\$ARG2 , Julie Dougherty , marketing manager of the Patricia Neal Rehabilitation Center in \\$ARG1', '\\$ARG2 in \\$ARG1', '\\$ARG1 , \\$ARG2', '\\$ARG1 , Tennessee , told \\$ARG2', '\\$ARG2 succumbed to complications from lung cancer in Edgarton , Massachussetts , Julie Dougherty , marketing manager of the Patricia Neal Rehabilitation Center in Knoxville , \\$ARG1', '\\$ARG2 , Massachussetts , Julie Dougherty , marketing manager of the Patricia Neal Rehabilitation Center in Knoxville , \\$ARG1', '\\$ARG2 , Julie Dougherty , marketing manager of the Patricia Neal Rehabilitation Center in Knoxville , \\$ARG1', '\\$ARG2 in Knoxville , \\$ARG1', '\\$ARG2 , \\$ARG1', '\\$ARG1 , told \\$ARG2', '\\$ARG2 succumbed to complications from lung cancer in Edgarton , Massachussetts , Julie Dougherty , marketing manager of the Patricia Neal Rehabilitation Center in Knoxville , Tennessee , told \\$ARG1', '\\$ARG2 , Massachussetts , Julie Dougherty , marketing manager of the Patricia Neal Rehabilitation Center in Knoxville , Tennessee , told \\$ARG1', '\\$ARG2 , Julie Dougherty , marketing manager of the Patricia Neal Rehabilitation Center in Knoxville , Tennessee , told \\$ARG1', '\\$ARG2 in Knoxville , Tennessee , told \\$ARG1', '\\$ARG2 , Tennessee , told \\$ARG1', '\\$ARG2 , told \\$ARG1']</td>\n",
       "    </tr>\n",
       "    <tr>\n",
       "      <th>23392</th>\n",
       "      <td>Deshpande made a fortune in communications companies and is chairman of battery-maker A123 Systems .</td>\n",
       "      <td>org:top_members/employees</td>\n",
       "      <td>['\\$ARG1 made a fortune in communications companies and is chairman of battery-maker \\$ARG2', '\\$ARG2 made a fortune in communications companies and is chairman of battery-maker \\$ARG1']</td>\n",
       "    </tr>\n",
       "    <tr>\n",
       "      <th>17081</th>\n",
       "      <td>CHICAGO 2009-11-10 00:25:56 UTC The filings are part of prosecutors ' efforts to bolster their case that Chicago grocery store owner and immigration counselor Tahawwur Rana , 48 , should not be freed on bond pending resolution of terrorism charges against him and David C Headley .</td>\n",
       "      <td>per:title</td>\n",
       "      <td>['\\$ARG1 grocery store owner and immigration counselor \\$ARG2', '\\$ARG1 grocery store owner and immigration counselor Tahawwur Rana , \\$ARG2', '\\$ARG1 grocery store owner and immigration counselor Tahawwur Rana , 48 , should not be freed on bond pending resolution of terrorism charges against him and \\$ARG2', '\\$ARG2 grocery store owner and immigration counselor \\$ARG1', '\\$ARG1 , \\$ARG2', '\\$ARG1 , 48 , should not be freed on bond pending resolution of terrorism charges against him and \\$ARG2', '\\$ARG2 grocery store owner and immigration counselor Tahawwur Rana , \\$ARG1', '\\$ARG2 , \\$ARG1', '\\$ARG1 , should not be freed on bond pending resolution of terrorism charges against him and \\$ARG2', '\\$ARG2 grocery store owner and immigration counselor Tahawwur Rana , 48 , should not be freed on bond pending resolution of terrorism charges against him and \\$ARG1', '\\$ARG2 , 48 , should not be freed on bond pending resolution of terrorism charges against him and \\$ARG1', '\\$ARG2 , should not be freed on bond pending resolution of terrorism charges against him and \\$ARG1']</td>\n",
       "    </tr>\n",
       "  </tbody>\n",
       "</table>\n",
       "</div>"
      ],
      "text/plain": [
       "                                                                                                                                                                                                                                                                                           sample  \\\n",
       "10731   French filmmaker Claude Chabrol dies at 80                                                                                                                                                                                                                                                  \n",
       "14931   But in a reversal of that decision by former CEO Stuart Rose , Bolland said he will cut the range of non-M & S branded foodstuffs from 400 lines to 100 , leaving products the company itself can not replicate .                                                                           \n",
       "10047   Neal succumbed to complications from lung cancer in Edgarton , Massachussetts , Julie Dougherty , marketing manager of the Patricia Neal Rehabilitation Center in Knoxville , Tennessee , told AFP .                                                                                        \n",
       "23392   Deshpande made a fortune in communications companies and is chairman of battery-maker A123 Systems .                                                                                                                                                                                        \n",
       "17081   CHICAGO 2009-11-10 00:25:56 UTC The filings are part of prosecutors ' efforts to bolster their case that Chicago grocery store owner and immigration counselor Tahawwur Rana , 48 , should not be freed on bond pending resolution of terrorism charges against him and David C Headley .   \n",
       "\n",
       "                           label  \\\n",
       "10731  per:title                   \n",
       "14931  per:title                   \n",
       "10047  per:country_of_death        \n",
       "23392  org:top_members/employees   \n",
       "17081  per:title                   \n",
       "\n",
       "                                                                                                                                                                                                                                                                                                                                                                                                                                                                                                                                                                                                                                                                                                                                                                                                                                                                                                                                                                                                                                                                                                                                                                                                                                                                                                                                                                                                                                                                                                                                                                                                                                                                                                                                                                                                                                                                                                                                                                                                                                                                                                                                                                                                                                                                                                                                                                                                                                                                                                                                                                                                                                                                                                                                                                                                                                                                                                                                                                                                                                                                                                                                                                                                                                                                                                                                                                                                                                                                                                                                                                                                                                                                                                                                                                                                                                                                                                                                                                   extr  \n",
       "10731  ['\\$ARG1 filmmaker \\$ARG2', '\\$ARG1 filmmaker Claude Chabrol dies at \\$ARG2', '\\$ARG2 filmmaker \\$ARG1', '\\$ARG1 dies at \\$ARG2', '\\$ARG2 filmmaker Claude Chabrol dies at \\$ARG1', '\\$ARG2 dies at \\$ARG1']                                                                                                                                                                                                                                                                                                                                                                                                                                                                                                                                                                                                                                                                                                                                                                                                                                                                                                                                                                                                                                                                                                                                                                                                                                                                                                                                                                                                                                                                                                                                                                                                                                                                                                                                                                                                                                                                                                                                                                                                                                                                                                                                                                                                                                                                                                                                                                                                                                                                                                                                                                                                                                                                                                                                                                                                                                                                                                                                                                                                                                                                                                                                                                                                                                                                                                                                                                                                                                                                                                                                                                                                                                                                                                                                                      \n",
       "14931  ['\\$ARG1 , \\$ARG2', '\\$ARG1 , Bolland said he will cut the range of \\$ARG2', '\\$ARG1 , Bolland said he will cut the range of non-M & S branded foodstuffs from \\$ARG2', '\\$ARG1 , Bolland said he will cut the range of non-M & S branded foodstuffs from 400 lines to \\$ARG2', '\\$ARG2 , \\$ARG1', '\\$ARG1 said he will cut the range of \\$ARG2', '\\$ARG1 said he will cut the range of non-M & S branded foodstuffs from \\$ARG2', '\\$ARG1 said he will cut the range of non-M & S branded foodstuffs from 400 lines to \\$ARG2', '\\$ARG2 , Bolland said he will cut the range of \\$ARG1', '\\$ARG2 said he will cut the range of \\$ARG1', '\\$ARG1 branded foodstuffs from \\$ARG2', '\\$ARG1 branded foodstuffs from 400 lines to \\$ARG2', '\\$ARG2 , Bolland said he will cut the range of non-M & S branded foodstuffs from \\$ARG1', '\\$ARG2 said he will cut the range of non-M & S branded foodstuffs from \\$ARG1', '\\$ARG2 branded foodstuffs from \\$ARG1', '\\$ARG1 lines to \\$ARG2', '\\$ARG2 , Bolland said he will cut the range of non-M & S branded foodstuffs from 400 lines to \\$ARG1', '\\$ARG2 said he will cut the range of non-M & S branded foodstuffs from 400 lines to \\$ARG1', '\\$ARG2 branded foodstuffs from 400 lines to \\$ARG1', '\\$ARG2 lines to \\$ARG1']                                                                                                                                                                                                                                                                                                                                                                                                                                                                                                                                                                                                                                                                                                                                                                                                                                                                                                                                                                                                                                                                                                                                                                                                                                                                                                                                                                                                                                                                                                                                                                                                                                                                                                                                                                                                                                                                                                                                                                                                                                                                                                                                                                                                                                                                                                                                                                                                                                                                                                                                                                                                                                                                                      \n",
       "10047  ['\\$ARG1 succumbed to complications from lung cancer in \\$ARG2', '\\$ARG1 succumbed to complications from lung cancer in Edgarton , \\$ARG2', '\\$ARG1 succumbed to complications from lung cancer in Edgarton , Massachussetts , Julie Dougherty , marketing manager of \\$ARG2', '\\$ARG1 succumbed to complications from lung cancer in Edgarton , Massachussetts , Julie Dougherty , marketing manager of the Patricia Neal Rehabilitation Center in \\$ARG2', '\\$ARG1 succumbed to complications from lung cancer in Edgarton , Massachussetts , Julie Dougherty , marketing manager of the Patricia Neal Rehabilitation Center in Knoxville , \\$ARG2', '\\$ARG1 succumbed to complications from lung cancer in Edgarton , Massachussetts , Julie Dougherty , marketing manager of the Patricia Neal Rehabilitation Center in Knoxville , Tennessee , told \\$ARG2', '\\$ARG2 succumbed to complications from lung cancer in \\$ARG1', '\\$ARG1 , \\$ARG2', '\\$ARG1 , Massachussetts , Julie Dougherty , marketing manager of \\$ARG2', '\\$ARG1 , Massachussetts , Julie Dougherty , marketing manager of the Patricia Neal Rehabilitation Center in \\$ARG2', '\\$ARG1 , Massachussetts , Julie Dougherty , marketing manager of the Patricia Neal Rehabilitation Center in Knoxville , \\$ARG2', '\\$ARG1 , Massachussetts , Julie Dougherty , marketing manager of the Patricia Neal Rehabilitation Center in Knoxville , Tennessee , told \\$ARG2', '\\$ARG2 succumbed to complications from lung cancer in Edgarton , \\$ARG1', '\\$ARG2 , \\$ARG1', '\\$ARG1 , Julie Dougherty , marketing manager of \\$ARG2', '\\$ARG1 , Julie Dougherty , marketing manager of the Patricia Neal Rehabilitation Center in \\$ARG2', '\\$ARG1 , Julie Dougherty , marketing manager of the Patricia Neal Rehabilitation Center in Knoxville , \\$ARG2', '\\$ARG1 , Julie Dougherty , marketing manager of the Patricia Neal Rehabilitation Center in Knoxville , Tennessee , told \\$ARG2', '\\$ARG2 succumbed to complications from lung cancer in Edgarton , Massachussetts , Julie Dougherty , marketing manager of \\$ARG1', '\\$ARG2 , Massachussetts , Julie Dougherty , marketing manager of \\$ARG1', '\\$ARG2 , Julie Dougherty , marketing manager of \\$ARG1', '\\$ARG1 in \\$ARG2', '\\$ARG1 in Knoxville , \\$ARG2', '\\$ARG1 in Knoxville , Tennessee , told \\$ARG2', '\\$ARG2 succumbed to complications from lung cancer in Edgarton , Massachussetts , Julie Dougherty , marketing manager of the Patricia Neal Rehabilitation Center in \\$ARG1', '\\$ARG2 , Massachussetts , Julie Dougherty , marketing manager of the Patricia Neal Rehabilitation Center in \\$ARG1', '\\$ARG2 , Julie Dougherty , marketing manager of the Patricia Neal Rehabilitation Center in \\$ARG1', '\\$ARG2 in \\$ARG1', '\\$ARG1 , \\$ARG2', '\\$ARG1 , Tennessee , told \\$ARG2', '\\$ARG2 succumbed to complications from lung cancer in Edgarton , Massachussetts , Julie Dougherty , marketing manager of the Patricia Neal Rehabilitation Center in Knoxville , \\$ARG1', '\\$ARG2 , Massachussetts , Julie Dougherty , marketing manager of the Patricia Neal Rehabilitation Center in Knoxville , \\$ARG1', '\\$ARG2 , Julie Dougherty , marketing manager of the Patricia Neal Rehabilitation Center in Knoxville , \\$ARG1', '\\$ARG2 in Knoxville , \\$ARG1', '\\$ARG2 , \\$ARG1', '\\$ARG1 , told \\$ARG2', '\\$ARG2 succumbed to complications from lung cancer in Edgarton , Massachussetts , Julie Dougherty , marketing manager of the Patricia Neal Rehabilitation Center in Knoxville , Tennessee , told \\$ARG1', '\\$ARG2 , Massachussetts , Julie Dougherty , marketing manager of the Patricia Neal Rehabilitation Center in Knoxville , Tennessee , told \\$ARG1', '\\$ARG2 , Julie Dougherty , marketing manager of the Patricia Neal Rehabilitation Center in Knoxville , Tennessee , told \\$ARG1', '\\$ARG2 in Knoxville , Tennessee , told \\$ARG1', '\\$ARG2 , Tennessee , told \\$ARG1', '\\$ARG2 , told \\$ARG1']  \n",
       "23392  ['\\$ARG1 made a fortune in communications companies and is chairman of battery-maker \\$ARG2', '\\$ARG2 made a fortune in communications companies and is chairman of battery-maker \\$ARG1']                                                                                                                                                                                                                                                                                                                                                                                                                                                                                                                                                                                                                                                                                                                                                                                                                                                                                                                                                                                                                                                                                                                                                                                                                                                                                                                                                                                                                                                                                                                                                                                                                                                                                                                                                                                                                                                                                                                                                                                                                                                                                                                                                                                                                                                                                                                                                                                                                                                                                                                                                                                                                                                                                                                                                                                                                                                                                                                                                                                                                                                                                                                                                                                                                                                                                                                                                                                                                                                                                                                                                                                                                                                                                                                                                                        \n",
       "17081  ['\\$ARG1 grocery store owner and immigration counselor \\$ARG2', '\\$ARG1 grocery store owner and immigration counselor Tahawwur Rana , \\$ARG2', '\\$ARG1 grocery store owner and immigration counselor Tahawwur Rana , 48 , should not be freed on bond pending resolution of terrorism charges against him and \\$ARG2', '\\$ARG2 grocery store owner and immigration counselor \\$ARG1', '\\$ARG1 , \\$ARG2', '\\$ARG1 , 48 , should not be freed on bond pending resolution of terrorism charges against him and \\$ARG2', '\\$ARG2 grocery store owner and immigration counselor Tahawwur Rana , \\$ARG1', '\\$ARG2 , \\$ARG1', '\\$ARG1 , should not be freed on bond pending resolution of terrorism charges against him and \\$ARG2', '\\$ARG2 grocery store owner and immigration counselor Tahawwur Rana , 48 , should not be freed on bond pending resolution of terrorism charges against him and \\$ARG1', '\\$ARG2 , 48 , should not be freed on bond pending resolution of terrorism charges against him and \\$ARG1', '\\$ARG2 , should not be freed on bond pending resolution of terrorism charges against him and \\$ARG1']                                                                                                                                                                                                                                                                                                                                                                                                                                                                                                                                                                                                                                                                                                                                                                                                                                                                                                                                                                                                                                                                                                                                                                                                                                                                                                                                                                                                                                                                                                                                                                                                                                                                                                                                                                                                                                                                                                                                                                                                                                                                                                                                                                                                                                                                                                                                                                                                                                                                                                                                                                                                                                                                                                                                                                                                                                          "
      ]
     },
     "execution_count": 35,
     "metadata": {},
     "output_type": "execute_result"
    }
   ],
   "source": [
    "selected_samples[[\"sample\", \"label\", \"extr\"]].apply(lambda x: escape_dollar(x)).head()"
   ]
  },
  {
   "cell_type": "code",
   "execution_count": 431,
   "metadata": {},
   "outputs": [],
   "source": [
    "def pattern_search(extr_sample, patterns, row):\n",
    "    for relation, rel_patterns in patterns.iterrows():\n",
    "        matches = [[row[\"sample\"], extr_sample, pattern, relation, row[\"label\"]] \n",
    "                   for pattern in rel_patterns[\"regex pattern\"]].str.match(pattern) \n",
    "                   # if re.match(pattern, extr_sample) is not None]   # todo\n",
    "        if len(matches) > 0:\n",
    "            return pd.DataFrame(matches, columns = FINAL_DF_COLUMNS)"
   ]
  },
  {
   "cell_type": "code",
   "execution_count": 432,
   "metadata": {
    "pycharm": {
     "name": "#%%\n"
    }
   },
   "outputs": [],
   "source": [
    "all_matches = pd.DataFrame(columns = FINAL_DF_COLUMNS)\n",
    "for _, row in selected_samples.iterrows():\n",
    "    for cand_sample in row[\"extr\"]:\n",
    "        df_found = pattern_search(cand_sample, relation_patterns_df, row)\n",
    "        if isinstance(df_found, pd.DataFrame) and not df_found.empty:\n",
    "            all_matches = pd.concat([all_matches, df_found])"
   ]
  },
  {
   "cell_type": "code",
   "execution_count": 433,
   "metadata": {
    "scrolled": false
   },
   "outputs": [
    {
     "data": {
      "text/html": [
       "<div>\n",
       "<style scoped>\n",
       "    .dataframe tbody tr th:only-of-type {\n",
       "        vertical-align: middle;\n",
       "    }\n",
       "\n",
       "    .dataframe tbody tr th {\n",
       "        vertical-align: top;\n",
       "    }\n",
       "\n",
       "    .dataframe thead th {\n",
       "        text-align: right;\n",
       "    }\n",
       "</style>\n",
       "<table border=\"1\" class=\"dataframe\">\n",
       "  <thead>\n",
       "    <tr style=\"text-align: right;\">\n",
       "      <th></th>\n",
       "      <th>sample</th>\n",
       "      <th>extr_sample</th>\n",
       "      <th>pattern</th>\n",
       "      <th>weak_label</th>\n",
       "      <th>gold_label</th>\n",
       "    </tr>\n",
       "  </thead>\n",
       "  <tbody>\n",
       "    <tr>\n",
       "      <th>0</th>\n",
       "      <td>Kissel was born in Adrian , Michigan , but her family had also lived in Minneapolis .</td>\n",
       "      <td>\\$ARG1 was born in \\$ARG2</td>\n",
       "      <td>(A )?(a )?(The )?(the )?\\\\$ARG1\\ was\\ born\\ in\\ (A )?(a )?(The )?(the )?\\\\$ARG2</td>\n",
       "      <td>per:date_of_birth</td>\n",
       "      <td>per:cities_of_residence</td>\n",
       "    </tr>\n",
       "    <tr>\n",
       "      <th>0</th>\n",
       "      <td>Gwathmey was born in 1938 , the only child of painter Robert Gwathmey and his wife , Rosalie , a photographer .</td>\n",
       "      <td>\\$ARG1 was born in \\$ARG2</td>\n",
       "      <td>(A )?(a )?(The )?(the )?\\\\$ARG1\\ was\\ born\\ in\\ (A )?(a )?(The )?(the )?\\\\$ARG2</td>\n",
       "      <td>per:date_of_birth</td>\n",
       "      <td>per:date_of_birth</td>\n",
       "    </tr>\n",
       "    <tr>\n",
       "      <th>0</th>\n",
       "      <td>Anders Berntell , head of the Stockholm International Water Institute , says that , although `` water is absolutely crucial for all sectors in society , '' water issues have played too small a role in climate talks .</td>\n",
       "      <td>\\$ARG1 , head of \\$ARG2</td>\n",
       "      <td>(A )?(a )?(The )?(the )?\\\\$ARG1\\ ,\\ head\\ of\\ (A )?(a )?(The )?(the )?\\\\$ARG2</td>\n",
       "      <td>org:top_members/employees</td>\n",
       "      <td>org:top_members/employees</td>\n",
       "    </tr>\n",
       "    <tr>\n",
       "      <th>0</th>\n",
       "      <td>A professor emeritus at Yale University , Mandelbrot was born in Poland but as a child moved with his family to France where he was educated .</td>\n",
       "      <td>\\$ARG1 was born in \\$ARG2</td>\n",
       "      <td>(A )?(a )?(The )?(the )?\\\\$ARG1\\ was\\ born\\ in\\ (A )?(a )?(The )?(the )?\\\\$ARG2</td>\n",
       "      <td>per:date_of_birth</td>\n",
       "      <td>per:countries_of_residence</td>\n",
       "    </tr>\n",
       "    <tr>\n",
       "      <th>0</th>\n",
       "      <td>Gwathmey was born in 1938 , the only child of painter Robert Gwathmey and his wife , Rosalie , a photographer .</td>\n",
       "      <td>\\$ARG1 was born in \\$ARG2</td>\n",
       "      <td>(A )?(a )?(The )?(the )?\\\\$ARG1\\ was\\ born\\ in\\ (A )?(a )?(The )?(the )?\\\\$ARG2</td>\n",
       "      <td>per:date_of_birth</td>\n",
       "      <td>per:children</td>\n",
       "    </tr>\n",
       "  </tbody>\n",
       "</table>\n",
       "</div>"
      ],
      "text/plain": [
       "                                                                                                                                                                                                                      sample  \\\n",
       "0   Kissel was born in Adrian , Michigan , but her family had also lived in Minneapolis .                                                                                                                                      \n",
       "0   Gwathmey was born in 1938 , the only child of painter Robert Gwathmey and his wife , Rosalie , a photographer .                                                                                                            \n",
       "0   Anders Berntell , head of the Stockholm International Water Institute , says that , although `` water is absolutely crucial for all sectors in society , '' water issues have played too small a role in climate talks .   \n",
       "0   A professor emeritus at Yale University , Mandelbrot was born in Poland but as a child moved with his family to France where he was educated .                                                                             \n",
       "0   Gwathmey was born in 1938 , the only child of painter Robert Gwathmey and his wife , Rosalie , a photographer .                                                                                                            \n",
       "\n",
       "                 extr_sample  \\\n",
       "0  \\$ARG1 was born in \\$ARG2   \n",
       "0  \\$ARG1 was born in \\$ARG2   \n",
       "0  \\$ARG1 , head of \\$ARG2     \n",
       "0  \\$ARG1 was born in \\$ARG2   \n",
       "0  \\$ARG1 was born in \\$ARG2   \n",
       "\n",
       "                                                                           pattern  \\\n",
       "0  (A )?(a )?(The )?(the )?\\\\$ARG1\\ was\\ born\\ in\\ (A )?(a )?(The )?(the )?\\\\$ARG2   \n",
       "0  (A )?(a )?(The )?(the )?\\\\$ARG1\\ was\\ born\\ in\\ (A )?(a )?(The )?(the )?\\\\$ARG2   \n",
       "0  (A )?(a )?(The )?(the )?\\\\$ARG1\\ ,\\ head\\ of\\ (A )?(a )?(The )?(the )?\\\\$ARG2     \n",
       "0  (A )?(a )?(The )?(the )?\\\\$ARG1\\ was\\ born\\ in\\ (A )?(a )?(The )?(the )?\\\\$ARG2   \n",
       "0  (A )?(a )?(The )?(the )?\\\\$ARG1\\ was\\ born\\ in\\ (A )?(a )?(The )?(the )?\\\\$ARG2   \n",
       "\n",
       "                  weak_label                  gold_label  \n",
       "0  per:date_of_birth          per:cities_of_residence     \n",
       "0  per:date_of_birth          per:date_of_birth           \n",
       "0  org:top_members/employees  org:top_members/employees   \n",
       "0  per:date_of_birth          per:countries_of_residence  \n",
       "0  per:date_of_birth          per:children                "
      ]
     },
     "execution_count": 433,
     "metadata": {},
     "output_type": "execute_result"
    }
   ],
   "source": [
    "all_matches.apply(lambda x: escape_dollar(x)).head()"
   ]
  },
  {
   "cell_type": "markdown",
   "metadata": {
    "pycharm": {
     "name": "#%% md\n"
    }
   },
   "source": [
    "But here we can observe some misclassified sentences: for example, a sentence \n",
    "\n",
    "\"A professor emeritus at Yale University , Mandelbrot was born in Poland but as a child moved with his family to France where he was educated\" \n",
    "\n",
    "was assigned with a label \"per:date_of_birth\" (presumably by a pattern \"ARG1 was born in ARG2\"), what is definitely wrong. In order to avoid such mistake, let's add additional constraints on the argument types."
   ]
  },
  {
   "cell_type": "code",
   "execution_count": 434,
   "metadata": {},
   "outputs": [],
   "source": [
    "relation_to_types = {\"org:alternate_names\": ['PERSON', 'PERSON'], \n",
    "                     \"per:date_of_birth\": ['PERSON', 'DATE'],\n",
    "                     \"org:top_members/employees\": ['PERSON', 'ORG']}"
   ]
  },
  {
   "cell_type": "markdown",
   "metadata": {
    "pycharm": {
     "name": "#%% md\n"
    }
   },
   "source": [
    "So, when we look for these patterns in samples, we should take into account the entity types referred to corresponding relation"
   ]
  },
  {
   "cell_type": "code",
   "execution_count": 418,
   "metadata": {},
   "outputs": [],
   "source": [
    "relation_patterns_df[\"type\"] = pd.Series(relation_to_types)"
   ]
  },
  {
   "cell_type": "code",
   "execution_count": 419,
   "metadata": {
    "pycharm": {
     "name": "#%%\n"
    }
   },
   "outputs": [
    {
     "data": {
      "text/html": [
       "<div>\n",
       "<style scoped>\n",
       "    .dataframe tbody tr th:only-of-type {\n",
       "        vertical-align: middle;\n",
       "    }\n",
       "\n",
       "    .dataframe tbody tr th {\n",
       "        vertical-align: top;\n",
       "    }\n",
       "\n",
       "    .dataframe thead th {\n",
       "        text-align: right;\n",
       "    }\n",
       "</style>\n",
       "<table border=\"1\" class=\"dataframe\">\n",
       "  <thead>\n",
       "    <tr style=\"text-align: right;\">\n",
       "      <th></th>\n",
       "      <th>raw pattern</th>\n",
       "      <th>regex pattern</th>\n",
       "      <th>type</th>\n",
       "    </tr>\n",
       "  </thead>\n",
       "  <tbody>\n",
       "    <tr>\n",
       "      <th>org:alternate_names</th>\n",
       "      <td>['\\$ARG1 ( \\$ARG2 ', '\\$ARG1 formerly known as \\$ARG2', '\\$ARG1 aka \\$ARG2', '\\$ARG1 ( also known as \\$ARG2 )']</td>\n",
       "      <td>['(A )?(a )?(The )?(the )?\\\\\\$ARG1\\\\ \\\\(\\\\ (A )?(a )?(The )?(the )?\\\\\\$ARG2\\\\ ', '(A )?(a )?(The )?(the )?\\\\\\$ARG1\\\\ formerly\\\\ known\\\\ as\\\\ (A )?(a )?(The )?(the )?\\\\\\$ARG2', '(A )?(a )?(The )?(the )?\\\\\\$ARG1\\\\ aka\\\\ (A )?(a )?(The )?(the )?\\\\\\$ARG2', '(A )?(a )?(The )?(the )?\\\\\\$ARG1\\\\ \\\\(\\\\ also\\\\ known\\\\ as\\\\ (A )?(a )?(The )?(the )?\\\\\\$ARG2\\\\ \\\\)']</td>\n",
       "      <td>['PERSON', 'PERSON']</td>\n",
       "    </tr>\n",
       "    <tr>\n",
       "      <th>per:date_of_birth</th>\n",
       "      <td>['\\$ARG1 ( born \\$ARG2 )', '\\$ARG1 ( born \\$ARG2 in', '\\$ARG1 ( \\$ARG2 -', '\\$ARG1 was born in \\$ARG2']</td>\n",
       "      <td>['(A )?(a )?(The )?(the )?\\\\\\$ARG1\\\\ \\\\(\\\\ born\\\\ (A )?(a )?(The )?(the )?\\\\\\$ARG2\\\\ \\\\)', '(A )?(a )?(The )?(the )?\\\\\\$ARG1\\\\ \\\\(\\\\ born\\\\ (A )?(a )?(The )?(the )?\\\\\\$ARG2\\\\ in', '(A )?(a )?(The )?(the )?\\\\\\$ARG1\\\\ \\\\(\\\\ (A )?(a )?(The )?(the )?\\\\\\$ARG2\\\\ \\\\-', '(A )?(a )?(The )?(the )?\\\\\\$ARG1\\\\ was\\\\ born\\\\ in\\\\ (A )?(a )?(The )?(the )?\\\\\\$ARG2']</td>\n",
       "      <td>['PERSON', 'DATE']</td>\n",
       "    </tr>\n",
       "    <tr>\n",
       "      <th>org:top_members/employees</th>\n",
       "      <td>['\\$ARG1 , executive director of \\$ARG2', '\\$ARG1 , head of \\$ARG2', '\\$ARG1 , who heads \\$ARG2', '\\$ARG1 , chief executive of \\$ARG2']</td>\n",
       "      <td>['(A )?(a )?(The )?(the )?\\\\\\$ARG1\\\\ ,\\\\ executive\\\\ director\\\\ of\\\\ (A )?(a )?(The )?(the )?\\\\\\$ARG2', '(A )?(a )?(The )?(the )?\\\\\\$ARG1\\\\ ,\\\\ head\\\\ of\\\\ (A )?(a )?(The )?(the )?\\\\\\$ARG2', '(A )?(a )?(The )?(the )?\\\\\\$ARG1\\\\ ,\\\\ who\\\\ heads\\\\ (A )?(a )?(The )?(the )?\\\\\\$ARG2', '(A )?(a )?(The )?(the )?\\\\\\$ARG1\\\\ ,\\\\ chief\\\\ executive\\\\ of\\\\ (A )?(a )?(The )?(the )?\\\\\\$ARG2']</td>\n",
       "      <td>['PERSON', 'ORG']</td>\n",
       "    </tr>\n",
       "  </tbody>\n",
       "</table>\n",
       "</div>"
      ],
      "text/plain": [
       "                                                                                                                                                       raw pattern  \\\n",
       "org:alternate_names        ['\\$ARG1 ( \\$ARG2 ', '\\$ARG1 formerly known as \\$ARG2', '\\$ARG1 aka \\$ARG2', '\\$ARG1 ( also known as \\$ARG2 )']                           \n",
       "per:date_of_birth          ['\\$ARG1 ( born \\$ARG2 )', '\\$ARG1 ( born \\$ARG2 in', '\\$ARG1 ( \\$ARG2 -', '\\$ARG1 was born in \\$ARG2']                                   \n",
       "org:top_members/employees  ['\\$ARG1 , executive director of \\$ARG2', '\\$ARG1 , head of \\$ARG2', '\\$ARG1 , who heads \\$ARG2', '\\$ARG1 , chief executive of \\$ARG2']   \n",
       "\n",
       "                                                                                                                                                                                                                                                                                                                                                                                                         regex pattern  \\\n",
       "org:alternate_names        ['(A )?(a )?(The )?(the )?\\\\\\$ARG1\\\\ \\\\(\\\\ (A )?(a )?(The )?(the )?\\\\\\$ARG2\\\\ ', '(A )?(a )?(The )?(the )?\\\\\\$ARG1\\\\ formerly\\\\ known\\\\ as\\\\ (A )?(a )?(The )?(the )?\\\\\\$ARG2', '(A )?(a )?(The )?(the )?\\\\\\$ARG1\\\\ aka\\\\ (A )?(a )?(The )?(the )?\\\\\\$ARG2', '(A )?(a )?(The )?(the )?\\\\\\$ARG1\\\\ \\\\(\\\\ also\\\\ known\\\\ as\\\\ (A )?(a )?(The )?(the )?\\\\\\$ARG2\\\\ \\\\)']                           \n",
       "per:date_of_birth          ['(A )?(a )?(The )?(the )?\\\\\\$ARG1\\\\ \\\\(\\\\ born\\\\ (A )?(a )?(The )?(the )?\\\\\\$ARG2\\\\ \\\\)', '(A )?(a )?(The )?(the )?\\\\\\$ARG1\\\\ \\\\(\\\\ born\\\\ (A )?(a )?(The )?(the )?\\\\\\$ARG2\\\\ in', '(A )?(a )?(The )?(the )?\\\\\\$ARG1\\\\ \\\\(\\\\ (A )?(a )?(The )?(the )?\\\\\\$ARG2\\\\ \\\\-', '(A )?(a )?(The )?(the )?\\\\\\$ARG1\\\\ was\\\\ born\\\\ in\\\\ (A )?(a )?(The )?(the )?\\\\\\$ARG2']                               \n",
       "org:top_members/employees  ['(A )?(a )?(The )?(the )?\\\\\\$ARG1\\\\ ,\\\\ executive\\\\ director\\\\ of\\\\ (A )?(a )?(The )?(the )?\\\\\\$ARG2', '(A )?(a )?(The )?(the )?\\\\\\$ARG1\\\\ ,\\\\ head\\\\ of\\\\ (A )?(a )?(The )?(the )?\\\\\\$ARG2', '(A )?(a )?(The )?(the )?\\\\\\$ARG1\\\\ ,\\\\ who\\\\ heads\\\\ (A )?(a )?(The )?(the )?\\\\\\$ARG2', '(A )?(a )?(The )?(the )?\\\\\\$ARG1\\\\ ,\\\\ chief\\\\ executive\\\\ of\\\\ (A )?(a )?(The )?(the )?\\\\\\$ARG2']   \n",
       "\n",
       "                                           type  \n",
       "org:alternate_names        ['PERSON', 'PERSON']  \n",
       "per:date_of_birth          ['PERSON', 'DATE']    \n",
       "org:top_members/employees  ['PERSON', 'ORG']     "
      ]
     },
     "execution_count": 419,
     "metadata": {},
     "output_type": "execute_result"
    }
   ],
   "source": [
    "relation_patterns_df.apply(lambda x: escape_dollar(x)).head()"
   ]
  }
 ],
 "metadata": {
  "kernelspec": {
   "display_name": "ds_data_collect",
   "language": "python",
   "name": "ds_data_collect"
  },
  "language_info": {
   "codemirror_mode": {
    "name": "ipython",
    "version": 3
   },
   "file_extension": ".py",
   "mimetype": "text/x-python",
   "name": "python",
   "nbconvert_exporter": "python",
   "pygments_lexer": "ipython3",
   "version": "3.8.3"
  }
 },
 "nbformat": 4,
 "nbformat_minor": 4
}