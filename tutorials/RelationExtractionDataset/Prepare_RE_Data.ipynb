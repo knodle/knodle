{
 "cells": [
  {
   "cell_type": "markdown",
   "metadata": {},
   "source": [
    "# Relation Exraction Dataset based on CONLL data"
   ]
  },
  {
   "cell_type": "markdown",
   "metadata": {},
   "source": [
    "In this small tutorial we are going to look at how we could make the weak annotation of data for relation extraction task using simple patterns. \n",
    "\n",
    "For that, we are going to use CONLL dataset that already has gold labels, which we are going to use for comparing with the labels we receive. \n",
    "\n",
    "The steps are the follwoing:\n",
    "- process the data in CONLL format (an example is stored in the same folder, \"dev.conll\" file)\n",
    "- extract all the relevant for us information (the sample and the relation label)\n",
    "- create a samll set of hand-crafted patterns in the format: \"$ARG1 <some words> $ARG2\" where $ARG1 and $ARG2 are the entities between that the relation is hold\n",
    "- annotated sample with Spacy package in order to get the entities\n",
    "- take the entities pairwise and extract the part of sentences between them \n",
    "\n",
    "(e.g. from a sentence \"Margaret Thatcher was born on 13 October 1925\" a subsentence \"$ARG1 was born on $ARG2\" will be extracted given \"Margaret Thatcher\" and \"13 October 1925\" were the only entities defined by Spacy)\n",
    "\n",
    "- check if there is a pattern in this subsentences. If so, it receives a label corresponding to the relation that pattern support and becomes a part of our new weakly annotated training set. "
   ]
  },
  {
   "cell_type": "markdown",
   "metadata": {},
   "source": [
    "## Imports"
   ]
  },
  {
   "cell_type": "code",
   "execution_count": 192,
   "metadata": {},
   "outputs": [],
   "source": [
    "from sklearn.datasets import fetch_20newsgroups\n",
    "from pprint import pprint\n",
    "from IPython.display import display, HTML\n",
    "import urllib\n",
    "import spacy\n",
    "import sklearn\n",
    "import pandas as pd\n",
    "import en_core_web_sm\n",
    "import re\n",
    "import itertools\n",
    "from tqdm import tqdm\n",
    "tqdm.pandas()\n",
    "\n",
    "pd.set_option('display.max_colwidth', -1)"
   ]
  },
  {
   "cell_type": "code",
   "execution_count": 193,
   "metadata": {},
   "outputs": [],
   "source": [
    "ARG1 = \"$ARG1\"\n",
    "ARG2 = \"$ARG2\"\n",
    "FINAL_DF_COLUMNS = ['sample', 'extr_sample', 'pattern', 'weak_label', 'gold_label']\n",
    "\n",
    "conll_file = \"dev.conll\""
   ]
  },
  {
   "cell_type": "markdown",
   "metadata": {},
   "source": [
    "We are going to use this function each time we want to print out a Dataframe in order to escape dollar symbol in patterns"
   ]
  },
  {
   "cell_type": "code",
   "execution_count": 194,
   "metadata": {},
   "outputs": [],
   "source": [
    "def escape_dollar(strings):\n",
    "    return [re.sub(\"\\\\$\", \"\\\\\\\\$\", str(string)) for string in strings]"
   ]
  },
  {
   "cell_type": "markdown",
   "metadata": {},
   "source": [
    "## Read and preprocess CONLL data"
   ]
  },
  {
   "cell_type": "code",
   "execution_count": 195,
   "metadata": {},
   "outputs": [],
   "source": [
    "def process_data(path_to_data):\n",
    "    samples, relations = [], []\n",
    "    with open(path_to_data, encoding='utf-8') as f:\n",
    "        for line in f:\n",
    "            line = line.strip()\n",
    "            if line.startswith(\"# id=\"):    # Instance starts\n",
    "                sample = \"\"\n",
    "                label = line.split(\" \")[3][5:]\n",
    "            elif line == \"\":  # Instance ends\n",
    "                samples.append(sample)\n",
    "                relations.append(label)\n",
    "            elif line.startswith(\"#\"):  # comment\n",
    "                continue\n",
    "            else:\n",
    "                parts = line.split(\"\\t\")\n",
    "                token = parts[1]\n",
    "                if token == \"-LRB-\":\n",
    "                    token = \"(\"\n",
    "                elif token == \"-RRB-\":\n",
    "                    token = \")\"\n",
    "                sample += \" \" + token\n",
    "    return pd.DataFrame.from_dict({\"sample\": samples, \"label\": relations})\n",
    "\n",
    "samples = process_data(conll_file)"
   ]
  },
  {
   "cell_type": "markdown",
   "metadata": {},
   "source": [
    "Let's inspect all relation labels that we have in our dataset"
   ]
  },
  {
   "cell_type": "code",
   "execution_count": 196,
   "metadata": {},
   "outputs": [
    {
     "name": "stdout",
     "output_type": "stream",
     "text": [
      "{'org:website', 'org:alternate_names', 'per:other_family', 'org:number_of_employees/members', 'per:parents', 'per:country_of_death', 'per:cities_of_residence', 'per:city_of_death', 'org:top_members/employees', 'per:stateorprovince_of_birth', 'per:date_of_birth', 'per:stateorprovince_of_death', 'org:members', 'per:employee_of', 'org:city_of_headquarters', 'per:siblings', 'per:children', 'per:countries_of_residence', 'per:cause_of_death', 'no_relation', 'org:parents', 'per:schools_attended', 'per:country_of_birth', 'org:shareholders', 'org:subsidiaries', 'org:country_of_headquarters', 'per:title', 'per:religion', 'org:stateorprovince_of_headquarters', 'per:stateorprovinces_of_residence', 'org:founded', 'org:dissolved', 'org:member_of', 'per:charges', 'per:date_of_death', 'org:founded_by', 'org:political/religious_affiliation', 'per:age', 'per:origin', 'per:alternate_names', 'per:city_of_birth', 'per:spouse'}\n"
     ]
    }
   ],
   "source": [
    "print(set(samples[\"label\"]))"
   ]
  },
  {
   "cell_type": "markdown",
   "metadata": {},
   "source": [
    "To make the calculation quicklier, let's choose only the samples that contain a relation (that is, labelled not with \"no_relation\" label). "
   ]
  },
  {
   "cell_type": "code",
   "execution_count": 259,
   "metadata": {},
   "outputs": [],
   "source": [
    "selected_samples = samples[samples[\"label\"]!='no_relation'].sample(n=1000, random_state=100)"
   ]
  },
  {
   "cell_type": "code",
   "execution_count": 260,
   "metadata": {},
   "outputs": [
    {
     "data": {
      "text/html": [
       "<div>\n",
       "<style scoped>\n",
       "    .dataframe tbody tr th:only-of-type {\n",
       "        vertical-align: middle;\n",
       "    }\n",
       "\n",
       "    .dataframe tbody tr th {\n",
       "        vertical-align: top;\n",
       "    }\n",
       "\n",
       "    .dataframe thead th {\n",
       "        text-align: right;\n",
       "    }\n",
       "</style>\n",
       "<table border=\"1\" class=\"dataframe\">\n",
       "  <thead>\n",
       "    <tr style=\"text-align: right;\">\n",
       "      <th></th>\n",
       "      <th>sample</th>\n",
       "      <th>label</th>\n",
       "    </tr>\n",
       "  </thead>\n",
       "  <tbody>\n",
       "    <tr>\n",
       "      <th>8105</th>\n",
       "      <td>The body of Polish first lady Maria Kaczynska remains unidentified more than a day after she died in an air crash with President Lech Kaczynski and dozens of other officials , an aide said Sunday .</td>\n",
       "      <td>per:cause_of_death</td>\n",
       "    </tr>\n",
       "    <tr>\n",
       "      <th>14261</th>\n",
       "      <td>Rana , who is a Canadian citizen , was arrested Oct 18 in his home .</td>\n",
       "      <td>per:origin</td>\n",
       "    </tr>\n",
       "    <tr>\n",
       "      <th>4089</th>\n",
       "      <td>He was 68 .</td>\n",
       "      <td>per:age</td>\n",
       "    </tr>\n",
       "    <tr>\n",
       "      <th>19544</th>\n",
       "      <td>SAN DIEGO : The American Association for the Advancement of Science ( AAAS ) hosts the world 's most important scientific conference .</td>\n",
       "      <td>org:alternate_names</td>\n",
       "    </tr>\n",
       "    <tr>\n",
       "      <th>13130</th>\n",
       "      <td>Shareholders will be voting on whether to split the company 's Class B shares in a move tied to Berkshire 's purchase of Burlington Northern Santa Fe Corp .</td>\n",
       "      <td>org:parents</td>\n",
       "    </tr>\n",
       "  </tbody>\n",
       "</table>\n",
       "</div>"
      ],
      "text/plain": [
       "                                                                                                                                                                                                       sample  \\\n",
       "8105    The body of Polish first lady Maria Kaczynska remains unidentified more than a day after she died in an air crash with President Lech Kaczynski and dozens of other officials , an aide said Sunday .   \n",
       "14261   Rana , who is a Canadian citizen , was arrested Oct 18 in his home .                                                                                                                                    \n",
       "4089    He was 68 .                                                                                                                                                                                             \n",
       "19544   SAN DIEGO : The American Association for the Advancement of Science ( AAAS ) hosts the world 's most important scientific conference .                                                                  \n",
       "13130   Shareholders will be voting on whether to split the company 's Class B shares in a move tied to Berkshire 's purchase of Burlington Northern Santa Fe Corp .                                            \n",
       "\n",
       "                     label  \n",
       "8105   per:cause_of_death   \n",
       "14261  per:origin           \n",
       "4089   per:age              \n",
       "19544  org:alternate_names  \n",
       "13130  org:parents          "
      ]
     },
     "execution_count": 260,
     "metadata": {},
     "output_type": "execute_result"
    }
   ],
   "source": [
    "selected_samples.head()"
   ]
  },
  {
   "cell_type": "markdown",
   "metadata": {},
   "source": [
    "## Defining patterns"
   ]
  },
  {
   "cell_type": "markdown",
   "metadata": {},
   "source": [
    "In order to turn the data into distantly supervised one, we write down a couple of simple patterns for each relation that could help us to find these relations in training samples. For complexity reasons we reduced the number of relation we want to write patterns for and choose 3 relations from the TACRED relation labels: \"org:alternate_names\", \"per:date_of_birth\" and \"org:top_members/employees\". "
   ]
  },
  {
   "cell_type": "code",
   "execution_count": 261,
   "metadata": {},
   "outputs": [],
   "source": [
    "relation_patterns_df = pd.DataFrame.from_dict({\"org:alternate_names\": \n",
    "                                               [[\"$ARG1 ( $ARG2 \",\n",
    "                                                 \"$ARG1 formerly known as $ARG2\",\n",
    "                                                 \"$ARG1 aka $ARG2\", \n",
    "                                                 \"$ARG1 ( also known as $ARG2 )\"]],\n",
    "                                               \"per:date_of_birth\": \n",
    "                                               [[\"$ARG1 ( born $ARG2 )\", \n",
    "                                                 \"$ARG1 ( born $ARG2 in\",\n",
    "                                                 \"$ARG1 ( $ARG2 -\",\n",
    "                                                 \"$ARG1 was born in $ARG2\"]],\n",
    "                                               \"org:top_members/employees\":\n",
    "                                                [[\"$ARG1 , executive director of $ARG2\",\n",
    "                                                  \"$ARG1 , head of $ARG2\",\n",
    "                                                  \"$ARG1 , who heads $ARG2\",\n",
    "                                                  \"$ARG1 , chief executive of $ARG2\"]]}, \n",
    "                                              orient='index', columns = [\"raw pattern\"])"
   ]
  },
  {
   "cell_type": "code",
   "execution_count": 262,
   "metadata": {
    "scrolled": true
   },
   "outputs": [
    {
     "data": {
      "text/html": [
       "<div>\n",
       "<style scoped>\n",
       "    .dataframe tbody tr th:only-of-type {\n",
       "        vertical-align: middle;\n",
       "    }\n",
       "\n",
       "    .dataframe tbody tr th {\n",
       "        vertical-align: top;\n",
       "    }\n",
       "\n",
       "    .dataframe thead th {\n",
       "        text-align: right;\n",
       "    }\n",
       "</style>\n",
       "<table border=\"1\" class=\"dataframe\">\n",
       "  <thead>\n",
       "    <tr style=\"text-align: right;\">\n",
       "      <th></th>\n",
       "      <th>raw pattern</th>\n",
       "    </tr>\n",
       "  </thead>\n",
       "  <tbody>\n",
       "    <tr>\n",
       "      <th>org:alternate_names</th>\n",
       "      <td>['\\$ARG1 ( \\$ARG2 ', '\\$ARG1 formerly known as \\$ARG2', '\\$ARG1 aka \\$ARG2', '\\$ARG1 ( also known as \\$ARG2 )']</td>\n",
       "    </tr>\n",
       "    <tr>\n",
       "      <th>per:date_of_birth</th>\n",
       "      <td>['\\$ARG1 ( born \\$ARG2 )', '\\$ARG1 ( born \\$ARG2 in', '\\$ARG1 ( \\$ARG2 -', '\\$ARG1 was born in \\$ARG2']</td>\n",
       "    </tr>\n",
       "    <tr>\n",
       "      <th>org:top_members/employees</th>\n",
       "      <td>['\\$ARG1 , executive director of \\$ARG2', '\\$ARG1 , head of \\$ARG2', '\\$ARG1 , who heads \\$ARG2', '\\$ARG1 , chief executive of \\$ARG2']</td>\n",
       "    </tr>\n",
       "  </tbody>\n",
       "</table>\n",
       "</div>"
      ],
      "text/plain": [
       "                                                                                                                                                       raw pattern\n",
       "org:alternate_names        ['\\$ARG1 ( \\$ARG2 ', '\\$ARG1 formerly known as \\$ARG2', '\\$ARG1 aka \\$ARG2', '\\$ARG1 ( also known as \\$ARG2 )']                        \n",
       "per:date_of_birth          ['\\$ARG1 ( born \\$ARG2 )', '\\$ARG1 ( born \\$ARG2 in', '\\$ARG1 ( \\$ARG2 -', '\\$ARG1 was born in \\$ARG2']                                \n",
       "org:top_members/employees  ['\\$ARG1 , executive director of \\$ARG2', '\\$ARG1 , head of \\$ARG2', '\\$ARG1 , who heads \\$ARG2', '\\$ARG1 , chief executive of \\$ARG2']"
      ]
     },
     "execution_count": 262,
     "metadata": {},
     "output_type": "execute_result"
    }
   ],
   "source": [
    "relation_patterns_df.apply(lambda x: escape_dollar(x)).head()"
   ]
  },
  {
   "cell_type": "markdown",
   "metadata": {
    "pycharm": {
     "name": "#%% md\n"
    }
   },
   "source": [
    "Since we want to make a simple regex search, we convert the handßwritten patterns into regexes."
   ]
  },
  {
   "cell_type": "code",
   "execution_count": 263,
   "metadata": {
    "pycharm": {
     "name": "#%%\n"
    }
   },
   "outputs": [],
   "source": [
    "def preprocess_patterns(patterns):\n",
    "    regex_patterns = [re.sub(\"\\\\\\\\\\\\$ARG\", \"(A )?(a )?(The )?(the )?\\\\$ARG\", re.escape(pattern)) for pattern in patterns]\n",
    "    return regex_patterns\n",
    "\n",
    "relation_patterns_df[\"regex pattern\"] = relation_patterns_df[\"raw pattern\"].apply(preprocess_patterns)"
   ]
  },
  {
   "cell_type": "code",
   "execution_count": 264,
   "metadata": {},
   "outputs": [
    {
     "data": {
      "text/html": [
       "<div>\n",
       "<style scoped>\n",
       "    .dataframe tbody tr th:only-of-type {\n",
       "        vertical-align: middle;\n",
       "    }\n",
       "\n",
       "    .dataframe tbody tr th {\n",
       "        vertical-align: top;\n",
       "    }\n",
       "\n",
       "    .dataframe thead th {\n",
       "        text-align: right;\n",
       "    }\n",
       "</style>\n",
       "<table border=\"1\" class=\"dataframe\">\n",
       "  <thead>\n",
       "    <tr style=\"text-align: right;\">\n",
       "      <th></th>\n",
       "      <th>raw pattern</th>\n",
       "      <th>regex pattern</th>\n",
       "    </tr>\n",
       "  </thead>\n",
       "  <tbody>\n",
       "    <tr>\n",
       "      <th>org:alternate_names</th>\n",
       "      <td>['\\$ARG1 ( \\$ARG2 ', '\\$ARG1 formerly known as \\$ARG2', '\\$ARG1 aka \\$ARG2', '\\$ARG1 ( also known as \\$ARG2 )']</td>\n",
       "      <td>['(A )?(a )?(The )?(the )?\\\\\\$ARG1\\\\ \\\\(\\\\ (A )?(a )?(The )?(the )?\\\\\\$ARG2\\\\ ', '(A )?(a )?(The )?(the )?\\\\\\$ARG1\\\\ formerly\\\\ known\\\\ as\\\\ (A )?(a )?(The )?(the )?\\\\\\$ARG2', '(A )?(a )?(The )?(the )?\\\\\\$ARG1\\\\ aka\\\\ (A )?(a )?(The )?(the )?\\\\\\$ARG2', '(A )?(a )?(The )?(the )?\\\\\\$ARG1\\\\ \\\\(\\\\ also\\\\ known\\\\ as\\\\ (A )?(a )?(The )?(the )?\\\\\\$ARG2\\\\ \\\\)']</td>\n",
       "    </tr>\n",
       "    <tr>\n",
       "      <th>per:date_of_birth</th>\n",
       "      <td>['\\$ARG1 ( born \\$ARG2 )', '\\$ARG1 ( born \\$ARG2 in', '\\$ARG1 ( \\$ARG2 -', '\\$ARG1 was born in \\$ARG2']</td>\n",
       "      <td>['(A )?(a )?(The )?(the )?\\\\\\$ARG1\\\\ \\\\(\\\\ born\\\\ (A )?(a )?(The )?(the )?\\\\\\$ARG2\\\\ \\\\)', '(A )?(a )?(The )?(the )?\\\\\\$ARG1\\\\ \\\\(\\\\ born\\\\ (A )?(a )?(The )?(the )?\\\\\\$ARG2\\\\ in', '(A )?(a )?(The )?(the )?\\\\\\$ARG1\\\\ \\\\(\\\\ (A )?(a )?(The )?(the )?\\\\\\$ARG2\\\\ \\\\-', '(A )?(a )?(The )?(the )?\\\\\\$ARG1\\\\ was\\\\ born\\\\ in\\\\ (A )?(a )?(The )?(the )?\\\\\\$ARG2']</td>\n",
       "    </tr>\n",
       "    <tr>\n",
       "      <th>org:top_members/employees</th>\n",
       "      <td>['\\$ARG1 , executive director of \\$ARG2', '\\$ARG1 , head of \\$ARG2', '\\$ARG1 , who heads \\$ARG2', '\\$ARG1 , chief executive of \\$ARG2']</td>\n",
       "      <td>['(A )?(a )?(The )?(the )?\\\\\\$ARG1\\\\ ,\\\\ executive\\\\ director\\\\ of\\\\ (A )?(a )?(The )?(the )?\\\\\\$ARG2', '(A )?(a )?(The )?(the )?\\\\\\$ARG1\\\\ ,\\\\ head\\\\ of\\\\ (A )?(a )?(The )?(the )?\\\\\\$ARG2', '(A )?(a )?(The )?(the )?\\\\\\$ARG1\\\\ ,\\\\ who\\\\ heads\\\\ (A )?(a )?(The )?(the )?\\\\\\$ARG2', '(A )?(a )?(The )?(the )?\\\\\\$ARG1\\\\ ,\\\\ chief\\\\ executive\\\\ of\\\\ (A )?(a )?(The )?(the )?\\\\\\$ARG2']</td>\n",
       "    </tr>\n",
       "  </tbody>\n",
       "</table>\n",
       "</div>"
      ],
      "text/plain": [
       "                                                                                                                                                       raw pattern  \\\n",
       "org:alternate_names        ['\\$ARG1 ( \\$ARG2 ', '\\$ARG1 formerly known as \\$ARG2', '\\$ARG1 aka \\$ARG2', '\\$ARG1 ( also known as \\$ARG2 )']                           \n",
       "per:date_of_birth          ['\\$ARG1 ( born \\$ARG2 )', '\\$ARG1 ( born \\$ARG2 in', '\\$ARG1 ( \\$ARG2 -', '\\$ARG1 was born in \\$ARG2']                                   \n",
       "org:top_members/employees  ['\\$ARG1 , executive director of \\$ARG2', '\\$ARG1 , head of \\$ARG2', '\\$ARG1 , who heads \\$ARG2', '\\$ARG1 , chief executive of \\$ARG2']   \n",
       "\n",
       "                                                                                                                                                                                                                                                                                                                                                                                                         regex pattern  \n",
       "org:alternate_names        ['(A )?(a )?(The )?(the )?\\\\\\$ARG1\\\\ \\\\(\\\\ (A )?(a )?(The )?(the )?\\\\\\$ARG2\\\\ ', '(A )?(a )?(The )?(the )?\\\\\\$ARG1\\\\ formerly\\\\ known\\\\ as\\\\ (A )?(a )?(The )?(the )?\\\\\\$ARG2', '(A )?(a )?(The )?(the )?\\\\\\$ARG1\\\\ aka\\\\ (A )?(a )?(The )?(the )?\\\\\\$ARG2', '(A )?(a )?(The )?(the )?\\\\\\$ARG1\\\\ \\\\(\\\\ also\\\\ known\\\\ as\\\\ (A )?(a )?(The )?(the )?\\\\\\$ARG2\\\\ \\\\)']                          \n",
       "per:date_of_birth          ['(A )?(a )?(The )?(the )?\\\\\\$ARG1\\\\ \\\\(\\\\ born\\\\ (A )?(a )?(The )?(the )?\\\\\\$ARG2\\\\ \\\\)', '(A )?(a )?(The )?(the )?\\\\\\$ARG1\\\\ \\\\(\\\\ born\\\\ (A )?(a )?(The )?(the )?\\\\\\$ARG2\\\\ in', '(A )?(a )?(The )?(the )?\\\\\\$ARG1\\\\ \\\\(\\\\ (A )?(a )?(The )?(the )?\\\\\\$ARG2\\\\ \\\\-', '(A )?(a )?(The )?(the )?\\\\\\$ARG1\\\\ was\\\\ born\\\\ in\\\\ (A )?(a )?(The )?(the )?\\\\\\$ARG2']                              \n",
       "org:top_members/employees  ['(A )?(a )?(The )?(the )?\\\\\\$ARG1\\\\ ,\\\\ executive\\\\ director\\\\ of\\\\ (A )?(a )?(The )?(the )?\\\\\\$ARG2', '(A )?(a )?(The )?(the )?\\\\\\$ARG1\\\\ ,\\\\ head\\\\ of\\\\ (A )?(a )?(The )?(the )?\\\\\\$ARG2', '(A )?(a )?(The )?(the )?\\\\\\$ARG1\\\\ ,\\\\ who\\\\ heads\\\\ (A )?(a )?(The )?(the )?\\\\\\$ARG2', '(A )?(a )?(The )?(the )?\\\\\\$ARG1\\\\ ,\\\\ chief\\\\ executive\\\\ of\\\\ (A )?(a )?(The )?(the )?\\\\\\$ARG2']  "
      ]
     },
     "execution_count": 264,
     "metadata": {},
     "output_type": "execute_result"
    }
   ],
   "source": [
    "relation_patterns_df.apply(lambda x: escape_dollar(x)).head()"
   ]
  },
  {
   "cell_type": "markdown",
   "metadata": {},
   "source": [
    "## Entity pairing"
   ]
  },
  {
   "cell_type": "markdown",
   "metadata": {},
   "source": [
    "We get the sentence annotations with the Spacy package"
   ]
  },
  {
   "cell_type": "code",
   "execution_count": 265,
   "metadata": {},
   "outputs": [],
   "source": [
    "analyzer = spacy.load(\"en_core_web_sm\")\n",
    "selected_samples[\"spacy info\"] = selected_samples[\"sample\"].apply(lambda x: analyzer(x).to_json())"
   ]
  },
  {
   "cell_type": "markdown",
   "metadata": {
    "pycharm": {
     "name": "#%% md\n"
    }
   },
   "source": [
    "After that, we take the arguments pairwise in each sentence and create subsentences that include:\n",
    "- the first entity substituted with \"ARG1\"\n",
    "- the second argument substituted with \"$ARG2\"\n",
    "- all the words inbetween"
   ]
  },
  {
   "cell_type": "code",
   "execution_count": 314,
   "metadata": {
    "pycharm": {
     "name": "#%%\n"
    }
   },
   "outputs": [],
   "source": [
    "def get_extracted_sample(sample):\n",
    "    return [(ARG1 + sample[\"text\"][ent1[\"end\"]:ent2[\"start\"]] + ARG2) if ent1[\"end\"] < ent2[\"end\"] \n",
    "            else (ARG2 + sample[\"text\"][ent2[\"end\"]:ent1[\"start\"]] + ARG1)\n",
    "            for ent1, ent2 in itertools.permutations(sample[\"ents\"],2)]\n",
    "\n",
    "selected_samples[\"extr\"] = selected_samples[\"spacy info\"].apply(lambda x: get_extracted_sample(x))\n",
    "selected_samples = selected_samples.loc[selected_samples[\"extr\"].apply(lambda x: len(x) != 0)]"
   ]
  },
  {
   "cell_type": "code",
   "execution_count": 315,
   "metadata": {},
   "outputs": [
    {
     "data": {
      "text/html": [
       "<div>\n",
       "<style scoped>\n",
       "    .dataframe tbody tr th:only-of-type {\n",
       "        vertical-align: middle;\n",
       "    }\n",
       "\n",
       "    .dataframe tbody tr th {\n",
       "        vertical-align: top;\n",
       "    }\n",
       "\n",
       "    .dataframe thead th {\n",
       "        text-align: right;\n",
       "    }\n",
       "</style>\n",
       "<table border=\"1\" class=\"dataframe\">\n",
       "  <thead>\n",
       "    <tr style=\"text-align: right;\">\n",
       "      <th></th>\n",
       "      <th>sample</th>\n",
       "      <th>label</th>\n",
       "      <th>extr</th>\n",
       "    </tr>\n",
       "  </thead>\n",
       "  <tbody>\n",
       "    <tr>\n",
       "      <th>8105</th>\n",
       "      <td>The body of Polish first lady Maria Kaczynska remains unidentified more than a day after she died in an air crash with President Lech Kaczynski and dozens of other officials , an aide said Sunday .</td>\n",
       "      <td>per:cause_of_death</td>\n",
       "      <td>['\\$ARG1 first lady \\$ARG2', '\\$ARG1 first lady Maria Kaczynska remains unidentified \\$ARG2', '\\$ARG1 first lady Maria Kaczynska remains unidentified more than a day after she died in an air crash with President \\$ARG2', '\\$ARG1 first lady Maria Kaczynska remains unidentified more than a day after she died in an air crash with President Lech Kaczynski and \\$ARG2', '\\$ARG1 first lady Maria Kaczynska remains unidentified more than a day after she died in an air crash with President Lech Kaczynski and dozens of other officials , an aide said \\$ARG2', '\\$ARG2 first lady \\$ARG1', '\\$ARG1 remains unidentified \\$ARG2', '\\$ARG1 remains unidentified more than a day after she died in an air crash with President \\$ARG2', '\\$ARG1 remains unidentified more than a day after she died in an air crash with President Lech Kaczynski and \\$ARG2', '\\$ARG1 remains unidentified more than a day after she died in an air crash with President Lech Kaczynski and dozens of other officials , an aide said \\$ARG2', '\\$ARG2 first lady Maria Kaczynska remains unidentified \\$ARG1', '\\$ARG2 remains unidentified \\$ARG1', '\\$ARG1 after she died in an air crash with President \\$ARG2', '\\$ARG1 after she died in an air crash with President Lech Kaczynski and \\$ARG2', '\\$ARG1 after she died in an air crash with President Lech Kaczynski and dozens of other officials , an aide said \\$ARG2', '\\$ARG2 first lady Maria Kaczynska remains unidentified more than a day after she died in an air crash with President \\$ARG1', '\\$ARG2 remains unidentified more than a day after she died in an air crash with President \\$ARG1', '\\$ARG2 after she died in an air crash with President \\$ARG1', '\\$ARG1 and \\$ARG2', '\\$ARG1 and dozens of other officials , an aide said \\$ARG2', '\\$ARG2 first lady Maria Kaczynska remains unidentified more than a day after she died in an air crash with President Lech Kaczynski and \\$ARG1', '\\$ARG2 remains unidentified more than a day after she died in an air crash with President Lech Kaczynski and \\$ARG1', '\\$ARG2 after she died in an air crash with President Lech Kaczynski and \\$ARG1', '\\$ARG2 and \\$ARG1', '\\$ARG1 of other officials , an aide said \\$ARG2', '\\$ARG2 first lady Maria Kaczynska remains unidentified more than a day after she died in an air crash with President Lech Kaczynski and dozens of other officials , an aide said \\$ARG1', '\\$ARG2 remains unidentified more than a day after she died in an air crash with President Lech Kaczynski and dozens of other officials , an aide said \\$ARG1', '\\$ARG2 after she died in an air crash with President Lech Kaczynski and dozens of other officials , an aide said \\$ARG1', '\\$ARG2 and dozens of other officials , an aide said \\$ARG1', '\\$ARG2 of other officials , an aide said \\$ARG1']</td>\n",
       "    </tr>\n",
       "    <tr>\n",
       "      <th>14261</th>\n",
       "      <td>Rana , who is a Canadian citizen , was arrested Oct 18 in his home .</td>\n",
       "      <td>per:origin</td>\n",
       "      <td>['\\$ARG1 , who is a \\$ARG2', '\\$ARG1 , who is a Canadian citizen , was arrested \\$ARG2', '\\$ARG2 , who is a \\$ARG1', '\\$ARG1 citizen , was arrested \\$ARG2', '\\$ARG2 , who is a Canadian citizen , was arrested \\$ARG1', '\\$ARG2 citizen , was arrested \\$ARG1']</td>\n",
       "    </tr>\n",
       "    <tr>\n",
       "      <th>13130</th>\n",
       "      <td>Shareholders will be voting on whether to split the company 's Class B shares in a move tied to Berkshire 's purchase of Burlington Northern Santa Fe Corp .</td>\n",
       "      <td>org:parents</td>\n",
       "      <td>[\"\\$ARG1 's purchase of \\$ARG2\", \"\\$ARG2 's purchase of \\$ARG1\"]</td>\n",
       "    </tr>\n",
       "    <tr>\n",
       "      <th>8370</th>\n",
       "      <td>Leading Cuban political prisoner Orlando Zapata died in hospital Tuesday , 85 days into a hunger strike , medical officials said as `` indignant '' dissidents blamed the government for his death .</td>\n",
       "      <td>per:cause_of_death</td>\n",
       "      <td>['\\$ARG1 political prisoner \\$ARG2', '\\$ARG1 political prisoner Orlando Zapata died in hospital \\$ARG2', '\\$ARG1 political prisoner Orlando Zapata died in hospital Tuesday , \\$ARG2', '\\$ARG2 political prisoner \\$ARG1', '\\$ARG1 died in hospital \\$ARG2', '\\$ARG1 died in hospital Tuesday , \\$ARG2', '\\$ARG2 political prisoner Orlando Zapata died in hospital \\$ARG1', '\\$ARG2 died in hospital \\$ARG1', '\\$ARG1 , \\$ARG2', '\\$ARG2 political prisoner Orlando Zapata died in hospital Tuesday , \\$ARG1', '\\$ARG2 died in hospital Tuesday , \\$ARG1', '\\$ARG2 , \\$ARG1']</td>\n",
       "    </tr>\n",
       "    <tr>\n",
       "      <th>6984</th>\n",
       "      <td>Colorado Rockies team president Keli McGregor , a former National Football League player , was found dead Tuesday in a hotel room , Salt Lake City police said .</td>\n",
       "      <td>per:city_of_death</td>\n",
       "      <td>['\\$ARG1 \\$ARG2', '\\$ARG1 Rockies team president \\$ARG2', '\\$ARG1 Rockies team president Keli McGregor , a former \\$ARG2', '\\$ARG1 Rockies team president Keli McGregor , a former National Football League player , was found dead \\$ARG2', '\\$ARG1 Rockies team president Keli McGregor , a former National Football League player , was found dead Tuesday in a hotel room , \\$ARG2', '\\$ARG2 \\$ARG1', '\\$ARG1 team president \\$ARG2', '\\$ARG1 team president Keli McGregor , a former \\$ARG2', '\\$ARG1 team president Keli McGregor , a former National Football League player , was found dead \\$ARG2', '\\$ARG1 team president Keli McGregor , a former National Football League player , was found dead Tuesday in a hotel room , \\$ARG2', '\\$ARG2 Rockies team president \\$ARG1', '\\$ARG2 team president \\$ARG1', '\\$ARG1 , a former \\$ARG2', '\\$ARG1 , a former National Football League player , was found dead \\$ARG2', '\\$ARG1 , a former National Football League player , was found dead Tuesday in a hotel room , \\$ARG2', '\\$ARG2 Rockies team president Keli McGregor , a former \\$ARG1', '\\$ARG2 team president Keli McGregor , a former \\$ARG1', '\\$ARG2 , a former \\$ARG1', '\\$ARG1 player , was found dead \\$ARG2', '\\$ARG1 player , was found dead Tuesday in a hotel room , \\$ARG2', '\\$ARG2 Rockies team president Keli McGregor , a former National Football League player , was found dead \\$ARG1', '\\$ARG2 team president Keli McGregor , a former National Football League player , was found dead \\$ARG1', '\\$ARG2 , a former National Football League player , was found dead \\$ARG1', '\\$ARG2 player , was found dead \\$ARG1', '\\$ARG1 in a hotel room , \\$ARG2', '\\$ARG2 Rockies team president Keli McGregor , a former National Football League player , was found dead Tuesday in a hotel room , \\$ARG1', '\\$ARG2 team president Keli McGregor , a former National Football League player , was found dead Tuesday in a hotel room , \\$ARG1', '\\$ARG2 , a former National Football League player , was found dead Tuesday in a hotel room , \\$ARG1', '\\$ARG2 player , was found dead Tuesday in a hotel room , \\$ARG1', '\\$ARG2 in a hotel room , \\$ARG1']</td>\n",
       "    </tr>\n",
       "  </tbody>\n",
       "</table>\n",
       "</div>"
      ],
      "text/plain": [
       "                                                                                                                                                                                                       sample  \\\n",
       "8105    The body of Polish first lady Maria Kaczynska remains unidentified more than a day after she died in an air crash with President Lech Kaczynski and dozens of other officials , an aide said Sunday .   \n",
       "14261   Rana , who is a Canadian citizen , was arrested Oct 18 in his home .                                                                                                                                    \n",
       "13130   Shareholders will be voting on whether to split the company 's Class B shares in a move tied to Berkshire 's purchase of Burlington Northern Santa Fe Corp .                                            \n",
       "8370    Leading Cuban political prisoner Orlando Zapata died in hospital Tuesday , 85 days into a hunger strike , medical officials said as `` indignant '' dissidents blamed the government for his death .    \n",
       "6984    Colorado Rockies team president Keli McGregor , a former National Football League player , was found dead Tuesday in a hotel room , Salt Lake City police said .                                        \n",
       "\n",
       "                    label  \\\n",
       "8105   per:cause_of_death   \n",
       "14261  per:origin           \n",
       "13130  org:parents          \n",
       "8370   per:cause_of_death   \n",
       "6984   per:city_of_death    \n",
       "\n",
       "                                                                                                                                                                                                                                                                                                                                                                                                                                                                                                                                                                                                                                                                                                                                                                                                                                                                                                                                                                                                                                                                                                                                                                                                                                                                                                                                                                                                                                                                                                                                                                                                                                                                                                                                                                                                                                                                                                                                                                                                                                                                                                                                                                                                                                                                                                                                                                                                                                                                                                                                                                                                                                                                                                                                                                                                                                                           extr  \n",
       "8105   ['\\$ARG1 first lady \\$ARG2', '\\$ARG1 first lady Maria Kaczynska remains unidentified \\$ARG2', '\\$ARG1 first lady Maria Kaczynska remains unidentified more than a day after she died in an air crash with President \\$ARG2', '\\$ARG1 first lady Maria Kaczynska remains unidentified more than a day after she died in an air crash with President Lech Kaczynski and \\$ARG2', '\\$ARG1 first lady Maria Kaczynska remains unidentified more than a day after she died in an air crash with President Lech Kaczynski and dozens of other officials , an aide said \\$ARG2', '\\$ARG2 first lady \\$ARG1', '\\$ARG1 remains unidentified \\$ARG2', '\\$ARG1 remains unidentified more than a day after she died in an air crash with President \\$ARG2', '\\$ARG1 remains unidentified more than a day after she died in an air crash with President Lech Kaczynski and \\$ARG2', '\\$ARG1 remains unidentified more than a day after she died in an air crash with President Lech Kaczynski and dozens of other officials , an aide said \\$ARG2', '\\$ARG2 first lady Maria Kaczynska remains unidentified \\$ARG1', '\\$ARG2 remains unidentified \\$ARG1', '\\$ARG1 after she died in an air crash with President \\$ARG2', '\\$ARG1 after she died in an air crash with President Lech Kaczynski and \\$ARG2', '\\$ARG1 after she died in an air crash with President Lech Kaczynski and dozens of other officials , an aide said \\$ARG2', '\\$ARG2 first lady Maria Kaczynska remains unidentified more than a day after she died in an air crash with President \\$ARG1', '\\$ARG2 remains unidentified more than a day after she died in an air crash with President \\$ARG1', '\\$ARG2 after she died in an air crash with President \\$ARG1', '\\$ARG1 and \\$ARG2', '\\$ARG1 and dozens of other officials , an aide said \\$ARG2', '\\$ARG2 first lady Maria Kaczynska remains unidentified more than a day after she died in an air crash with President Lech Kaczynski and \\$ARG1', '\\$ARG2 remains unidentified more than a day after she died in an air crash with President Lech Kaczynski and \\$ARG1', '\\$ARG2 after she died in an air crash with President Lech Kaczynski and \\$ARG1', '\\$ARG2 and \\$ARG1', '\\$ARG1 of other officials , an aide said \\$ARG2', '\\$ARG2 first lady Maria Kaczynska remains unidentified more than a day after she died in an air crash with President Lech Kaczynski and dozens of other officials , an aide said \\$ARG1', '\\$ARG2 remains unidentified more than a day after she died in an air crash with President Lech Kaczynski and dozens of other officials , an aide said \\$ARG1', '\\$ARG2 after she died in an air crash with President Lech Kaczynski and dozens of other officials , an aide said \\$ARG1', '\\$ARG2 and dozens of other officials , an aide said \\$ARG1', '\\$ARG2 of other officials , an aide said \\$ARG1']  \n",
       "14261  ['\\$ARG1 , who is a \\$ARG2', '\\$ARG1 , who is a Canadian citizen , was arrested \\$ARG2', '\\$ARG2 , who is a \\$ARG1', '\\$ARG1 citizen , was arrested \\$ARG2', '\\$ARG2 , who is a Canadian citizen , was arrested \\$ARG1', '\\$ARG2 citizen , was arrested \\$ARG1']                                                                                                                                                                                                                                                                                                                                                                                                                                                                                                                                                                                                                                                                                                                                                                                                                                                                                                                                                                                                                                                                                                                                                                                                                                                                                                                                                                                                                                                                                                                                                                                                                                                                                                                                                                                                                                                                                                                                                                                                                                                                                                                                                                                                                                                                                                                                                                                                                                                                                                                                                                                          \n",
       "13130  [\"\\$ARG1 's purchase of \\$ARG2\", \"\\$ARG2 's purchase of \\$ARG1\"]                                                                                                                                                                                                                                                                                                                                                                                                                                                                                                                                                                                                                                                                                                                                                                                                                                                                                                                                                                                                                                                                                                                                                                                                                                                                                                                                                                                                                                                                                                                                                                                                                                                                                                                                                                                                                                                                                                                                                                                                                                                                                                                                                                                                                                                                                                                                                                                                                                                                                                                                                                                                                                                                                                                                                                                          \n",
       "8370   ['\\$ARG1 political prisoner \\$ARG2', '\\$ARG1 political prisoner Orlando Zapata died in hospital \\$ARG2', '\\$ARG1 political prisoner Orlando Zapata died in hospital Tuesday , \\$ARG2', '\\$ARG2 political prisoner \\$ARG1', '\\$ARG1 died in hospital \\$ARG2', '\\$ARG1 died in hospital Tuesday , \\$ARG2', '\\$ARG2 political prisoner Orlando Zapata died in hospital \\$ARG1', '\\$ARG2 died in hospital \\$ARG1', '\\$ARG1 , \\$ARG2', '\\$ARG2 political prisoner Orlando Zapata died in hospital Tuesday , \\$ARG1', '\\$ARG2 died in hospital Tuesday , \\$ARG1', '\\$ARG2 , \\$ARG1']                                                                                                                                                                                                                                                                                                                                                                                                                                                                                                                                                                                                                                                                                                                                                                                                                                                                                                                                                                                                                                                                                                                                                                                                                                                                                                                                                                                                                                                                                                                                                                                                                                                                                                                                                                                                                                                                                                                                                                                                                                                                                                                                                                                                                                                                            \n",
       "6984   ['\\$ARG1 \\$ARG2', '\\$ARG1 Rockies team president \\$ARG2', '\\$ARG1 Rockies team president Keli McGregor , a former \\$ARG2', '\\$ARG1 Rockies team president Keli McGregor , a former National Football League player , was found dead \\$ARG2', '\\$ARG1 Rockies team president Keli McGregor , a former National Football League player , was found dead Tuesday in a hotel room , \\$ARG2', '\\$ARG2 \\$ARG1', '\\$ARG1 team president \\$ARG2', '\\$ARG1 team president Keli McGregor , a former \\$ARG2', '\\$ARG1 team president Keli McGregor , a former National Football League player , was found dead \\$ARG2', '\\$ARG1 team president Keli McGregor , a former National Football League player , was found dead Tuesday in a hotel room , \\$ARG2', '\\$ARG2 Rockies team president \\$ARG1', '\\$ARG2 team president \\$ARG1', '\\$ARG1 , a former \\$ARG2', '\\$ARG1 , a former National Football League player , was found dead \\$ARG2', '\\$ARG1 , a former National Football League player , was found dead Tuesday in a hotel room , \\$ARG2', '\\$ARG2 Rockies team president Keli McGregor , a former \\$ARG1', '\\$ARG2 team president Keli McGregor , a former \\$ARG1', '\\$ARG2 , a former \\$ARG1', '\\$ARG1 player , was found dead \\$ARG2', '\\$ARG1 player , was found dead Tuesday in a hotel room , \\$ARG2', '\\$ARG2 Rockies team president Keli McGregor , a former National Football League player , was found dead \\$ARG1', '\\$ARG2 team president Keli McGregor , a former National Football League player , was found dead \\$ARG1', '\\$ARG2 , a former National Football League player , was found dead \\$ARG1', '\\$ARG2 player , was found dead \\$ARG1', '\\$ARG1 in a hotel room , \\$ARG2', '\\$ARG2 Rockies team president Keli McGregor , a former National Football League player , was found dead Tuesday in a hotel room , \\$ARG1', '\\$ARG2 team president Keli McGregor , a former National Football League player , was found dead Tuesday in a hotel room , \\$ARG1', '\\$ARG2 , a former National Football League player , was found dead Tuesday in a hotel room , \\$ARG1', '\\$ARG2 player , was found dead Tuesday in a hotel room , \\$ARG1', '\\$ARG2 in a hotel room , \\$ARG1']                                                                                                                                                                                                                                                                                                                                                                                                                                                                                                                                                                                                                                                              "
      ]
     },
     "execution_count": 315,
     "metadata": {},
     "output_type": "execute_result"
    }
   ],
   "source": [
    "selected_samples[[\"sample\", \"label\", \"extr\"]].apply(lambda x: escape_dollar(x)).head()"
   ]
  },
  {
   "cell_type": "markdown",
   "metadata": {},
   "source": [
    "## Pattern search"
   ]
  },
  {
   "cell_type": "markdown",
   "metadata": {},
   "source": [
    "Now we look for patterns in each of these subsentences. If there is a match, we add a corresponding sentence to the final DataFrame with the information about pattern that matched and weak label it received. The fold labels are still there for comparing. "
   ]
  },
  {
   "cell_type": "code",
   "execution_count": 318,
   "metadata": {},
   "outputs": [],
   "source": [
    "def pattern_search(extr_sample, patterns, row):\n",
    "    for relation, rel_patterns in patterns.iterrows():\n",
    "        matches = [[row[\"sample\"], extr_sample, pattern, relation, row[\"label\"]] \n",
    "                   for pattern in rel_patterns[\"regex pattern\"]].str.match(pattern) \n",
    "                   # if re.match(pattern, extr_sample) is not None]   # todo\n",
    "        if len(matches) > 0:\n",
    "            return pd.DataFrame(matches, columns = FINAL_DF_COLUMNS)"
   ]
  },
  {
   "cell_type": "code",
   "execution_count": 319,
   "metadata": {
    "pycharm": {
     "name": "#%%\n"
    }
   },
   "outputs": [],
   "source": [
    "all_matches = pd.DataFrame(columns = FINAL_DF_COLUMNS)\n",
    "for _, row in selected_samples.iterrows():\n",
    "    for cand_sample in row[\"extr\"]:\n",
    "        df_found = pattern_search(cand_sample, relation_patterns_df, row)\n",
    "        if isinstance(df_found, pd.DataFrame) and not df_found.empty:\n",
    "            all_matches = pd.concat([all_matches, df_found])"
   ]
  },
  {
   "cell_type": "code",
   "execution_count": 320,
   "metadata": {
    "scrolled": false
   },
   "outputs": [
    {
     "data": {
      "text/html": [
       "<div>\n",
       "<style scoped>\n",
       "    .dataframe tbody tr th:only-of-type {\n",
       "        vertical-align: middle;\n",
       "    }\n",
       "\n",
       "    .dataframe tbody tr th {\n",
       "        vertical-align: top;\n",
       "    }\n",
       "\n",
       "    .dataframe thead th {\n",
       "        text-align: right;\n",
       "    }\n",
       "</style>\n",
       "<table border=\"1\" class=\"dataframe\">\n",
       "  <thead>\n",
       "    <tr style=\"text-align: right;\">\n",
       "      <th></th>\n",
       "      <th>sample</th>\n",
       "      <th>extr_sample</th>\n",
       "      <th>pattern</th>\n",
       "      <th>weak_label</th>\n",
       "      <th>gold_label</th>\n",
       "    </tr>\n",
       "  </thead>\n",
       "  <tbody>\n",
       "    <tr>\n",
       "      <th>0</th>\n",
       "      <td>A professor emeritus at Yale University , Mandelbrot was born in Poland but as a child moved with his family to France where he was educated .</td>\n",
       "      <td>\\$ARG1 was born in \\$ARG2</td>\n",
       "      <td>(A )?(a )?(The )?(the )?\\\\$ARG1\\ was\\ born\\ in\\ (A )?(a )?(The )?(the )?\\\\$ARG2</td>\n",
       "      <td>per:date_of_birth</td>\n",
       "      <td>per:countries_of_residence</td>\n",
       "    </tr>\n",
       "    <tr>\n",
       "      <th>0</th>\n",
       "      <td>Gwathmey was born in 1938 , the only child of painter Robert Gwathmey and his wife , Rosalie , a photographer .</td>\n",
       "      <td>\\$ARG1 was born in \\$ARG2</td>\n",
       "      <td>(A )?(a )?(The )?(the )?\\\\$ARG1\\ was\\ born\\ in\\ (A )?(a )?(The )?(the )?\\\\$ARG2</td>\n",
       "      <td>per:date_of_birth</td>\n",
       "      <td>per:children</td>\n",
       "    </tr>\n",
       "    <tr>\n",
       "      <th>0</th>\n",
       "      <td>CBS News pioneer Don Hewitt dies at 86 Donald Shepard Hewitt was born in New York on Dec 14 , 1922 , and grew up in the suburb of New Rochelle .</td>\n",
       "      <td>\\$ARG1 was born in \\$ARG2</td>\n",
       "      <td>(A )?(a )?(The )?(the )?\\\\$ARG1\\ was\\ born\\ in\\ (A )?(a )?(The )?(the )?\\\\$ARG2</td>\n",
       "      <td>per:date_of_birth</td>\n",
       "      <td>per:stateorprovince_of_birth</td>\n",
       "    </tr>\n",
       "    <tr>\n",
       "      <th>0</th>\n",
       "      <td>`` It is difficult to put one country and its citizens in the same boat ... some people from Iran have very legitimate interests in Europe and are very trustworthy , '' said Pierre Mirabaud , head of the Swiss Bankers Association .</td>\n",
       "      <td>\\$ARG1 , head of \\$ARG2</td>\n",
       "      <td>(A )?(a )?(The )?(the )?\\\\$ARG1\\ ,\\ head\\ of\\ (A )?(a )?(The )?(the )?\\\\$ARG2</td>\n",
       "      <td>org:top_members/employees</td>\n",
       "      <td>org:top_members/employees</td>\n",
       "    </tr>\n",
       "    <tr>\n",
       "      <th>0</th>\n",
       "      <td>A professor emeritus at Yale University , Mandelbrot was born in Poland but as a child moved with his family to France where he was educated .</td>\n",
       "      <td>\\$ARG1 was born in \\$ARG2</td>\n",
       "      <td>(A )?(a )?(The )?(the )?\\\\$ARG1\\ was\\ born\\ in\\ (A )?(a )?(The )?(the )?\\\\$ARG2</td>\n",
       "      <td>per:date_of_birth</td>\n",
       "      <td>per:country_of_birth</td>\n",
       "    </tr>\n",
       "  </tbody>\n",
       "</table>\n",
       "</div>"
      ],
      "text/plain": [
       "                                                                                                                                                                                                                                     sample  \\\n",
       "0   A professor emeritus at Yale University , Mandelbrot was born in Poland but as a child moved with his family to France where he was educated .                                                                                            \n",
       "0   Gwathmey was born in 1938 , the only child of painter Robert Gwathmey and his wife , Rosalie , a photographer .                                                                                                                           \n",
       "0   CBS News pioneer Don Hewitt dies at 86 Donald Shepard Hewitt was born in New York on Dec 14 , 1922 , and grew up in the suburb of New Rochelle .                                                                                          \n",
       "0   `` It is difficult to put one country and its citizens in the same boat ... some people from Iran have very legitimate interests in Europe and are very trustworthy , '' said Pierre Mirabaud , head of the Swiss Bankers Association .   \n",
       "0   A professor emeritus at Yale University , Mandelbrot was born in Poland but as a child moved with his family to France where he was educated .                                                                                            \n",
       "\n",
       "                 extr_sample  \\\n",
       "0  \\$ARG1 was born in \\$ARG2   \n",
       "0  \\$ARG1 was born in \\$ARG2   \n",
       "0  \\$ARG1 was born in \\$ARG2   \n",
       "0  \\$ARG1 , head of \\$ARG2     \n",
       "0  \\$ARG1 was born in \\$ARG2   \n",
       "\n",
       "                                                                           pattern  \\\n",
       "0  (A )?(a )?(The )?(the )?\\\\$ARG1\\ was\\ born\\ in\\ (A )?(a )?(The )?(the )?\\\\$ARG2   \n",
       "0  (A )?(a )?(The )?(the )?\\\\$ARG1\\ was\\ born\\ in\\ (A )?(a )?(The )?(the )?\\\\$ARG2   \n",
       "0  (A )?(a )?(The )?(the )?\\\\$ARG1\\ was\\ born\\ in\\ (A )?(a )?(The )?(the )?\\\\$ARG2   \n",
       "0  (A )?(a )?(The )?(the )?\\\\$ARG1\\ ,\\ head\\ of\\ (A )?(a )?(The )?(the )?\\\\$ARG2     \n",
       "0  (A )?(a )?(The )?(the )?\\\\$ARG1\\ was\\ born\\ in\\ (A )?(a )?(The )?(the )?\\\\$ARG2   \n",
       "\n",
       "                  weak_label                    gold_label  \n",
       "0  per:date_of_birth          per:countries_of_residence    \n",
       "0  per:date_of_birth          per:children                  \n",
       "0  per:date_of_birth          per:stateorprovince_of_birth  \n",
       "0  org:top_members/employees  org:top_members/employees     \n",
       "0  per:date_of_birth          per:country_of_birth          "
      ]
     },
     "execution_count": 320,
     "metadata": {},
     "output_type": "execute_result"
    }
   ],
   "source": [
    "all_matches.apply(lambda x: escape_dollar(x)).head()"
   ]
  },
  {
   "cell_type": "code",
   "execution_count": 284,
   "metadata": {},
   "outputs": [
    {
     "data": {
      "text/plain": [
       "120"
      ]
     },
     "execution_count": 284,
     "metadata": {},
     "output_type": "execute_result"
    }
   ],
   "source": [
    "all_matches.size"
   ]
  },
  {
   "cell_type": "markdown",
   "metadata": {
    "pycharm": {
     "name": "#%% md\n"
    }
   },
   "source": [
    "But here we can observe some misclassified sentences: for example, a sentence \n",
    "\n",
    "\"A professor emeritus at Yale University , Mandelbrot was born in Poland but as a child moved with his family to France where he was educated\" \n",
    "\n",
    "was assigned with a label \"per:date_of_birth\" (presumably by a pattern \"ARG1 was born in ARG2\"), what is definitely wrong. In order to avoid such mistake, let's add additional constraints on the argument types."
   ]
  },
  {
   "cell_type": "code",
   "execution_count": 285,
   "metadata": {},
   "outputs": [],
   "source": [
    "relation_to_types = {\"org:alternate_names\": ['PERSON', 'PERSON'], \n",
    "                     \"per:date_of_birth\": ['PERSON', 'DATE'],\n",
    "                     \"org:top_members/employees\": ['PERSON', 'ORG']}"
   ]
  },
  {
   "cell_type": "markdown",
   "metadata": {
    "pycharm": {
     "name": "#%% md\n"
    }
   },
   "source": [
    "So, when we look for these patterns in samples, we should take into account the entity types referred to corresponding relation. "
   ]
  },
  {
   "cell_type": "code",
   "execution_count": 286,
   "metadata": {},
   "outputs": [],
   "source": [
    "relation_patterns_df[\"type\"] = pd.Series(relation_to_types)"
   ]
  },
  {
   "cell_type": "code",
   "execution_count": 287,
   "metadata": {
    "pycharm": {
     "name": "#%%\n"
    }
   },
   "outputs": [
    {
     "data": {
      "text/html": [
       "<div>\n",
       "<style scoped>\n",
       "    .dataframe tbody tr th:only-of-type {\n",
       "        vertical-align: middle;\n",
       "    }\n",
       "\n",
       "    .dataframe tbody tr th {\n",
       "        vertical-align: top;\n",
       "    }\n",
       "\n",
       "    .dataframe thead th {\n",
       "        text-align: right;\n",
       "    }\n",
       "</style>\n",
       "<table border=\"1\" class=\"dataframe\">\n",
       "  <thead>\n",
       "    <tr style=\"text-align: right;\">\n",
       "      <th></th>\n",
       "      <th>raw pattern</th>\n",
       "      <th>regex pattern</th>\n",
       "      <th>type</th>\n",
       "    </tr>\n",
       "  </thead>\n",
       "  <tbody>\n",
       "    <tr>\n",
       "      <th>org:alternate_names</th>\n",
       "      <td>['\\$ARG1 ( \\$ARG2 ', '\\$ARG1 formerly known as \\$ARG2', '\\$ARG1 aka \\$ARG2', '\\$ARG1 ( also known as \\$ARG2 )']</td>\n",
       "      <td>['(A )?(a )?(The )?(the )?\\\\\\$ARG1\\\\ \\\\(\\\\ (A )?(a )?(The )?(the )?\\\\\\$ARG2\\\\ ', '(A )?(a )?(The )?(the )?\\\\\\$ARG1\\\\ formerly\\\\ known\\\\ as\\\\ (A )?(a )?(The )?(the )?\\\\\\$ARG2', '(A )?(a )?(The )?(the )?\\\\\\$ARG1\\\\ aka\\\\ (A )?(a )?(The )?(the )?\\\\\\$ARG2', '(A )?(a )?(The )?(the )?\\\\\\$ARG1\\\\ \\\\(\\\\ also\\\\ known\\\\ as\\\\ (A )?(a )?(The )?(the )?\\\\\\$ARG2\\\\ \\\\)']</td>\n",
       "      <td>['PERSON', 'PERSON']</td>\n",
       "    </tr>\n",
       "    <tr>\n",
       "      <th>per:date_of_birth</th>\n",
       "      <td>['\\$ARG1 ( born \\$ARG2 )', '\\$ARG1 ( born \\$ARG2 in', '\\$ARG1 ( \\$ARG2 -', '\\$ARG1 was born in \\$ARG2']</td>\n",
       "      <td>['(A )?(a )?(The )?(the )?\\\\\\$ARG1\\\\ \\\\(\\\\ born\\\\ (A )?(a )?(The )?(the )?\\\\\\$ARG2\\\\ \\\\)', '(A )?(a )?(The )?(the )?\\\\\\$ARG1\\\\ \\\\(\\\\ born\\\\ (A )?(a )?(The )?(the )?\\\\\\$ARG2\\\\ in', '(A )?(a )?(The )?(the )?\\\\\\$ARG1\\\\ \\\\(\\\\ (A )?(a )?(The )?(the )?\\\\\\$ARG2\\\\ \\\\-', '(A )?(a )?(The )?(the )?\\\\\\$ARG1\\\\ was\\\\ born\\\\ in\\\\ (A )?(a )?(The )?(the )?\\\\\\$ARG2']</td>\n",
       "      <td>['PERSON', 'DATE']</td>\n",
       "    </tr>\n",
       "    <tr>\n",
       "      <th>org:top_members/employees</th>\n",
       "      <td>['\\$ARG1 , executive director of \\$ARG2', '\\$ARG1 , head of \\$ARG2', '\\$ARG1 , who heads \\$ARG2', '\\$ARG1 , chief executive of \\$ARG2']</td>\n",
       "      <td>['(A )?(a )?(The )?(the )?\\\\\\$ARG1\\\\ ,\\\\ executive\\\\ director\\\\ of\\\\ (A )?(a )?(The )?(the )?\\\\\\$ARG2', '(A )?(a )?(The )?(the )?\\\\\\$ARG1\\\\ ,\\\\ head\\\\ of\\\\ (A )?(a )?(The )?(the )?\\\\\\$ARG2', '(A )?(a )?(The )?(the )?\\\\\\$ARG1\\\\ ,\\\\ who\\\\ heads\\\\ (A )?(a )?(The )?(the )?\\\\\\$ARG2', '(A )?(a )?(The )?(the )?\\\\\\$ARG1\\\\ ,\\\\ chief\\\\ executive\\\\ of\\\\ (A )?(a )?(The )?(the )?\\\\\\$ARG2']</td>\n",
       "      <td>['PERSON', 'ORG']</td>\n",
       "    </tr>\n",
       "  </tbody>\n",
       "</table>\n",
       "</div>"
      ],
      "text/plain": [
       "                                                                                                                                                       raw pattern  \\\n",
       "org:alternate_names        ['\\$ARG1 ( \\$ARG2 ', '\\$ARG1 formerly known as \\$ARG2', '\\$ARG1 aka \\$ARG2', '\\$ARG1 ( also known as \\$ARG2 )']                           \n",
       "per:date_of_birth          ['\\$ARG1 ( born \\$ARG2 )', '\\$ARG1 ( born \\$ARG2 in', '\\$ARG1 ( \\$ARG2 -', '\\$ARG1 was born in \\$ARG2']                                   \n",
       "org:top_members/employees  ['\\$ARG1 , executive director of \\$ARG2', '\\$ARG1 , head of \\$ARG2', '\\$ARG1 , who heads \\$ARG2', '\\$ARG1 , chief executive of \\$ARG2']   \n",
       "\n",
       "                                                                                                                                                                                                                                                                                                                                                                                                         regex pattern  \\\n",
       "org:alternate_names        ['(A )?(a )?(The )?(the )?\\\\\\$ARG1\\\\ \\\\(\\\\ (A )?(a )?(The )?(the )?\\\\\\$ARG2\\\\ ', '(A )?(a )?(The )?(the )?\\\\\\$ARG1\\\\ formerly\\\\ known\\\\ as\\\\ (A )?(a )?(The )?(the )?\\\\\\$ARG2', '(A )?(a )?(The )?(the )?\\\\\\$ARG1\\\\ aka\\\\ (A )?(a )?(The )?(the )?\\\\\\$ARG2', '(A )?(a )?(The )?(the )?\\\\\\$ARG1\\\\ \\\\(\\\\ also\\\\ known\\\\ as\\\\ (A )?(a )?(The )?(the )?\\\\\\$ARG2\\\\ \\\\)']                           \n",
       "per:date_of_birth          ['(A )?(a )?(The )?(the )?\\\\\\$ARG1\\\\ \\\\(\\\\ born\\\\ (A )?(a )?(The )?(the )?\\\\\\$ARG2\\\\ \\\\)', '(A )?(a )?(The )?(the )?\\\\\\$ARG1\\\\ \\\\(\\\\ born\\\\ (A )?(a )?(The )?(the )?\\\\\\$ARG2\\\\ in', '(A )?(a )?(The )?(the )?\\\\\\$ARG1\\\\ \\\\(\\\\ (A )?(a )?(The )?(the )?\\\\\\$ARG2\\\\ \\\\-', '(A )?(a )?(The )?(the )?\\\\\\$ARG1\\\\ was\\\\ born\\\\ in\\\\ (A )?(a )?(The )?(the )?\\\\\\$ARG2']                               \n",
       "org:top_members/employees  ['(A )?(a )?(The )?(the )?\\\\\\$ARG1\\\\ ,\\\\ executive\\\\ director\\\\ of\\\\ (A )?(a )?(The )?(the )?\\\\\\$ARG2', '(A )?(a )?(The )?(the )?\\\\\\$ARG1\\\\ ,\\\\ head\\\\ of\\\\ (A )?(a )?(The )?(the )?\\\\\\$ARG2', '(A )?(a )?(The )?(the )?\\\\\\$ARG1\\\\ ,\\\\ who\\\\ heads\\\\ (A )?(a )?(The )?(the )?\\\\\\$ARG2', '(A )?(a )?(The )?(the )?\\\\\\$ARG1\\\\ ,\\\\ chief\\\\ executive\\\\ of\\\\ (A )?(a )?(The )?(the )?\\\\\\$ARG2']   \n",
       "\n",
       "                                           type  \n",
       "org:alternate_names        ['PERSON', 'PERSON']  \n",
       "per:date_of_birth          ['PERSON', 'DATE']    \n",
       "org:top_members/employees  ['PERSON', 'ORG']     "
      ]
     },
     "execution_count": 287,
     "metadata": {},
     "output_type": "execute_result"
    }
   ],
   "source": [
    "relation_patterns_df.apply(lambda x: escape_dollar(x)).head()"
   ]
  },
  {
   "cell_type": "markdown",
   "metadata": {},
   "source": [
    "The information about type of the entities we get from the Spacy annotations as well and build a new format of extracted subsentences: now they are not lists but dictionaries in format {subsentence: entity types}"
   ]
  },
  {
   "cell_type": "code",
   "execution_count": 288,
   "metadata": {},
   "outputs": [],
   "source": [
    "def get_arg_types(sample):\n",
    "    return [{ARG1 + sample[\"text\"][ent1[\"end\"]:ent2[\"start\"]] + ARG2 : [ent1[\"label\"], ent2[\"label\"]]}\n",
    "            if ent1[\"end\"] < ent2[\"end\"]\n",
    "            else {(ARG2 + sample[\"text\"][ent2[\"end\"]:ent1[\"start\"]] + ARG1) : [ent2[\"label\"], ent1[\"label\"]]}\n",
    "            for ent1, ent2 in itertools.permutations(sample[\"ents\"],2)]"
   ]
  },
  {
   "cell_type": "code",
   "execution_count": 289,
   "metadata": {},
   "outputs": [],
   "source": [
    "selected_samples[\"extr_with_types\"] = selected_samples[\"spacy info\"].apply(lambda x: get_arg_types(x))"
   ]
  },
  {
   "cell_type": "code",
   "execution_count": 290,
   "metadata": {},
   "outputs": [],
   "source": [
    "# selected_samples.apply(lambda x: escape_dollar(x)).head()"
   ]
  },
  {
   "cell_type": "markdown",
   "metadata": {},
   "source": [
    "We do a similar pattern search, but now taking into account entity types."
   ]
  },
  {
   "cell_type": "code",
   "execution_count": 291,
   "metadata": {},
   "outputs": [],
   "source": [
    "def pattern_search_filter_types(cand_sample_with_types, patterns, row):\n",
    "    for relation, rel_patterns in patterns.iterrows():\n",
    "        cand_sample_types = [item for type_pair in cand_sample_with_types.values() for item in type_pair]\n",
    "        if rel_patterns[\"type\"] == cand_sample_types:\n",
    "            sample = list(cand_sample_with_types.keys())[0]\n",
    "            matches = [[row[\"sample\"], sample, pattern, relation, row[\"label\"]] \n",
    "                       for pattern in rel_patterns[\"regex pattern\"]\n",
    "                       if re.match(pattern, sample) is not None]   # todo\n",
    "            if len(matches) > 0:\n",
    "                return pd.DataFrame(matches, columns = FINAL_DF_COLUMNS)"
   ]
  },
  {
   "cell_type": "code",
   "execution_count": 292,
   "metadata": {},
   "outputs": [],
   "source": [
    "all_matches_filter_types = pd.DataFrame(columns = FINAL_DF_COLUMNS)\n",
    "for _, row in selected_samples.iterrows():\n",
    "    for cand_sample_with_types in row[\"extr_with_types\"]:\n",
    "        df_found = pattern_search_filter_types(cand_sample_with_types, relation_patterns_df, row)\n",
    "        if isinstance(df_found, pd.DataFrame) and not df_found.empty:\n",
    "            all_matches_filter_types = pd.concat([all_matches_filter_types, df_found])"
   ]
  },
  {
   "cell_type": "code",
   "execution_count": 293,
   "metadata": {},
   "outputs": [
    {
     "data": {
      "text/html": [
       "<div>\n",
       "<style scoped>\n",
       "    .dataframe tbody tr th:only-of-type {\n",
       "        vertical-align: middle;\n",
       "    }\n",
       "\n",
       "    .dataframe tbody tr th {\n",
       "        vertical-align: top;\n",
       "    }\n",
       "\n",
       "    .dataframe thead th {\n",
       "        text-align: right;\n",
       "    }\n",
       "</style>\n",
       "<table border=\"1\" class=\"dataframe\">\n",
       "  <thead>\n",
       "    <tr style=\"text-align: right;\">\n",
       "      <th></th>\n",
       "      <th>sample</th>\n",
       "      <th>extr_sample</th>\n",
       "      <th>pattern</th>\n",
       "      <th>weak_label</th>\n",
       "      <th>gold_label</th>\n",
       "    </tr>\n",
       "  </thead>\n",
       "  <tbody>\n",
       "    <tr>\n",
       "      <th>0</th>\n",
       "      <td>Gwathmey was born in 1938 , the only child of painter Robert Gwathmey and his wife , Rosalie , a photographer .</td>\n",
       "      <td>\\$ARG1 was born in \\$ARG2</td>\n",
       "      <td>(A )?(a )?(The )?(the )?\\\\$ARG1\\ was\\ born\\ in\\ (A )?(a )?(The )?(the )?\\\\$ARG2</td>\n",
       "      <td>per:date_of_birth</td>\n",
       "      <td>per:children</td>\n",
       "    </tr>\n",
       "    <tr>\n",
       "      <th>0</th>\n",
       "      <td>`` It is difficult to put one country and its citizens in the same boat ... some people from Iran have very legitimate interests in Europe and are very trustworthy , '' said Pierre Mirabaud , head of the Swiss Bankers Association .</td>\n",
       "      <td>\\$ARG1 , head of \\$ARG2</td>\n",
       "      <td>(A )?(a )?(The )?(the )?\\\\$ARG1\\ ,\\ head\\ of\\ (A )?(a )?(The )?(the )?\\\\$ARG2</td>\n",
       "      <td>org:top_members/employees</td>\n",
       "      <td>org:top_members/employees</td>\n",
       "    </tr>\n",
       "    <tr>\n",
       "      <th>0</th>\n",
       "      <td>Anders Berntell , head of the Stockholm International Water Institute , says that , although `` water is absolutely crucial for all sectors in society , '' water issues have played too small a role in climate talks .</td>\n",
       "      <td>\\$ARG1 , head of \\$ARG2</td>\n",
       "      <td>(A )?(a )?(The )?(the )?\\\\$ARG1\\ ,\\ head\\ of\\ (A )?(a )?(The )?(the )?\\\\$ARG2</td>\n",
       "      <td>org:top_members/employees</td>\n",
       "      <td>org:top_members/employees</td>\n",
       "    </tr>\n",
       "    <tr>\n",
       "      <th>0</th>\n",
       "      <td>Gwathmey was born in 1938 , the only child of painter Robert Gwathmey and his wife , Rosalie , a photographer .</td>\n",
       "      <td>\\$ARG1 was born in \\$ARG2</td>\n",
       "      <td>(A )?(a )?(The )?(the )?\\\\$ARG1\\ was\\ born\\ in\\ (A )?(a )?(The )?(the )?\\\\$ARG2</td>\n",
       "      <td>per:date_of_birth</td>\n",
       "      <td>per:date_of_birth</td>\n",
       "    </tr>\n",
       "    <tr>\n",
       "      <th>0</th>\n",
       "      <td>`` At the moment the water issue does n't get enough attention in the climate negotiations , '' Anders Berntell , head of the Stockholm International Water Institute , told The Associated Press .</td>\n",
       "      <td>\\$ARG1 , head of \\$ARG2</td>\n",
       "      <td>(A )?(a )?(The )?(the )?\\\\$ARG1\\ ,\\ head\\ of\\ (A )?(a )?(The )?(the )?\\\\$ARG2</td>\n",
       "      <td>org:top_members/employees</td>\n",
       "      <td>org:top_members/employees</td>\n",
       "    </tr>\n",
       "    <tr>\n",
       "      <th>0</th>\n",
       "      <td>Water and its links to development , peace and conflict were key words in the annual sessions , Anders Berntell , executive director of Stockholm International Water Institute ( SIWI ) , said in his opening address .</td>\n",
       "      <td>\\$ARG1 , executive director of \\$ARG2</td>\n",
       "      <td>(A )?(a )?(The )?(the )?\\\\$ARG1\\ ,\\ executive\\ director\\ of\\ (A )?(a )?(The )?(the )?\\\\$ARG2</td>\n",
       "      <td>org:top_members/employees</td>\n",
       "      <td>org:top_members/employees</td>\n",
       "    </tr>\n",
       "    <tr>\n",
       "      <th>0</th>\n",
       "      <td>Water and its links to development , peace and conflict were key words in the annual sessions , Anders Berntell , executive director of Stockholm International Water Institute ( SIWI ) , said in his opening address .</td>\n",
       "      <td>\\$ARG1 , executive director of \\$ARG2</td>\n",
       "      <td>(A )?(a )?(The )?(the )?\\\\$ARG1\\ ,\\ executive\\ director\\ of\\ (A )?(a )?(The )?(the )?\\\\$ARG2</td>\n",
       "      <td>org:top_members/employees</td>\n",
       "      <td>org:alternate_names</td>\n",
       "    </tr>\n",
       "    <tr>\n",
       "      <th>0</th>\n",
       "      <td>STOCKHOLM 2009-08-21 11:50:54 UTC Anders Berntell , head of the Stockholm International Water Institute , says that , although `` water is absolutely crucial for all sectors in society , '' water issues have played too small a role in climate talks .</td>\n",
       "      <td>\\$ARG1 , head of \\$ARG2</td>\n",
       "      <td>(A )?(a )?(The )?(the )?\\\\$ARG1\\ ,\\ head\\ of\\ (A )?(a )?(The )?(the )?\\\\$ARG2</td>\n",
       "      <td>org:top_members/employees</td>\n",
       "      <td>org:top_members/employees</td>\n",
       "    </tr>\n",
       "    <tr>\n",
       "      <th>0</th>\n",
       "      <td>Gwathmey was born in 1938 , the only child of painter Robert Gwathmey and his wife , Rosalie , a photographer .</td>\n",
       "      <td>\\$ARG1 was born in \\$ARG2</td>\n",
       "      <td>(A )?(a )?(The )?(the )?\\\\$ARG1\\ was\\ born\\ in\\ (A )?(a )?(The )?(the )?\\\\$ARG2</td>\n",
       "      <td>per:date_of_birth</td>\n",
       "      <td>per:children</td>\n",
       "    </tr>\n",
       "    <tr>\n",
       "      <th>0</th>\n",
       "      <td>Of course , customer demand is the ultimate driver , said John Overstreet , executive director of the Indoor Tanning Association , which represents the \\$ 5 billion industry .</td>\n",
       "      <td>\\$ARG1 , executive director of \\$ARG2</td>\n",
       "      <td>(A )?(a )?(The )?(the )?\\\\$ARG1\\ ,\\ executive\\ director\\ of\\ (A )?(a )?(The )?(the )?\\\\$ARG2</td>\n",
       "      <td>org:top_members/employees</td>\n",
       "      <td>org:top_members/employees</td>\n",
       "    </tr>\n",
       "    <tr>\n",
       "      <th>0</th>\n",
       "      <td>Water and its links to development , peace and conflict were key words in the annual sessions , Anders Berntell , executive director of Stockholm International Water Institute ( SIWI ) , said in his opening address .</td>\n",
       "      <td>\\$ARG1 , executive director of \\$ARG2</td>\n",
       "      <td>(A )?(a )?(The )?(the )?\\\\$ARG1\\ ,\\ executive\\ director\\ of\\ (A )?(a )?(The )?(the )?\\\\$ARG2</td>\n",
       "      <td>org:top_members/employees</td>\n",
       "      <td>org:top_members/employees</td>\n",
       "    </tr>\n",
       "    <tr>\n",
       "      <th>0</th>\n",
       "      <td>Although military spending was n't usually a major part of the economic stimulus packages , it was n't cut either , '' said Sam Perlo-Freeman , head of the Military Expenditure Project at SIPRI .</td>\n",
       "      <td>\\$ARG1 , head of \\$ARG2</td>\n",
       "      <td>(A )?(a )?(The )?(the )?\\\\$ARG1\\ ,\\ head\\ of\\ (A )?(a )?(The )?(the )?\\\\$ARG2</td>\n",
       "      <td>org:top_members/employees</td>\n",
       "      <td>org:top_members/employees</td>\n",
       "    </tr>\n",
       "  </tbody>\n",
       "</table>\n",
       "</div>"
      ],
      "text/plain": [
       "                                                                                                                                                                                                                                                        sample  \\\n",
       "0   Gwathmey was born in 1938 , the only child of painter Robert Gwathmey and his wife , Rosalie , a photographer .                                                                                                                                              \n",
       "0   `` It is difficult to put one country and its citizens in the same boat ... some people from Iran have very legitimate interests in Europe and are very trustworthy , '' said Pierre Mirabaud , head of the Swiss Bankers Association .                      \n",
       "0   Anders Berntell , head of the Stockholm International Water Institute , says that , although `` water is absolutely crucial for all sectors in society , '' water issues have played too small a role in climate talks .                                     \n",
       "0   Gwathmey was born in 1938 , the only child of painter Robert Gwathmey and his wife , Rosalie , a photographer .                                                                                                                                              \n",
       "0   `` At the moment the water issue does n't get enough attention in the climate negotiations , '' Anders Berntell , head of the Stockholm International Water Institute , told The Associated Press .                                                          \n",
       "0   Water and its links to development , peace and conflict were key words in the annual sessions , Anders Berntell , executive director of Stockholm International Water Institute ( SIWI ) , said in his opening address .                                     \n",
       "0   Water and its links to development , peace and conflict were key words in the annual sessions , Anders Berntell , executive director of Stockholm International Water Institute ( SIWI ) , said in his opening address .                                     \n",
       "0   STOCKHOLM 2009-08-21 11:50:54 UTC Anders Berntell , head of the Stockholm International Water Institute , says that , although `` water is absolutely crucial for all sectors in society , '' water issues have played too small a role in climate talks .   \n",
       "0   Gwathmey was born in 1938 , the only child of painter Robert Gwathmey and his wife , Rosalie , a photographer .                                                                                                                                              \n",
       "0   Of course , customer demand is the ultimate driver , said John Overstreet , executive director of the Indoor Tanning Association , which represents the \\$ 5 billion industry .                                                                              \n",
       "0   Water and its links to development , peace and conflict were key words in the annual sessions , Anders Berntell , executive director of Stockholm International Water Institute ( SIWI ) , said in his opening address .                                     \n",
       "0   Although military spending was n't usually a major part of the economic stimulus packages , it was n't cut either , '' said Sam Perlo-Freeman , head of the Military Expenditure Project at SIPRI .                                                          \n",
       "\n",
       "                             extr_sample  \\\n",
       "0  \\$ARG1 was born in \\$ARG2               \n",
       "0  \\$ARG1 , head of \\$ARG2                 \n",
       "0  \\$ARG1 , head of \\$ARG2                 \n",
       "0  \\$ARG1 was born in \\$ARG2               \n",
       "0  \\$ARG1 , head of \\$ARG2                 \n",
       "0  \\$ARG1 , executive director of \\$ARG2   \n",
       "0  \\$ARG1 , executive director of \\$ARG2   \n",
       "0  \\$ARG1 , head of \\$ARG2                 \n",
       "0  \\$ARG1 was born in \\$ARG2               \n",
       "0  \\$ARG1 , executive director of \\$ARG2   \n",
       "0  \\$ARG1 , executive director of \\$ARG2   \n",
       "0  \\$ARG1 , head of \\$ARG2                 \n",
       "\n",
       "                                                                                        pattern  \\\n",
       "0  (A )?(a )?(The )?(the )?\\\\$ARG1\\ was\\ born\\ in\\ (A )?(a )?(The )?(the )?\\\\$ARG2                \n",
       "0  (A )?(a )?(The )?(the )?\\\\$ARG1\\ ,\\ head\\ of\\ (A )?(a )?(The )?(the )?\\\\$ARG2                  \n",
       "0  (A )?(a )?(The )?(the )?\\\\$ARG1\\ ,\\ head\\ of\\ (A )?(a )?(The )?(the )?\\\\$ARG2                  \n",
       "0  (A )?(a )?(The )?(the )?\\\\$ARG1\\ was\\ born\\ in\\ (A )?(a )?(The )?(the )?\\\\$ARG2                \n",
       "0  (A )?(a )?(The )?(the )?\\\\$ARG1\\ ,\\ head\\ of\\ (A )?(a )?(The )?(the )?\\\\$ARG2                  \n",
       "0  (A )?(a )?(The )?(the )?\\\\$ARG1\\ ,\\ executive\\ director\\ of\\ (A )?(a )?(The )?(the )?\\\\$ARG2   \n",
       "0  (A )?(a )?(The )?(the )?\\\\$ARG1\\ ,\\ executive\\ director\\ of\\ (A )?(a )?(The )?(the )?\\\\$ARG2   \n",
       "0  (A )?(a )?(The )?(the )?\\\\$ARG1\\ ,\\ head\\ of\\ (A )?(a )?(The )?(the )?\\\\$ARG2                  \n",
       "0  (A )?(a )?(The )?(the )?\\\\$ARG1\\ was\\ born\\ in\\ (A )?(a )?(The )?(the )?\\\\$ARG2                \n",
       "0  (A )?(a )?(The )?(the )?\\\\$ARG1\\ ,\\ executive\\ director\\ of\\ (A )?(a )?(The )?(the )?\\\\$ARG2   \n",
       "0  (A )?(a )?(The )?(the )?\\\\$ARG1\\ ,\\ executive\\ director\\ of\\ (A )?(a )?(The )?(the )?\\\\$ARG2   \n",
       "0  (A )?(a )?(The )?(the )?\\\\$ARG1\\ ,\\ head\\ of\\ (A )?(a )?(The )?(the )?\\\\$ARG2                  \n",
       "\n",
       "                  weak_label                 gold_label  \n",
       "0  per:date_of_birth          per:children               \n",
       "0  org:top_members/employees  org:top_members/employees  \n",
       "0  org:top_members/employees  org:top_members/employees  \n",
       "0  per:date_of_birth          per:date_of_birth          \n",
       "0  org:top_members/employees  org:top_members/employees  \n",
       "0  org:top_members/employees  org:top_members/employees  \n",
       "0  org:top_members/employees  org:alternate_names        \n",
       "0  org:top_members/employees  org:top_members/employees  \n",
       "0  per:date_of_birth          per:children               \n",
       "0  org:top_members/employees  org:top_members/employees  \n",
       "0  org:top_members/employees  org:top_members/employees  \n",
       "0  org:top_members/employees  org:top_members/employees  "
      ]
     },
     "execution_count": 293,
     "metadata": {},
     "output_type": "execute_result"
    }
   ],
   "source": [
    "all_matches_filter_types.apply(lambda x: escape_dollar(x))"
   ]
  },
  {
   "cell_type": "code",
   "execution_count": 321,
   "metadata": {},
   "outputs": [
    {
     "data": {
      "text/plain": [
       "60"
      ]
     },
     "execution_count": 321,
     "metadata": {},
     "output_type": "execute_result"
    }
   ],
   "source": [
    "all_matches_filter_types.size"
   ]
  },
  {
   "cell_type": "markdown",
   "metadata": {},
   "source": [
    "So, now we have a smaller dataset (only 60 found samples compared to 120 without argument types filtering), but much more clean. We have already done our first weakly data preprocessing :)"
   ]
  },
  {
   "cell_type": "code",
   "execution_count": null,
   "metadata": {},
   "outputs": [],
   "source": []
  }
 ],
 "metadata": {
  "kernelspec": {
   "display_name": "ds_data_collect",
   "language": "python",
   "name": "ds_data_collect"
  },
  "language_info": {
   "codemirror_mode": {
    "name": "ipython",
    "version": 3
   },
   "file_extension": ".py",
   "mimetype": "text/x-python",
   "name": "python",
   "nbconvert_exporter": "python",
   "pygments_lexer": "ipython3",
   "version": "3.8.3"
  }
 },
 "nbformat": 4,
 "nbformat_minor": 4
}
