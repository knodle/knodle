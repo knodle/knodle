{
 "cells": [
  {
   "cell_type": "markdown",
   "metadata": {},
   "source": [
    "# IMDB Dataset - Create Weak Supervision Sources\n",
    "\n",
    "This notebook shows how to create labeling functions on the IMDB Movie Review dataset.\n",
    "\n",
    "This dataset has gold labels. These labels are just there for evaluation purposes. The idea of using weak supervision and especially knodle is that you don't have a dataset which is purely labeled with strong supervision (manual) and instead label it with weak supervision.\n",
    "\n",
    "First, we load the dataset from kaggle. Then, we will look at certain keywords within both sentiments and find good matching keywords which will act as a weak supervision source. Finally, the keywords on a basic majority vote model."
   ]
  },
  {
   "cell_type": "markdown",
   "metadata": {},
   "source": [
    "## Imports\n",
    "\n",
    "Lets make some basic imports "
   ]
  },
  {
   "cell_type": "code",
   "execution_count": 1,
   "metadata": {},
   "outputs": [],
   "source": [
    "import pandas as pd \n",
    "from sklearn.feature_extraction.text import ENGLISH_STOP_WORDS, CountVectorizer\n",
    "from bs4 import BeautifulSoup\n",
    "from snorkel.labeling import LabelingFunction, PandasLFApplier, filter_unlabeled_dataframe, LFAnalysis\n",
    "from snorkel.labeling.model import MajorityLabelVoter, LabelModel\n",
    "import numpy as np \n",
    "from tqdm import tqdm"
   ]
  },
  {
   "cell_type": "code",
   "execution_count": 2,
   "metadata": {},
   "outputs": [
    {
     "name": "stderr",
     "output_type": "stream",
     "text": [
      "/Users/sandro/.pyenv/versions/3.7.1/envs/imdbTut/lib/python3.7/site-packages/tqdm/std.py:703: FutureWarning: The Panel class is removed from pandas. Accessing it from the top-level namespace will also be removed in the next version\n",
      "  from pandas import Panel\n",
      "/Users/sandro/.pyenv/versions/3.7.1/envs/imdbTut/lib/python3.7/site-packages/ipykernel_launcher.py:3: FutureWarning: Passing a negative integer is deprecated in version 1.0 and will not be supported in future version. Instead, use None to not limit the column width.\n",
      "  This is separate from the ipykernel package so we can avoid doing imports until\n"
     ]
    }
   ],
   "source": [
    "# Init\n",
    "tqdm.pandas()\n",
    "pd.set_option('display.max_colwidth', -1)"
   ]
  },
  {
   "cell_type": "code",
   "execution_count": 3,
   "metadata": {},
   "outputs": [],
   "source": [
    "# Constants\n",
    "POSITIVE = 1\n",
    "NEGATIVE = 0\n",
    "ABSTAIN = -1\n",
    "COLUMN_WITH_TEXT = \"reviews_preprocessed\""
   ]
  },
  {
   "cell_type": "markdown",
   "metadata": {},
   "source": [
    "## Download the raw dataset\n",
    "\n",
    "Now we download the dataset we need. For that you need to have the kaggle-cli installed and configured with your API key. Please have a look at the official [documentation](https://github.com/Kaggle/kaggle-api) for further instructions."
   ]
  },
  {
   "cell_type": "code",
   "execution_count": 4,
   "metadata": {},
   "outputs": [
    {
     "name": "stdout",
     "output_type": "stream",
     "text": [
      "/Users/sandro/.pyenv/versions/3.7.1/envs/imdbTut/lib/python3.7/site-packages/requests/__init__.py:91: RequestsDependencyWarning: urllib3 (1.26.0) or chardet (3.0.4) doesn't match a supported version!\n",
      "  RequestsDependencyWarning)\n",
      "Warning: Your Kaggle API key is readable by other users on this system! To fix this, you can run 'chmod 600 /Users/sandro/.kaggle/kaggle.json'\n",
      "Downloading imdb-dataset-of-50k-movie-reviews.zip to /Users/sandro/repo/knodle/tutorials/ImdbDataset\n",
      "100%|██████████████████████████████████████| 25.7M/25.7M [00:01<00:00, 23.3MB/s]\n",
      "100%|██████████████████████████████████████| 25.7M/25.7M [00:01<00:00, 21.5MB/s]\n",
      "x IMDB Dataset.csv\n"
     ]
    }
   ],
   "source": [
    "!kaggle datasets download -d lakshmi25npathi/imdb-dataset-of-50k-movie-reviews\n",
    "!tar -xvf imdb-dataset-of-50k-movie-reviews.zip\n",
    "!rm imdb-dataset-of-50k-movie-reviews.zip"
   ]
  },
  {
   "cell_type": "markdown",
   "metadata": {},
   "source": [
    "## Preview dataset\n",
    "\n",
    "After downloading and unpacking the dataset we can have a first look at it and work with it."
   ]
  },
  {
   "cell_type": "code",
   "execution_count": 5,
   "metadata": {},
   "outputs": [],
   "source": [
    "imdb_dataset_raw = pd.read_csv('IMDB Dataset.csv')"
   ]
  },
  {
   "cell_type": "code",
   "execution_count": 6,
   "metadata": {},
   "outputs": [
    {
     "data": {
      "text/html": [
       "<div>\n",
       "<style scoped>\n",
       "    .dataframe tbody tr th:only-of-type {\n",
       "        vertical-align: middle;\n",
       "    }\n",
       "\n",
       "    .dataframe tbody tr th {\n",
       "        vertical-align: top;\n",
       "    }\n",
       "\n",
       "    .dataframe thead th {\n",
       "        text-align: right;\n",
       "    }\n",
       "</style>\n",
       "<table border=\"1\" class=\"dataframe\">\n",
       "  <thead>\n",
       "    <tr style=\"text-align: right;\">\n",
       "      <th></th>\n",
       "      <th>review</th>\n",
       "      <th>sentiment</th>\n",
       "    </tr>\n",
       "  </thead>\n",
       "  <tbody>\n",
       "    <tr>\n",
       "      <th>0</th>\n",
       "      <td>One of the other reviewers has mentioned that after watching just 1 Oz episode you'll be hooked. They are right, as this is exactly what happened with me.&lt;br /&gt;&lt;br /&gt;The first thing that struck me about Oz was its brutality and unflinching scenes of violence, which set in right from the word GO. Trust me, this is not a show for the faint hearted or timid. This show pulls no punches with regards to drugs, sex or violence. Its is hardcore, in the classic use of the word.&lt;br /&gt;&lt;br /&gt;It is called OZ as that is the nickname given to the Oswald Maximum Security State Penitentary. It focuses mainly on Emerald City, an experimental section of the prison where all the cells have glass fronts and face inwards, so privacy is not high on the agenda. Em City is home to many..Aryans, Muslims, gangstas, Latinos, Christians, Italians, Irish and more....so scuffles, death stares, dodgy dealings and shady agreements are never far away.&lt;br /&gt;&lt;br /&gt;I would say the main appeal of the show is due to the fact that it goes where other shows wouldn't dare. Forget pretty pictures painted for mainstream audiences, forget charm, forget romance...OZ doesn't mess around. The first episode I ever saw struck me as so nasty it was surreal, I couldn't say I was ready for it, but as I watched more, I developed a taste for Oz, and got accustomed to the high levels of graphic violence. Not just violence, but injustice (crooked guards who'll be sold out for a nickel, inmates who'll kill on order and get away with it, well mannered, middle class inmates being turned into prison bitches due to their lack of street skills or prison experience) Watching Oz, you may become comfortable with what is uncomfortable viewing....thats if you can get in touch with your darker side.</td>\n",
       "      <td>positive</td>\n",
       "    </tr>\n",
       "    <tr>\n",
       "      <th>1</th>\n",
       "      <td>A wonderful little production. &lt;br /&gt;&lt;br /&gt;The filming technique is very unassuming- very old-time-BBC fashion and gives a comforting, and sometimes discomforting, sense of realism to the entire piece. &lt;br /&gt;&lt;br /&gt;The actors are extremely well chosen- Michael Sheen not only \"has got all the polari\" but he has all the voices down pat too! You can truly see the seamless editing guided by the references to Williams' diary entries, not only is it well worth the watching but it is a terrificly written and performed piece. A masterful production about one of the great master's of comedy and his life. &lt;br /&gt;&lt;br /&gt;The realism really comes home with the little things: the fantasy of the guard which, rather than use the traditional 'dream' techniques remains solid then disappears. It plays on our knowledge and our senses, particularly with the scenes concerning Orton and Halliwell and the sets (particularly of their flat with Halliwell's murals decorating every surface) are terribly well done.</td>\n",
       "      <td>positive</td>\n",
       "    </tr>\n",
       "    <tr>\n",
       "      <th>2</th>\n",
       "      <td>I thought this was a wonderful way to spend time on a too hot summer weekend, sitting in the air conditioned theater and watching a light-hearted comedy. The plot is simplistic, but the dialogue is witty and the characters are likable (even the well bread suspected serial killer). While some may be disappointed when they realize this is not Match Point 2: Risk Addiction, I thought it was proof that Woody Allen is still fully in control of the style many of us have grown to love.&lt;br /&gt;&lt;br /&gt;This was the most I'd laughed at one of Woody's comedies in years (dare I say a decade?). While I've never been impressed with Scarlet Johanson, in this she managed to tone down her \"sexy\" image and jumped right into a average, but spirited young woman.&lt;br /&gt;&lt;br /&gt;This may not be the crown jewel of his career, but it was wittier than \"Devil Wears Prada\" and more interesting than \"Superman\" a great comedy to go see with friends.</td>\n",
       "      <td>positive</td>\n",
       "    </tr>\n",
       "    <tr>\n",
       "      <th>3</th>\n",
       "      <td>Basically there's a family where a little boy (Jake) thinks there's a zombie in his closet &amp; his parents are fighting all the time.&lt;br /&gt;&lt;br /&gt;This movie is slower than a soap opera... and suddenly, Jake decides to become Rambo and kill the zombie.&lt;br /&gt;&lt;br /&gt;OK, first of all when you're going to make a film you must Decide if its a thriller or a drama! As a drama the movie is watchable. Parents are divorcing &amp; arguing like in real life. And then we have Jake with his closet which totally ruins all the film! I expected to see a BOOGEYMAN similar movie, and instead i watched a drama with some meaningless thriller spots.&lt;br /&gt;&lt;br /&gt;3 out of 10 just for the well playing parents &amp; descent dialogs. As for the shots with Jake: just ignore them.</td>\n",
       "      <td>negative</td>\n",
       "    </tr>\n",
       "    <tr>\n",
       "      <th>4</th>\n",
       "      <td>Petter Mattei's \"Love in the Time of Money\" is a visually stunning film to watch. Mr. Mattei offers us a vivid portrait about human relations. This is a movie that seems to be telling us what money, power and success do to people in the different situations we encounter. &lt;br /&gt;&lt;br /&gt;This being a variation on the Arthur Schnitzler's play about the same theme, the director transfers the action to the present time New York where all these different characters meet and connect. Each one is connected in one way, or another to the next person, but no one seems to know the previous point of contact. Stylishly, the film has a sophisticated luxurious look. We are taken to see how these people live and the world they live in their own habitat.&lt;br /&gt;&lt;br /&gt;The only thing one gets out of all these souls in the picture is the different stages of loneliness each one inhabits. A big city is not exactly the best place in which human relations find sincere fulfillment, as one discerns is the case with most of the people we encounter.&lt;br /&gt;&lt;br /&gt;The acting is good under Mr. Mattei's direction. Steve Buscemi, Rosario Dawson, Carol Kane, Michael Imperioli, Adrian Grenier, and the rest of the talented cast, make these characters come alive.&lt;br /&gt;&lt;br /&gt;We wish Mr. Mattei good luck and await anxiously for his next work.</td>\n",
       "      <td>positive</td>\n",
       "    </tr>\n",
       "  </tbody>\n",
       "</table>\n",
       "</div>"
      ],
      "text/plain": [
       "                                                                                                                                                                                                                                                                                                                                                                                                                                                                                                                                                                                                                                                                                                                                                                                                                                                                                                                                                                                                                                                                                                                                                                                                                                                                                                                                                                                                                                                                                                                                                                                                                                                                                                                                                                                                                              review  \\\n",
       "0  One of the other reviewers has mentioned that after watching just 1 Oz episode you'll be hooked. They are right, as this is exactly what happened with me.<br /><br />The first thing that struck me about Oz was its brutality and unflinching scenes of violence, which set in right from the word GO. Trust me, this is not a show for the faint hearted or timid. This show pulls no punches with regards to drugs, sex or violence. Its is hardcore, in the classic use of the word.<br /><br />It is called OZ as that is the nickname given to the Oswald Maximum Security State Penitentary. It focuses mainly on Emerald City, an experimental section of the prison where all the cells have glass fronts and face inwards, so privacy is not high on the agenda. Em City is home to many..Aryans, Muslims, gangstas, Latinos, Christians, Italians, Irish and more....so scuffles, death stares, dodgy dealings and shady agreements are never far away.<br /><br />I would say the main appeal of the show is due to the fact that it goes where other shows wouldn't dare. Forget pretty pictures painted for mainstream audiences, forget charm, forget romance...OZ doesn't mess around. The first episode I ever saw struck me as so nasty it was surreal, I couldn't say I was ready for it, but as I watched more, I developed a taste for Oz, and got accustomed to the high levels of graphic violence. Not just violence, but injustice (crooked guards who'll be sold out for a nickel, inmates who'll kill on order and get away with it, well mannered, middle class inmates being turned into prison bitches due to their lack of street skills or prison experience) Watching Oz, you may become comfortable with what is uncomfortable viewing....thats if you can get in touch with your darker side.   \n",
       "1  A wonderful little production. <br /><br />The filming technique is very unassuming- very old-time-BBC fashion and gives a comforting, and sometimes discomforting, sense of realism to the entire piece. <br /><br />The actors are extremely well chosen- Michael Sheen not only \"has got all the polari\" but he has all the voices down pat too! You can truly see the seamless editing guided by the references to Williams' diary entries, not only is it well worth the watching but it is a terrificly written and performed piece. A masterful production about one of the great master's of comedy and his life. <br /><br />The realism really comes home with the little things: the fantasy of the guard which, rather than use the traditional 'dream' techniques remains solid then disappears. It plays on our knowledge and our senses, particularly with the scenes concerning Orton and Halliwell and the sets (particularly of their flat with Halliwell's murals decorating every surface) are terribly well done.                                                                                                                                                                                                                                                                                                                                                                                                                                                                                                                                                                                                                                                                                                                                                                                              \n",
       "2  I thought this was a wonderful way to spend time on a too hot summer weekend, sitting in the air conditioned theater and watching a light-hearted comedy. The plot is simplistic, but the dialogue is witty and the characters are likable (even the well bread suspected serial killer). While some may be disappointed when they realize this is not Match Point 2: Risk Addiction, I thought it was proof that Woody Allen is still fully in control of the style many of us have grown to love.<br /><br />This was the most I'd laughed at one of Woody's comedies in years (dare I say a decade?). While I've never been impressed with Scarlet Johanson, in this she managed to tone down her \"sexy\" image and jumped right into a average, but spirited young woman.<br /><br />This may not be the crown jewel of his career, but it was wittier than \"Devil Wears Prada\" and more interesting than \"Superman\" a great comedy to go see with friends.                                                                                                                                                                                                                                                                                                                                                                                                                                                                                                                                                                                                                                                                                                                                                                                                                                                                      \n",
       "3  Basically there's a family where a little boy (Jake) thinks there's a zombie in his closet & his parents are fighting all the time.<br /><br />This movie is slower than a soap opera... and suddenly, Jake decides to become Rambo and kill the zombie.<br /><br />OK, first of all when you're going to make a film you must Decide if its a thriller or a drama! As a drama the movie is watchable. Parents are divorcing & arguing like in real life. And then we have Jake with his closet which totally ruins all the film! I expected to see a BOOGEYMAN similar movie, and instead i watched a drama with some meaningless thriller spots.<br /><br />3 out of 10 just for the well playing parents & descent dialogs. As for the shots with Jake: just ignore them.                                                                                                                                                                                                                                                                                                                                                                                                                                                                                                                                                                                                                                                                                                                                                                                                                                                                                                                                                                                                                                                        \n",
       "4  Petter Mattei's \"Love in the Time of Money\" is a visually stunning film to watch. Mr. Mattei offers us a vivid portrait about human relations. This is a movie that seems to be telling us what money, power and success do to people in the different situations we encounter. <br /><br />This being a variation on the Arthur Schnitzler's play about the same theme, the director transfers the action to the present time New York where all these different characters meet and connect. Each one is connected in one way, or another to the next person, but no one seems to know the previous point of contact. Stylishly, the film has a sophisticated luxurious look. We are taken to see how these people live and the world they live in their own habitat.<br /><br />The only thing one gets out of all these souls in the picture is the different stages of loneliness each one inhabits. A big city is not exactly the best place in which human relations find sincere fulfillment, as one discerns is the case with most of the people we encounter.<br /><br />The acting is good under Mr. Mattei's direction. Steve Buscemi, Rosario Dawson, Carol Kane, Michael Imperioli, Adrian Grenier, and the rest of the talented cast, make these characters come alive.<br /><br />We wish Mr. Mattei good luck and await anxiously for his next work.                                                                                                                                                                                                                                                                                                                                                                                                                                                               \n",
       "\n",
       "  sentiment  \n",
       "0  positive  \n",
       "1  positive  \n",
       "2  positive  \n",
       "3  negative  \n",
       "4  positive  "
      ]
     },
     "execution_count": 6,
     "metadata": {},
     "output_type": "execute_result"
    }
   ],
   "source": [
    "imdb_dataset_raw.head()"
   ]
  },
  {
   "cell_type": "code",
   "execution_count": 7,
   "metadata": {},
   "outputs": [
    {
     "data": {
      "text/html": [
       "<div>\n",
       "<style scoped>\n",
       "    .dataframe tbody tr th:only-of-type {\n",
       "        vertical-align: middle;\n",
       "    }\n",
       "\n",
       "    .dataframe tbody tr th {\n",
       "        vertical-align: top;\n",
       "    }\n",
       "\n",
       "    .dataframe thead th {\n",
       "        text-align: right;\n",
       "    }\n",
       "</style>\n",
       "<table border=\"1\" class=\"dataframe\">\n",
       "  <thead>\n",
       "    <tr style=\"text-align: right;\">\n",
       "      <th></th>\n",
       "      <th>review</th>\n",
       "    </tr>\n",
       "    <tr>\n",
       "      <th>sentiment</th>\n",
       "      <th></th>\n",
       "    </tr>\n",
       "  </thead>\n",
       "  <tbody>\n",
       "    <tr>\n",
       "      <th>negative</th>\n",
       "      <td>25000</td>\n",
       "    </tr>\n",
       "    <tr>\n",
       "      <th>positive</th>\n",
       "      <td>25000</td>\n",
       "    </tr>\n",
       "  </tbody>\n",
       "</table>\n",
       "</div>"
      ],
      "text/plain": [
       "           review\n",
       "sentiment        \n",
       "negative   25000 \n",
       "positive   25000 "
      ]
     },
     "execution_count": 7,
     "metadata": {},
     "output_type": "execute_result"
    }
   ],
   "source": [
    "imdb_dataset_raw.groupby('sentiment').count()\n"
   ]
  },
  {
   "cell_type": "code",
   "execution_count": 8,
   "metadata": {},
   "outputs": [
    {
     "data": {
      "text/plain": [
       "review       0\n",
       "sentiment    0\n",
       "dtype: int64"
      ]
     },
     "execution_count": 8,
     "metadata": {},
     "output_type": "execute_result"
    }
   ],
   "source": [
    "imdb_dataset_raw.isna().sum()"
   ]
  },
  {
   "cell_type": "markdown",
   "metadata": {},
   "source": [
    "## Preprocess dataset\n",
    "\n",
    "Now lets take some basic preprocessing steps"
   ]
  },
  {
   "cell_type": "markdown",
   "metadata": {},
   "source": [
    "### Remove Stopwords\n",
    "\n",
    "We begin by removing all common stop words. We use `scikit-learn`'s stopwords that we don't install to many packages."
   ]
  },
  {
   "cell_type": "code",
   "execution_count": 9,
   "metadata": {},
   "outputs": [],
   "source": [
    "imdb_dataset_raw['reviews_preprocessed'] = imdb_dataset_raw['review'].apply(\n",
    "    lambda x: ' '.join([word for word in x.split() if word not in (ENGLISH_STOP_WORDS)]))"
   ]
  },
  {
   "cell_type": "code",
   "execution_count": 10,
   "metadata": {},
   "outputs": [
    {
     "data": {
      "text/html": [
       "<div>\n",
       "<style scoped>\n",
       "    .dataframe tbody tr th:only-of-type {\n",
       "        vertical-align: middle;\n",
       "    }\n",
       "\n",
       "    .dataframe tbody tr th {\n",
       "        vertical-align: top;\n",
       "    }\n",
       "\n",
       "    .dataframe thead th {\n",
       "        text-align: right;\n",
       "    }\n",
       "</style>\n",
       "<table border=\"1\" class=\"dataframe\">\n",
       "  <thead>\n",
       "    <tr style=\"text-align: right;\">\n",
       "      <th></th>\n",
       "      <th>review</th>\n",
       "      <th>sentiment</th>\n",
       "      <th>reviews_preprocessed</th>\n",
       "    </tr>\n",
       "  </thead>\n",
       "  <tbody>\n",
       "    <tr>\n",
       "      <th>0</th>\n",
       "      <td>One of the other reviewers has mentioned that after watching just 1 Oz episode you'll be hooked. They are right, as this is exactly what happened with me.&lt;br /&gt;&lt;br /&gt;The first thing that struck me about Oz was its brutality and unflinching scenes of violence, which set in right from the word GO. Trust me, this is not a show for the faint hearted or timid. This show pulls no punches with regards to drugs, sex or violence. Its is hardcore, in the classic use of the word.&lt;br /&gt;&lt;br /&gt;It is called OZ as that is the nickname given to the Oswald Maximum Security State Penitentary. It focuses mainly on Emerald City, an experimental section of the prison where all the cells have glass fronts and face inwards, so privacy is not high on the agenda. Em City is home to many..Aryans, Muslims, gangstas, Latinos, Christians, Italians, Irish and more....so scuffles, death stares, dodgy dealings and shady agreements are never far away.&lt;br /&gt;&lt;br /&gt;I would say the main appeal of the show is due to the fact that it goes where other shows wouldn't dare. Forget pretty pictures painted for mainstream audiences, forget charm, forget romance...OZ doesn't mess around. The first episode I ever saw struck me as so nasty it was surreal, I couldn't say I was ready for it, but as I watched more, I developed a taste for Oz, and got accustomed to the high levels of graphic violence. Not just violence, but injustice (crooked guards who'll be sold out for a nickel, inmates who'll kill on order and get away with it, well mannered, middle class inmates being turned into prison bitches due to their lack of street skills or prison experience) Watching Oz, you may become comfortable with what is uncomfortable viewing....thats if you can get in touch with your darker side.</td>\n",
       "      <td>positive</td>\n",
       "      <td>One reviewers mentioned watching just 1 Oz episode you'll hooked. They right, exactly happened me.&lt;br /&gt;&lt;br /&gt;The thing struck Oz brutality unflinching scenes violence, set right word GO. Trust me, faint hearted timid. This pulls punches regards drugs, sex violence. Its hardcore, classic use word.&lt;br /&gt;&lt;br /&gt;It called OZ nickname given Oswald Maximum Security State Penitentary. It focuses mainly Emerald City, experimental section prison cells glass fronts face inwards, privacy high agenda. Em City home many..Aryans, Muslims, gangstas, Latinos, Christians, Italians, Irish more....so scuffles, death stares, dodgy dealings shady agreements far away.&lt;br /&gt;&lt;br /&gt;I say main appeal fact goes shows wouldn't dare. Forget pretty pictures painted mainstream audiences, forget charm, forget romance...OZ doesn't mess around. The episode I saw struck nasty surreal, I couldn't say I ready it, I watched more, I developed taste Oz, got accustomed high levels graphic violence. Not just violence, injustice (crooked guards who'll sold nickel, inmates who'll kill order away it, mannered, middle class inmates turned prison bitches lack street skills prison experience) Watching Oz, comfortable uncomfortable viewing....thats touch darker side.</td>\n",
       "    </tr>\n",
       "    <tr>\n",
       "      <th>1</th>\n",
       "      <td>A wonderful little production. &lt;br /&gt;&lt;br /&gt;The filming technique is very unassuming- very old-time-BBC fashion and gives a comforting, and sometimes discomforting, sense of realism to the entire piece. &lt;br /&gt;&lt;br /&gt;The actors are extremely well chosen- Michael Sheen not only \"has got all the polari\" but he has all the voices down pat too! You can truly see the seamless editing guided by the references to Williams' diary entries, not only is it well worth the watching but it is a terrificly written and performed piece. A masterful production about one of the great master's of comedy and his life. &lt;br /&gt;&lt;br /&gt;The realism really comes home with the little things: the fantasy of the guard which, rather than use the traditional 'dream' techniques remains solid then disappears. It plays on our knowledge and our senses, particularly with the scenes concerning Orton and Halliwell and the sets (particularly of their flat with Halliwell's murals decorating every surface) are terribly well done.</td>\n",
       "      <td>positive</td>\n",
       "      <td>A wonderful little production. &lt;br /&gt;&lt;br /&gt;The filming technique unassuming- old-time-BBC fashion gives comforting, discomforting, sense realism entire piece. &lt;br /&gt;&lt;br /&gt;The actors extremely chosen- Michael Sheen \"has got polari\" voices pat too! You truly seamless editing guided references Williams' diary entries, worth watching terrificly written performed piece. A masterful production great master's comedy life. &lt;br /&gt;&lt;br /&gt;The realism really comes home little things: fantasy guard which, use traditional 'dream' techniques remains solid disappears. It plays knowledge senses, particularly scenes concerning Orton Halliwell sets (particularly flat Halliwell's murals decorating surface) terribly done.</td>\n",
       "    </tr>\n",
       "    <tr>\n",
       "      <th>2</th>\n",
       "      <td>I thought this was a wonderful way to spend time on a too hot summer weekend, sitting in the air conditioned theater and watching a light-hearted comedy. The plot is simplistic, but the dialogue is witty and the characters are likable (even the well bread suspected serial killer). While some may be disappointed when they realize this is not Match Point 2: Risk Addiction, I thought it was proof that Woody Allen is still fully in control of the style many of us have grown to love.&lt;br /&gt;&lt;br /&gt;This was the most I'd laughed at one of Woody's comedies in years (dare I say a decade?). While I've never been impressed with Scarlet Johanson, in this she managed to tone down her \"sexy\" image and jumped right into a average, but spirited young woman.&lt;br /&gt;&lt;br /&gt;This may not be the crown jewel of his career, but it was wittier than \"Devil Wears Prada\" and more interesting than \"Superman\" a great comedy to go see with friends.</td>\n",
       "      <td>positive</td>\n",
       "      <td>I thought wonderful way spend time hot summer weekend, sitting air conditioned theater watching light-hearted comedy. The plot simplistic, dialogue witty characters likable (even bread suspected serial killer). While disappointed realize Match Point 2: Risk Addiction, I thought proof Woody Allen fully control style grown love.&lt;br /&gt;&lt;br /&gt;This I'd laughed Woody's comedies years (dare I say decade?). While I've impressed Scarlet Johanson, managed tone \"sexy\" image jumped right average, spirited young woman.&lt;br /&gt;&lt;br /&gt;This crown jewel career, wittier \"Devil Wears Prada\" interesting \"Superman\" great comedy friends.</td>\n",
       "    </tr>\n",
       "    <tr>\n",
       "      <th>3</th>\n",
       "      <td>Basically there's a family where a little boy (Jake) thinks there's a zombie in his closet &amp; his parents are fighting all the time.&lt;br /&gt;&lt;br /&gt;This movie is slower than a soap opera... and suddenly, Jake decides to become Rambo and kill the zombie.&lt;br /&gt;&lt;br /&gt;OK, first of all when you're going to make a film you must Decide if its a thriller or a drama! As a drama the movie is watchable. Parents are divorcing &amp; arguing like in real life. And then we have Jake with his closet which totally ruins all the film! I expected to see a BOOGEYMAN similar movie, and instead i watched a drama with some meaningless thriller spots.&lt;br /&gt;&lt;br /&gt;3 out of 10 just for the well playing parents &amp; descent dialogs. As for the shots with Jake: just ignore them.</td>\n",
       "      <td>negative</td>\n",
       "      <td>Basically there's family little boy (Jake) thinks there's zombie closet &amp; parents fighting time.&lt;br /&gt;&lt;br /&gt;This movie slower soap opera... suddenly, Jake decides Rambo kill zombie.&lt;br /&gt;&lt;br /&gt;OK, you're going make film Decide thriller drama! As drama movie watchable. Parents divorcing &amp; arguing like real life. And Jake closet totally ruins film! I expected BOOGEYMAN similar movie, instead watched drama meaningless thriller spots.&lt;br /&gt;&lt;br /&gt;3 10 just playing parents &amp; descent dialogs. As shots Jake: just ignore them.</td>\n",
       "    </tr>\n",
       "    <tr>\n",
       "      <th>4</th>\n",
       "      <td>Petter Mattei's \"Love in the Time of Money\" is a visually stunning film to watch. Mr. Mattei offers us a vivid portrait about human relations. This is a movie that seems to be telling us what money, power and success do to people in the different situations we encounter. &lt;br /&gt;&lt;br /&gt;This being a variation on the Arthur Schnitzler's play about the same theme, the director transfers the action to the present time New York where all these different characters meet and connect. Each one is connected in one way, or another to the next person, but no one seems to know the previous point of contact. Stylishly, the film has a sophisticated luxurious look. We are taken to see how these people live and the world they live in their own habitat.&lt;br /&gt;&lt;br /&gt;The only thing one gets out of all these souls in the picture is the different stages of loneliness each one inhabits. A big city is not exactly the best place in which human relations find sincere fulfillment, as one discerns is the case with most of the people we encounter.&lt;br /&gt;&lt;br /&gt;The acting is good under Mr. Mattei's direction. Steve Buscemi, Rosario Dawson, Carol Kane, Michael Imperioli, Adrian Grenier, and the rest of the talented cast, make these characters come alive.&lt;br /&gt;&lt;br /&gt;We wish Mr. Mattei good luck and await anxiously for his next work.</td>\n",
       "      <td>positive</td>\n",
       "      <td>Petter Mattei's \"Love Time Money\" visually stunning film watch. Mr. Mattei offers vivid portrait human relations. This movie telling money, power success people different situations encounter. &lt;br /&gt;&lt;br /&gt;This variation Arthur Schnitzler's play theme, director transfers action present time New York different characters meet connect. Each connected way, person, know previous point contact. Stylishly, film sophisticated luxurious look. We taken people live world live habitat.&lt;br /&gt;&lt;br /&gt;The thing gets souls picture different stages loneliness inhabits. A big city exactly best place human relations fulfillment, discerns case people encounter.&lt;br /&gt;&lt;br /&gt;The acting good Mr. Mattei's direction. Steve Buscemi, Rosario Dawson, Carol Kane, Michael Imperioli, Adrian Grenier, rest talented cast, make characters come alive.&lt;br /&gt;&lt;br /&gt;We wish Mr. Mattei good luck await anxiously work.</td>\n",
       "    </tr>\n",
       "  </tbody>\n",
       "</table>\n",
       "</div>"
      ],
      "text/plain": [
       "                                                                                                                                                                                                                                                                                                                                                                                                                                                                                                                                                                                                                                                                                                                                                                                                                                                                                                                                                                                                                                                                                                                                                                                                                                                                                                                                                                                                                                                                                                                                                                                                                                                                                                                                                                                                                              review  \\\n",
       "0  One of the other reviewers has mentioned that after watching just 1 Oz episode you'll be hooked. They are right, as this is exactly what happened with me.<br /><br />The first thing that struck me about Oz was its brutality and unflinching scenes of violence, which set in right from the word GO. Trust me, this is not a show for the faint hearted or timid. This show pulls no punches with regards to drugs, sex or violence. Its is hardcore, in the classic use of the word.<br /><br />It is called OZ as that is the nickname given to the Oswald Maximum Security State Penitentary. It focuses mainly on Emerald City, an experimental section of the prison where all the cells have glass fronts and face inwards, so privacy is not high on the agenda. Em City is home to many..Aryans, Muslims, gangstas, Latinos, Christians, Italians, Irish and more....so scuffles, death stares, dodgy dealings and shady agreements are never far away.<br /><br />I would say the main appeal of the show is due to the fact that it goes where other shows wouldn't dare. Forget pretty pictures painted for mainstream audiences, forget charm, forget romance...OZ doesn't mess around. The first episode I ever saw struck me as so nasty it was surreal, I couldn't say I was ready for it, but as I watched more, I developed a taste for Oz, and got accustomed to the high levels of graphic violence. Not just violence, but injustice (crooked guards who'll be sold out for a nickel, inmates who'll kill on order and get away with it, well mannered, middle class inmates being turned into prison bitches due to their lack of street skills or prison experience) Watching Oz, you may become comfortable with what is uncomfortable viewing....thats if you can get in touch with your darker side.   \n",
       "1  A wonderful little production. <br /><br />The filming technique is very unassuming- very old-time-BBC fashion and gives a comforting, and sometimes discomforting, sense of realism to the entire piece. <br /><br />The actors are extremely well chosen- Michael Sheen not only \"has got all the polari\" but he has all the voices down pat too! You can truly see the seamless editing guided by the references to Williams' diary entries, not only is it well worth the watching but it is a terrificly written and performed piece. A masterful production about one of the great master's of comedy and his life. <br /><br />The realism really comes home with the little things: the fantasy of the guard which, rather than use the traditional 'dream' techniques remains solid then disappears. It plays on our knowledge and our senses, particularly with the scenes concerning Orton and Halliwell and the sets (particularly of their flat with Halliwell's murals decorating every surface) are terribly well done.                                                                                                                                                                                                                                                                                                                                                                                                                                                                                                                                                                                                                                                                                                                                                                                              \n",
       "2  I thought this was a wonderful way to spend time on a too hot summer weekend, sitting in the air conditioned theater and watching a light-hearted comedy. The plot is simplistic, but the dialogue is witty and the characters are likable (even the well bread suspected serial killer). While some may be disappointed when they realize this is not Match Point 2: Risk Addiction, I thought it was proof that Woody Allen is still fully in control of the style many of us have grown to love.<br /><br />This was the most I'd laughed at one of Woody's comedies in years (dare I say a decade?). While I've never been impressed with Scarlet Johanson, in this she managed to tone down her \"sexy\" image and jumped right into a average, but spirited young woman.<br /><br />This may not be the crown jewel of his career, but it was wittier than \"Devil Wears Prada\" and more interesting than \"Superman\" a great comedy to go see with friends.                                                                                                                                                                                                                                                                                                                                                                                                                                                                                                                                                                                                                                                                                                                                                                                                                                                                      \n",
       "3  Basically there's a family where a little boy (Jake) thinks there's a zombie in his closet & his parents are fighting all the time.<br /><br />This movie is slower than a soap opera... and suddenly, Jake decides to become Rambo and kill the zombie.<br /><br />OK, first of all when you're going to make a film you must Decide if its a thriller or a drama! As a drama the movie is watchable. Parents are divorcing & arguing like in real life. And then we have Jake with his closet which totally ruins all the film! I expected to see a BOOGEYMAN similar movie, and instead i watched a drama with some meaningless thriller spots.<br /><br />3 out of 10 just for the well playing parents & descent dialogs. As for the shots with Jake: just ignore them.                                                                                                                                                                                                                                                                                                                                                                                                                                                                                                                                                                                                                                                                                                                                                                                                                                                                                                                                                                                                                                                        \n",
       "4  Petter Mattei's \"Love in the Time of Money\" is a visually stunning film to watch. Mr. Mattei offers us a vivid portrait about human relations. This is a movie that seems to be telling us what money, power and success do to people in the different situations we encounter. <br /><br />This being a variation on the Arthur Schnitzler's play about the same theme, the director transfers the action to the present time New York where all these different characters meet and connect. Each one is connected in one way, or another to the next person, but no one seems to know the previous point of contact. Stylishly, the film has a sophisticated luxurious look. We are taken to see how these people live and the world they live in their own habitat.<br /><br />The only thing one gets out of all these souls in the picture is the different stages of loneliness each one inhabits. A big city is not exactly the best place in which human relations find sincere fulfillment, as one discerns is the case with most of the people we encounter.<br /><br />The acting is good under Mr. Mattei's direction. Steve Buscemi, Rosario Dawson, Carol Kane, Michael Imperioli, Adrian Grenier, and the rest of the talented cast, make these characters come alive.<br /><br />We wish Mr. Mattei good luck and await anxiously for his next work.                                                                                                                                                                                                                                                                                                                                                                                                                                                               \n",
       "\n",
       "  sentiment  \\\n",
       "0  positive   \n",
       "1  positive   \n",
       "2  positive   \n",
       "3  negative   \n",
       "4  positive   \n",
       "\n",
       "                                                                                                                                                                                                                                                                                                                                                                                                                                                                                                                                                                                                                                                                                                                                                                                                                                                                                                                                                                                                                                                                                                                                                                                                                                                                     reviews_preprocessed  \n",
       "0  One reviewers mentioned watching just 1 Oz episode you'll hooked. They right, exactly happened me.<br /><br />The thing struck Oz brutality unflinching scenes violence, set right word GO. Trust me, faint hearted timid. This pulls punches regards drugs, sex violence. Its hardcore, classic use word.<br /><br />It called OZ nickname given Oswald Maximum Security State Penitentary. It focuses mainly Emerald City, experimental section prison cells glass fronts face inwards, privacy high agenda. Em City home many..Aryans, Muslims, gangstas, Latinos, Christians, Italians, Irish more....so scuffles, death stares, dodgy dealings shady agreements far away.<br /><br />I say main appeal fact goes shows wouldn't dare. Forget pretty pictures painted mainstream audiences, forget charm, forget romance...OZ doesn't mess around. The episode I saw struck nasty surreal, I couldn't say I ready it, I watched more, I developed taste Oz, got accustomed high levels graphic violence. Not just violence, injustice (crooked guards who'll sold nickel, inmates who'll kill order away it, mannered, middle class inmates turned prison bitches lack street skills prison experience) Watching Oz, comfortable uncomfortable viewing....thats touch darker side.  \n",
       "1  A wonderful little production. <br /><br />The filming technique unassuming- old-time-BBC fashion gives comforting, discomforting, sense realism entire piece. <br /><br />The actors extremely chosen- Michael Sheen \"has got polari\" voices pat too! You truly seamless editing guided references Williams' diary entries, worth watching terrificly written performed piece. A masterful production great master's comedy life. <br /><br />The realism really comes home little things: fantasy guard which, use traditional 'dream' techniques remains solid disappears. It plays knowledge senses, particularly scenes concerning Orton Halliwell sets (particularly flat Halliwell's murals decorating surface) terribly done.                                                                                                                                                                                                                                                                                                                                                                                                                                                                                                                                                   \n",
       "2  I thought wonderful way spend time hot summer weekend, sitting air conditioned theater watching light-hearted comedy. The plot simplistic, dialogue witty characters likable (even bread suspected serial killer). While disappointed realize Match Point 2: Risk Addiction, I thought proof Woody Allen fully control style grown love.<br /><br />This I'd laughed Woody's comedies years (dare I say decade?). While I've impressed Scarlet Johanson, managed tone \"sexy\" image jumped right average, spirited young woman.<br /><br />This crown jewel career, wittier \"Devil Wears Prada\" interesting \"Superman\" great comedy friends.                                                                                                                                                                                                                                                                                                                                                                                                                                                                                                                                                                                                                                             \n",
       "3  Basically there's family little boy (Jake) thinks there's zombie closet & parents fighting time.<br /><br />This movie slower soap opera... suddenly, Jake decides Rambo kill zombie.<br /><br />OK, you're going make film Decide thriller drama! As drama movie watchable. Parents divorcing & arguing like real life. And Jake closet totally ruins film! I expected BOOGEYMAN similar movie, instead watched drama meaningless thriller spots.<br /><br />3 10 just playing parents & descent dialogs. As shots Jake: just ignore them.                                                                                                                                                                                                                                                                                                                                                                                                                                                                                                                                                                                                                                                                                                                                             \n",
       "4  Petter Mattei's \"Love Time Money\" visually stunning film watch. Mr. Mattei offers vivid portrait human relations. This movie telling money, power success people different situations encounter. <br /><br />This variation Arthur Schnitzler's play theme, director transfers action present time New York different characters meet connect. Each connected way, person, know previous point contact. Stylishly, film sophisticated luxurious look. We taken people live world live habitat.<br /><br />The thing gets souls picture different stages loneliness inhabits. A big city exactly best place human relations fulfillment, discerns case people encounter.<br /><br />The acting good Mr. Mattei's direction. Steve Buscemi, Rosario Dawson, Carol Kane, Michael Imperioli, Adrian Grenier, rest talented cast, make characters come alive.<br /><br />We wish Mr. Mattei good luck await anxiously work.                                                                                                                                                                                                                                                                                                                                                                  "
      ]
     },
     "execution_count": 10,
     "metadata": {},
     "output_type": "execute_result"
    }
   ],
   "source": [
    "imdb_dataset_raw.head()"
   ]
  },
  {
   "cell_type": "markdown",
   "metadata": {},
   "source": [
    "### Remove HTML Tags\n",
    "\n",
    "The dataset contains many HTML tags. We'll remove them"
   ]
  },
  {
   "cell_type": "code",
   "execution_count": 11,
   "metadata": {},
   "outputs": [],
   "source": [
    "def strip_html(text):\n",
    "    soup = BeautifulSoup(text, \"html.parser\")\n",
    "    return soup.get_text()\n",
    "\n",
    "imdb_dataset_raw['reviews_preprocessed'] = imdb_dataset_raw['reviews_preprocessed'].apply(\n",
    "    lambda x: strip_html(x))"
   ]
  },
  {
   "cell_type": "code",
   "execution_count": 12,
   "metadata": {},
   "outputs": [
    {
     "data": {
      "text/plain": [
       "0    One reviewers mentioned watching just 1 Oz episode you'll hooked. They right, exactly happened me.The thing struck Oz brutality unflinching scenes violence, set right word GO. Trust me, faint hearted timid. This pulls punches regards drugs, sex violence. Its hardcore, classic use word.It called OZ nickname given Oswald Maximum Security State Penitentary. It focuses mainly Emerald City, experimental section prison cells glass fronts face inwards, privacy high agenda. Em City home many..Aryans, Muslims, gangstas, Latinos, Christians, Italians, Irish more....so scuffles, death stares, dodgy dealings shady agreements far away.I say main appeal fact goes shows wouldn't dare. Forget pretty pictures painted mainstream audiences, forget charm, forget romance...OZ doesn't mess around. The episode I saw struck nasty surreal, I couldn't say I ready it, I watched more, I developed taste Oz, got accustomed high levels graphic violence. Not just violence, injustice (crooked guards who'll sold nickel, inmates who'll kill order away it, mannered, middle class inmates turned prison bitches lack street skills prison experience) Watching Oz, comfortable uncomfortable viewing....thats touch darker side.\n",
       "1    A wonderful little production. The filming technique unassuming- old-time-BBC fashion gives comforting, discomforting, sense realism entire piece. The actors extremely chosen- Michael Sheen \"has got polari\" voices pat too! You truly seamless editing guided references Williams' diary entries, worth watching terrificly written performed piece. A masterful production great master's comedy life. The realism really comes home little things: fantasy guard which, use traditional 'dream' techniques remains solid disappears. It plays knowledge senses, particularly scenes concerning Orton Halliwell sets (particularly flat Halliwell's murals decorating surface) terribly done.                                                                                                                                                                                                                                                                                                                                                                                                                                                                                                                                                 \n",
       "2    I thought wonderful way spend time hot summer weekend, sitting air conditioned theater watching light-hearted comedy. The plot simplistic, dialogue witty characters likable (even bread suspected serial killer). While disappointed realize Match Point 2: Risk Addiction, I thought proof Woody Allen fully control style grown love.This I'd laughed Woody's comedies years (dare I say decade?). While I've impressed Scarlet Johanson, managed tone \"sexy\" image jumped right average, spirited young woman.This crown jewel career, wittier \"Devil Wears Prada\" interesting \"Superman\" great comedy friends.                                                                                                                                                                                                                                                                                                                                                                                                                                                                                                                                                                                                                               \n",
       "3    Basically there's family little boy (Jake) thinks there's zombie closet & parents fighting time.This movie slower soap opera... suddenly, Jake decides Rambo kill zombie.OK, you're going make film Decide thriller drama! As drama movie watchable. Parents divorcing & arguing like real life. And Jake closet totally ruins film! I expected BOOGEYMAN similar movie, instead watched drama meaningless thriller spots.3 10 just playing parents & descent dialogs. As shots Jake: just ignore them.                                                                                                                                                                                                                                                                                                                                                                                                                                                                                                                                                                                                                                                                                                                                           \n",
       "4    Petter Mattei's \"Love Time Money\" visually stunning film watch. Mr. Mattei offers vivid portrait human relations. This movie telling money, power success people different situations encounter. This variation Arthur Schnitzler's play theme, director transfers action present time New York different characters meet connect. Each connected way, person, know previous point contact. Stylishly, film sophisticated luxurious look. We taken people live world live habitat.The thing gets souls picture different stages loneliness inhabits. A big city exactly best place human relations fulfillment, discerns case people encounter.The acting good Mr. Mattei's direction. Steve Buscemi, Rosario Dawson, Carol Kane, Michael Imperioli, Adrian Grenier, rest talented cast, make characters come alive.We wish Mr. Mattei good luck await anxiously work.                                                                                                                                                                                                                                                                                                                                                                            \n",
       "Name: reviews_preprocessed, dtype: object"
      ]
     },
     "execution_count": 12,
     "metadata": {},
     "output_type": "execute_result"
    }
   ],
   "source": [
    "imdb_dataset_raw['reviews_preprocessed'].head()"
   ]
  },
  {
   "cell_type": "markdown",
   "metadata": {},
   "source": [
    "## Count Words\n",
    "\n",
    "Now we want to count the words per sentiment to find good matching keywords.\n",
    "We split the dataset first into positive and negative reviews and then count the words per sentiment"
   ]
  },
  {
   "cell_type": "code",
   "execution_count": 13,
   "metadata": {},
   "outputs": [],
   "source": [
    "positive_reviews = \\\n",
    "    imdb_dataset_raw.loc[imdb_dataset_raw.sentiment == 'positive', ['reviews_preprocessed', 'sentiment']]"
   ]
  },
  {
   "cell_type": "code",
   "execution_count": 14,
   "metadata": {},
   "outputs": [],
   "source": [
    "negative_reviews = \\\n",
    "    imdb_dataset_raw.loc[imdb_dataset_raw.sentiment == 'negative', ['reviews_preprocessed', 'sentiment']]"
   ]
  },
  {
   "cell_type": "code",
   "execution_count": 15,
   "metadata": {},
   "outputs": [],
   "source": [
    "def get_word_count_list(reviews: pd.DataFrame, min_df: int = 10) -> pd.DataFrame:\n",
    "    vectorizer = CountVectorizer(min_df=min_df)\n",
    "    X = vectorizer.fit_transform(reviews.reviews_preprocessed.values)\n",
    "    word_list = vectorizer.get_feature_names()\n",
    "    count_list = X.toarray().sum(axis=0)\n",
    "    word_count = pd.DataFrame(dict(zip(word_list, count_list)), index=['count']).transpose().sort_values('count', ascending=False)\n",
    "    # Remove stop words again\n",
    "    word_count = word_count.loc[~word_count.index.isin(ENGLISH_STOP_WORDS)]\n",
    "    return word_count"
   ]
  },
  {
   "cell_type": "markdown",
   "metadata": {},
   "source": [
    "### Positive Reviews\n",
    "\n",
    "First lets look at some positive reviews and find good keywords which maybe describe them."
   ]
  },
  {
   "cell_type": "code",
   "execution_count": 16,
   "metadata": {},
   "outputs": [],
   "source": [
    "word_count_positive = get_word_count_list(positive_reviews, min_df=100)"
   ]
  },
  {
   "cell_type": "code",
   "execution_count": 17,
   "metadata": {},
   "outputs": [
    {
     "data": {
      "text/html": [
       "<div>\n",
       "<style scoped>\n",
       "    .dataframe tbody tr th:only-of-type {\n",
       "        vertical-align: middle;\n",
       "    }\n",
       "\n",
       "    .dataframe tbody tr th {\n",
       "        vertical-align: top;\n",
       "    }\n",
       "\n",
       "    .dataframe thead th {\n",
       "        text-align: right;\n",
       "    }\n",
       "</style>\n",
       "<table border=\"1\" class=\"dataframe\">\n",
       "  <thead>\n",
       "    <tr style=\"text-align: right;\">\n",
       "      <th></th>\n",
       "      <th>count</th>\n",
       "    </tr>\n",
       "  </thead>\n",
       "  <tbody>\n",
       "    <tr>\n",
       "      <th>count</th>\n",
       "      <td>3627.000000</td>\n",
       "    </tr>\n",
       "    <tr>\n",
       "      <th>mean</th>\n",
       "      <td>557.271574</td>\n",
       "    </tr>\n",
       "    <tr>\n",
       "      <th>std</th>\n",
       "      <td>1355.342072</td>\n",
       "    </tr>\n",
       "    <tr>\n",
       "      <th>min</th>\n",
       "      <td>100.000000</td>\n",
       "    </tr>\n",
       "    <tr>\n",
       "      <th>25%</th>\n",
       "      <td>159.000000</td>\n",
       "    </tr>\n",
       "    <tr>\n",
       "      <th>50%</th>\n",
       "      <td>253.000000</td>\n",
       "    </tr>\n",
       "    <tr>\n",
       "      <th>75%</th>\n",
       "      <td>507.000000</td>\n",
       "    </tr>\n",
       "    <tr>\n",
       "      <th>max</th>\n",
       "      <td>42093.000000</td>\n",
       "    </tr>\n",
       "  </tbody>\n",
       "</table>\n",
       "</div>"
      ],
      "text/plain": [
       "              count\n",
       "count  3627.000000 \n",
       "mean   557.271574  \n",
       "std    1355.342072 \n",
       "min    100.000000  \n",
       "25%    159.000000  \n",
       "50%    253.000000  \n",
       "75%    507.000000  \n",
       "max    42093.000000"
      ]
     },
     "execution_count": 17,
     "metadata": {},
     "output_type": "execute_result"
    }
   ],
   "source": [
    "word_count_positive.describe()"
   ]
  },
  {
   "cell_type": "code",
   "execution_count": 18,
   "metadata": {},
   "outputs": [],
   "source": [
    "# All words in quantile 95 and higher\n",
    "q95_positive_words =  word_count_positive.loc[word_count_positive['count'] > word_count_positive.quantile(0.95)['count']]"
   ]
  },
  {
   "cell_type": "code",
   "execution_count": 19,
   "metadata": {},
   "outputs": [
    {
     "data": {
      "text/plain": [
       "array(['film', 'movie', 'like', 'good', 'just', 'great', 'story', 'time',\n",
       "       'really', 'people', 'love', 'best', 'life', 'way', 'films',\n",
       "       'think', 'characters', 'don', 'movies', 'character', 'seen', 'man',\n",
       "       'watch', 'make', 'little', 'does', 'know', 'did', 'years', 'end',\n",
       "       'scene', 'real', 'scenes', 'say', 'acting', 'plot', 'world',\n",
       "       'makes', 'better', 'new', 've', '10', 'young', 'work', 'old',\n",
       "       'lot', 'quite', 'cast', 'funny', 'series', 'director', 'actors',\n",
       "       'music', 'role', 'watching', 'look', 'bad', 'doesn', 'family',\n",
       "       'performance', 'things', 'comedy', 'times', 'going', 'big', 'saw',\n",
       "       'long', 'thing', 'actually', 'excellent', 'didn', 'bit', 'fun',\n",
       "       'right', 'action', 'thought', 'fact', 'feel', 'want', 'come',\n",
       "       'played', 'especially', 'got', 'war', 'horror', 'beautiful', 'day',\n",
       "       'pretty', 'dvd', 'different', 'shows', 'gets', 'tv', 'interesting',\n",
       "       'true', 'job', 'll', 'woman', 'probably', 'far', 'wonderful',\n",
       "       'course', 'original', 'girl', 'plays', 'away', 'point', 'screen',\n",
       "       'isn', 'play', 'john', 'making', 'later', 'american', 'set',\n",
       "       'hard', 'sure', 'worth', 'kind', 'year', 'perfect', 'having',\n",
       "       'place', 'takes', 'father', 'comes', 'ending', 'performances',\n",
       "       'classic', 'wife', 'actor', 'guy', 'goes', 'loved', 'watched',\n",
       "       'seeing', 'enjoy', 'night', 'death', 'version', 'high', 'nice',\n",
       "       'main', 'men', 'star', 'black', 'looking', 'believe', 'short',\n",
       "       'book', 'home', 'mind', 'recommend', 'definitely', 'sense',\n",
       "       'human', 'audience', 'fan', 'truly', 'house', 'amazing', 'second',\n",
       "       'gives', 'hollywood', 'friends', 'episode', 'mother', 'let',\n",
       "       'said', 'help', 'special', 'trying', 'used', 'left', 'brilliant',\n",
       "       'remember', 'today', 'small', 'maybe', 'moments', 'favorite',\n",
       "       'script'], dtype=object)"
      ]
     },
     "execution_count": 19,
     "metadata": {},
     "output_type": "execute_result"
    }
   ],
   "source": [
    "q95_positive_words.index.values"
   ]
  },
  {
   "cell_type": "code",
   "execution_count": 20,
   "metadata": {},
   "outputs": [],
   "source": [
    "# Manual create list with keywords\n",
    "positive_keywords = [\n",
    "    'like','good','great','love', 'best', 'funny','excellent','fun','beautiful','interesting','wonderful',\n",
    "    'original','perfect','classic','loved','recommend','amazing','favorite'\n",
    "]"
   ]
  },
  {
   "cell_type": "code",
   "execution_count": 21,
   "metadata": {},
   "outputs": [
    {
     "data": {
      "text/html": [
       "<div>\n",
       "<style scoped>\n",
       "    .dataframe tbody tr th:only-of-type {\n",
       "        vertical-align: middle;\n",
       "    }\n",
       "\n",
       "    .dataframe tbody tr th {\n",
       "        vertical-align: top;\n",
       "    }\n",
       "\n",
       "    .dataframe thead th {\n",
       "        text-align: right;\n",
       "    }\n",
       "</style>\n",
       "<table border=\"1\" class=\"dataframe\">\n",
       "  <thead>\n",
       "    <tr style=\"text-align: right;\">\n",
       "      <th></th>\n",
       "      <th>review</th>\n",
       "      <th>sentiment</th>\n",
       "      <th>reviews_preprocessed</th>\n",
       "    </tr>\n",
       "  </thead>\n",
       "  <tbody>\n",
       "    <tr>\n",
       "      <th>3</th>\n",
       "      <td>Basically there's a family where a little boy (Jake) thinks there's a zombie in his closet &amp; his parents are fighting all the time.&lt;br /&gt;&lt;br /&gt;This movie is slower than a soap opera... and suddenly, Jake decides to become Rambo and kill the zombie.&lt;br /&gt;&lt;br /&gt;OK, first of all when you're going to make a film you must Decide if its a thriller or a drama! As a drama the movie is watchable. Parents are divorcing &amp; arguing like in real life. And then we have Jake with his closet which totally ruins all the film! I expected to see a BOOGEYMAN similar movie, and instead i watched a drama with some meaningless thriller spots.&lt;br /&gt;&lt;br /&gt;3 out of 10 just for the well playing parents &amp; descent dialogs. As for the shots with Jake: just ignore them.</td>\n",
       "      <td>negative</td>\n",
       "      <td>Basically there's family little boy (Jake) thinks there's zombie closet &amp; parents fighting time.This movie slower soap opera... suddenly, Jake decides Rambo kill zombie.OK, you're going make film Decide thriller drama! As drama movie watchable. Parents divorcing &amp; arguing like real life. And Jake closet totally ruins film! I expected BOOGEYMAN similar movie, instead watched drama meaningless thriller spots.3 10 just playing parents &amp; descent dialogs. As shots Jake: just ignore them.</td>\n",
       "    </tr>\n",
       "    <tr>\n",
       "      <th>5</th>\n",
       "      <td>Probably my all-time favorite movie, a story of selflessness, sacrifice and dedication to a noble cause, but it's not preachy or boring. It just never gets old, despite my having seen it some 15 or more times in the last 25 years. Paul Lukas' performance brings tears to my eyes, and Bette Davis, in one of her very few truly sympathetic roles, is a delight. The kids are, as grandma says, more like \"dressed-up midgets\" than children, but that only makes them more fun to watch. And the mother's slow awakening to what's happening in the world and under her own roof is believable and startling. If I had a dozen thumbs, they'd all be \"up\" for this movie.</td>\n",
       "      <td>positive</td>\n",
       "      <td>Probably all-time favorite movie, story selflessness, sacrifice dedication noble cause, it's preachy boring. It just gets old, despite having seen 15 times 25 years. Paul Lukas' performance brings tears eyes, Bette Davis, truly sympathetic roles, delight. The kids are, grandma says, like \"dressed-up midgets\" children, makes fun watch. And mother's slow awakening what's happening world roof believable startling. If I dozen thumbs, they'd \"up\" movie.</td>\n",
       "    </tr>\n",
       "    <tr>\n",
       "      <th>6</th>\n",
       "      <td>I sure would like to see a resurrection of a up dated Seahunt series with the tech they have today it would bring back the kid excitement in me.I grew up on black and white TV and Seahunt with Gunsmoke were my hero's every week.You have my vote for a comeback of a new sea hunt.We need a change of pace in TV and this would work for a world of under water adventure.Oh by the way thank you for an outlet like this to view many viewpoints about TV and the many movies.So any ole way I believe I've got what I wanna say.Would be nice to read some more plus points about sea hunt.If my rhymes would be 10 lines would you let me submit,or leave me out to be in doubt and have me to quit,If this is so then I must go so lets do it.</td>\n",
       "      <td>positive</td>\n",
       "      <td>I sure like resurrection dated Seahunt series tech today bring kid excitement me.I grew black white TV Seahunt Gunsmoke hero's week.You vote comeback new sea hunt.We need change pace TV work world water adventure.Oh way thank outlet like view viewpoints TV movies.So ole way I believe I've got I wanna say.Would nice read plus points sea hunt.If rhymes 10 lines let submit,or leave doubt quit,If I lets it.</td>\n",
       "    </tr>\n",
       "    <tr>\n",
       "      <th>9</th>\n",
       "      <td>If you like original gut wrenching laughter you will like this movie. If you are young or old then you will love this movie, hell even my mom liked it.&lt;br /&gt;&lt;br /&gt;Great Camp!!!</td>\n",
       "      <td>positive</td>\n",
       "      <td>If like original gut wrenching laughter like movie. If young old love movie, hell mom liked it.Great Camp!!!</td>\n",
       "    </tr>\n",
       "    <tr>\n",
       "      <th>12</th>\n",
       "      <td>So im not a big fan of Boll's work but then again not many are. I enjoyed his movie Postal (maybe im the only one). Boll apparently bought the rights to use Far Cry long ago even before the game itself was even finsished. &lt;br /&gt;&lt;br /&gt;People who have enjoyed killing mercs and infiltrating secret research labs located on a tropical island should be warned, that this is not Far Cry... This is something Mr Boll have schemed together along with his legion of schmucks.. Feeling loneley on the set Mr Boll invites three of his countrymen to play with. These players go by the names of Til Schweiger, Udo Kier and Ralf Moeller.&lt;br /&gt;&lt;br /&gt;Three names that actually have made them selfs pretty big in the movie biz. So the tale goes like this, Jack Carver played by Til Schweiger (yes Carver is German all hail the bratwurst eating dudes!!) However I find that Tils acting in this movie is pretty badass.. People have complained about how he's not really staying true to the whole Carver agenda but we only saw carver in a first person perspective so we don't really know what he looked like when he was kicking a**.. &lt;br /&gt;&lt;br /&gt;However, the storyline in this film is beyond demented. We see the evil mad scientist Dr. Krieger played by Udo Kier, making Genetically-Mutated-soldiers or GMS as they are called. Performing his top-secret research on an island that reminds me of \"SPOILER\" Vancouver for some reason. Thats right no palm trees here. Instead we got some nice rich lumberjack-woods. We haven't even gone FAR before I started to CRY (mehehe) I cannot go on any more.. If you wanna stay true to Bolls shenanigans then go and see this movie you will not be disappointed it delivers the true Boll experience, meaning most of it will suck.&lt;br /&gt;&lt;br /&gt;There are some things worth mentioning that would imply that Boll did a good work on some areas of the film such as some nice boat and fighting scenes. Until the whole cromed/albino GMS squad enters the scene and everything just makes me laugh.. The movie Far Cry reeks of scheisse (that's poop for you simpletons) from a fa,r if you wanna take a wiff go ahead.. BTW Carver gets a very annoying sidekick who makes you wanna shoot him the first three minutes he's on screen.</td>\n",
       "      <td>negative</td>\n",
       "      <td>So im big fan Boll's work are. I enjoyed movie Postal (maybe im one). Boll apparently bought rights use Far Cry long ago game finsished. People enjoyed killing mercs infiltrating secret research labs located tropical island warned, Far Cry... This Mr Boll schemed legion schmucks.. Feeling loneley set Mr Boll invites countrymen play with. These players names Til Schweiger, Udo Kier Ralf Moeller.Three names actually selfs pretty big movie biz. So tale goes like this, Jack Carver played Til Schweiger (yes Carver German hail bratwurst eating dudes!!) However I Tils acting movie pretty badass.. People complained he's really staying true Carver agenda saw carver person perspective don't really know looked like kicking a**.. However, storyline film demented. We evil mad scientist Dr. Krieger played Udo Kier, making Genetically-Mutated-soldiers GMS called. Performing top-secret research island reminds \"SPOILER\" Vancouver reason. Thats right palm trees here. Instead got nice rich lumberjack-woods. We haven't gone FAR I started CRY (mehehe) I more.. If wanna stay true Bolls shenanigans movie disappointed delivers true Boll experience, meaning suck.There things worth mentioning imply Boll did good work areas film nice boat fighting scenes. Until cromed/albino GMS squad enters scene just makes laugh.. The movie Far Cry reeks scheisse (that's poop simpletons) fa,r wanna wiff ahead.. BTW Carver gets annoying sidekick makes wanna shoot minutes he's screen.</td>\n",
       "    </tr>\n",
       "    <tr>\n",
       "      <th>...</th>\n",
       "      <td>...</td>\n",
       "      <td>...</td>\n",
       "      <td>...</td>\n",
       "    </tr>\n",
       "    <tr>\n",
       "      <th>49990</th>\n",
       "      <td>Lame, lame, lame!!! A 90-minute cringe-fest that's 89 minutes too long. A setting ripe with atmosphere and possibility (an abandoned convent) is squandered by a stinker of a script filled with clunky, witless dialogue that's straining oh-so-hard to be hip. Mostly it's just embarrassing, and the attempts at gonzo horror fall flat (a sample of this movie's dialogue: after demonstrating her artillery, fast dolly shot to a closeup of Barbeau's vigilante character",
       "she: `any questions?' hyuck hyuck hyuck). Bad acting, idiotic, homophobic jokes and judging from the creature effects, it looks like the director's watched `The Evil Dead' way too many times. &lt;br /&gt;&lt;br /&gt;I owe my friends big time for renting this turkey and subjecting them to ninety wasted minutes they'll never get back. What a turd.</td>\n",
       "      <td>negative</td>\n",
       "      <td>Lame, lame, lame!!! A 90-minute cringe-fest that's 89 minutes long. A setting ripe atmosphere possibility (an abandoned convent) squandered stinker script filled clunky, witless dialogue that's straining oh-so-hard hip. Mostly it's just embarrassing, attempts gonzo horror fall flat (a sample movie's dialogue: demonstrating artillery, fast dolly shot closeup Barbeau's vigilante character she: `any questions?' hyuck hyuck hyuck). Bad acting, idiotic, homophobic jokes judging creature effects, looks like director's watched `The Evil Dead' way times. I owe friends big time renting turkey subjecting ninety wasted minutes they'll back. What turd.</td>\n",
       "    </tr>\n",
       "    <tr>\n",
       "      <th>49991</th>\n",
       "      <td>Les Visiteurs, the first movie about the medieval time travelers was actually funny. I like Jean Reno as an actor, but there was more. There were unexpected twists, funny situations and of course plain absurdness, that would remind you a little bit of Louis de Funes.&lt;br /&gt;&lt;br /&gt;Now this sequel has the same characters, the same actors in great part and the same time traveling. The plot changes a little, since the characters now are supposed to be experienced time travelers. So they jump up and down in history, without paying any attention to the fact that it keeps getting absurder as you advance in the movie. The duke, Jean Reno, tries to keep the whole thing together with his playing, but his character has been emptied, so there's not a lot he can do to save the film.&lt;br /&gt;&lt;br /&gt;Now the duke's slave/helper, he has really all the attention. The movie is merely about him and his being clumsy / annoying / stupid or whatever he was supposed to be. Fact is; this character tries to produce the laughter from the audience, but he does not succeed. It is as if someone was telling you a really very very bad joke, you already know, but he insists on telling that joke till the end, adding details, to make your suffering a little longer.&lt;br /&gt;&lt;br /&gt;If you liked Les Visiteurs, do not spoil the taste in your mouth with the sequel. If you didn't like Les Visiteurs, you would never consider seeing the sequel. If you liked this sequel... well, I suppose you still need to see a lot of movies.</td>\n",
       "      <td>negative</td>\n",
       "      <td>Les Visiteurs, movie medieval time travelers actually funny. I like Jean Reno actor, more. There unexpected twists, funny situations course plain absurdness, remind little bit Louis Funes.Now sequel characters, actors great time traveling. The plot changes little, characters supposed experienced time travelers. So jump history, paying attention fact keeps getting absurder advance movie. The duke, Jean Reno, tries thing playing, character emptied, there's lot save film.Now duke's slave/helper, really attention. The movie merely clumsy / annoying / stupid supposed be. Fact is; character tries produce laughter audience, does succeed. It telling really bad joke, know, insists telling joke till end, adding details, make suffering little longer.If liked Les Visiteurs, spoil taste mouth sequel. If didn't like Les Visiteurs, consider seeing sequel. If liked sequel... well, I suppose need lot movies.</td>\n",
       "    </tr>\n",
       "    <tr>\n",
       "      <th>49993</th>\n",
       "      <td>Robert Colomb has two full-time jobs. He's known throughout the world as a globetrotting TV reporter. Less well-known but equally effortful are his exploits as a full-time philanderer.&lt;br /&gt;&lt;br /&gt;I saw `Vivre pour Vivre' dubbed in English with the title 'Live for Life.' Some life! Robert seems to always have at least three women in his life: one mistress on her way out, one on her way in, and the cheated wife at home. It helps that Robert is a glib liar. Among his most useful lies are `I'll call you tomorrow' and `My work took longer than planned.' He spends a lot of time and money on planes, trains and hotel rooms for his succession of liaisons. You wonder when this guy will get caught with his pants down.&lt;br /&gt;&lt;br /&gt;Some may find his life exciting, but I thought it to be tedious. His companions, including his wife, Catherine, are all attractive and desirable women. But his lifestyle is so hectic and he is so deceitful, you wonder if he's enjoying all this.&lt;br /&gt;&lt;br /&gt;Adding to the tedium is considerable footage that doesn't further the plot. There are extended sections with no dialogue or French-only dialogue. We see documentaries of wars, torture, and troop training interspersed with the live action. When Robert's flight returns from Africa, we wait and wait for the plane to land and taxi to the airport terminal.&lt;br /&gt;&lt;br /&gt;Annie Girardot is the standout performer in this film. Hers was the most interesting character and she played it to perfection. It was also nice to see Candice Bergen at the beginning of her career. I can't find fault with Yves Montand's performance of what was basically an amoral bum.&lt;br /&gt;&lt;br /&gt;I enjoyed some of Claude Lelouch's novel techniques. In a hotel room scene, the camera pans around the room as Robert and his mistress argue. We catch sight of them briefly during each pass around the room. In another scene set on a sleeping car of a train, Robert is lying on the upper bunk while his wife is on the lower. Robert is giving his wife some important but distressing news, but we hear only parts of it because of the clatter of the train. I sensed that his wife was also unable to absorb every word due to the shocking nature of the news. I also liked the exciting safari scenes in Africa. The cinematography of those scenes and of those in Amsterdam was superb.&lt;br /&gt;&lt;br /&gt;I reviewed this movie as part of a project at the Library of Congress. I've named the project FIFTY: 50 Notable Films Forgotten Within 50 Years. As best I can determine, this film, like the other forty-nine I've identified, has not been on video, telecast, or distributed in the U.S. since its original release. In my opinion, it is worthy of being made available again.&lt;br /&gt;&lt;br /&gt;</td>\n",
       "      <td>negative</td>\n",
       "      <td>Robert Colomb full-time jobs. He's known world globetrotting TV reporter. Less well-known equally effortful exploits full-time philanderer.I saw `Vivre pour Vivre' dubbed English title 'Live Life.' Some life! Robert women life: mistress way out, way in, cheated wife home. It helps Robert glib liar. Among useful lies `I'll tomorrow' `My work took longer planned.' He spends lot time money planes, trains hotel rooms succession liaisons. You wonder guy caught pants down.Some life exciting, I thought tedious. His companions, including wife, Catherine, attractive desirable women. But lifestyle hectic deceitful, wonder he's enjoying this.Adding tedium considerable footage doesn't plot. There extended sections dialogue French-only dialogue. We documentaries wars, torture, troop training interspersed live action. When Robert's flight returns Africa, wait wait plane land taxi airport terminal.Annie Girardot standout performer film. Hers interesting character played perfection. It nice Candice Bergen beginning career. I can't fault Yves Montand's performance basically amoral bum.I enjoyed Claude Lelouch's novel techniques. In hotel room scene, camera pans room Robert mistress argue. We catch sight briefly pass room. In scene set sleeping car train, Robert lying upper bunk wife lower. Robert giving wife important distressing news, hear parts clatter train. I sensed wife unable absorb word shocking nature news. I liked exciting safari scenes Africa. The cinematography scenes Amsterdam superb.I reviewed movie project Library Congress. I've named project FIFTY: 50 Notable Films Forgotten Within 50 Years. As best I determine, film, like forty-nine I've identified, video, telecast, distributed U.S. original release. In opinion, worthy available again.</td>\n",
       "    </tr>\n",
       "    <tr>\n",
       "      <th>49995</th>\n",
       "      <td>I thought this movie did a down right good job. It wasn't as creative or original as the first, but who was expecting it to be. It was a whole lotta fun. the more i think about it the more i like it, and when it comes out on DVD I'm going to pay the money for it very proudly, every last cent. Sharon Stone is great, she always is, even if her movie is horrible(Catwoman), but this movie isn't, this is one of those movies that will be underrated for its lifetime, and it will probably become a classic in like 20 yrs. Don't wait for it to be a classic, watch it now and enjoy it. Don't expect a masterpiece, or something thats gripping and soul touching, just allow yourself to get out of your life and get yourself involved in theirs.&lt;br /&gt;&lt;br /&gt;All in all, this movie is entertaining and i recommend people who haven't seen it see it, because what the critics and box office say doesn't always count, see it for yourself, you never know, you might just enjoy it. I tip my hat to this movie&lt;br /&gt;&lt;br /&gt;8/10</td>\n",
       "      <td>positive</td>\n",
       "      <td>I thought movie did right good job. It wasn't creative original first, expecting be. It lotta fun. think like it, comes DVD I'm going pay money proudly, cent. Sharon Stone great, is, movie horrible(Catwoman), movie isn't, movies underrated lifetime, probably classic like 20 yrs. Don't wait classic, watch enjoy it. Don't expect masterpiece, thats gripping soul touching, just allow life involved theirs.All all, movie entertaining recommend people haven't seen it, critics box office say doesn't count, yourself, know, just enjoy it. I tip hat movie8/10</td>\n",
       "    </tr>\n",
       "    <tr>\n",
       "      <th>49998</th>\n",
       "      <td>I'm going to have to disagree with the previous comment and side with Maltin on this one. This is a second rate, excessively vicious Western that creaks and groans trying to put across its central theme of the Wild West being tamed and kicked aside by the steady march of time. It would like to be in the tradition of \"Butch Cassidy and the Sundance Kid\", but lacks that film's poignancy and charm. Andrew McLaglen's direction is limp, and the final 30 minutes or so are a real botch, with some incomprehensible strategy on the part of heroes Charlton Heston and Chris Mitchum. (Someone give me a holler if you can explain to me why they set that hillside on fire.) There was something callous about the whole treatment of the rape scene, and the woman's reaction afterwards certainly did not ring true. Coburn is plenty nasty as the half breed escaped convict out for revenge, but all of his fellow escapees are underdeveloped (they're like bowling pins to be knocked down one by one as the story lurches forward). Michael Parks gives one of his typically shifty, lethargic, mumbling performances, but in this case it was appropriate as his modern style sheriff symbolizes the complacency that technological progress can bring about.</td>\n",
       "      <td>negative</td>\n",
       "      <td>I'm going disagree previous comment Maltin one. This second rate, excessively vicious Western creaks groans trying central theme Wild West tamed kicked aside steady march time. It like tradition \"Butch Cassidy Sundance Kid\", lacks film's poignancy charm. Andrew McLaglen's direction limp, final 30 minutes real botch, incomprehensible strategy heroes Charlton Heston Chris Mitchum. (Someone holler explain set hillside fire.) There callous treatment rape scene, woman's reaction certainly did ring true. Coburn plenty nasty half breed escaped convict revenge, fellow escapees underdeveloped (they're like bowling pins knocked story lurches forward). Michael Parks gives typically shifty, lethargic, mumbling performances, case appropriate modern style sheriff symbolizes complacency technological progress bring about.</td>\n",
       "    </tr>\n",
       "  </tbody>\n",
       "</table>\n",
       "<p>25405 rows × 3 columns</p>\n",
       "</div>"
      ],
      "text/plain": [
       "                                                                                                                                                                                                                                                                                                                                                                                                                                                                                                                                                                                                                                                                                                                                                                                                                                                                                                                                                                                                                                                                                                                                                                                                                                                                                                                                                                                                                                                                                                                                                                                                                                                                                                                                                                                                                                                                                                                                                                                                                                                                                                                                                                                                                                                                                                                                                                                                                                                                                                                                                                                                                                                                                                                                                                                                                              review  \\\n",
       "3      Basically there's a family where a little boy (Jake) thinks there's a zombie in his closet & his parents are fighting all the time.<br /><br />This movie is slower than a soap opera... and suddenly, Jake decides to become Rambo and kill the zombie.<br /><br />OK, first of all when you're going to make a film you must Decide if its a thriller or a drama! As a drama the movie is watchable. Parents are divorcing & arguing like in real life. And then we have Jake with his closet which totally ruins all the film! I expected to see a BOOGEYMAN similar movie, and instead i watched a drama with some meaningless thriller spots.<br /><br />3 out of 10 just for the well playing parents & descent dialogs. As for the shots with Jake: just ignore them.                                                                                                                                                                                                                                                                                                                                                                                                                                                                                                                                                                                                                                                                                                                                                                                                                                                                                                                                                                                                                                                                                                                                                                                                                                                                                                                                                                                                                                                                                                                                                                                                                                                                                                                                                                                                                                                                                                                                                                                                                                                    \n",
       "5      Probably my all-time favorite movie, a story of selflessness, sacrifice and dedication to a noble cause, but it's not preachy or boring. It just never gets old, despite my having seen it some 15 or more times in the last 25 years. Paul Lukas' performance brings tears to my eyes, and Bette Davis, in one of her very few truly sympathetic roles, is a delight. The kids are, as grandma says, more like \"dressed-up midgets\" than children, but that only makes them more fun to watch. And the mother's slow awakening to what's happening in the world and under her own roof is believable and startling. If I had a dozen thumbs, they'd all be \"up\" for this movie.                                                                                                                                                                                                                                                                                                                                                                                                                                                                                                                                                                                                                                                                                                                                                                                                                                                                                                                                                                                                                                                                                                                                                                                                                                                                                                                                                                                                                                                                                                                                                                                                                                                                                                                                                                                                                                                                                                                                                                                                                                                                                                                                                \n",
       "6      I sure would like to see a resurrection of a up dated Seahunt series with the tech they have today it would bring back the kid excitement in me.I grew up on black and white TV and Seahunt with Gunsmoke were my hero's every week.You have my vote for a comeback of a new sea hunt.We need a change of pace in TV and this would work for a world of under water adventure.Oh by the way thank you for an outlet like this to view many viewpoints about TV and the many movies.So any ole way I believe I've got what I wanna say.Would be nice to read some more plus points about sea hunt.If my rhymes would be 10 lines would you let me submit,or leave me out to be in doubt and have me to quit,If this is so then I must go so lets do it.                                                                                                                                                                                                                                                                                                                                                                                                                                                                                                                                                                                                                                                                                                                                                                                                                                                                                                                                                                                                                                                                                                                                                                                                                                                                                                                                                                                                                                                                                                                                                                                                                                                                                                                                                                                                                                                                                                                                                                                                                                                                          \n",
       "9      If you like original gut wrenching laughter you will like this movie. If you are young or old then you will love this movie, hell even my mom liked it.<br /><br />Great Camp!!!                                                                                                                                                                                                                                                                                                                                                                                                                                                                                                                                                                                                                                                                                                                                                                                                                                                                                                                                                                                                                                                                                                                                                                                                                                                                                                                                                                                                                                                                                                                                                                                                                                                                                                                                                                                                                                                                                                                                                                                                                                                                                                                                                                                                                                                                                                                                                                                                                                                                                                                                                                                                                                                \n",
       "12     So im not a big fan of Boll's work but then again not many are. I enjoyed his movie Postal (maybe im the only one). Boll apparently bought the rights to use Far Cry long ago even before the game itself was even finsished. <br /><br />People who have enjoyed killing mercs and infiltrating secret research labs located on a tropical island should be warned, that this is not Far Cry... This is something Mr Boll have schemed together along with his legion of schmucks.. Feeling loneley on the set Mr Boll invites three of his countrymen to play with. These players go by the names of Til Schweiger, Udo Kier and Ralf Moeller.<br /><br />Three names that actually have made them selfs pretty big in the movie biz. So the tale goes like this, Jack Carver played by Til Schweiger (yes Carver is German all hail the bratwurst eating dudes!!) However I find that Tils acting in this movie is pretty badass.. People have complained about how he's not really staying true to the whole Carver agenda but we only saw carver in a first person perspective so we don't really know what he looked like when he was kicking a**.. <br /><br />However, the storyline in this film is beyond demented. We see the evil mad scientist Dr. Krieger played by Udo Kier, making Genetically-Mutated-soldiers or GMS as they are called. Performing his top-secret research on an island that reminds me of \"SPOILER\" Vancouver for some reason. Thats right no palm trees here. Instead we got some nice rich lumberjack-woods. We haven't even gone FAR before I started to CRY (mehehe) I cannot go on any more.. If you wanna stay true to Bolls shenanigans then go and see this movie you will not be disappointed it delivers the true Boll experience, meaning most of it will suck.<br /><br />There are some things worth mentioning that would imply that Boll did a good work on some areas of the film such as some nice boat and fighting scenes. Until the whole cromed/albino GMS squad enters the scene and everything just makes me laugh.. The movie Far Cry reeks of scheisse (that's poop for you simpletons) from a fa,r if you wanna take a wiff go ahead.. BTW Carver gets a very annoying sidekick who makes you wanna shoot him the first three minutes he's on screen.                                                                                                                                                                                                                                                                                                                                                                                                                                                                                                             \n",
       "...                                                                                                                                                                                                                                                                                                                                                                                                                                                                                                                                                                                                                                                                                                                                                                                                                                                                                                                                                                                                                                                                                                                                                                                                                                                                                                                                                                                                                                                                                                                                                                                                                                                                                                                                                                                                                                                                                                                                                                                                                                                                                                                                                                                                                                                                                                                    ...                                                                                                                                                                                                                                                                                                                                                                                                                                                                                                             \n",
       "49990  Lame, lame, lame!!! A 90-minute cringe-fest that's 89 minutes too long. A setting ripe with atmosphere and possibility (an abandoned convent) is squandered by a stinker of a script filled with clunky, witless dialogue that's straining oh-so-hard to be hip. Mostly it's just embarrassing, and the attempts at gonzo horror fall flat (a sample of this movie's dialogue: after demonstrating her artillery, fast dolly shot to a closeup of Barbeau's vigilante character\n",
       "she: `any questions?' hyuck hyuck hyuck). Bad acting, idiotic, homophobic jokes and judging from the creature effects, it looks like the director's watched `The Evil Dead' way too many times. <br /><br />I owe my friends big time for renting this turkey and subjecting them to ninety wasted minutes they'll never get back. What a turd.                                                                                                                                                                                                                                                                                                                                                                                                                                                                                                                                                                                                                                                                                                                                                                                                                                                                                                                                                                                                                                                                                                                                                                                                                                                                                                                                                                                                                                                                                                                                                                                                                                                                                                                                                                                                                                                                                                                                                                                                 \n",
       "49991  Les Visiteurs, the first movie about the medieval time travelers was actually funny. I like Jean Reno as an actor, but there was more. There were unexpected twists, funny situations and of course plain absurdness, that would remind you a little bit of Louis de Funes.<br /><br />Now this sequel has the same characters, the same actors in great part and the same time traveling. The plot changes a little, since the characters now are supposed to be experienced time travelers. So they jump up and down in history, without paying any attention to the fact that it keeps getting absurder as you advance in the movie. The duke, Jean Reno, tries to keep the whole thing together with his playing, but his character has been emptied, so there's not a lot he can do to save the film.<br /><br />Now the duke's slave/helper, he has really all the attention. The movie is merely about him and his being clumsy / annoying / stupid or whatever he was supposed to be. Fact is; this character tries to produce the laughter from the audience, but he does not succeed. It is as if someone was telling you a really very very bad joke, you already know, but he insists on telling that joke till the end, adding details, to make your suffering a little longer.<br /><br />If you liked Les Visiteurs, do not spoil the taste in your mouth with the sequel. If you didn't like Les Visiteurs, you would never consider seeing the sequel. If you liked this sequel... well, I suppose you still need to see a lot of movies.                                                                                                                                                                                                                                                                                                                                                                                                                                                                                                                                                                                                                                                                                                                                                                                                                                                                                                                                                                                                                                                                                                                                                                                                                                                                      \n",
       "49993  Robert Colomb has two full-time jobs. He's known throughout the world as a globetrotting TV reporter. Less well-known but equally effortful are his exploits as a full-time philanderer.<br /><br />I saw `Vivre pour Vivre' dubbed in English with the title 'Live for Life.' Some life! Robert seems to always have at least three women in his life: one mistress on her way out, one on her way in, and the cheated wife at home. It helps that Robert is a glib liar. Among his most useful lies are `I'll call you tomorrow' and `My work took longer than planned.' He spends a lot of time and money on planes, trains and hotel rooms for his succession of liaisons. You wonder when this guy will get caught with his pants down.<br /><br />Some may find his life exciting, but I thought it to be tedious. His companions, including his wife, Catherine, are all attractive and desirable women. But his lifestyle is so hectic and he is so deceitful, you wonder if he's enjoying all this.<br /><br />Adding to the tedium is considerable footage that doesn't further the plot. There are extended sections with no dialogue or French-only dialogue. We see documentaries of wars, torture, and troop training interspersed with the live action. When Robert's flight returns from Africa, we wait and wait for the plane to land and taxi to the airport terminal.<br /><br />Annie Girardot is the standout performer in this film. Hers was the most interesting character and she played it to perfection. It was also nice to see Candice Bergen at the beginning of her career. I can't find fault with Yves Montand's performance of what was basically an amoral bum.<br /><br />I enjoyed some of Claude Lelouch's novel techniques. In a hotel room scene, the camera pans around the room as Robert and his mistress argue. We catch sight of them briefly during each pass around the room. In another scene set on a sleeping car of a train, Robert is lying on the upper bunk while his wife is on the lower. Robert is giving his wife some important but distressing news, but we hear only parts of it because of the clatter of the train. I sensed that his wife was also unable to absorb every word due to the shocking nature of the news. I also liked the exciting safari scenes in Africa. The cinematography of those scenes and of those in Amsterdam was superb.<br /><br />I reviewed this movie as part of a project at the Library of Congress. I've named the project FIFTY: 50 Notable Films Forgotten Within 50 Years. As best I can determine, this film, like the other forty-nine I've identified, has not been on video, telecast, or distributed in the U.S. since its original release. In my opinion, it is worthy of being made available again.<br /><br />   \n",
       "49995  I thought this movie did a down right good job. It wasn't as creative or original as the first, but who was expecting it to be. It was a whole lotta fun. the more i think about it the more i like it, and when it comes out on DVD I'm going to pay the money for it very proudly, every last cent. Sharon Stone is great, she always is, even if her movie is horrible(Catwoman), but this movie isn't, this is one of those movies that will be underrated for its lifetime, and it will probably become a classic in like 20 yrs. Don't wait for it to be a classic, watch it now and enjoy it. Don't expect a masterpiece, or something thats gripping and soul touching, just allow yourself to get out of your life and get yourself involved in theirs.<br /><br />All in all, this movie is entertaining and i recommend people who haven't seen it see it, because what the critics and box office say doesn't always count, see it for yourself, you never know, you might just enjoy it. I tip my hat to this movie<br /><br />8/10                                                                                                                                                                                                                                                                                                                                                                                                                                                                                                                                                                                                                                                                                                                                                                                                                                                                                                                                                                                                                                                                                                                                                                                                                                                                                                                                                                                                                                                                                                                                                                                                                                                                                                                                                                                \n",
       "49998  I'm going to have to disagree with the previous comment and side with Maltin on this one. This is a second rate, excessively vicious Western that creaks and groans trying to put across its central theme of the Wild West being tamed and kicked aside by the steady march of time. It would like to be in the tradition of \"Butch Cassidy and the Sundance Kid\", but lacks that film's poignancy and charm. Andrew McLaglen's direction is limp, and the final 30 minutes or so are a real botch, with some incomprehensible strategy on the part of heroes Charlton Heston and Chris Mitchum. (Someone give me a holler if you can explain to me why they set that hillside on fire.) There was something callous about the whole treatment of the rape scene, and the woman's reaction afterwards certainly did not ring true. Coburn is plenty nasty as the half breed escaped convict out for revenge, but all of his fellow escapees are underdeveloped (they're like bowling pins to be knocked down one by one as the story lurches forward). Michael Parks gives one of his typically shifty, lethargic, mumbling performances, but in this case it was appropriate as his modern style sheriff symbolizes the complacency that technological progress can bring about.                                                                                                                                                                                                                                                                                                                                                                                                                                                                                                                                                                                                                                                                                                                                                                                                                                                                                                                                                                                                                                                                                                                                                                                                                                                                                                                                                                                                                                                                                                                                              \n",
       "\n",
       "      sentiment  \\\n",
       "3      negative   \n",
       "5      positive   \n",
       "6      positive   \n",
       "9      positive   \n",
       "12     negative   \n",
       "...         ...   \n",
       "49990  negative   \n",
       "49991  negative   \n",
       "49993  negative   \n",
       "49995  positive   \n",
       "49998  negative   \n",
       "\n",
       "                                                                                                                                                                                                                                                                                                                                                                                                                                                                                                                                                                                                                                                                                                                                                                                                                                                                                                                                                                                                                                                                                                                                                                                                                                                                                                                                                                                                                                                                                                                                                                                                                                                                                                                                                                                                                       reviews_preprocessed  \n",
       "3      Basically there's family little boy (Jake) thinks there's zombie closet & parents fighting time.This movie slower soap opera... suddenly, Jake decides Rambo kill zombie.OK, you're going make film Decide thriller drama! As drama movie watchable. Parents divorcing & arguing like real life. And Jake closet totally ruins film! I expected BOOGEYMAN similar movie, instead watched drama meaningless thriller spots.3 10 just playing parents & descent dialogs. As shots Jake: just ignore them.                                                                                                                                                                                                                                                                                                                                                                                                                                                                                                                                                                                                                                                                                                                                                                                                                                                                                                                                                                                                                                                                                                                                                                                                                                                                                                                               \n",
       "5      Probably all-time favorite movie, story selflessness, sacrifice dedication noble cause, it's preachy boring. It just gets old, despite having seen 15 times 25 years. Paul Lukas' performance brings tears eyes, Bette Davis, truly sympathetic roles, delight. The kids are, grandma says, like \"dressed-up midgets\" children, makes fun watch. And mother's slow awakening what's happening world roof believable startling. If I dozen thumbs, they'd \"up\" movie.                                                                                                                                                                                                                                                                                                                                                                                                                                                                                                                                                                                                                                                                                                                                                                                                                                                                                                                                                                                                                                                                                                                                                                                                                                                                                                                                                                  \n",
       "6      I sure like resurrection dated Seahunt series tech today bring kid excitement me.I grew black white TV Seahunt Gunsmoke hero's week.You vote comeback new sea hunt.We need change pace TV work world water adventure.Oh way thank outlet like view viewpoints TV movies.So ole way I believe I've got I wanna say.Would nice read plus points sea hunt.If rhymes 10 lines let submit,or leave doubt quit,If I lets it.                                                                                                                                                                                                                                                                                                                                                                                                                                                                                                                                                                                                                                                                                                                                                                                                                                                                                                                                                                                                                                                                                                                                                                                                                                                                                                                                                                                                                \n",
       "9      If like original gut wrenching laughter like movie. If young old love movie, hell mom liked it.Great Camp!!!                                                                                                                                                                                                                                                                                                                                                                                                                                                                                                                                                                                                                                                                                                                                                                                                                                                                                                                                                                                                                                                                                                                                                                                                                                                                                                                                                                                                                                                                                                                                                                                                                                                                                                                          \n",
       "12     So im big fan Boll's work are. I enjoyed movie Postal (maybe im one). Boll apparently bought rights use Far Cry long ago game finsished. People enjoyed killing mercs infiltrating secret research labs located tropical island warned, Far Cry... This Mr Boll schemed legion schmucks.. Feeling loneley set Mr Boll invites countrymen play with. These players names Til Schweiger, Udo Kier Ralf Moeller.Three names actually selfs pretty big movie biz. So tale goes like this, Jack Carver played Til Schweiger (yes Carver German hail bratwurst eating dudes!!) However I Tils acting movie pretty badass.. People complained he's really staying true Carver agenda saw carver person perspective don't really know looked like kicking a**.. However, storyline film demented. We evil mad scientist Dr. Krieger played Udo Kier, making Genetically-Mutated-soldiers GMS called. Performing top-secret research island reminds \"SPOILER\" Vancouver reason. Thats right palm trees here. Instead got nice rich lumberjack-woods. We haven't gone FAR I started CRY (mehehe) I more.. If wanna stay true Bolls shenanigans movie disappointed delivers true Boll experience, meaning suck.There things worth mentioning imply Boll did good work areas film nice boat fighting scenes. Until cromed/albino GMS squad enters scene just makes laugh.. The movie Far Cry reeks scheisse (that's poop simpletons) fa,r wanna wiff ahead.. BTW Carver gets annoying sidekick makes wanna shoot minutes he's screen.                                                                                                                                                                                                                                                                                                             \n",
       "...                                                                                                                                                                                                                                                                                                                                                                                                                                                                                                                                                                                                                                                                                                                                                                                                                                                                                                                                                                                                                                                                                                                                                                                                                                                                                                                                                                                                                                                                                                                          ...                                                                                                                                                                                                                                                                                                             \n",
       "49990  Lame, lame, lame!!! A 90-minute cringe-fest that's 89 minutes long. A setting ripe atmosphere possibility (an abandoned convent) squandered stinker script filled clunky, witless dialogue that's straining oh-so-hard hip. Mostly it's just embarrassing, attempts gonzo horror fall flat (a sample movie's dialogue: demonstrating artillery, fast dolly shot closeup Barbeau's vigilante character she: `any questions?' hyuck hyuck hyuck). Bad acting, idiotic, homophobic jokes judging creature effects, looks like director's watched `The Evil Dead' way times. I owe friends big time renting turkey subjecting ninety wasted minutes they'll back. What turd.                                                                                                                                                                                                                                                                                                                                                                                                                                                                                                                                                                                                                                                                                                                                                                                                                                                                                                                                                                                                                                                                                                                                                              \n",
       "49991  Les Visiteurs, movie medieval time travelers actually funny. I like Jean Reno actor, more. There unexpected twists, funny situations course plain absurdness, remind little bit Louis Funes.Now sequel characters, actors great time traveling. The plot changes little, characters supposed experienced time travelers. So jump history, paying attention fact keeps getting absurder advance movie. The duke, Jean Reno, tries thing playing, character emptied, there's lot save film.Now duke's slave/helper, really attention. The movie merely clumsy / annoying / stupid supposed be. Fact is; character tries produce laughter audience, does succeed. It telling really bad joke, know, insists telling joke till end, adding details, make suffering little longer.If liked Les Visiteurs, spoil taste mouth sequel. If didn't like Les Visiteurs, consider seeing sequel. If liked sequel... well, I suppose need lot movies.                                                                                                                                                                                                                                                                                                                                                                                                                                                                                                                                                                                                                                                                                                                                                                                                                                                                                              \n",
       "49993  Robert Colomb full-time jobs. He's known world globetrotting TV reporter. Less well-known equally effortful exploits full-time philanderer.I saw `Vivre pour Vivre' dubbed English title 'Live Life.' Some life! Robert women life: mistress way out, way in, cheated wife home. It helps Robert glib liar. Among useful lies `I'll tomorrow' `My work took longer planned.' He spends lot time money planes, trains hotel rooms succession liaisons. You wonder guy caught pants down.Some life exciting, I thought tedious. His companions, including wife, Catherine, attractive desirable women. But lifestyle hectic deceitful, wonder he's enjoying this.Adding tedium considerable footage doesn't plot. There extended sections dialogue French-only dialogue. We documentaries wars, torture, troop training interspersed live action. When Robert's flight returns Africa, wait wait plane land taxi airport terminal.Annie Girardot standout performer film. Hers interesting character played perfection. It nice Candice Bergen beginning career. I can't fault Yves Montand's performance basically amoral bum.I enjoyed Claude Lelouch's novel techniques. In hotel room scene, camera pans room Robert mistress argue. We catch sight briefly pass room. In scene set sleeping car train, Robert lying upper bunk wife lower. Robert giving wife important distressing news, hear parts clatter train. I sensed wife unable absorb word shocking nature news. I liked exciting safari scenes Africa. The cinematography scenes Amsterdam superb.I reviewed movie project Library Congress. I've named project FIFTY: 50 Notable Films Forgotten Within 50 Years. As best I determine, film, like forty-nine I've identified, video, telecast, distributed U.S. original release. In opinion, worthy available again.  \n",
       "49995  I thought movie did right good job. It wasn't creative original first, expecting be. It lotta fun. think like it, comes DVD I'm going pay money proudly, cent. Sharon Stone great, is, movie horrible(Catwoman), movie isn't, movies underrated lifetime, probably classic like 20 yrs. Don't wait classic, watch enjoy it. Don't expect masterpiece, thats gripping soul touching, just allow life involved theirs.All all, movie entertaining recommend people haven't seen it, critics box office say doesn't count, yourself, know, just enjoy it. I tip hat movie8/10                                                                                                                                                                                                                                                                                                                                                                                                                                                                                                                                                                                                                                                                                                                                                                                                                                                                                                                                                                                                                                                                                                                                                                                                                                                            \n",
       "49998  I'm going disagree previous comment Maltin one. This second rate, excessively vicious Western creaks groans trying central theme Wild West tamed kicked aside steady march time. It like tradition \"Butch Cassidy Sundance Kid\", lacks film's poignancy charm. Andrew McLaglen's direction limp, final 30 minutes real botch, incomprehensible strategy heroes Charlton Heston Chris Mitchum. (Someone holler explain set hillside fire.) There callous treatment rape scene, woman's reaction certainly did ring true. Coburn plenty nasty half breed escaped convict revenge, fellow escapees underdeveloped (they're like bowling pins knocked story lurches forward). Michael Parks gives typically shifty, lethargic, mumbling performances, case appropriate modern style sheriff symbolizes complacency technological progress bring about.                                                                                                                                                                                                                                                                                                                                                                                                                                                                                                                                                                                                                                                                                                                                                                                                                                                                                                                                                                                    \n",
       "\n",
       "[25405 rows x 3 columns]"
      ]
     },
     "execution_count": 21,
     "metadata": {},
     "output_type": "execute_result"
    }
   ],
   "source": [
    "imdb_dataset_raw.loc[imdb_dataset_raw.reviews_preprocessed.str.contains('like')]"
   ]
  },
  {
   "cell_type": "markdown",
   "metadata": {},
   "source": [
    "### Negative Reviews\n",
    "\n",
    "Lets do the same process with negative reviews and find some keywords which describe bad movie reviews."
   ]
  },
  {
   "cell_type": "code",
   "execution_count": 22,
   "metadata": {},
   "outputs": [],
   "source": [
    "word_count_negative = get_word_count_list(negative_reviews, min_df=100)"
   ]
  },
  {
   "cell_type": "code",
   "execution_count": 23,
   "metadata": {},
   "outputs": [
    {
     "data": {
      "text/html": [
       "<div>\n",
       "<style scoped>\n",
       "    .dataframe tbody tr th:only-of-type {\n",
       "        vertical-align: middle;\n",
       "    }\n",
       "\n",
       "    .dataframe tbody tr th {\n",
       "        vertical-align: top;\n",
       "    }\n",
       "\n",
       "    .dataframe thead th {\n",
       "        text-align: right;\n",
       "    }\n",
       "</style>\n",
       "<table border=\"1\" class=\"dataframe\">\n",
       "  <thead>\n",
       "    <tr style=\"text-align: right;\">\n",
       "      <th></th>\n",
       "      <th>count</th>\n",
       "    </tr>\n",
       "  </thead>\n",
       "  <tbody>\n",
       "    <tr>\n",
       "      <th>count</th>\n",
       "      <td>3356.000000</td>\n",
       "    </tr>\n",
       "    <tr>\n",
       "      <th>mean</th>\n",
       "      <td>593.115018</td>\n",
       "    </tr>\n",
       "    <tr>\n",
       "      <th>std</th>\n",
       "      <td>1543.380762</td>\n",
       "    </tr>\n",
       "    <tr>\n",
       "      <th>min</th>\n",
       "      <td>100.000000</td>\n",
       "    </tr>\n",
       "    <tr>\n",
       "      <th>25%</th>\n",
       "      <td>160.000000</td>\n",
       "    </tr>\n",
       "    <tr>\n",
       "      <th>50%</th>\n",
       "      <td>252.000000</td>\n",
       "    </tr>\n",
       "    <tr>\n",
       "      <th>75%</th>\n",
       "      <td>525.000000</td>\n",
       "    </tr>\n",
       "    <tr>\n",
       "      <th>max</th>\n",
       "      <td>50090.000000</td>\n",
       "    </tr>\n",
       "  </tbody>\n",
       "</table>\n",
       "</div>"
      ],
      "text/plain": [
       "              count\n",
       "count  3356.000000 \n",
       "mean   593.115018  \n",
       "std    1543.380762 \n",
       "min    100.000000  \n",
       "25%    160.000000  \n",
       "50%    252.000000  \n",
       "75%    525.000000  \n",
       "max    50090.000000"
      ]
     },
     "execution_count": 23,
     "metadata": {},
     "output_type": "execute_result"
    }
   ],
   "source": [
    "word_count_negative.describe()"
   ]
  },
  {
   "cell_type": "code",
   "execution_count": 24,
   "metadata": {},
   "outputs": [],
   "source": [
    "# All words in quantile 95 and higher\n",
    "q95_negative_words = word_count_negative.loc[\n",
    "    word_count_negative['count'] > word_count_negative.quantile(0.95)['count']]"
   ]
  },
  {
   "cell_type": "code",
   "execution_count": 25,
   "metadata": {},
   "outputs": [
    {
     "data": {
      "text/plain": [
       "array(['movie', 'film', 'like', 'just', 'good', 'bad', 'time', 'really',\n",
       "       'don', 'story', 'people', 'make', 'movies', 'plot', 'acting',\n",
       "       'way', 'characters', 'watch', 'think', 'did', 'character', 'know',\n",
       "       'better', 'seen', 'films', 'little', 'say', 'scene', 'thing',\n",
       "       'end', 'does', 'scenes', 've', 'didn', 'watching', 'great',\n",
       "       'doesn', 'actually', 'man', 'actors', 'worst', 'director', 'life',\n",
       "       'funny', 'going', 'look', 'love', 'real', 'minutes', 'old',\n",
       "       'pretty', 'horror', 'want', 'best', 'script', 'guy', 'work', '10',\n",
       "       'got', 'lot', 'isn', 'things', 'original', 'fact', 'thought',\n",
       "       'makes', 'point', 'new', 'big', 'long', 'years', 'gets', 'far',\n",
       "       'interesting', 'cast', 'making', 'right', 'action', 'come',\n",
       "       'awful', 'quite', 'money', 'll', 'kind', 'poor', 'comedy',\n",
       "       'boring', 'trying', 'reason', 'stupid', 'probably', 'looking',\n",
       "       'looks', 'instead', 'terrible', 'away', 'maybe', 'believe', 'saw',\n",
       "       'girl', 'wasn', 'effects', 'tv', 'sure', 'times', 'half', 'let',\n",
       "       'hard', 'world', 'book', 'feel', 'woman', 'bit', 'idea', 'waste',\n",
       "       'young', 'music', 'sense', 'series', 'having', 'budget', 'goes',\n",
       "       'worse', 'main', 'role', 'screen', 'completely', 'said', 'ending',\n",
       "       'low', 'comes', 'left', 'special', 'actor', 'set', 'place',\n",
       "       'watched', 'shot', 'wrong', 'audience', 'day', 'supposed',\n",
       "       'course', 'oh', 'mean', 'high', 'simply', 'family', 'camera',\n",
       "       'horrible', 'worth', 'dead', 'couldn', 'sex', 'read', 'fun',\n",
       "       'black', 'house', 'night', 'rest', 'played', 'try', 'year',\n",
       "       'american', 'line', 'video', 'used', 'production'], dtype=object)"
      ]
     },
     "execution_count": 25,
     "metadata": {},
     "output_type": "execute_result"
    }
   ],
   "source": [
    "q95_negative_words.index.values"
   ]
  },
  {
   "cell_type": "code",
   "execution_count": 26,
   "metadata": {},
   "outputs": [],
   "source": [
    "negative_keywords = [\n",
    "    'bad', 'worst','horror','awful','poor','boring','stupid','terrible','waste','worse','horrible'\n",
    "]"
   ]
  },
  {
   "cell_type": "markdown",
   "metadata": {},
   "source": [
    "## Labeling Functions\n",
    "\n",
    "Now we start to build labeling functions with Snorkel with these keywords and check the coverage.\n",
    "\n",
    "This is an iterative process of course so we surely have to add more keywords and regulary expressions ;-) "
   ]
  },
  {
   "cell_type": "code",
   "execution_count": 27,
   "metadata": {},
   "outputs": [],
   "source": [
    "def keyword_lookup(x, keyword, label):\n",
    "    return label if keyword in x[COLUMN_WITH_TEXT].lower() else ABSTAIN\n"
   ]
  },
  {
   "cell_type": "code",
   "execution_count": 28,
   "metadata": {},
   "outputs": [],
   "source": [
    "def make_keyword_lf(keyword: str, label: str) -> LabelingFunction:\n",
    "    \"\"\"\n",
    "    Creates labeling function based on keyword.\n",
    "    Args:\n",
    "        keywords:\n",
    "        label:\n",
    "\n",
    "    Returns:\n",
    "\n",
    "    \"\"\"\n",
    "    return LabelingFunction(\n",
    "        name=f\"keyword_{keyword}\",\n",
    "        f=keyword_lookup,\n",
    "        resources=dict(keyword=keyword, label=label),\n",
    "    )"
   ]
  },
  {
   "cell_type": "code",
   "execution_count": 29,
   "metadata": {},
   "outputs": [],
   "source": [
    "def create_labeling_functions(keywords: pd.DataFrame) -> np.ndarray:\n",
    "    \"\"\"\n",
    "    Create Labeling Functions based on the columns keyword and regex. Appends column lf to df.\n",
    "\n",
    "    Args:\n",
    "        keywords: DataFrame with processed keywords\n",
    "\n",
    "    Returns:\n",
    "        All labeling functions. 1d Array with shape: (number_of_lfs x 1)\n",
    "    \"\"\"\n",
    "    keywords = keywords.assign(lf=keywords.progress_apply(\n",
    "        lambda x:make_keyword_lf(x.keyword, x.label_id), axis=1\n",
    "    ))\n",
    "    lfs = keywords.lf.values\n",
    "    return lfs"
   ]
  },
  {
   "cell_type": "code",
   "execution_count": 30,
   "metadata": {},
   "outputs": [],
   "source": [
    "def make_keyword_df(positive_keywords: [str], negative_keywords: [str]) -> pd.DataFrame:\n",
    "    positive = pd.DataFrame(\n",
    "        pd.Series({x: 'positive' for (x) in positive_keywords}, name=\"label\")).reset_index().rename(columns={\"index\":\"keyword\"})\n",
    "    \n",
    "    negative = pd.DataFrame(\n",
    "        pd.Series({x: 'negative' for (x) in negative_keywords}, name=\"label\")).reset_index().rename(columns={\"index\":\"keyword\"})\n",
    "    keywords = positive.append(negative)\n",
    "    \n",
    "    assert len(positive) + len(negative) == len(keywords), \"Shapes doesn't match\"\n",
    "    \n",
    "    keywords.loc[keywords.label == 'positive', 'label_id'] = int(POSITIVE)\n",
    "    keywords.loc[keywords.label == 'negative', 'label_id'] = int(NEGATIVE)\n",
    "    keywords.reset_index(inplace=True, drop=True)\n",
    "    return keywords\n"
   ]
  },
  {
   "cell_type": "code",
   "execution_count": 31,
   "metadata": {},
   "outputs": [],
   "source": [
    "keywords = make_keyword_df(positive_keywords, negative_keywords)"
   ]
  },
  {
   "cell_type": "code",
   "execution_count": 32,
   "metadata": {},
   "outputs": [
    {
     "data": {
      "text/html": [
       "<div>\n",
       "<style scoped>\n",
       "    .dataframe tbody tr th:only-of-type {\n",
       "        vertical-align: middle;\n",
       "    }\n",
       "\n",
       "    .dataframe tbody tr th {\n",
       "        vertical-align: top;\n",
       "    }\n",
       "\n",
       "    .dataframe thead th {\n",
       "        text-align: right;\n",
       "    }\n",
       "</style>\n",
       "<table border=\"1\" class=\"dataframe\">\n",
       "  <thead>\n",
       "    <tr style=\"text-align: right;\">\n",
       "      <th></th>\n",
       "      <th>keyword</th>\n",
       "      <th>label</th>\n",
       "      <th>label_id</th>\n",
       "    </tr>\n",
       "  </thead>\n",
       "  <tbody>\n",
       "    <tr>\n",
       "      <th>0</th>\n",
       "      <td>like</td>\n",
       "      <td>positive</td>\n",
       "      <td>1.0</td>\n",
       "    </tr>\n",
       "    <tr>\n",
       "      <th>1</th>\n",
       "      <td>good</td>\n",
       "      <td>positive</td>\n",
       "      <td>1.0</td>\n",
       "    </tr>\n",
       "    <tr>\n",
       "      <th>2</th>\n",
       "      <td>great</td>\n",
       "      <td>positive</td>\n",
       "      <td>1.0</td>\n",
       "    </tr>\n",
       "    <tr>\n",
       "      <th>3</th>\n",
       "      <td>love</td>\n",
       "      <td>positive</td>\n",
       "      <td>1.0</td>\n",
       "    </tr>\n",
       "    <tr>\n",
       "      <th>4</th>\n",
       "      <td>best</td>\n",
       "      <td>positive</td>\n",
       "      <td>1.0</td>\n",
       "    </tr>\n",
       "    <tr>\n",
       "      <th>5</th>\n",
       "      <td>funny</td>\n",
       "      <td>positive</td>\n",
       "      <td>1.0</td>\n",
       "    </tr>\n",
       "    <tr>\n",
       "      <th>6</th>\n",
       "      <td>excellent</td>\n",
       "      <td>positive</td>\n",
       "      <td>1.0</td>\n",
       "    </tr>\n",
       "    <tr>\n",
       "      <th>7</th>\n",
       "      <td>fun</td>\n",
       "      <td>positive</td>\n",
       "      <td>1.0</td>\n",
       "    </tr>\n",
       "    <tr>\n",
       "      <th>8</th>\n",
       "      <td>beautiful</td>\n",
       "      <td>positive</td>\n",
       "      <td>1.0</td>\n",
       "    </tr>\n",
       "    <tr>\n",
       "      <th>9</th>\n",
       "      <td>interesting</td>\n",
       "      <td>positive</td>\n",
       "      <td>1.0</td>\n",
       "    </tr>\n",
       "    <tr>\n",
       "      <th>10</th>\n",
       "      <td>wonderful</td>\n",
       "      <td>positive</td>\n",
       "      <td>1.0</td>\n",
       "    </tr>\n",
       "    <tr>\n",
       "      <th>11</th>\n",
       "      <td>original</td>\n",
       "      <td>positive</td>\n",
       "      <td>1.0</td>\n",
       "    </tr>\n",
       "    <tr>\n",
       "      <th>12</th>\n",
       "      <td>perfect</td>\n",
       "      <td>positive</td>\n",
       "      <td>1.0</td>\n",
       "    </tr>\n",
       "    <tr>\n",
       "      <th>13</th>\n",
       "      <td>classic</td>\n",
       "      <td>positive</td>\n",
       "      <td>1.0</td>\n",
       "    </tr>\n",
       "    <tr>\n",
       "      <th>14</th>\n",
       "      <td>loved</td>\n",
       "      <td>positive</td>\n",
       "      <td>1.0</td>\n",
       "    </tr>\n",
       "    <tr>\n",
       "      <th>15</th>\n",
       "      <td>recommend</td>\n",
       "      <td>positive</td>\n",
       "      <td>1.0</td>\n",
       "    </tr>\n",
       "    <tr>\n",
       "      <th>16</th>\n",
       "      <td>amazing</td>\n",
       "      <td>positive</td>\n",
       "      <td>1.0</td>\n",
       "    </tr>\n",
       "    <tr>\n",
       "      <th>17</th>\n",
       "      <td>favorite</td>\n",
       "      <td>positive</td>\n",
       "      <td>1.0</td>\n",
       "    </tr>\n",
       "    <tr>\n",
       "      <th>18</th>\n",
       "      <td>bad</td>\n",
       "      <td>negative</td>\n",
       "      <td>0.0</td>\n",
       "    </tr>\n",
       "    <tr>\n",
       "      <th>19</th>\n",
       "      <td>worst</td>\n",
       "      <td>negative</td>\n",
       "      <td>0.0</td>\n",
       "    </tr>\n",
       "    <tr>\n",
       "      <th>20</th>\n",
       "      <td>horror</td>\n",
       "      <td>negative</td>\n",
       "      <td>0.0</td>\n",
       "    </tr>\n",
       "    <tr>\n",
       "      <th>21</th>\n",
       "      <td>awful</td>\n",
       "      <td>negative</td>\n",
       "      <td>0.0</td>\n",
       "    </tr>\n",
       "    <tr>\n",
       "      <th>22</th>\n",
       "      <td>poor</td>\n",
       "      <td>negative</td>\n",
       "      <td>0.0</td>\n",
       "    </tr>\n",
       "    <tr>\n",
       "      <th>23</th>\n",
       "      <td>boring</td>\n",
       "      <td>negative</td>\n",
       "      <td>0.0</td>\n",
       "    </tr>\n",
       "    <tr>\n",
       "      <th>24</th>\n",
       "      <td>stupid</td>\n",
       "      <td>negative</td>\n",
       "      <td>0.0</td>\n",
       "    </tr>\n",
       "    <tr>\n",
       "      <th>25</th>\n",
       "      <td>terrible</td>\n",
       "      <td>negative</td>\n",
       "      <td>0.0</td>\n",
       "    </tr>\n",
       "    <tr>\n",
       "      <th>26</th>\n",
       "      <td>waste</td>\n",
       "      <td>negative</td>\n",
       "      <td>0.0</td>\n",
       "    </tr>\n",
       "    <tr>\n",
       "      <th>27</th>\n",
       "      <td>worse</td>\n",
       "      <td>negative</td>\n",
       "      <td>0.0</td>\n",
       "    </tr>\n",
       "    <tr>\n",
       "      <th>28</th>\n",
       "      <td>horrible</td>\n",
       "      <td>negative</td>\n",
       "      <td>0.0</td>\n",
       "    </tr>\n",
       "  </tbody>\n",
       "</table>\n",
       "</div>"
      ],
      "text/plain": [
       "        keyword     label  label_id\n",
       "0   like         positive  1.0     \n",
       "1   good         positive  1.0     \n",
       "2   great        positive  1.0     \n",
       "3   love         positive  1.0     \n",
       "4   best         positive  1.0     \n",
       "5   funny        positive  1.0     \n",
       "6   excellent    positive  1.0     \n",
       "7   fun          positive  1.0     \n",
       "8   beautiful    positive  1.0     \n",
       "9   interesting  positive  1.0     \n",
       "10  wonderful    positive  1.0     \n",
       "11  original     positive  1.0     \n",
       "12  perfect      positive  1.0     \n",
       "13  classic      positive  1.0     \n",
       "14  loved        positive  1.0     \n",
       "15  recommend    positive  1.0     \n",
       "16  amazing      positive  1.0     \n",
       "17  favorite     positive  1.0     \n",
       "18  bad          negative  0.0     \n",
       "19  worst        negative  0.0     \n",
       "20  horror       negative  0.0     \n",
       "21  awful        negative  0.0     \n",
       "22  poor         negative  0.0     \n",
       "23  boring       negative  0.0     \n",
       "24  stupid       negative  0.0     \n",
       "25  terrible     negative  0.0     \n",
       "26  waste        negative  0.0     \n",
       "27  worse        negative  0.0     \n",
       "28  horrible     negative  0.0     "
      ]
     },
     "execution_count": 32,
     "metadata": {},
     "output_type": "execute_result"
    }
   ],
   "source": [
    "keywords"
   ]
  },
  {
   "cell_type": "code",
   "execution_count": 33,
   "metadata": {},
   "outputs": [
    {
     "name": "stderr",
     "output_type": "stream",
     "text": [
      "100%|██████████| 29/29 [00:00<00:00, 6498.97it/s]\n"
     ]
    }
   ],
   "source": [
    "labeling_functions = create_labeling_functions(keywords)"
   ]
  },
  {
   "cell_type": "code",
   "execution_count": 34,
   "metadata": {},
   "outputs": [
    {
     "data": {
      "text/plain": [
       "array([LabelingFunction keyword_like, Preprocessors: [],\n",
       "       LabelingFunction keyword_good, Preprocessors: [],\n",
       "       LabelingFunction keyword_great, Preprocessors: [],\n",
       "       LabelingFunction keyword_love, Preprocessors: [],\n",
       "       LabelingFunction keyword_best, Preprocessors: [],\n",
       "       LabelingFunction keyword_funny, Preprocessors: [],\n",
       "       LabelingFunction keyword_excellent, Preprocessors: [],\n",
       "       LabelingFunction keyword_fun, Preprocessors: [],\n",
       "       LabelingFunction keyword_beautiful, Preprocessors: [],\n",
       "       LabelingFunction keyword_interesting, Preprocessors: [],\n",
       "       LabelingFunction keyword_wonderful, Preprocessors: [],\n",
       "       LabelingFunction keyword_original, Preprocessors: [],\n",
       "       LabelingFunction keyword_perfect, Preprocessors: [],\n",
       "       LabelingFunction keyword_classic, Preprocessors: [],\n",
       "       LabelingFunction keyword_loved, Preprocessors: [],\n",
       "       LabelingFunction keyword_recommend, Preprocessors: [],\n",
       "       LabelingFunction keyword_amazing, Preprocessors: [],\n",
       "       LabelingFunction keyword_favorite, Preprocessors: [],\n",
       "       LabelingFunction keyword_bad, Preprocessors: [],\n",
       "       LabelingFunction keyword_worst, Preprocessors: [],\n",
       "       LabelingFunction keyword_horror, Preprocessors: [],\n",
       "       LabelingFunction keyword_awful, Preprocessors: [],\n",
       "       LabelingFunction keyword_poor, Preprocessors: [],\n",
       "       LabelingFunction keyword_boring, Preprocessors: [],\n",
       "       LabelingFunction keyword_stupid, Preprocessors: [],\n",
       "       LabelingFunction keyword_terrible, Preprocessors: [],\n",
       "       LabelingFunction keyword_waste, Preprocessors: [],\n",
       "       LabelingFunction keyword_worse, Preprocessors: [],\n",
       "       LabelingFunction keyword_horrible, Preprocessors: []], dtype=object)"
      ]
     },
     "execution_count": 34,
     "metadata": {},
     "output_type": "execute_result"
    }
   ],
   "source": [
    "labeling_functions"
   ]
  },
  {
   "cell_type": "markdown",
   "metadata": {},
   "source": [
    "### Apply Labeling Functions\n",
    "\n",
    "Now lets apply all labeling functions on our reviews and check some statistics."
   ]
  },
  {
   "cell_type": "code",
   "execution_count": 51,
   "metadata": {},
   "outputs": [
    {
     "name": "stderr",
     "output_type": "stream",
     "text": [
      "/Users/sandro/.pyenv/versions/3.7.1/envs/imdbTut/lib/python3.7/site-packages/tqdm/std.py:703: FutureWarning: The Panel class is removed from pandas. Accessing it from the top-level namespace will also be removed in the next version\n",
      "  from pandas import Panel\n",
      "100%|██████████| 50000/50000 [00:08<00:00, 5683.77it/s]\n"
     ]
    }
   ],
   "source": [
    "applier = PandasLFApplier(lfs=labeling_functions)\n",
    "applied_lfs = applier.apply(df=imdb_dataset_raw)"
   ]
  },
  {
   "cell_type": "code",
   "execution_count": 52,
   "metadata": {},
   "outputs": [
    {
     "data": {
      "text/plain": [
       "array([[-1, -1, -1, ..., -1, -1, -1],\n",
       "       [-1, -1,  1, ..., -1, -1, -1],\n",
       "       [-1, -1,  1, ..., -1, -1, -1],\n",
       "       ...,\n",
       "       [-1,  1, -1, ..., -1, -1, -1],\n",
       "       [ 1, -1, -1, ..., -1, -1, -1],\n",
       "       [-1,  1, -1, ..., -1, -1, -1]])"
      ]
     },
     "execution_count": 52,
     "metadata": {},
     "output_type": "execute_result"
    }
   ],
   "source": [
    "applied_lfs"
   ]
  },
  {
   "cell_type": "markdown",
   "metadata": {},
   "source": [
    "Now we have a matrix with all labeling functions applied. This matrix has the shape $(instances \\times labeling functions)$"
   ]
  },
  {
   "cell_type": "code",
   "execution_count": 37,
   "metadata": {},
   "outputs": [
    {
     "name": "stdout",
     "output_type": "stream",
     "text": [
      "Shape of applied labeling functions:  (50000, 29)\n",
      "Number of reviews 50000\n",
      "Number of labeling functions 29\n"
     ]
    }
   ],
   "source": [
    "print(\"Shape of applied labeling functions: \", applied_lfs.shape)\n",
    "print(\"Number of reviews\", len(imdb_dataset_raw))\n",
    "print(\"Number of labeling functions\", len(labeling_functions))"
   ]
  },
  {
   "cell_type": "markdown",
   "metadata": {},
   "source": [
    "### Analysis\n",
    "\n",
    "Now we can analyse some basic stats about our labeling functions. The main figures are:\n",
    "\n",
    "- Coverage: How many labeling functions match at all\n",
    "- Overlaps: How many labeling functions overlap with each other (e.g. awesome and amazing)\n",
    "- Conflicts: How many labeling functions overlap and have different labels (e.g. awesome and bad)\n",
    "- Correct: Correct LFs\n",
    "- Incorrect: Incorrect Lfs"
   ]
  },
  {
   "cell_type": "code",
   "execution_count": 38,
   "metadata": {},
   "outputs": [
    {
     "data": {
      "text/html": [
       "<div>\n",
       "<style scoped>\n",
       "    .dataframe tbody tr th:only-of-type {\n",
       "        vertical-align: middle;\n",
       "    }\n",
       "\n",
       "    .dataframe tbody tr th {\n",
       "        vertical-align: top;\n",
       "    }\n",
       "\n",
       "    .dataframe thead th {\n",
       "        text-align: right;\n",
       "    }\n",
       "</style>\n",
       "<table border=\"1\" class=\"dataframe\">\n",
       "  <thead>\n",
       "    <tr style=\"text-align: right;\">\n",
       "      <th></th>\n",
       "      <th>j</th>\n",
       "      <th>Polarity</th>\n",
       "      <th>Coverage</th>\n",
       "      <th>Overlaps</th>\n",
       "      <th>Conflicts</th>\n",
       "    </tr>\n",
       "  </thead>\n",
       "  <tbody>\n",
       "    <tr>\n",
       "      <th>keyword_like</th>\n",
       "      <td>0</td>\n",
       "      <td>[1]</td>\n",
       "      <td>0.51858</td>\n",
       "      <td>0.49426</td>\n",
       "      <td>0.29586</td>\n",
       "    </tr>\n",
       "    <tr>\n",
       "      <th>keyword_good</th>\n",
       "      <td>1</td>\n",
       "      <td>[1]</td>\n",
       "      <td>0.38944</td>\n",
       "      <td>0.37670</td>\n",
       "      <td>0.22624</td>\n",
       "    </tr>\n",
       "    <tr>\n",
       "      <th>keyword_great</th>\n",
       "      <td>2</td>\n",
       "      <td>[1]</td>\n",
       "      <td>0.27614</td>\n",
       "      <td>0.26600</td>\n",
       "      <td>0.12862</td>\n",
       "    </tr>\n",
       "    <tr>\n",
       "      <th>keyword_love</th>\n",
       "      <td>3</td>\n",
       "      <td>[1]</td>\n",
       "      <td>0.25364</td>\n",
       "      <td>0.24712</td>\n",
       "      <td>0.11644</td>\n",
       "    </tr>\n",
       "    <tr>\n",
       "      <th>keyword_best</th>\n",
       "      <td>4</td>\n",
       "      <td>[1]</td>\n",
       "      <td>0.19712</td>\n",
       "      <td>0.19100</td>\n",
       "      <td>0.09734</td>\n",
       "    </tr>\n",
       "    <tr>\n",
       "      <th>keyword_funny</th>\n",
       "      <td>5</td>\n",
       "      <td>[1]</td>\n",
       "      <td>0.13242</td>\n",
       "      <td>0.13242</td>\n",
       "      <td>0.07612</td>\n",
       "    </tr>\n",
       "    <tr>\n",
       "      <th>keyword_excellent</th>\n",
       "      <td>6</td>\n",
       "      <td>[1]</td>\n",
       "      <td>0.07250</td>\n",
       "      <td>0.06944</td>\n",
       "      <td>0.02780</td>\n",
       "    </tr>\n",
       "    <tr>\n",
       "      <th>keyword_fun</th>\n",
       "      <td>7</td>\n",
       "      <td>[1]</td>\n",
       "      <td>0.23214</td>\n",
       "      <td>0.22890</td>\n",
       "      <td>0.12876</td>\n",
       "    </tr>\n",
       "    <tr>\n",
       "      <th>keyword_beautiful</th>\n",
       "      <td>8</td>\n",
       "      <td>[1]</td>\n",
       "      <td>0.08422</td>\n",
       "      <td>0.08150</td>\n",
       "      <td>0.03512</td>\n",
       "    </tr>\n",
       "    <tr>\n",
       "      <th>keyword_interesting</th>\n",
       "      <td>9</td>\n",
       "      <td>[1]</td>\n",
       "      <td>0.11144</td>\n",
       "      <td>0.10734</td>\n",
       "      <td>0.06326</td>\n",
       "    </tr>\n",
       "    <tr>\n",
       "      <th>keyword_wonderful</th>\n",
       "      <td>10</td>\n",
       "      <td>[1]</td>\n",
       "      <td>0.06498</td>\n",
       "      <td>0.06296</td>\n",
       "      <td>0.02336</td>\n",
       "    </tr>\n",
       "    <tr>\n",
       "      <th>keyword_original</th>\n",
       "      <td>11</td>\n",
       "      <td>[1]</td>\n",
       "      <td>0.10622</td>\n",
       "      <td>0.10346</td>\n",
       "      <td>0.06248</td>\n",
       "    </tr>\n",
       "    <tr>\n",
       "      <th>keyword_perfect</th>\n",
       "      <td>12</td>\n",
       "      <td>[1]</td>\n",
       "      <td>0.07940</td>\n",
       "      <td>0.07790</td>\n",
       "      <td>0.03502</td>\n",
       "    </tr>\n",
       "    <tr>\n",
       "      <th>keyword_classic</th>\n",
       "      <td>13</td>\n",
       "      <td>[1]</td>\n",
       "      <td>0.07310</td>\n",
       "      <td>0.07134</td>\n",
       "      <td>0.03650</td>\n",
       "    </tr>\n",
       "    <tr>\n",
       "      <th>keyword_loved</th>\n",
       "      <td>14</td>\n",
       "      <td>[1]</td>\n",
       "      <td>0.05698</td>\n",
       "      <td>0.05698</td>\n",
       "      <td>0.02286</td>\n",
       "    </tr>\n",
       "    <tr>\n",
       "      <th>keyword_recommend</th>\n",
       "      <td>15</td>\n",
       "      <td>[1]</td>\n",
       "      <td>0.08912</td>\n",
       "      <td>0.08606</td>\n",
       "      <td>0.04212</td>\n",
       "    </tr>\n",
       "    <tr>\n",
       "      <th>keyword_amazing</th>\n",
       "      <td>16</td>\n",
       "      <td>[1]</td>\n",
       "      <td>0.04958</td>\n",
       "      <td>0.04808</td>\n",
       "      <td>0.02112</td>\n",
       "    </tr>\n",
       "    <tr>\n",
       "      <th>keyword_favorite</th>\n",
       "      <td>17</td>\n",
       "      <td>[1]</td>\n",
       "      <td>0.04884</td>\n",
       "      <td>0.04788</td>\n",
       "      <td>0.02066</td>\n",
       "    </tr>\n",
       "    <tr>\n",
       "      <th>keyword_bad</th>\n",
       "      <td>18</td>\n",
       "      <td>[0]</td>\n",
       "      <td>0.25408</td>\n",
       "      <td>0.24728</td>\n",
       "      <td>0.23656</td>\n",
       "    </tr>\n",
       "    <tr>\n",
       "      <th>keyword_worst</th>\n",
       "      <td>19</td>\n",
       "      <td>[0]</td>\n",
       "      <td>0.08868</td>\n",
       "      <td>0.08670</td>\n",
       "      <td>0.07932</td>\n",
       "    </tr>\n",
       "    <tr>\n",
       "      <th>keyword_horror</th>\n",
       "      <td>20</td>\n",
       "      <td>[0]</td>\n",
       "      <td>0.08802</td>\n",
       "      <td>0.08640</td>\n",
       "      <td>0.08338</td>\n",
       "    </tr>\n",
       "    <tr>\n",
       "      <th>keyword_awful</th>\n",
       "      <td>21</td>\n",
       "      <td>[0]</td>\n",
       "      <td>0.06238</td>\n",
       "      <td>0.06126</td>\n",
       "      <td>0.05702</td>\n",
       "    </tr>\n",
       "    <tr>\n",
       "      <th>keyword_poor</th>\n",
       "      <td>22</td>\n",
       "      <td>[0]</td>\n",
       "      <td>0.08794</td>\n",
       "      <td>0.08526</td>\n",
       "      <td>0.08044</td>\n",
       "    </tr>\n",
       "    <tr>\n",
       "      <th>keyword_boring</th>\n",
       "      <td>23</td>\n",
       "      <td>[0]</td>\n",
       "      <td>0.06232</td>\n",
       "      <td>0.06066</td>\n",
       "      <td>0.05834</td>\n",
       "    </tr>\n",
       "    <tr>\n",
       "      <th>keyword_stupid</th>\n",
       "      <td>24</td>\n",
       "      <td>[0]</td>\n",
       "      <td>0.06298</td>\n",
       "      <td>0.06164</td>\n",
       "      <td>0.05832</td>\n",
       "    </tr>\n",
       "    <tr>\n",
       "      <th>keyword_terrible</th>\n",
       "      <td>25</td>\n",
       "      <td>[0]</td>\n",
       "      <td>0.05414</td>\n",
       "      <td>0.05296</td>\n",
       "      <td>0.04948</td>\n",
       "    </tr>\n",
       "    <tr>\n",
       "      <th>keyword_waste</th>\n",
       "      <td>26</td>\n",
       "      <td>[0]</td>\n",
       "      <td>0.07312</td>\n",
       "      <td>0.07094</td>\n",
       "      <td>0.06570</td>\n",
       "    </tr>\n",
       "    <tr>\n",
       "      <th>keyword_worse</th>\n",
       "      <td>27</td>\n",
       "      <td>[0]</td>\n",
       "      <td>0.05200</td>\n",
       "      <td>0.05112</td>\n",
       "      <td>0.04736</td>\n",
       "    </tr>\n",
       "    <tr>\n",
       "      <th>keyword_horrible</th>\n",
       "      <td>28</td>\n",
       "      <td>[0]</td>\n",
       "      <td>0.04210</td>\n",
       "      <td>0.04136</td>\n",
       "      <td>0.03854</td>\n",
       "    </tr>\n",
       "  </tbody>\n",
       "</table>\n",
       "</div>"
      ],
      "text/plain": [
       "                      j Polarity  Coverage  Overlaps  Conflicts\n",
       "keyword_like         0   [1]      0.51858   0.49426   0.29586  \n",
       "keyword_good         1   [1]      0.38944   0.37670   0.22624  \n",
       "keyword_great        2   [1]      0.27614   0.26600   0.12862  \n",
       "keyword_love         3   [1]      0.25364   0.24712   0.11644  \n",
       "keyword_best         4   [1]      0.19712   0.19100   0.09734  \n",
       "keyword_funny        5   [1]      0.13242   0.13242   0.07612  \n",
       "keyword_excellent    6   [1]      0.07250   0.06944   0.02780  \n",
       "keyword_fun          7   [1]      0.23214   0.22890   0.12876  \n",
       "keyword_beautiful    8   [1]      0.08422   0.08150   0.03512  \n",
       "keyword_interesting  9   [1]      0.11144   0.10734   0.06326  \n",
       "keyword_wonderful    10  [1]      0.06498   0.06296   0.02336  \n",
       "keyword_original     11  [1]      0.10622   0.10346   0.06248  \n",
       "keyword_perfect      12  [1]      0.07940   0.07790   0.03502  \n",
       "keyword_classic      13  [1]      0.07310   0.07134   0.03650  \n",
       "keyword_loved        14  [1]      0.05698   0.05698   0.02286  \n",
       "keyword_recommend    15  [1]      0.08912   0.08606   0.04212  \n",
       "keyword_amazing      16  [1]      0.04958   0.04808   0.02112  \n",
       "keyword_favorite     17  [1]      0.04884   0.04788   0.02066  \n",
       "keyword_bad          18  [0]      0.25408   0.24728   0.23656  \n",
       "keyword_worst        19  [0]      0.08868   0.08670   0.07932  \n",
       "keyword_horror       20  [0]      0.08802   0.08640   0.08338  \n",
       "keyword_awful        21  [0]      0.06238   0.06126   0.05702  \n",
       "keyword_poor         22  [0]      0.08794   0.08526   0.08044  \n",
       "keyword_boring       23  [0]      0.06232   0.06066   0.05834  \n",
       "keyword_stupid       24  [0]      0.06298   0.06164   0.05832  \n",
       "keyword_terrible     25  [0]      0.05414   0.05296   0.04948  \n",
       "keyword_waste        26  [0]      0.07312   0.07094   0.06570  \n",
       "keyword_worse        27  [0]      0.05200   0.05112   0.04736  \n",
       "keyword_horrible     28  [0]      0.04210   0.04136   0.03854  "
      ]
     },
     "execution_count": 38,
     "metadata": {},
     "output_type": "execute_result"
    }
   ],
   "source": [
    "LFAnalysis(L=applied_lfs, lfs=labeling_functions).lf_summary()"
   ]
  },
  {
   "cell_type": "code",
   "execution_count": 39,
   "metadata": {},
   "outputs": [],
   "source": [
    "lf_analysis = LFAnalysis(L=applied_lfs, lfs=labeling_functions).lf_summary()"
   ]
  },
  {
   "cell_type": "code",
   "execution_count": 40,
   "metadata": {},
   "outputs": [
    {
     "data": {
      "text/html": [
       "<div>\n",
       "<style scoped>\n",
       "    .dataframe tbody tr th:only-of-type {\n",
       "        vertical-align: middle;\n",
       "    }\n",
       "\n",
       "    .dataframe tbody tr th {\n",
       "        vertical-align: top;\n",
       "    }\n",
       "\n",
       "    .dataframe thead th {\n",
       "        text-align: right;\n",
       "    }\n",
       "</style>\n",
       "<table border=\"1\" class=\"dataframe\">\n",
       "  <thead>\n",
       "    <tr style=\"text-align: right;\">\n",
       "      <th></th>\n",
       "      <th>0</th>\n",
       "    </tr>\n",
       "  </thead>\n",
       "  <tbody>\n",
       "    <tr>\n",
       "      <th>j</th>\n",
       "      <td>14.000000</td>\n",
       "    </tr>\n",
       "    <tr>\n",
       "      <th>Coverage</th>\n",
       "      <td>0.129780</td>\n",
       "    </tr>\n",
       "    <tr>\n",
       "      <th>Overlaps</th>\n",
       "      <td>0.126032</td>\n",
       "    </tr>\n",
       "    <tr>\n",
       "      <th>Conflicts</th>\n",
       "      <td>0.079798</td>\n",
       "    </tr>\n",
       "  </tbody>\n",
       "</table>\n",
       "</div>"
      ],
      "text/plain": [
       "                   0\n",
       "j          14.000000\n",
       "Coverage   0.129780 \n",
       "Overlaps   0.126032 \n",
       "Conflicts  0.079798 "
      ]
     },
     "execution_count": 40,
     "metadata": {},
     "output_type": "execute_result"
    }
   ],
   "source": [
    "pd.DataFrame(lf_analysis.mean())"
   ]
  },
  {
   "cell_type": "markdown",
   "metadata": {},
   "source": [
    "Lets have a look at some basic examples"
   ]
  },
  {
   "cell_type": "code",
   "execution_count": 41,
   "metadata": {},
   "outputs": [
    {
     "data": {
      "text/html": [
       "<div>\n",
       "<style scoped>\n",
       "    .dataframe tbody tr th:only-of-type {\n",
       "        vertical-align: middle;\n",
       "    }\n",
       "\n",
       "    .dataframe tbody tr th {\n",
       "        vertical-align: top;\n",
       "    }\n",
       "\n",
       "    .dataframe thead th {\n",
       "        text-align: right;\n",
       "    }\n",
       "</style>\n",
       "<table border=\"1\" class=\"dataframe\">\n",
       "  <thead>\n",
       "    <tr style=\"text-align: right;\">\n",
       "      <th></th>\n",
       "      <th>review</th>\n",
       "      <th>sentiment</th>\n",
       "    </tr>\n",
       "  </thead>\n",
       "  <tbody>\n",
       "    <tr>\n",
       "      <th>14708</th>\n",
       "      <td>Some of the greatest and most loved horror movies have a wicked sense of humour, but when a film comes along that isn't as original as the \"classics\" but just goes at it for laughs then a bunch of po-faced, wanna-be critics completely slag it off. This film made me laugh aloud several times, this is testament to the way this film was approached and it shows. The two main leads look natural and believable together and this really helps this film. You root for them the whole way and laugh along with them, everyone has friends like both of these guys. Another highlight for me was the monster truck, it's awesome, intimidating and really well shot. Taking inspiration (completely stealing) from loads of films, the most obvious being Duel, Jeepers Creepers and probably in reference to the Jack Black alike co-star Orange County. But really you can pick any road trip gone wrong movie and find a reference here. But so what, it's not trying to win any Oscars just give the viewer a good dose of frights and laughs and on that score it's a 10! Obviously It's not getting a 10, I give real sensible reviews and scores unlike 99% of the people on IMDb. There is no-way this movie can get a zero like so many lazy idiots give to too many films and as fun as it was it ain't getting a 10 either. It's just a good fun movie for anyone with a sense of humour and a liking for scares. You really can't get anymore simple than that.</td>\n",
       "      <td>negative</td>\n",
       "    </tr>\n",
       "    <tr>\n",
       "      <th>24770</th>\n",
       "      <td>Maximum risk is quite surprising to a person that has seen more then on of his movies. Director Ringo Lam made an average action-movie, that can be compared with most of the other mid-quality action movies, what is a special predicate to a `Muscles from Brussels`movie. It has a quite classy style, an interesting atmosphere and, last but not least, the beautyful Natasha Henstridge. Even VanDamme doesn´t make you crying by his acting, he does a relatively good job. Of course you may not compare Maximum Risk (oh, what a creative title!) to `Ronin`, but after watching `Knock off` it´s the hell of a good movie... in special standards, of course.</td>\n",
       "      <td>negative</td>\n",
       "    </tr>\n",
       "    <tr>\n",
       "      <th>38047</th>\n",
       "      <td>The way this story played out and the interaction between the 2 lead characters may lead me to believe that if the X-Files continues without Mulder and Scully, these would be a pretty good replacement duo.</td>\n",
       "      <td>positive</td>\n",
       "    </tr>\n",
       "    <tr>\n",
       "      <th>23499</th>\n",
       "      <td>Paul Naschy as a ghostly security guard in this is scarier than most of his fur-and-shoe-polish werewolf guises. The story is not unfamiliar, a bunch of kids going to party at an abandoned school. The thing is, that one of these kid's fathers did the same thing years ago but he's now deceased, and the latest group of kids seem to be reliving an event from 23 years ago. This is fairly well done for films of this type, and there's an air of mystery to what's going on because apparently what happened to the kids before is somewhat of a mystery and perhaps the truth wasn't revealed. So no, not just your standard slice and dice. This moves along at a fairly good clip and doesn't let you lose interest like a lot of films do, and the oddball story is compelling enough to keep you interested too, and there's some suspense which is lacking in a lot of films these days. The ending is rather abrupt and I suppose is left mostly to your imagination, but then again it doesn't out-stay its welcome either. 7 out of 10, check it out.</td>\n",
       "      <td>positive</td>\n",
       "    </tr>\n",
       "    <tr>\n",
       "      <th>21515</th>\n",
       "      <td>As a big fan of gorilla movies in general, I anticipated that this one would be great - and as for the gorilla effects, They were quite good, however - that is the only thing I can write about this flop. The film claims to be based on a true story but in effect, it does not even come close to what actually happened to \"Buddy\" - who in real life, was the famous Gargantua, sold to Ringling Bros. by our supposed \"heroic\" Gertrude Lintz, known by many animal enthusiasts as a woman who hardly had her animals' welfare in the best interest. As far as Buddy being portrayed as becoming aggressive, this was total fiction and at no time did the gorilla, in real life, resort to such behavior. buddy did, in fact, escape his wooden crate (not a plush cage room as depicted in movie) during a storm, to seek shelter and comfort in the house, which frightened Gertrude Lintz into selling him. No, Buddy was not released into a gorilla family surrounded by lush trees in a zoological paradise - he was abandoned in a wooden crate, deep in the back of a garage for some time with only a single light bulb for comfort and then sold to the circus - where he actually lived a better life having peanuts thrown at him until he died (historically the oldest living gorilla on record, by the way) before a show in Miami. Notice also, in the film, how Buddy grows older but the chimpanzees never age. (The chimps, by the way, were not raised simultaneously with other animals, including Buddy, as portrayed in the film)</td>\n",
       "      <td>negative</td>\n",
       "    </tr>\n",
       "    <tr>\n",
       "      <th>9933</th>\n",
       "      <td>This is an absolutely true and faithful adaptation of 'The Hollow'. It could be argued that the actual mystery here is not one Christie's best but what makes 'The Hollow' special is the characterisation and I found the actors here, more or less without exception, were perfect in their parts. In such a uniformly good cast it's difficult to select stand out performances but I have to say that Sarah Miles is just perfect as Lucy Angkatell. What is extraordinary is that she not only conveys Lucy's dottiness, tactlessness and her more lovable qualities BUT she also manages to pull off the underlying truth that in fact, Lucy is not really all that nice! Megan Dodds is also very good as Henrietta and Claire Price very affecting as Gerda. John Christow is really quite an unlikeable character but Jonathan Cake nevertheless manages to make us see what his women see in him.&lt;br /&gt;&lt;br /&gt;As I said, the script follows the story quite faithfully. The only disconcerting thing I found was that Midge and Edward's relationship really comes out of nowhere and I do believe that some of it must have ended up on the cutting room floor! Theirs a secondary story however and the primary story is very well done. The whole thing looks beautiful as well, really capturing a perfect English autumn.&lt;br /&gt;&lt;br /&gt;Its a beautiful film in every respect and well worth seeing.</td>\n",
       "      <td>positive</td>\n",
       "    </tr>\n",
       "    <tr>\n",
       "      <th>45308</th>\n",
       "      <td>This could have been a really good movie if someone would just have known how to finish the film.&lt;br /&gt;&lt;br /&gt;The story was going along just fine and heading towards that point in every movie like this where the \"gray\" characters turn \"good\" and the \"bad\" guys get their just desserts and *boom* ... it's like they ran out of script and the cast just started to make things up.&lt;br /&gt;&lt;br /&gt;Which wouldn't have been so bad ... if the cast had just continued with the character development they had already put in place. But such is not the case and the movie soon becomes a goofy mess.&lt;br /&gt;&lt;br /&gt;My advice is to watch this movie up to about the last 30 minutes ... and then shut it off. At this point, imagine how you think the next 30 minutes will look based on what you have seen so far.&lt;br /&gt;&lt;br /&gt;Believe me, the ending you come up with will look far better than how this film actually ends. Trust me on this.</td>\n",
       "      <td>negative</td>\n",
       "    </tr>\n",
       "    <tr>\n",
       "      <th>49387</th>\n",
       "      <td>Murder in Mesopotamia, I have always considered one of the better Poirot books, as it is very creepy and has an ingenious ending. There is no doubt that the TV adaptation is visually striking, with some lovely photography and a very haunting music score. As always David Suchet is impeccable as Hercule Poirot, the comedic highlight of the episode being Poirot's battle with a mosquito in the middle of the night, and Hugh Fraser is good as the rather naive Captain Hastings. The remainder of the cast turn in decent performances, but are careful not to overshadow the two leads, a danger in some Christie adaptations. Some of the episode was quite creepy, a juxtaposition of an episode as tragic as Five Little Pigs, an episode that I enjoyed a lot more than this one. What made it creepy in particular, putting aside the music was when Louise Leidner sees the ghostly face through the window. About the adaptation, it was fairly faithful to the book, but I will say that there were three things I didn't like. The main problem was the pacing, it is rather slow, and there are some scenes where very little happens. I didn't like the fact also that they made Joseph Mercado a murderer. In the book, I see him as a rather nervous character, but the intervention of the idea of making him a murderer, and under-developing that, made him a less appealing character, though I am glad they didn't miss his drug addiction. (I also noticed that the writers left out the fact that Mrs Mercado in the book falls into hysteria when she believes she is the murderer's next victim.) The other thing that wasn't so impressive was that I felt that it may have been more effective if the adaptation had been in the viewpoint of Amy Leatheran, like it was in the book, Amy somehow seemed less sensitive in the adaptation. On the whole, despite some misjudgements on the writers' behalf, I liked Murder in Mesopotamia. 7/10 Bethany Cox.</td>\n",
       "      <td>positive</td>\n",
       "    </tr>\n",
       "    <tr>\n",
       "      <th>38691</th>\n",
       "      <td>I've seen this film on Sky Cinema not too long ago.. I must admit, it was a really good Western which features 2 of the big names.. On one side, there's Charlton Heston, playing the infamous and retired lawman Samuel Burgade. On the other.. The late James Coburn playing the villainous Zach Provo.. seeking revenge on Burgade no matter what the cost..!&lt;br /&gt;&lt;br /&gt;The good thing about this film was there was some really good characters.. Most of the actors played it out really well.. Especially James Coburn, who I find that he was really mean in this film.. But that how it was..&lt;br /&gt;&lt;br /&gt;Christopher Mitchum, who I've seen everywhere in other films.. Playing Hal Brickman.. I felt his character was left out in the cold, but he manage to get himself back in by teaming up with Burgade, to bring down Provo's posse's!&lt;br /&gt;&lt;br /&gt;All in all, it was a great film.. Very good to watch.. Great score from the late Jerry Goldsmith..&lt;br /&gt;&lt;br /&gt;Wonderful piece of Western persona..! 8 out of 10.</td>\n",
       "      <td>positive</td>\n",
       "    </tr>\n",
       "    <tr>\n",
       "      <th>10216</th>\n",
       "      <td>Finding this piece sandwiched between a stale prequel and a rehashed 80s machomovie on a UPN affiliate's midday Saturday program would be misleading. It deserves better and definitely uses its talented leads' best attributes to its maximum advantage. Bracco and Walken team to provide a movie that while perhaps predictable to those familiar with their genre, do the streetwise, 'troubled minds' routine that they are so good at portraying. For a chance to ride a psychological roller coaster a la Fuqua's \"Training Day,\" dive back into the world of early '90s TV movies to find \"Scam\"!</td>\n",
       "      <td>positive</td>\n",
       "    </tr>\n",
       "  </tbody>\n",
       "</table>\n",
       "</div>"
      ],
      "text/plain": [
       "                                                                                                                                                                                                                                                                                                                                                                                                                                                                                                                                                                                                                                                                                                                                                                                                                                                                                                                                                                                                                                                                                                                                                                                                                                                                                                                                                                                                                                                                                                                                                                                                                                                                                                                                                                                                                                                                                                                                                                                                 review  \\\n",
       "14708  Some of the greatest and most loved horror movies have a wicked sense of humour, but when a film comes along that isn't as original as the \"classics\" but just goes at it for laughs then a bunch of po-faced, wanna-be critics completely slag it off. This film made me laugh aloud several times, this is testament to the way this film was approached and it shows. The two main leads look natural and believable together and this really helps this film. You root for them the whole way and laugh along with them, everyone has friends like both of these guys. Another highlight for me was the monster truck, it's awesome, intimidating and really well shot. Taking inspiration (completely stealing) from loads of films, the most obvious being Duel, Jeepers Creepers and probably in reference to the Jack Black alike co-star Orange County. But really you can pick any road trip gone wrong movie and find a reference here. But so what, it's not trying to win any Oscars just give the viewer a good dose of frights and laughs and on that score it's a 10! Obviously It's not getting a 10, I give real sensible reviews and scores unlike 99% of the people on IMDb. There is no-way this movie can get a zero like so many lazy idiots give to too many films and as fun as it was it ain't getting a 10 either. It's just a good fun movie for anyone with a sense of humour and a liking for scares. You really can't get anymore simple than that.                                                                                                                                                                                                                                                                                                                                                                                                                                                                                                                 \n",
       "24770  Maximum risk is quite surprising to a person that has seen more then on of his movies. Director Ringo Lam made an average action-movie, that can be compared with most of the other mid-quality action movies, what is a special predicate to a `Muscles from Brussels`movie. It has a quite classy style, an interesting atmosphere and, last but not least, the beautyful Natasha Henstridge. Even VanDamme doesn´t make you crying by his acting, he does a relatively good job. Of course you may not compare Maximum Risk (oh, what a creative title!) to `Ronin`, but after watching `Knock off` it´s the hell of a good movie... in special standards, of course.                                                                                                                                                                                                                                                                                                                                                                                                                                                                                                                                                                                                                                                                                                                                                                                                                                                                                                                                                                                                                                                                                                                                                                                                                                                                                                                           \n",
       "38047  The way this story played out and the interaction between the 2 lead characters may lead me to believe that if the X-Files continues without Mulder and Scully, these would be a pretty good replacement duo.                                                                                                                                                                                                                                                                                                                                                                                                                                                                                                                                                                                                                                                                                                                                                                                                                                                                                                                                                                                                                                                                                                                                                                                                                                                                                                                                                                                                                                                                                                                                                                                                                                                                                                                                                                                      \n",
       "23499  Paul Naschy as a ghostly security guard in this is scarier than most of his fur-and-shoe-polish werewolf guises. The story is not unfamiliar, a bunch of kids going to party at an abandoned school. The thing is, that one of these kid's fathers did the same thing years ago but he's now deceased, and the latest group of kids seem to be reliving an event from 23 years ago. This is fairly well done for films of this type, and there's an air of mystery to what's going on because apparently what happened to the kids before is somewhat of a mystery and perhaps the truth wasn't revealed. So no, not just your standard slice and dice. This moves along at a fairly good clip and doesn't let you lose interest like a lot of films do, and the oddball story is compelling enough to keep you interested too, and there's some suspense which is lacking in a lot of films these days. The ending is rather abrupt and I suppose is left mostly to your imagination, but then again it doesn't out-stay its welcome either. 7 out of 10, check it out.                                                                                                                                                                                                                                                                                                                                                                                                                                                                                                                                                                                                                                                                                                                                                                                                                                                                                                                           \n",
       "21515  As a big fan of gorilla movies in general, I anticipated that this one would be great - and as for the gorilla effects, They were quite good, however - that is the only thing I can write about this flop. The film claims to be based on a true story but in effect, it does not even come close to what actually happened to \"Buddy\" - who in real life, was the famous Gargantua, sold to Ringling Bros. by our supposed \"heroic\" Gertrude Lintz, known by many animal enthusiasts as a woman who hardly had her animals' welfare in the best interest. As far as Buddy being portrayed as becoming aggressive, this was total fiction and at no time did the gorilla, in real life, resort to such behavior. buddy did, in fact, escape his wooden crate (not a plush cage room as depicted in movie) during a storm, to seek shelter and comfort in the house, which frightened Gertrude Lintz into selling him. No, Buddy was not released into a gorilla family surrounded by lush trees in a zoological paradise - he was abandoned in a wooden crate, deep in the back of a garage for some time with only a single light bulb for comfort and then sold to the circus - where he actually lived a better life having peanuts thrown at him until he died (historically the oldest living gorilla on record, by the way) before a show in Miami. Notice also, in the film, how Buddy grows older but the chimpanzees never age. (The chimps, by the way, were not raised simultaneously with other animals, including Buddy, as portrayed in the film)                                                                                                                                                                                                                                                                                                                                                                                                                                   \n",
       "9933   This is an absolutely true and faithful adaptation of 'The Hollow'. It could be argued that the actual mystery here is not one Christie's best but what makes 'The Hollow' special is the characterisation and I found the actors here, more or less without exception, were perfect in their parts. In such a uniformly good cast it's difficult to select stand out performances but I have to say that Sarah Miles is just perfect as Lucy Angkatell. What is extraordinary is that she not only conveys Lucy's dottiness, tactlessness and her more lovable qualities BUT she also manages to pull off the underlying truth that in fact, Lucy is not really all that nice! Megan Dodds is also very good as Henrietta and Claire Price very affecting as Gerda. John Christow is really quite an unlikeable character but Jonathan Cake nevertheless manages to make us see what his women see in him.<br /><br />As I said, the script follows the story quite faithfully. The only disconcerting thing I found was that Midge and Edward's relationship really comes out of nowhere and I do believe that some of it must have ended up on the cutting room floor! Theirs a secondary story however and the primary story is very well done. The whole thing looks beautiful as well, really capturing a perfect English autumn.<br /><br />Its a beautiful film in every respect and well worth seeing.                                                                                                                                                                                                                                                                                                                                                                                                                                                                                                                                                                                    \n",
       "45308  This could have been a really good movie if someone would just have known how to finish the film.<br /><br />The story was going along just fine and heading towards that point in every movie like this where the \"gray\" characters turn \"good\" and the \"bad\" guys get their just desserts and *boom* ... it's like they ran out of script and the cast just started to make things up.<br /><br />Which wouldn't have been so bad ... if the cast had just continued with the character development they had already put in place. But such is not the case and the movie soon becomes a goofy mess.<br /><br />My advice is to watch this movie up to about the last 30 minutes ... and then shut it off. At this point, imagine how you think the next 30 minutes will look based on what you have seen so far.<br /><br />Believe me, the ending you come up with will look far better than how this film actually ends. Trust me on this.                                                                                                                                                                                                                                                                                                                                                                                                                                                                                                                                                                                                                                                                                                                                                                                                                                                                                                                                                                                                                                                    \n",
       "49387  Murder in Mesopotamia, I have always considered one of the better Poirot books, as it is very creepy and has an ingenious ending. There is no doubt that the TV adaptation is visually striking, with some lovely photography and a very haunting music score. As always David Suchet is impeccable as Hercule Poirot, the comedic highlight of the episode being Poirot's battle with a mosquito in the middle of the night, and Hugh Fraser is good as the rather naive Captain Hastings. The remainder of the cast turn in decent performances, but are careful not to overshadow the two leads, a danger in some Christie adaptations. Some of the episode was quite creepy, a juxtaposition of an episode as tragic as Five Little Pigs, an episode that I enjoyed a lot more than this one. What made it creepy in particular, putting aside the music was when Louise Leidner sees the ghostly face through the window. About the adaptation, it was fairly faithful to the book, but I will say that there were three things I didn't like. The main problem was the pacing, it is rather slow, and there are some scenes where very little happens. I didn't like the fact also that they made Joseph Mercado a murderer. In the book, I see him as a rather nervous character, but the intervention of the idea of making him a murderer, and under-developing that, made him a less appealing character, though I am glad they didn't miss his drug addiction. (I also noticed that the writers left out the fact that Mrs Mercado in the book falls into hysteria when she believes she is the murderer's next victim.) The other thing that wasn't so impressive was that I felt that it may have been more effective if the adaptation had been in the viewpoint of Amy Leatheran, like it was in the book, Amy somehow seemed less sensitive in the adaptation. On the whole, despite some misjudgements on the writers' behalf, I liked Murder in Mesopotamia. 7/10 Bethany Cox.   \n",
       "38691  I've seen this film on Sky Cinema not too long ago.. I must admit, it was a really good Western which features 2 of the big names.. On one side, there's Charlton Heston, playing the infamous and retired lawman Samuel Burgade. On the other.. The late James Coburn playing the villainous Zach Provo.. seeking revenge on Burgade no matter what the cost..!<br /><br />The good thing about this film was there was some really good characters.. Most of the actors played it out really well.. Especially James Coburn, who I find that he was really mean in this film.. But that how it was..<br /><br />Christopher Mitchum, who I've seen everywhere in other films.. Playing Hal Brickman.. I felt his character was left out in the cold, but he manage to get himself back in by teaming up with Burgade, to bring down Provo's posse's!<br /><br />All in all, it was a great film.. Very good to watch.. Great score from the late Jerry Goldsmith..<br /><br />Wonderful piece of Western persona..! 8 out of 10.                                                                                                                                                                                                                                                                                                                                                                                                                                                                                                                                                                                                                                                                                                                                                                                                                                                                                                                                                                 \n",
       "10216  Finding this piece sandwiched between a stale prequel and a rehashed 80s machomovie on a UPN affiliate's midday Saturday program would be misleading. It deserves better and definitely uses its talented leads' best attributes to its maximum advantage. Bracco and Walken team to provide a movie that while perhaps predictable to those familiar with their genre, do the streetwise, 'troubled minds' routine that they are so good at portraying. For a chance to ride a psychological roller coaster a la Fuqua's \"Training Day,\" dive back into the world of early '90s TV movies to find \"Scam\"!                                                                                                                                                                                                                                                                                                                                                                                                                                                                                                                                                                                                                                                                                                                                                                                                                                                                                                                                                                                                                                                                                                                                                                                                                                                                                                                                                                                         \n",
       "\n",
       "      sentiment  \n",
       "14708  negative  \n",
       "24770  negative  \n",
       "38047  positive  \n",
       "23499  positive  \n",
       "21515  negative  \n",
       "9933   positive  \n",
       "45308  negative  \n",
       "49387  positive  \n",
       "38691  positive  \n",
       "10216  positive  "
      ]
     },
     "execution_count": 41,
     "metadata": {},
     "output_type": "execute_result"
    }
   ],
   "source": [
    "imdb_dataset_raw.iloc[applied_lfs[:, 1] == POSITIVE, :].sample(10, random_state=1).loc[:, ['review','sentiment']]"
   ]
  },
  {
   "cell_type": "markdown",
   "metadata": {},
   "source": [
    "## Transform rule matches\n",
    "\n",
    "To work with knodle the dataset needs to be transformed into a binary array.\n",
    "\n",
    "0 -> Rule match\n",
    "1 -> Rule didn't match \n",
    "\n",
    "Furthermore, we need a matrix `mapping_rule_labels` which has a mapping of all rules to labels."
   ]
  },
  {
   "cell_type": "code",
   "execution_count": 42,
   "metadata": {},
   "outputs": [],
   "source": [
    "def transform_snorkel_to_knodle(applied_lfs: np.ndarray):\n",
    "    # All labels other to -1 map to one\n",
    "    applied_lfs = np.where(applied_lfs!=-1, 1, applied_lfs) \n",
    "    \n",
    "    applied_lfs = np.where(applied_lfs==-1, 0, applied_lfs) \n",
    "    \n",
    "    np.testing.assert_array_equal(np.unique(applied_lfs), np.array([0,1]))\n",
    "    \n",
    "    return applied_lfs\n",
    "\n"
   ]
  },
  {
   "cell_type": "code",
   "execution_count": 53,
   "metadata": {},
   "outputs": [],
   "source": [
    "rule_matches = transform_snorkel_to_knodle(applied_lfs)"
   ]
  },
  {
   "cell_type": "code",
   "execution_count": 54,
   "metadata": {},
   "outputs": [],
   "source": [
    "def create_mapping_rules_labels(keyword_labels: pd.Series) -> np.ndarray:\n",
    "    \"\"\"\n",
    "    This function converts a series of labels ([0,1,1]) into a one-hot enoded vector. \n",
    "    This can server as the matrix mapping_rules_labels for knodle. \n",
    "    The index is the rule_match and the horizontal axis is tha label id. \n",
    "    \"\"\"\n",
    "    return pd.get_dummies(keyword_labels, prefix='label').to_numpy()"
   ]
  },
  {
   "cell_type": "code",
   "execution_count": 55,
   "metadata": {},
   "outputs": [],
   "source": [
    "mapping_rules_labels = create_mapping_rules_labels(keywords.label_id)"
   ]
  },
  {
   "cell_type": "code",
   "execution_count": 46,
   "metadata": {},
   "outputs": [],
   "source": [
    "rule_label_counts = np.matmul(applied_lfs, mapping_rules_labels)"
   ]
  },
  {
   "cell_type": "markdown",
   "metadata": {},
   "source": [
    "### Majority Vote\n",
    "\n",
    "Now we make a majority vote based on all rule matches. First we get the `rule_counts` by multiplying `rule_matches` with the `mapping_rules_labels`, then we divide it sumwise by the sum to get a probability value. In the end we counteract the divide with zero issue by setting all nan values to zero."
   ]
  },
  {
   "cell_type": "code",
   "execution_count": 59,
   "metadata": {},
   "outputs": [],
   "source": [
    "def get_majority_vote_probs(rule_matches: np.ndarray, mapping_rules_labels: np.ndarray): \n",
    "    rule_counts = np.matmul(rule_matches, mapping_rules_labels)\n",
    "    rule_counts_probs = rule_counts / rule_counts.sum(axis=1).reshape(-1,1)\n",
    "    \n",
    "    # Set probability zero if it was devided with zero\n",
    "    rule_counts_probs[np.isnan(rule_counts_probs)] = 0\n",
    "    return rule_counts_probs"
   ]
  },
  {
   "cell_type": "code",
   "execution_count": 60,
   "metadata": {},
   "outputs": [
    {
     "name": "stderr",
     "output_type": "stream",
     "text": [
      "/Users/sandro/.pyenv/versions/3.7.1/envs/imdbTut/lib/python3.7/site-packages/ipykernel_launcher.py:3: RuntimeWarning: invalid value encountered in true_divide\n",
      "  This is separate from the ipykernel package so we can avoid doing imports until\n"
     ]
    }
   ],
   "source": [
    "y_probs = get_majority_vote_probs(rule_matches, mapping_rules_labels)"
   ]
  },
  {
   "cell_type": "code",
   "execution_count": 61,
   "metadata": {},
   "outputs": [
    {
     "data": {
      "text/plain": [
       "(array([0.        , 0.06666667, 0.07142857, 0.07692308, 0.08333333,\n",
       "        0.09090909, 0.1       , 0.11111111, 0.125     , 0.14285714,\n",
       "        0.15384615, 0.16666667, 0.18181818, 0.2       , 0.21428571,\n",
       "        0.22222222, 0.23076923, 0.25      , 0.26666667, 0.27272727,\n",
       "        0.28571429, 0.3       , 0.30769231, 0.3125    , 0.33333333,\n",
       "        0.35714286, 0.36363636, 0.375     , 0.38461538, 0.4       ,\n",
       "        0.41666667, 0.42857143, 0.4375    , 0.44444444, 0.45454545,\n",
       "        0.46153846, 0.46666667, 0.5       , 0.53333333, 0.53846154,\n",
       "        0.54545455, 0.55555556, 0.5625    , 0.57142857, 0.58333333,\n",
       "        0.6       , 0.61538462, 0.625     , 0.63636364, 0.64285714,\n",
       "        0.66666667, 0.6875    , 0.69230769, 0.7       , 0.71428571,\n",
       "        0.72727273, 0.73333333, 0.75      , 0.76923077, 0.77777778,\n",
       "        0.78571429, 0.8       , 0.81818182, 0.83333333, 0.84615385,\n",
       "        0.85714286, 0.875     , 0.88888889, 0.9       , 0.90909091,\n",
       "        0.91666667, 0.92307692, 0.92857143, 0.93333333, 1.        ]),\n",
       " array([28307,     1,     4,     6,    10,    34,    79,   168,   355,\n",
       "          698,     4,  1261,    42,  2109,     4,   169,     6,  3488,\n",
       "            1,    40,   672,    99,     9,     1,  5677,     4,    46,\n",
       "          393,     9,  2229,    15,   711,     1,   220,    54,    20,\n",
       "            3,  9868,     3,    20,    54,   220,     1,   711,    15,\n",
       "         2229,     9,   393,    46,     4,  5677,     1,     9,    99,\n",
       "          672,    40,     1,  3488,     6,   169,     4,  2109,    42,\n",
       "         1261,     4,   698,   355,   168,    79,    34,    10,     6,\n",
       "            4,     1, 24541]))"
      ]
     },
     "execution_count": 61,
     "metadata": {},
     "output_type": "execute_result"
    }
   ],
   "source": [
    "# Positive is a bit overrepresented\n",
    "np.unique(y_probs, return_counts=True)"
   ]
  },
  {
   "cell_type": "code",
   "execution_count": 62,
   "metadata": {},
   "outputs": [
    {
     "data": {
      "text/plain": [
       "(50000, 2)"
      ]
     },
     "execution_count": 62,
     "metadata": {},
     "output_type": "execute_result"
    }
   ],
   "source": [
    "y_probs.shape"
   ]
  },
  {
   "cell_type": "code",
   "execution_count": 63,
   "metadata": {},
   "outputs": [],
   "source": [
    "imdb_dataset_raw['label_id'] = imdb_dataset_raw.sentiment.map({'positive':POSITIVE, 'negative':NEGATIVE})"
   ]
  },
  {
   "cell_type": "markdown",
   "metadata": {},
   "source": [
    "## Save Files\n"
   ]
  },
  {
   "cell_type": "code",
   "execution_count": 65,
   "metadata": {},
   "outputs": [],
   "source": [
    "from joblib import dump"
   ]
  },
  {
   "cell_type": "code",
   "execution_count": 73,
   "metadata": {},
   "outputs": [
    {
     "data": {
      "text/plain": [
       "['mapping_rules_labels.lib']"
      ]
     },
     "execution_count": 73,
     "metadata": {},
     "output_type": "execute_result"
    }
   ],
   "source": [
    "dump(rule_matches, 'rule_matches.lib')\n",
    "dump(mapping_rules_labels, \"mapping_rules_labels.lib\")"
   ]
  },
  {
   "cell_type": "code",
   "execution_count": 72,
   "metadata": {},
   "outputs": [
    {
     "name": "stdout",
     "output_type": "stream",
     "text": [
      "IMDB Dataset.csv           keywords.csv\r\n",
      "Prepare_IMDB_Data.ipynb    mapping_rules_labels.lib\r\n",
      "applied_lfs.lib            requirements.txt\r\n",
      "imdb_data_preprocessed.csv tfidf.lib\r\n"
     ]
    }
   ],
   "source": [
    "!ls"
   ]
  },
  {
   "cell_type": "code",
   "execution_count": 67,
   "metadata": {},
   "outputs": [],
   "source": [
    "keywords.to_csv('keywords.csv', index=None)\n"
   ]
  },
  {
   "cell_type": "code",
   "execution_count": 68,
   "metadata": {},
   "outputs": [],
   "source": [
    "imdb_dataset_raw.to_csv('imdb_data_preprocessed.csv', index=None)"
   ]
  },
  {
   "cell_type": "markdown",
   "metadata": {},
   "source": [
    "# Finish\n",
    "\n",
    "Now, we have created a weak supervision dataset. Of course it is not perfect but it is something with which we can compare performances of different denoising methods with. :-) "
   ]
  }
 ],
 "metadata": {
  "kernelspec": {
   "display_name": "Python 3",
   "language": "python",
   "name": "python3"
  },
  "language_info": {
   "codemirror_mode": {
    "name": "ipython",
    "version": 3
   },
   "file_extension": ".py",
   "mimetype": "text/x-python",
   "name": "python",
   "nbconvert_exporter": "python",
   "pygments_lexer": "ipython3",
   "version": "3.7.1"
  }
 },
 "nbformat": 4,
 "nbformat_minor": 4
}
