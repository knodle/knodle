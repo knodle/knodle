{
 "cells": [
  {
   "cell_type": "markdown",
   "metadata": {},
   "source": [
    "# Police Killing Dataset: Data Preprocessing with Knowledge Base"
   ]
  },
  {
   "cell_type": "markdown",
   "metadata": {},
   "source": [
    "This tutorial shows how to find names of people killed by the police in a corpus of newspaper articles. The corpus was created by Katherine A. Keith et al. (2017) for a similar task using distant supervision. This dataset contains mentions of people (based on keywords related to “killing” or “police”) who might have been killed by the police. The dataset (the HTML documents scraped in 2016 themselves as well as the already sentence-segmented data) are available on the [project’s website](http://slanglab.cs.umass.edu/PoliceKillingsExtraction/) and on [MinIO]( https://knodle.dm.univie.ac.at/minio/knodle/datasets/police_killing/). "
   ]
  },
  {
   "cell_type": "markdown",
   "metadata": {},
   "source": [
    "### Data Description\n",
    "\n",
    "There is a train and a test dataset, both of them containing dictionaries with the following keys:\n",
    "\n",
    "-\tdocid: unique identifiers of every mention of a person possible killed by the police\n",
    "-\tname: the normalized name of the person\n",
    "-\tdownloadtime: time the document was downloaded\n",
    "-\tnames_org: the original name of the person mentioned in the document\n",
    "-\tsentnames: other names in the mention (not of the person possibly killed by the police)\n",
    "-\tsent_alter: the mention, name of the person possible killed by the policed replaced by “TARGET”, any other names replaced by “POLICE”\n",
    "-\tplabel: for the training data possibly erroneous labels obtained using weak supervision and gold labels for the test data – in this project, only the labels of the test data will be used\n",
    "-\tsent_org: the original mention\n",
    "\n",
    "Using weak supervision, a sample should be labelled positive (1) or negative (0) whether it describes the killing of a civilian by the police. Later, we can create a database of civilians' names in positive labelled samples.\n",
    "\n",
    "Compared to the [Data Preprocessing with RegEx Tutorial](https://github.com/knodle/knodle/blob/feature/%23299_police_killing_dataset/examples/data_preprocessing/police_killing/data_preprocessing_with_regex.ipynb), where RegEx are used in order to cover various different ways a sentence might indiciate that someone was killed by the police, in this tutorial the sentences will be labeled using information from a manually created Knowledge Base. Just like Keith et al., we use the [Fatal Encounters Database](https://fatalencounters.org/) (FE-Database). "
   ]
  },
  {
   "cell_type": "markdown",
   "metadata": {},
   "source": [
    "**Reference:**\n",
    "\n",
    "Keith, Kathrine A. et al. (2017): Identifying civilians killed by police with distantly supervised entity-event extraction. In: Proceedings of the 2017 Conference on Empirical Methods in Natural Language Processing. doi: [10.18653/v1/D17-1163](https://aclanthology.org/D17-1163/)"
   ]
  },
  {
   "cell_type": "markdown",
   "metadata": {},
   "source": [
    "## Imports"
   ]
  },
  {
   "cell_type": "code",
   "execution_count": 1,
   "metadata": {},
   "outputs": [],
   "source": [
    "import json\n",
    "import os\n",
    "import re\n",
    "import sys\n",
    "from pathlib import Path\n",
    "from typing import List, Dict, Union, Set\n",
    "from itertools import combinations\n",
    "from itertools import islice\n",
    "\n",
    "import numpy as np\n",
    "import pandas as pd\n",
    "import scipy.sparse as sp\n",
    "from joblib import dump\n",
    "from minio import Minio\n",
    "from tqdm import tqdm\n",
    "\n",
    "from knodle.examples.data_preprocessing import get_mapping_rules_labels_t"
   ]
  },
  {
   "cell_type": "markdown",
   "metadata": {},
   "source": [
    "## 1 Get the data\n",
    "\n",
    "First of all, the file names for the output at the end of this notebook are defined. After that, the raw data can be downloaded from MinIO."
   ]
  },
  {
   "cell_type": "code",
   "execution_count": 2,
   "metadata": {},
   "outputs": [
    {
     "data": {
      "text/plain": [
       "'../../../data_from_minio/police_killing'"
      ]
     },
     "execution_count": 2,
     "metadata": {},
     "output_type": "execute_result"
    }
   ],
   "source": [
    "# define the files names\n",
    "Z_MATRIX_TRAIN = \"train_rule_matches_z.lib\"\n",
    "Z_MATRIX_DEV = \"dev_rule_matches_z.lib\"\n",
    "Z_MATRIX_TEST = \"test_rule_matches_z.lib\"\n",
    "\n",
    "T_MATRIX_TRAIN = \"mapping_rules_labels_t.lib\"\n",
    "\n",
    "TRAIN_SAMPLES_OUTPUT = \"df_train.lib\"\n",
    "DEV_SAMPLES_OUTPUT = \"df_dev.lib\"\n",
    "TEST_SAMPLES_OUTPUT = \"df_test.lib\"\n",
    "\n",
    "# file names for .csv files\n",
    "TRAIN_SAMPLES_CSV = \"df_train.csv\"\n",
    "DEV_SAMPLES_CSV = \"df_dev.csv\"\n",
    "TEST_SAMPLES_CSV = \"df_test.csv\"\n",
    "\n",
    "# define the path to the folder where the data will be stored\n",
    "data_path = \"../../../data_from_minio/police_killing\"\n",
    "os.makedirs(data_path, exist_ok=True)\n",
    "os.path.join(data_path)"
   ]
  },
  {
   "cell_type": "code",
   "execution_count": null,
   "metadata": {},
   "outputs": [],
   "source": [
    "client = Minio(\"knodle.cc\", secure=False)\n",
    "files = [\n",
    "    \"train.json\", \"test.json\", \n",
    "    \"FATAL ENCOUNTERS DOT ORG SPREADSHEET (See Read me tab).xlsx\" \n",
    "    # I know the name is ugly but it's called exactly like this when downloading it from the website. \n",
    "    # I want to keep the name in case anyone downloads it from FE instead of Minio. Is that okay?\n",
    "]\n",
    "for file in tqdm(files):\n",
    "    client.fget_object(\n",
    "        bucket_name=\"knodle\",\n",
    "        object_name=os.path.join(\"datasets/police_killing/\", file),\n",
    "        file_path=os.path.join(data_path, file),\n",
    "    )"
   ]
  },
  {
   "cell_type": "markdown",
   "metadata": {},
   "source": [
    "### 1.1 Get the train data\n",
    "\n",
    "We read the downloaded data and convert it to a Pandas Dataframe. For the train data, we take only the samples and the name of the potential victim and for the test data, we take the samples, the names and also the labels. In the samples, the name of the potential victim is replaced by the TARGET symbol. We rename this column to \"samples\"."
   ]
  },
  {
   "cell_type": "code",
   "execution_count": 3,
   "metadata": {},
   "outputs": [
    {
     "data": {
      "text/html": [
       "<div>\n",
       "<style scoped>\n",
       "    .dataframe tbody tr th:only-of-type {\n",
       "        vertical-align: middle;\n",
       "    }\n",
       "\n",
       "    .dataframe tbody tr th {\n",
       "        vertical-align: top;\n",
       "    }\n",
       "\n",
       "    .dataframe thead th {\n",
       "        text-align: right;\n",
       "    }\n",
       "</style>\n",
       "<table border=\"1\" class=\"dataframe\">\n",
       "  <thead>\n",
       "    <tr style=\"text-align: right;\">\n",
       "      <th></th>\n",
       "      <th>name</th>\n",
       "      <th>sample</th>\n",
       "      <th>names_org</th>\n",
       "    </tr>\n",
       "  </thead>\n",
       "  <tbody>\n",
       "    <tr>\n",
       "      <th>0</th>\n",
       "      <td>Rodney Thomas</td>\n",
       "      <td>Two years earlier , Officer TARGET was killed ...</td>\n",
       "      <td>[Rodney Thomas]</td>\n",
       "    </tr>\n",
       "    <tr>\n",
       "      <th>1</th>\n",
       "      <td>Howard Ave</td>\n",
       "      <td>Police Chief PERSON said Randolph was found sh...</td>\n",
       "      <td>[Howard Ave, Howard Park Ave]</td>\n",
       "    </tr>\n",
       "    <tr>\n",
       "      <th>2</th>\n",
       "      <td>Clayton Fernander</td>\n",
       "      <td>In the latest incident , Chief Superintendent ...</td>\n",
       "      <td>[Clayton Fernander]</td>\n",
       "    </tr>\n",
       "    <tr>\n",
       "      <th>3</th>\n",
       "      <td>Richard Pickels</td>\n",
       "      <td>Chief TARGET of Penn Township police entered t...</td>\n",
       "      <td>[Richard Pickels]</td>\n",
       "    </tr>\n",
       "    <tr>\n",
       "      <th>4</th>\n",
       "      <td>Cathy Zuraw</td>\n",
       "      <td>A man was was fatally shot by a police officer...</td>\n",
       "      <td>[Cathy Zuraw]</td>\n",
       "    </tr>\n",
       "  </tbody>\n",
       "</table>\n",
       "</div>"
      ],
      "text/plain": [
       "                name                                             sample  \\\n",
       "0      Rodney Thomas  Two years earlier , Officer TARGET was killed ...   \n",
       "1         Howard Ave  Police Chief PERSON said Randolph was found sh...   \n",
       "2  Clayton Fernander  In the latest incident , Chief Superintendent ...   \n",
       "3    Richard Pickels  Chief TARGET of Penn Township police entered t...   \n",
       "4        Cathy Zuraw  A man was was fatally shot by a police officer...   \n",
       "\n",
       "                       names_org  \n",
       "0                [Rodney Thomas]  \n",
       "1  [Howard Ave, Howard Park Ave]  \n",
       "2            [Clayton Fernander]  \n",
       "3              [Richard Pickels]  \n",
       "4                  [Cathy Zuraw]  "
      ]
     },
     "execution_count": 3,
     "metadata": {},
     "output_type": "execute_result"
    }
   ],
   "source": [
    "def get_train_data(data_path: str) -> pd.DataFrame:\n",
    "    with open(os.path.join(data_path, \"train.json\"), 'r') as data:\n",
    "        train_data = [json.loads(line) for line in data]\n",
    "    df_train_sent_alter = pd.DataFrame(train_data, columns = [\"name\", \"sent_alter\", \"names_org\"]).rename(columns={\"sent_alter\": \"sample\"})\n",
    "    return df_train_sent_alter\n",
    "\n",
    "df_train = get_train_data(data_path)\n",
    "df_train.head()"
   ]
  },
  {
   "cell_type": "markdown",
   "metadata": {},
   "source": [
    "Already at a first look at the samples we can see that the data is flawed. *TARGET* is supposed to replace the name of the victim, while the NE-Tagger Keith et al. used to prepare the data actually quite often identified the name of a police officer as *TARGET*. In this case, a sample should be labelled negative, even if it describes the killing of a civilian by the police."
   ]
  },
  {
   "cell_type": "markdown",
   "metadata": {},
   "source": [
    "### 1.2 Get the Dev and Test Data"
   ]
  },
  {
   "cell_type": "markdown",
   "metadata": {},
   "source": [
    "Since the [SLANG Lab](http://slanglab.cs.umass.edu/PoliceKillingsExtraction/) provides only train and test data, but no development data, the part of the test data will be used as a development set. The samples for the development data will be selected randomly to avoid imbalances of positive and negative samples in dev and test data.\n",
    "\n",
    "The parameter *used_as_dev* reflects the amount of the gold data that should be used for development instead of testing. It is set to 30% for now, but can be changed depending on the task definition."
   ]
  },
  {
   "cell_type": "code",
   "execution_count": 4,
   "metadata": {},
   "outputs": [
    {
     "name": "stdout",
     "output_type": "stream",
     "text": [
      "30% of the test data will be used for develoment.\n"
     ]
    }
   ],
   "source": [
    "used_as_dev = 30\n",
    "print(f\"{used_as_dev}% of the test data will be used for develoment.\")"
   ]
  },
  {
   "cell_type": "code",
   "execution_count": 5,
   "metadata": {},
   "outputs": [
    {
     "data": {
      "text/html": [
       "<div>\n",
       "<style scoped>\n",
       "    .dataframe tbody tr th:only-of-type {\n",
       "        vertical-align: middle;\n",
       "    }\n",
       "\n",
       "    .dataframe tbody tr th {\n",
       "        vertical-align: top;\n",
       "    }\n",
       "\n",
       "    .dataframe thead th {\n",
       "        text-align: right;\n",
       "    }\n",
       "</style>\n",
       "<table border=\"1\" class=\"dataframe\">\n",
       "  <thead>\n",
       "    <tr style=\"text-align: right;\">\n",
       "      <th></th>\n",
       "      <th>name</th>\n",
       "      <th>names_org</th>\n",
       "      <th>sample</th>\n",
       "      <th>label</th>\n",
       "    </tr>\n",
       "  </thead>\n",
       "  <tbody>\n",
       "    <tr>\n",
       "      <th>0</th>\n",
       "      <td>Joe Shuman</td>\n",
       "      <td>[Joe Shuman]</td>\n",
       "      <td>[ ] TARGET / Chicago Tribune Lake County Major...</td>\n",
       "      <td>0</td>\n",
       "    </tr>\n",
       "    <tr>\n",
       "      <th>1</th>\n",
       "      <td>Joe Shuman</td>\n",
       "      <td>[Joe Shuman]</td>\n",
       "      <td>Round Lake police shooting Round Lake police s...</td>\n",
       "      <td>0</td>\n",
       "    </tr>\n",
       "    <tr>\n",
       "      <th>2</th>\n",
       "      <td>Joe Shuman</td>\n",
       "      <td>[Joe Shuman]</td>\n",
       "      <td>PERSON shooting PERSON shooting TARGET / Chica...</td>\n",
       "      <td>0</td>\n",
       "    </tr>\n",
       "    <tr>\n",
       "      <th>3</th>\n",
       "      <td>Joe Shuman</td>\n",
       "      <td>[Joe Shuman]</td>\n",
       "      <td>Scene of Round Lake police shooting Scene of R...</td>\n",
       "      <td>0</td>\n",
       "    </tr>\n",
       "    <tr>\n",
       "      <th>4</th>\n",
       "      <td>Joe Shuman</td>\n",
       "      <td>[Joe Shuman]</td>\n",
       "      <td>involved shooting TARGET / Chicago Tribune The...</td>\n",
       "      <td>0</td>\n",
       "    </tr>\n",
       "  </tbody>\n",
       "</table>\n",
       "</div>"
      ],
      "text/plain": [
       "         name     names_org  \\\n",
       "0  Joe Shuman  [Joe Shuman]   \n",
       "1  Joe Shuman  [Joe Shuman]   \n",
       "2  Joe Shuman  [Joe Shuman]   \n",
       "3  Joe Shuman  [Joe Shuman]   \n",
       "4  Joe Shuman  [Joe Shuman]   \n",
       "\n",
       "                                              sample  label  \n",
       "0  [ ] TARGET / Chicago Tribune Lake County Major...      0  \n",
       "1  Round Lake police shooting Round Lake police s...      0  \n",
       "2  PERSON shooting PERSON shooting TARGET / Chica...      0  \n",
       "3  Scene of Round Lake police shooting Scene of R...      0  \n",
       "4  involved shooting TARGET / Chicago Tribune The...      0  "
      ]
     },
     "execution_count": 5,
     "metadata": {},
     "output_type": "execute_result"
    }
   ],
   "source": [
    "def get_dev_test_data(data_path: str) -> Union[pd.DataFrame, pd.DataFrame]:\n",
    "    with open(os.path.join(data_path, \"test.json\"), 'r') as data:\n",
    "        dev_test_data = [json.loads(line) for line in data]\n",
    "    dev_test_sent_alter = pd.DataFrame(dev_test_data, columns = [\"name\", \"names_org\", \"sent_alter\", \"plabel\"]).rename(columns={\"sent_alter\": \"sample\", \"plabel\": \"label\"})\n",
    "    df_dev = dev_test_sent_alter.sample(n = int(round((dev_test_sent_alter.shape[0]/100)*used_as_dev))).reset_index(drop = True)\n",
    "    df_test = dev_test_sent_alter.drop(df_dev.index).reset_index(drop = True)\n",
    "    return df_dev, df_test\n",
    "\n",
    "df_dev, df_test = get_dev_test_data(data_path)\n",
    "df_test.head()"
   ]
  },
  {
   "cell_type": "markdown",
   "metadata": {},
   "source": [
    "### 1.3 Get Data of the Knowledge Base"
   ]
  },
  {
   "cell_type": "markdown",
   "metadata": {},
   "source": [
    "The FE-Database contains information about people dying or experiencing violence in encounters with the police, including the name of the victim, a short description of the incident and the use of force (whether a person in an encounter was, for instance, killed by the police or committed suicide or died in an accident while the police was present). For us, only the entries about actual police killings (no suicide, no accidents etc.) are relevant.\n",
    "\n",
    "It can be downloaded as an [Excel spreadsheet from Fatal Encounters](https://docs.google.com/spreadsheets/d/1dKmaV_JiWcG8XBoRgP8b4e9Eopkpgt7FL7nyspvzAsE/edit#gid=0). After that, we want to exclude all the information that is not useful for our task. \n",
    "\n",
    "We only need the first sheet that contains the actual information. In this sheet, we only need the name of the victim and the column *Intended use of force (Developing)*. We exclude all entries that do not describe *Deadly Force*.\n",
    "\n",
    "In the end, we keep only the relevant names."
   ]
  },
  {
   "cell_type": "code",
   "execution_count": 6,
   "metadata": {},
   "outputs": [],
   "source": [
    "fe_database = pd.read_excel(os.path.join(data_path, \"FATAL ENCOUNTERS DOT ORG SPREADSHEET (See Read me tab).xlsx\"), sheet_name = 0)"
   ]
  },
  {
   "cell_type": "code",
   "execution_count": 7,
   "metadata": {},
   "outputs": [
    {
     "data": {
      "text/html": [
       "<div>\n",
       "<style scoped>\n",
       "    .dataframe tbody tr th:only-of-type {\n",
       "        vertical-align: middle;\n",
       "    }\n",
       "\n",
       "    .dataframe tbody tr th {\n",
       "        vertical-align: top;\n",
       "    }\n",
       "\n",
       "    .dataframe thead th {\n",
       "        text-align: right;\n",
       "    }\n",
       "</style>\n",
       "<table border=\"1\" class=\"dataframe\">\n",
       "  <thead>\n",
       "    <tr style=\"text-align: right;\">\n",
       "      <th></th>\n",
       "      <th>Unique ID</th>\n",
       "      <th>Name</th>\n",
       "      <th>Age</th>\n",
       "      <th>Gender</th>\n",
       "      <th>Race</th>\n",
       "      <th>Race with imputations</th>\n",
       "      <th>Imputation probability</th>\n",
       "      <th>URL of image (PLS NO HOTLINKS)</th>\n",
       "      <th>Date of injury resulting in death (month/day/year)</th>\n",
       "      <th>Location of injury (address)</th>\n",
       "      <th>...</th>\n",
       "      <th>URL Temp</th>\n",
       "      <th>Brief description</th>\n",
       "      <th>Dispositions/Exclusions INTERNAL USE, NOT FOR ANALYSIS</th>\n",
       "      <th>Intended use of force (Developing)</th>\n",
       "      <th>Supporting document link</th>\n",
       "      <th>Foreknowledge of mental illness? INTERNAL USE, NOT FOR ANALYSIS</th>\n",
       "      <th>Unnamed: 32</th>\n",
       "      <th>Unnamed: 33</th>\n",
       "      <th>Unique ID formula</th>\n",
       "      <th>Unique identifier (redundant)</th>\n",
       "    </tr>\n",
       "  </thead>\n",
       "  <tbody>\n",
       "    <tr>\n",
       "      <th>0</th>\n",
       "      <td>25747.0</td>\n",
       "      <td>Mark A. Horton</td>\n",
       "      <td>21</td>\n",
       "      <td>Male</td>\n",
       "      <td>African-American/Black</td>\n",
       "      <td>African-American/Black</td>\n",
       "      <td>Not imputed</td>\n",
       "      <td>NaN</td>\n",
       "      <td>2000-01-01</td>\n",
       "      <td>Davison Freeway</td>\n",
       "      <td>...</td>\n",
       "      <td>NaN</td>\n",
       "      <td>Two Detroit men killed when their car crashed ...</td>\n",
       "      <td>Unreported</td>\n",
       "      <td>Pursuit</td>\n",
       "      <td>https://drive.google.com/file/d/1-nK-RohgiM-tZ...</td>\n",
       "      <td>No</td>\n",
       "      <td>NaN</td>\n",
       "      <td>NaN</td>\n",
       "      <td>NaN</td>\n",
       "      <td>25747.0</td>\n",
       "    </tr>\n",
       "    <tr>\n",
       "      <th>1</th>\n",
       "      <td>25748.0</td>\n",
       "      <td>Phillip A. Blurbridge</td>\n",
       "      <td>19</td>\n",
       "      <td>Male</td>\n",
       "      <td>African-American/Black</td>\n",
       "      <td>African-American/Black</td>\n",
       "      <td>Not imputed</td>\n",
       "      <td>NaN</td>\n",
       "      <td>2000-01-01</td>\n",
       "      <td>Davison Freeway</td>\n",
       "      <td>...</td>\n",
       "      <td>NaN</td>\n",
       "      <td>Two Detroit men killed when their car crashed ...</td>\n",
       "      <td>Unreported</td>\n",
       "      <td>Pursuit</td>\n",
       "      <td>https://drive.google.com/file/d/1-nK-RohgiM-tZ...</td>\n",
       "      <td>No</td>\n",
       "      <td>NaN</td>\n",
       "      <td>NaN</td>\n",
       "      <td>NaN</td>\n",
       "      <td>25748.0</td>\n",
       "    </tr>\n",
       "    <tr>\n",
       "      <th>2</th>\n",
       "      <td>25746.0</td>\n",
       "      <td>Samuel H. Knapp</td>\n",
       "      <td>17</td>\n",
       "      <td>Male</td>\n",
       "      <td>European-American/White</td>\n",
       "      <td>European-American/White</td>\n",
       "      <td>Not imputed</td>\n",
       "      <td>NaN</td>\n",
       "      <td>2000-01-01</td>\n",
       "      <td>27898-27804 US-101</td>\n",
       "      <td>...</td>\n",
       "      <td>NaN</td>\n",
       "      <td>Samuel Knapp was allegedly driving a stolen ve...</td>\n",
       "      <td>Unreported</td>\n",
       "      <td>Pursuit</td>\n",
       "      <td>https://drive.google.com/file/d/10DisrV8K5ReP1...</td>\n",
       "      <td>No</td>\n",
       "      <td>NaN</td>\n",
       "      <td>NaN</td>\n",
       "      <td>NaN</td>\n",
       "      <td>25746.0</td>\n",
       "    </tr>\n",
       "    <tr>\n",
       "      <th>3</th>\n",
       "      <td>25749.0</td>\n",
       "      <td>Mark Ortiz</td>\n",
       "      <td>23</td>\n",
       "      <td>Male</td>\n",
       "      <td>Hispanic/Latino</td>\n",
       "      <td>Hispanic/Latino</td>\n",
       "      <td>Not imputed</td>\n",
       "      <td>NaN</td>\n",
       "      <td>2000-01-01</td>\n",
       "      <td>600 W Cherry Ln</td>\n",
       "      <td>...</td>\n",
       "      <td>NaN</td>\n",
       "      <td>A motorcycle was allegedly being driven errati...</td>\n",
       "      <td>Unreported</td>\n",
       "      <td>Pursuit</td>\n",
       "      <td>https://drive.google.com/file/d/1qAEefRjX_aTtC...</td>\n",
       "      <td>No</td>\n",
       "      <td>NaN</td>\n",
       "      <td>NaN</td>\n",
       "      <td>NaN</td>\n",
       "      <td>25749.0</td>\n",
       "    </tr>\n",
       "    <tr>\n",
       "      <th>4</th>\n",
       "      <td>1.0</td>\n",
       "      <td>LaTanya Janelle McCoy</td>\n",
       "      <td>24</td>\n",
       "      <td>Female</td>\n",
       "      <td>African-American/Black</td>\n",
       "      <td>African-American/Black</td>\n",
       "      <td>Not imputed</td>\n",
       "      <td>NaN</td>\n",
       "      <td>2000-01-02</td>\n",
       "      <td>5700 block Mack Road</td>\n",
       "      <td>...</td>\n",
       "      <td>NaN</td>\n",
       "      <td>LaTanya Janelle McCoy's car was struck from be...</td>\n",
       "      <td>Unknown</td>\n",
       "      <td>Pursuit</td>\n",
       "      <td>http://www.recordnet.com/article/20000110/A_NE...</td>\n",
       "      <td>No</td>\n",
       "      <td>NaN</td>\n",
       "      <td>NaN</td>\n",
       "      <td>NaN</td>\n",
       "      <td>1.0</td>\n",
       "    </tr>\n",
       "  </tbody>\n",
       "</table>\n",
       "<p>5 rows × 36 columns</p>\n",
       "</div>"
      ],
      "text/plain": [
       "   Unique ID                   Name Age  Gender                     Race  \\\n",
       "0    25747.0         Mark A. Horton  21    Male   African-American/Black   \n",
       "1    25748.0  Phillip A. Blurbridge  19    Male   African-American/Black   \n",
       "2    25746.0        Samuel H. Knapp  17    Male  European-American/White   \n",
       "3    25749.0             Mark Ortiz  23    Male          Hispanic/Latino   \n",
       "4        1.0  LaTanya Janelle McCoy  24  Female   African-American/Black   \n",
       "\n",
       "     Race with imputations Imputation probability  \\\n",
       "0   African-American/Black            Not imputed   \n",
       "1   African-American/Black            Not imputed   \n",
       "2  European-American/White            Not imputed   \n",
       "3          Hispanic/Latino            Not imputed   \n",
       "4   African-American/Black            Not imputed   \n",
       "\n",
       "  URL of image (PLS NO HOTLINKS)  \\\n",
       "0                            NaN   \n",
       "1                            NaN   \n",
       "2                            NaN   \n",
       "3                            NaN   \n",
       "4                            NaN   \n",
       "\n",
       "   Date of injury resulting in death (month/day/year)  \\\n",
       "0                                         2000-01-01    \n",
       "1                                         2000-01-01    \n",
       "2                                         2000-01-01    \n",
       "3                                         2000-01-01    \n",
       "4                                         2000-01-02    \n",
       "\n",
       "  Location of injury (address)  ... URL Temp  \\\n",
       "0              Davison Freeway  ...      NaN   \n",
       "1              Davison Freeway  ...      NaN   \n",
       "2           27898-27804 US-101  ...      NaN   \n",
       "3              600 W Cherry Ln  ...      NaN   \n",
       "4         5700 block Mack Road  ...      NaN   \n",
       "\n",
       "                                   Brief description  \\\n",
       "0  Two Detroit men killed when their car crashed ...   \n",
       "1  Two Detroit men killed when their car crashed ...   \n",
       "2  Samuel Knapp was allegedly driving a stolen ve...   \n",
       "3  A motorcycle was allegedly being driven errati...   \n",
       "4  LaTanya Janelle McCoy's car was struck from be...   \n",
       "\n",
       "   Dispositions/Exclusions INTERNAL USE, NOT FOR ANALYSIS  \\\n",
       "0                                         Unreported        \n",
       "1                                         Unreported        \n",
       "2                                         Unreported        \n",
       "3                                         Unreported        \n",
       "4                                            Unknown        \n",
       "\n",
       "  Intended use of force (Developing)  \\\n",
       "0                            Pursuit   \n",
       "1                            Pursuit   \n",
       "2                            Pursuit   \n",
       "3                            Pursuit   \n",
       "4                            Pursuit   \n",
       "\n",
       "                            Supporting document link  \\\n",
       "0  https://drive.google.com/file/d/1-nK-RohgiM-tZ...   \n",
       "1  https://drive.google.com/file/d/1-nK-RohgiM-tZ...   \n",
       "2  https://drive.google.com/file/d/10DisrV8K5ReP1...   \n",
       "3  https://drive.google.com/file/d/1qAEefRjX_aTtC...   \n",
       "4  http://www.recordnet.com/article/20000110/A_NE...   \n",
       "\n",
       "  Foreknowledge of mental illness? INTERNAL USE, NOT FOR ANALYSIS  \\\n",
       "0                                                 No                \n",
       "1                                                 No                \n",
       "2                                                 No                \n",
       "3                                                 No                \n",
       "4                                                 No                \n",
       "\n",
       "   Unnamed: 32 Unnamed: 33 Unique ID formula  Unique identifier (redundant)  \n",
       "0          NaN         NaN               NaN                        25747.0  \n",
       "1          NaN         NaN               NaN                        25748.0  \n",
       "2          NaN         NaN               NaN                        25746.0  \n",
       "3          NaN         NaN               NaN                        25749.0  \n",
       "4          NaN         NaN               NaN                            1.0  \n",
       "\n",
       "[5 rows x 36 columns]"
      ]
     },
     "execution_count": 7,
     "metadata": {},
     "output_type": "execute_result"
    }
   ],
   "source": [
    "fe_database.head()"
   ]
  },
  {
   "cell_type": "code",
   "execution_count": 7,
   "metadata": {},
   "outputs": [
    {
     "data": {
      "text/html": [
       "<div>\n",
       "<style scoped>\n",
       "    .dataframe tbody tr th:only-of-type {\n",
       "        vertical-align: middle;\n",
       "    }\n",
       "\n",
       "    .dataframe tbody tr th {\n",
       "        vertical-align: top;\n",
       "    }\n",
       "\n",
       "    .dataframe thead th {\n",
       "        text-align: right;\n",
       "    }\n",
       "</style>\n",
       "<table border=\"1\" class=\"dataframe\">\n",
       "  <thead>\n",
       "    <tr style=\"text-align: right;\">\n",
       "      <th></th>\n",
       "      <th>name</th>\n",
       "    </tr>\n",
       "  </thead>\n",
       "  <tbody>\n",
       "    <tr>\n",
       "      <th>0</th>\n",
       "      <td>Lester Miller</td>\n",
       "    </tr>\n",
       "    <tr>\n",
       "      <th>1</th>\n",
       "      <td>Derrick E. Tate</td>\n",
       "    </tr>\n",
       "    <tr>\n",
       "      <th>2</th>\n",
       "      <td>John Edward Pittman</td>\n",
       "    </tr>\n",
       "    <tr>\n",
       "      <th>3</th>\n",
       "      <td>Kyle Dillon</td>\n",
       "    </tr>\n",
       "    <tr>\n",
       "      <th>4</th>\n",
       "      <td>Adrian Dolby</td>\n",
       "    </tr>\n",
       "  </tbody>\n",
       "</table>\n",
       "</div>"
      ],
      "text/plain": [
       "                  name\n",
       "0        Lester Miller\n",
       "1      Derrick E. Tate\n",
       "2  John Edward Pittman\n",
       "3          Kyle Dillon\n",
       "4         Adrian Dolby"
      ]
     },
     "execution_count": 7,
     "metadata": {},
     "output_type": "execute_result"
    }
   ],
   "source": [
    "fe_database = fe_database[['Name', 'Intended use of force (Developing)']]\n",
    "fe_database = fe_database[fe_database['Intended use of force (Developing)'] == \"Deadly force\" ]\n",
    "fe_database = fe_database.drop(['Intended use of force (Developing)'], axis=1).reset_index(drop = True).rename(columns={\"Name\": \"name\"}) \n",
    "fe_database.head()"
   ]
  },
  {
   "cell_type": "markdown",
   "metadata": {},
   "source": [
    "### 1.4 Some Statistics"
   ]
  },
  {
   "cell_type": "code",
   "execution_count": 8,
   "metadata": {},
   "outputs": [
    {
     "name": "stdout",
     "output_type": "stream",
     "text": [
      "Number of samples:\n",
      "Train data: 132833\n",
      "Development data: 20678\n",
      "Test data: 48247\n"
     ]
    }
   ],
   "source": [
    "# Count of samples\n",
    "print(f\"Number of samples:\")\n",
    "print(f\"Train data: {df_train.shape[0]}\")\n",
    "print(f\"Development data: {df_dev.shape[0]}\")\n",
    "print(f\"Test data: {df_test.shape[0]}\")"
   ]
  },
  {
   "cell_type": "code",
   "execution_count": 9,
   "metadata": {},
   "outputs": [
    {
     "name": "stdout",
     "output_type": "stream",
     "text": [
      "In the develoment data, 4453 (21.534964696779188%) instances are positive and 16225 instances (78.46503530322082%) are negative.\n",
      "In the test data, 8878 (18.40114411258731%) instances are positive and 39369 instances (81.5988558874127%) are negative.\n"
     ]
    }
   ],
   "source": [
    "# Positive and negative instances in dev and test data\n",
    "positive_dev = df_dev.groupby(\"label\").count()[\"sample\"][1]\n",
    "negative_dev = df_dev.groupby(\"label\").count()[\"sample\"][0]\n",
    "positive_test = df_test.groupby(\"label\").count()[\"sample\"][1]\n",
    "negative_test = df_test.groupby(\"label\").count()[\"sample\"][0]\n",
    "print(f\"In the develoment data, {positive_dev} ({(100/df_dev.shape[0])*positive_dev}%) instances are positive and {negative_dev} instances ({(100/df_dev.shape[0])*negative_dev}%) are negative.\")\n",
    "print(f\"In the test data, {positive_test} ({(100/df_test.shape[0])*positive_test}%) instances are positive and {negative_test} instances ({(100/df_test.shape[0])*negative_test}%) are negative.\")"
   ]
  },
  {
   "cell_type": "markdown",
   "metadata": {},
   "source": [
    "### 1.5 Output classes\n",
    "\n",
    "Our task is to find out whether a sentence describes the killing of a person by the police or does not. That means, it is a binary classification task with two output classes. The number of classes is defined with the *num_classes* parameter."
   ]
  },
  {
   "cell_type": "code",
   "execution_count": 10,
   "metadata": {},
   "outputs": [],
   "source": [
    "num_classes = 2"
   ]
  },
  {
   "cell_type": "markdown",
   "metadata": {},
   "source": [
    "## 2 Get the Rules"
   ]
  },
  {
   "cell_type": "markdown",
   "metadata": {},
   "source": [
    "For this task, the rules will be the names of people found in both our data and the FE-Database. A rule matches if a name found in the FE-Database can also be found in a sample."
   ]
  },
  {
   "cell_type": "markdown",
   "metadata": {},
   "source": [
    "### 2.1 Standardizing the Names"
   ]
  },
  {
   "cell_type": "markdown",
   "metadata": {},
   "source": [
    "The problem when trying to match the FE-Database with our samples is that there might be different version of single names. For their dataset, Keith. et al used a standardized name version and kept all alternative names in a list in the column *names_org*. If might be possible that the FE-Database contains name versions which do not match with the standardized name of Keith et al., but with one of the versions in the *names_org*-list. (For instance, someone is called *Steiney James Richards Jr.* in the FE-Database and *James Richard* in our samples.)\n",
    "\n",
    "We start solving this problem by mapping the standardized name in all three datasets to the different name versions. Then we can create a \"reversed\" dictionary containing all the different name versions as keys and the corresponding standardized name as value. This does not guarantee yet that we can find an exact name of the FE-Database in one of the name versions. Sometimes, a person has two forenames in the FE-Database, but only one forename is kept in the dataset of Keith et al. Therefore, we will also have to expand the list of names in the FE-Database. For persons whose name consists of more than two parts, we will add all different combinations of their name. \n",
    "\n",
    "\n",
    "After that, we can create the *intersection_fe_and_samples*-list, which contains the standardized names of people mentioned in both datasets and also considers all different versions. (We add a name—a value of the *names_org2names*-Dictionary—to the list if the name can be found in both the keys of the *names_org2names*-Dictionary and in the FE-Database.)\n"
   ]
  },
  {
   "cell_type": "code",
   "execution_count": 11,
   "metadata": {},
   "outputs": [],
   "source": [
    "names2names_org = dict(zip(df_train[\"name\"].to_list(), df_train[\"names_org\"].to_list()))\n",
    "names2names_org.update(dict(zip(df_dev[\"name\"].to_list(), df_dev[\"names_org\"].to_list())))\n",
    "names2names_org.update(dict(zip(df_test[\"name\"].to_list(), df_test[\"names_org\"].to_list())))"
   ]
  },
  {
   "cell_type": "code",
   "execution_count": 12,
   "metadata": {},
   "outputs": [],
   "source": [
    "names_org2names = {}\n",
    "\n",
    "for name, names_org in names2names_org.items():\n",
    "    for name_org in names_org: \n",
    "        names_org2names[name_org] = name"
   ]
  },
  {
   "cell_type": "code",
   "execution_count": 13,
   "metadata": {},
   "outputs": [],
   "source": [
    "names_in_fe_database = fe_database[\"name\"].to_list()\n",
    "new_name_combinations = []\n",
    "\n",
    "for name in names_in_fe_database: \n",
    "    name_parts = list(name.split())\n",
    "    for i in range(len(name_parts)+1):\n",
    "        for combination in combinations(name_parts, i): \n",
    "            if len(combination) > 1:\n",
    "                new_name = \"\"\n",
    "                for word in combination: \n",
    "                    new_name += word\n",
    "                    new_name += \" \"  \n",
    "                new_name = new_name[:-1]\n",
    "                    \n",
    "                new_name_combinations.append(new_name)\n",
    "                \n",
    "\n",
    "names_in_fe_database += new_name_combinations\n",
    "names_in_fe_database = list(set(names_in_fe_database))"
   ]
  },
  {
   "cell_type": "code",
   "execution_count": 14,
   "metadata": {},
   "outputs": [],
   "source": [
    "intersection_fe_and_samples = set([names_org2names[name_org] for name_org in names_org2names.keys() if name_org in names_in_fe_database])"
   ]
  },
  {
   "cell_type": "code",
   "execution_count": 15,
   "metadata": {},
   "outputs": [
    {
     "name": "stdout",
     "output_type": "stream",
     "text": [
      "2654 of the people mentioned in the training, test and test samples can also be found in the FE-Database.\n"
     ]
    }
   ],
   "source": [
    "print(f\"{len(intersection_fe_and_samples)} of the people mentioned in the training, test and test samples can also be found in the FE-Database.\")"
   ]
  },
  {
   "cell_type": "markdown",
   "metadata": {},
   "source": [
    "### 2.2 Mapping Names to Rules"
   ]
  },
  {
   "cell_type": "markdown",
   "metadata": {},
   "source": [
    "We assign all the names we can find in both datasets to a unique rule ID."
   ]
  },
  {
   "cell_type": "code",
   "execution_count": 16,
   "metadata": {},
   "outputs": [],
   "source": [
    "def get_rule2id(intersection_fe_and_samples: Set) -> Dict:\n",
    "    rule2rule_id = {}\n",
    "    rule_id = 0\n",
    "    for name in intersection_fe_and_samples: \n",
    "        rule2rule_id[name] = rule_id\n",
    "        rule_id += 1\n",
    "\n",
    "    return rule2rule_id\n",
    "\n",
    "rule2rule_id = get_rule2id(intersection_fe_and_samples)"
   ]
  },
  {
   "cell_type": "code",
   "execution_count": 17,
   "metadata": {},
   "outputs": [
    {
     "name": "stdout",
     "output_type": "stream",
     "text": [
      "There are 2654 rules.\n",
      "\n",
      "The first rules of the rule2rule_id dictionary look like this:\n",
      "{'John Toles': 0, 'Martin Whittaker': 1, 'Ryan Stokes': 2, 'Javier Garcia': 3, 'Benjamin Ortiz': 4, 'David Lepine': 5}\n"
     ]
    }
   ],
   "source": [
    "print(f\"There are {len(rule2rule_id)} rules.\")\n",
    "print(\"\\nThe first rules of the rule2rule_id dictionary look like this:\")\n",
    "print(dict(islice(rule2rule_id.items(), 6)))"
   ]
  },
  {
   "cell_type": "markdown",
   "metadata": {},
   "source": [
    "Secondly, we create a dictionary assigning all rules to their label. There are only two classes (someone was killed by the police or was not killed by the police). Since there are no rules indicating that someone was **not** killed by the police, all rules indicate the positive class 1. Therefore, all values of the rule2label dictionary, containing the rule IDs as keys, can be set to 1."
   ]
  },
  {
   "cell_type": "markdown",
   "metadata": {},
   "source": [
    "**Actually, we don't even need these dicts anymore for this preprocesing. Do I have to keep them or can I just delete that?**\n",
    "(it's just there because there are also rule2label and label2label_id in the other tutorials)"
   ]
  },
  {
   "cell_type": "code",
   "execution_count": 18,
   "metadata": {},
   "outputs": [],
   "source": [
    "rule2label = {rule_id: 1 for rule_id in rule2rule_id.values()}"
   ]
  },
  {
   "cell_type": "markdown",
   "metadata": {},
   "source": [
    "Thirdly, we create a label2label_id dictionary. As there are only two classes, this can be done manually."
   ]
  },
  {
   "cell_type": "code",
   "execution_count": 19,
   "metadata": {},
   "outputs": [],
   "source": [
    "label2label_id = {\"negative\":0, \"positive\":1}"
   ]
  },
  {
   "cell_type": "markdown",
   "metadata": {},
   "source": [
    "## 3 Build the T matrix (rules x classes)"
   ]
  },
  {
   "cell_type": "markdown",
   "metadata": {},
   "source": [
    "The rows of the T matrix are the rules and the columns the classes. The T matrix is one-hot encoded. (1 for a rule and its corresponding class.) It will be imported from the data_preprocessing folder of Knodle examples, since the same function can be used in several preprocessing tutorials. "
   ]
  },
  {
   "cell_type": "code",
   "execution_count": 20,
   "metadata": {},
   "outputs": [],
   "source": [
    "mapping_rules_labels_t = get_mapping_rules_labels_t(rule2label, num_classes)"
   ]
  },
  {
   "cell_type": "markdown",
   "metadata": {},
   "source": [
    "## 4 Build the Z matrix (instances x rules)"
   ]
  },
  {
   "cell_type": "markdown",
   "metadata": {},
   "source": [
    "### 4.1 Match Train Data with the rules\n",
    "\n",
    "If an entity (a person) that can also be found in the *rule2rule_id*-Dictionary is mentioned in a sample, the name of this entity will be assigned to the rules column in the dataframe. The column enc_rules contains the rule ID corresponding to the name. We do not need the *names_org*-column anymore."
   ]
  },
  {
   "cell_type": "code",
   "execution_count": 21,
   "metadata": {},
   "outputs": [],
   "source": [
    "def get_df(data: pd.DataFrame, rule2rule_id: Dict) -> pd.DataFrame: \n",
    "    \n",
    "    rules = [name if name in rule2rule_id.keys() else \"\" for name in data[\"name\"].to_list()]\n",
    "    enc_rules = [rule2rule_id[name] if name in rule2rule_id.keys() else \"\" for name in data[\"name\"].to_list()]\n",
    "    data[\"rule\"] = rules\n",
    "    data[\"enc_rule\"] = enc_rules\n",
    "    data = data.drop(['names_org'], axis=1).reset_index(drop = True)\n",
    "    data = data.reset_index()\n",
    "    \n",
    "    return data"
   ]
  },
  {
   "cell_type": "code",
   "execution_count": 22,
   "metadata": {},
   "outputs": [
    {
     "data": {
      "text/html": [
       "<div>\n",
       "<style scoped>\n",
       "    .dataframe tbody tr th:only-of-type {\n",
       "        vertical-align: middle;\n",
       "    }\n",
       "\n",
       "    .dataframe tbody tr th {\n",
       "        vertical-align: top;\n",
       "    }\n",
       "\n",
       "    .dataframe thead th {\n",
       "        text-align: right;\n",
       "    }\n",
       "</style>\n",
       "<table border=\"1\" class=\"dataframe\">\n",
       "  <thead>\n",
       "    <tr style=\"text-align: right;\">\n",
       "      <th></th>\n",
       "      <th>index</th>\n",
       "      <th>name</th>\n",
       "      <th>sample</th>\n",
       "      <th>rule</th>\n",
       "      <th>enc_rule</th>\n",
       "    </tr>\n",
       "  </thead>\n",
       "  <tbody>\n",
       "    <tr>\n",
       "      <th>8</th>\n",
       "      <td>8</td>\n",
       "      <td>Ray Rice</td>\n",
       "      <td>The ad , which began airing in the Philadelphi...</td>\n",
       "      <td>Ray Rice</td>\n",
       "      <td>1079</td>\n",
       "    </tr>\n",
       "    <tr>\n",
       "      <th>9</th>\n",
       "      <td>9</td>\n",
       "      <td>Claire Darbyshire</td>\n",
       "      <td>Parkinson for Metro.co.ukThursday 10 Mar 2016 ...</td>\n",
       "      <td></td>\n",
       "      <td></td>\n",
       "    </tr>\n",
       "    <tr>\n",
       "      <th>10</th>\n",
       "      <td>10</td>\n",
       "      <td>Philando Castile</td>\n",
       "      <td>JPG Banners block the entrance gate as demonst...</td>\n",
       "      <td>Philando Castile</td>\n",
       "      <td>1890</td>\n",
       "    </tr>\n",
       "    <tr>\n",
       "      <th>11</th>\n",
       "      <td>11</td>\n",
       "      <td>Ty Money</td>\n",
       "      <td>On November 25 , less than 24 hours after the ...</td>\n",
       "      <td></td>\n",
       "      <td></td>\n",
       "    </tr>\n",
       "    <tr>\n",
       "      <th>12</th>\n",
       "      <td>12</td>\n",
       "      <td>John Lee</td>\n",
       "      <td>PERSON , 36 , was shot by SAPD Officer TARGET ...</td>\n",
       "      <td></td>\n",
       "      <td></td>\n",
       "    </tr>\n",
       "    <tr>\n",
       "      <th>13</th>\n",
       "      <td>13</td>\n",
       "      <td>Patrick Madden</td>\n",
       "      <td>( PERSON / Times Union ) less Troy Mayor TARGE...</td>\n",
       "      <td></td>\n",
       "      <td></td>\n",
       "    </tr>\n",
       "    <tr>\n",
       "      <th>14</th>\n",
       "      <td>14</td>\n",
       "      <td>Adrian Bankart</td>\n",
       "      <td>Mountain Rescue teams are probing reports of ...</td>\n",
       "      <td></td>\n",
       "      <td></td>\n",
       "    </tr>\n",
       "    <tr>\n",
       "      <th>15</th>\n",
       "      <td>15</td>\n",
       "      <td>Rahul Dravid</td>\n",
       "      <td>No respite for Indian banks , but Mallya 's cr...</td>\n",
       "      <td></td>\n",
       "      <td></td>\n",
       "    </tr>\n",
       "    <tr>\n",
       "      <th>16</th>\n",
       "      <td>16</td>\n",
       "      <td>Brigid Collins</td>\n",
       "      <td>Fuller filed a motion for the Police Departmen...</td>\n",
       "      <td></td>\n",
       "      <td></td>\n",
       "    </tr>\n",
       "    <tr>\n",
       "      <th>17</th>\n",
       "      <td>17</td>\n",
       "      <td>Samaria Rice</td>\n",
       "      <td>TARGET had alleged that police failed to immed...</td>\n",
       "      <td></td>\n",
       "      <td></td>\n",
       "    </tr>\n",
       "    <tr>\n",
       "      <th>18</th>\n",
       "      <td>18</td>\n",
       "      <td>Alton Sterling</td>\n",
       "      <td>Fatal police shooting sparks protests in Baton...</td>\n",
       "      <td>Alton Sterling</td>\n",
       "      <td>736</td>\n",
       "    </tr>\n",
       "    <tr>\n",
       "      <th>19</th>\n",
       "      <td>19</td>\n",
       "      <td>Catherine Ham</td>\n",
       "      <td>PERSON had threatened to call the police about...</td>\n",
       "      <td></td>\n",
       "      <td></td>\n",
       "    </tr>\n",
       "  </tbody>\n",
       "</table>\n",
       "</div>"
      ],
      "text/plain": [
       "    index               name  \\\n",
       "8       8           Ray Rice   \n",
       "9       9  Claire Darbyshire   \n",
       "10     10   Philando Castile   \n",
       "11     11           Ty Money   \n",
       "12     12           John Lee   \n",
       "13     13     Patrick Madden   \n",
       "14     14     Adrian Bankart   \n",
       "15     15       Rahul Dravid   \n",
       "16     16     Brigid Collins   \n",
       "17     17       Samaria Rice   \n",
       "18     18     Alton Sterling   \n",
       "19     19      Catherine Ham   \n",
       "\n",
       "                                               sample              rule  \\\n",
       "8   The ad , which began airing in the Philadelphi...          Ray Rice   \n",
       "9   Parkinson for Metro.co.ukThursday 10 Mar 2016 ...                     \n",
       "10  JPG Banners block the entrance gate as demonst...  Philando Castile   \n",
       "11  On November 25 , less than 24 hours after the ...                     \n",
       "12  PERSON , 36 , was shot by SAPD Officer TARGET ...                     \n",
       "13  ( PERSON / Times Union ) less Troy Mayor TARGE...                     \n",
       "14   Mountain Rescue teams are probing reports of ...                     \n",
       "15  No respite for Indian banks , but Mallya 's cr...                     \n",
       "16  Fuller filed a motion for the Police Departmen...                     \n",
       "17  TARGET had alleged that police failed to immed...                     \n",
       "18  Fatal police shooting sparks protests in Baton...    Alton Sterling   \n",
       "19  PERSON had threatened to call the police about...                     \n",
       "\n",
       "   enc_rule  \n",
       "8      1079  \n",
       "9            \n",
       "10     1890  \n",
       "11           \n",
       "12           \n",
       "13           \n",
       "14           \n",
       "15           \n",
       "16           \n",
       "17           \n",
       "18      736  \n",
       "19           "
      ]
     },
     "execution_count": 22,
     "metadata": {},
     "output_type": "execute_result"
    }
   ],
   "source": [
    "train_data = get_df(df_train, rule2rule_id)\n",
    "train_data[8:20]"
   ]
  },
  {
   "cell_type": "markdown",
   "metadata": {},
   "source": [
    "### 4.2 Match Dev and Test Data with the rules\n",
    "\n",
    "Just as for the train data, we need a Dataframe with a sample, its corresponding rules, and the rule IDs for dev and test data. Moreover, we need the labels and the label IDs that we obtained earlier when reading the test data. The label ID is already present in the data, the label we add manually. "
   ]
  },
  {
   "cell_type": "code",
   "execution_count": 24,
   "metadata": {},
   "outputs": [],
   "source": [
    "def get_dev_test_df(rule2rule_id: Dict, data: pd.DataFrame) -> pd.DataFrame:\n",
    "\n",
    "    dev_test_data = get_df(data, rule2rule_id)\n",
    "    dev_test_data = dev_test_data.rename(columns={\"label\": \"enc_label\"})\n",
    "    dev_test_data['label'] = np.where(dev_test_data['enc_label'] == 0, \"negative\", \"positive\")\n",
    "    \n",
    "    return dev_test_data"
   ]
  },
  {
   "cell_type": "code",
   "execution_count": 25,
   "metadata": {},
   "outputs": [],
   "source": [
    "dev_data = get_dev_test_df(rule2rule_id, df_dev)\n",
    "test_data = get_dev_test_df(rule2rule_id, df_test)"
   ]
  },
  {
   "cell_type": "code",
   "execution_count": 26,
   "metadata": {},
   "outputs": [
    {
     "data": {
      "text/html": [
       "<div>\n",
       "<style scoped>\n",
       "    .dataframe tbody tr th:only-of-type {\n",
       "        vertical-align: middle;\n",
       "    }\n",
       "\n",
       "    .dataframe tbody tr th {\n",
       "        vertical-align: top;\n",
       "    }\n",
       "\n",
       "    .dataframe thead th {\n",
       "        text-align: right;\n",
       "    }\n",
       "</style>\n",
       "<table border=\"1\" class=\"dataframe\">\n",
       "  <thead>\n",
       "    <tr style=\"text-align: right;\">\n",
       "      <th></th>\n",
       "      <th>index</th>\n",
       "      <th>name</th>\n",
       "      <th>sample</th>\n",
       "      <th>enc_label</th>\n",
       "      <th>rule</th>\n",
       "      <th>enc_rule</th>\n",
       "      <th>label</th>\n",
       "    </tr>\n",
       "  </thead>\n",
       "  <tbody>\n",
       "    <tr>\n",
       "      <th>0</th>\n",
       "      <td>0</td>\n",
       "      <td>Joe Shuman</td>\n",
       "      <td>[ ] TARGET / Chicago Tribune Lake County Major...</td>\n",
       "      <td>0</td>\n",
       "      <td></td>\n",
       "      <td></td>\n",
       "      <td>negative</td>\n",
       "    </tr>\n",
       "    <tr>\n",
       "      <th>1</th>\n",
       "      <td>1</td>\n",
       "      <td>Joe Shuman</td>\n",
       "      <td>Round Lake police shooting Round Lake police s...</td>\n",
       "      <td>0</td>\n",
       "      <td></td>\n",
       "      <td></td>\n",
       "      <td>negative</td>\n",
       "    </tr>\n",
       "    <tr>\n",
       "      <th>2</th>\n",
       "      <td>2</td>\n",
       "      <td>Joe Shuman</td>\n",
       "      <td>PERSON shooting PERSON shooting TARGET / Chica...</td>\n",
       "      <td>0</td>\n",
       "      <td></td>\n",
       "      <td></td>\n",
       "      <td>negative</td>\n",
       "    </tr>\n",
       "    <tr>\n",
       "      <th>3</th>\n",
       "      <td>3</td>\n",
       "      <td>Joe Shuman</td>\n",
       "      <td>Scene of Round Lake police shooting Scene of R...</td>\n",
       "      <td>0</td>\n",
       "      <td></td>\n",
       "      <td></td>\n",
       "      <td>negative</td>\n",
       "    </tr>\n",
       "    <tr>\n",
       "      <th>4</th>\n",
       "      <td>4</td>\n",
       "      <td>Joe Shuman</td>\n",
       "      <td>involved shooting TARGET / Chicago Tribune The...</td>\n",
       "      <td>0</td>\n",
       "      <td></td>\n",
       "      <td></td>\n",
       "      <td>negative</td>\n",
       "    </tr>\n",
       "  </tbody>\n",
       "</table>\n",
       "</div>"
      ],
      "text/plain": [
       "   index        name                                             sample  \\\n",
       "0      0  Joe Shuman  [ ] TARGET / Chicago Tribune Lake County Major...   \n",
       "1      1  Joe Shuman  Round Lake police shooting Round Lake police s...   \n",
       "2      2  Joe Shuman  PERSON shooting PERSON shooting TARGET / Chica...   \n",
       "3      3  Joe Shuman  Scene of Round Lake police shooting Scene of R...   \n",
       "4      4  Joe Shuman  involved shooting TARGET / Chicago Tribune The...   \n",
       "\n",
       "   enc_label rule enc_rule     label  \n",
       "0          0                negative  \n",
       "1          0                negative  \n",
       "2          0                negative  \n",
       "3          0                negative  \n",
       "4          0                negative  "
      ]
     },
     "execution_count": 26,
     "metadata": {},
     "output_type": "execute_result"
    }
   ],
   "source": [
    "test_data.head()"
   ]
  },
  {
   "cell_type": "markdown",
   "metadata": {},
   "source": [
    "*(The test data is so confusing!\n",
    "Some of them didn't actually get killed by the police. Harold Paniyak, for instance, commited suicide.)*"
   ]
  },
  {
   "cell_type": "markdown",
   "metadata": {},
   "source": [
    "### 4.3 Convert Dataframes to (Sparse) Matrices\n",
    "\n",
    "The train, test, and development data that we just stored as Pandas Dataframes should now be converted into a Scipy sparse matrix. The rows of the sparse matrix are the samples and the columns are the rules (i.e., a cell is 1 if the corresponding rule matches the corresponding sample, 0 otherwise). We initialize it as an array in the correct size (samples x rules), fill it with 1s and 0s, and convert it to a sparse matrix at the end."
   ]
  },
  {
   "cell_type": "code",
   "execution_count": 29,
   "metadata": {},
   "outputs": [],
   "source": [
    "def get_rule_matches_z_matrix(df: pd.DataFrame) -> sp.csr_matrix:\n",
    "\n",
    "    z_array = np.zeros((len(df[\"index\"].values), len(rule2rule_id)))\n",
    "\n",
    "    for index in df[\"index\"]:\n",
    "        rule = df.iloc[index]['enc_rule']\n",
    "        if rule != \"\":\n",
    "            z_array[index][rule] = 1\n",
    "\n",
    "    rule_matches_z_matrix_sparse = sp.csr_matrix(z_array)\n",
    "\n",
    "    return rule_matches_z_matrix_sparse"
   ]
  },
  {
   "cell_type": "code",
   "execution_count": 30,
   "metadata": {},
   "outputs": [],
   "source": [
    "train_rule_matches_z = get_rule_matches_z_matrix(train_data)\n",
    "dev_rule_matches_z = get_rule_matches_z_matrix(dev_data)\n",
    "test_rule_matches_z = get_rule_matches_z_matrix(test_data)"
   ]
  },
  {
   "cell_type": "markdown",
   "metadata": {},
   "source": [
    "## 5 Save the Files"
   ]
  },
  {
   "cell_type": "code",
   "execution_count": 32,
   "metadata": {},
   "outputs": [
    {
     "data": {
      "text/plain": [
       "['../../../data_from_minio/police_killing\\\\processed_kb\\\\test_rule_matches_z.lib']"
      ]
     },
     "execution_count": 32,
     "metadata": {},
     "output_type": "execute_result"
    }
   ],
   "source": [
    "Path(os.path.join(data_path, \"processed_kb\")).mkdir(parents=True, exist_ok=True)\n",
    "\n",
    "dump(sp.csr_matrix(mapping_rules_labels_t), os.path.join(data_path, \"processed_kb\", T_MATRIX_TRAIN))\n",
    "\n",
    "dump(train_data[\"sample\"], os.path.join(data_path, \"processed_kb\", TRAIN_SAMPLES_OUTPUT))\n",
    "train_data[\"sample\"].to_csv(os.path.join(data_path, \"processed_kb\", TRAIN_SAMPLES_CSV), header=True)\n",
    "dump(train_rule_matches_z, os.path.join(data_path, \"processed_kb\", Z_MATRIX_TRAIN))\n",
    "\n",
    "dump(dev_data[[\"sample\", \"label\", \"enc_label\"]], os.path.join(data_path, \"processed_kb\", DEV_SAMPLES_OUTPUT))\n",
    "dev_data[[\"sample\", \"label\", \"enc_label\"]].to_csv(os.path.join(data_path, \"processed_kb\", DEV_SAMPLES_CSV), header=True)\n",
    "dump(dev_rule_matches_z, os.path.join(data_path, \"processed_kb\", Z_MATRIX_DEV))\n",
    "\n",
    "dump(test_data[[\"sample\", \"label\", \"enc_label\"]], os.path.join(data_path, \"processed_kb\", TEST_SAMPLES_OUTPUT))\n",
    "test_data[[\"sample\", \"label\", \"enc_label\"]].to_csv(os.path.join(data_path, \"processed_kb\", TEST_SAMPLES_CSV), header=True)\n",
    "dump(test_rule_matches_z, os.path.join(data_path, \"processed_kb\", Z_MATRIX_TEST))"
   ]
  },
  {
   "cell_type": "markdown",
   "metadata": {},
   "source": [
    "## Rule Accuracy and Some Statistics\n",
    "\n",
    "For the rule accuracy, we will compare the weak labels of the test data to the gold labels to check how reliable the rules are. "
   ]
  },
  {
   "cell_type": "code",
   "execution_count": 34,
   "metadata": {},
   "outputs": [],
   "source": [
    "positive_test_samples = test_data[test_data.enc_label == 1].shape[0]\n",
    "negative_test_samples = test_data[test_data.enc_label == 0].shape[0]"
   ]
  },
  {
   "cell_type": "code",
   "execution_count": 36,
   "metadata": {},
   "outputs": [],
   "source": [
    "true_positive = 0\n",
    "true_negative = 0\n",
    "false_positive = 0\n",
    "false_negative = 0\n",
    "matched_instances = test_data[\"enc_rule\"].str.len() != 0\n",
    "\n",
    "for row in range(test_data.shape[0]):\n",
    "    if test_data.loc[row][\"enc_label\"] == 1: # the true label is 1\n",
    "        if matched_instances[row]: # the predicted label is 1\n",
    "            true_positive += 1\n",
    "        else: # the predicted label is 0\n",
    "            false_negative += 1\n",
    "    else: # the true label is 0\n",
    "        if matched_instances[row]: # the predicted label is 1\n",
    "            false_positive += 1\n",
    "        else: # the predicted label is 0\n",
    "            true_negative += 1\n",
    "                 \n",
    "true_positive_percent = (100 / positive_test_samples) * true_positive\n",
    "true_negative_percent = (100 / negative_test_samples) * true_negative"
   ]
  },
  {
   "cell_type": "code",
   "execution_count": 37,
   "metadata": {},
   "outputs": [
    {
     "name": "stdout",
     "output_type": "stream",
     "text": [
      "Out of 48247 samples in the testdata, 8878 samples are positive and 39369 are negative.\n",
      "\n",
      "By using only the rules to obtain weak labels, 93.19666591574679% of all positive samples are matched by a rule and therefore labeled as positive. 97.46247047169092% of all negative samples are correctly classified as negative.\n",
      "\n",
      "True positives: 8274 \n",
      "True negatives: 38370 \n",
      "False positives: 999 \n",
      "False negatives: 604\n"
     ]
    }
   ],
   "source": [
    "print(f\"Out of {test_data.shape[0]} samples in the testdata, {positive_test_samples} samples are positive and {negative_test_samples} are negative.\\n\") \n",
    "print(f\"By using only the rules to obtain weak labels, {true_positive_percent}% of all positive samples are matched by a rule and therefore labeled as positive. {true_negative_percent}% of all negative samples are correctly classified as negative.\\n\") \n",
    "print(f\"True positives: {true_positive} \\nTrue negatives: {true_negative} \\nFalse positives: {false_positive} \\nFalse negatives: {false_negative}\")"
   ]
  },
  {
   "cell_type": "markdown",
   "metadata": {},
   "source": [
    "**F1-Score**"
   ]
  },
  {
   "cell_type": "code",
   "execution_count": 38,
   "metadata": {},
   "outputs": [
    {
     "name": "stdout",
     "output_type": "stream",
     "text": [
      "F1-Score: 0.911685306594678\n"
     ]
    }
   ],
   "source": [
    "relevant = positive_test_samples\n",
    "retrieved = true_positive + false_positive\n",
    "\n",
    "prec = true_positive / retrieved\n",
    "rec = true_positive / relevant\n",
    "\n",
    "f1 = (2 * prec * rec) / (prec + rec)\n",
    "\n",
    "print(f\"F1-Score: {f1}\")"
   ]
  },
  {
   "cell_type": "markdown",
   "metadata": {},
   "source": [
    "**Quick look at the false negatives - why are they not matched by a rule?**"
   ]
  },
  {
   "cell_type": "code",
   "execution_count": 40,
   "metadata": {},
   "outputs": [
    {
     "data": {
      "text/html": [
       "<div>\n",
       "<style scoped>\n",
       "    .dataframe tbody tr th:only-of-type {\n",
       "        vertical-align: middle;\n",
       "    }\n",
       "\n",
       "    .dataframe tbody tr th {\n",
       "        vertical-align: top;\n",
       "    }\n",
       "\n",
       "    .dataframe thead th {\n",
       "        text-align: right;\n",
       "    }\n",
       "</style>\n",
       "<table border=\"1\" class=\"dataframe\">\n",
       "  <thead>\n",
       "    <tr style=\"text-align: right;\">\n",
       "      <th></th>\n",
       "      <th>index</th>\n",
       "      <th>name</th>\n",
       "      <th>sample</th>\n",
       "      <th>enc_label</th>\n",
       "      <th>rule</th>\n",
       "      <th>enc_rule</th>\n",
       "      <th>label</th>\n",
       "    </tr>\n",
       "  </thead>\n",
       "  <tbody>\n",
       "    <tr>\n",
       "      <th>118</th>\n",
       "      <td>118</td>\n",
       "      <td>Jessica Nelson</td>\n",
       "      <td>In addition , police have killed nine black wo...</td>\n",
       "      <td>1</td>\n",
       "      <td></td>\n",
       "      <td></td>\n",
       "      <td>positive</td>\n",
       "    </tr>\n",
       "    <tr>\n",
       "      <th>753</th>\n",
       "      <td>753</td>\n",
       "      <td>la Cruz</td>\n",
       "      <td>Attorney TARGET , who represents the family , ...</td>\n",
       "      <td>1</td>\n",
       "      <td></td>\n",
       "      <td></td>\n",
       "      <td>positive</td>\n",
       "    </tr>\n",
       "    <tr>\n",
       "      <th>1133</th>\n",
       "      <td>1133</td>\n",
       "      <td>Richard Smith</td>\n",
       "      <td>Police identified the officers involved in the...</td>\n",
       "      <td>1</td>\n",
       "      <td></td>\n",
       "      <td></td>\n",
       "      <td>positive</td>\n",
       "    </tr>\n",
       "    <tr>\n",
       "      <th>1134</th>\n",
       "      <td>1134</td>\n",
       "      <td>Richard Smith</td>\n",
       "      <td>The two officers who shot Jester were identifi...</td>\n",
       "      <td>1</td>\n",
       "      <td></td>\n",
       "      <td></td>\n",
       "      <td>positive</td>\n",
       "    </tr>\n",
       "    <tr>\n",
       "      <th>1135</th>\n",
       "      <td>1135</td>\n",
       "      <td>Richard Smith</td>\n",
       "      <td>PERSON Father TARGET listens to speakers at a ...</td>\n",
       "      <td>1</td>\n",
       "      <td></td>\n",
       "      <td></td>\n",
       "      <td>positive</td>\n",
       "    </tr>\n",
       "    <tr>\n",
       "      <th>...</th>\n",
       "      <td>...</td>\n",
       "      <td>...</td>\n",
       "      <td>...</td>\n",
       "      <td>...</td>\n",
       "      <td>...</td>\n",
       "      <td>...</td>\n",
       "      <td>...</td>\n",
       "    </tr>\n",
       "    <tr>\n",
       "      <th>47930</th>\n",
       "      <td>47930</td>\n",
       "      <td>Justin White</td>\n",
       "      <td>Two other officers were killed in car crashes ...</td>\n",
       "      <td>1</td>\n",
       "      <td></td>\n",
       "      <td></td>\n",
       "      <td>positive</td>\n",
       "    </tr>\n",
       "    <tr>\n",
       "      <th>47931</th>\n",
       "      <td>47931</td>\n",
       "      <td>Justin White</td>\n",
       "      <td>Two other officers were killed in car crashes ...</td>\n",
       "      <td>1</td>\n",
       "      <td></td>\n",
       "      <td></td>\n",
       "      <td>positive</td>\n",
       "    </tr>\n",
       "    <tr>\n",
       "      <th>48089</th>\n",
       "      <td>48089</td>\n",
       "      <td>Frank Viggiano</td>\n",
       "      <td>trailer killed a fellow Linden officer TARGET ...</td>\n",
       "      <td>1</td>\n",
       "      <td></td>\n",
       "      <td></td>\n",
       "      <td>positive</td>\n",
       "    </tr>\n",
       "    <tr>\n",
       "      <th>48090</th>\n",
       "      <td>48090</td>\n",
       "      <td>Frank Viggiano</td>\n",
       "      <td>Two of PERSON 's passengers were killed , amon...</td>\n",
       "      <td>1</td>\n",
       "      <td></td>\n",
       "      <td></td>\n",
       "      <td>positive</td>\n",
       "    </tr>\n",
       "    <tr>\n",
       "      <th>48091</th>\n",
       "      <td>48091</td>\n",
       "      <td>Frank Viggiano</td>\n",
       "      <td>count indictment charging him with vehicular h...</td>\n",
       "      <td>1</td>\n",
       "      <td></td>\n",
       "      <td></td>\n",
       "      <td>positive</td>\n",
       "    </tr>\n",
       "  </tbody>\n",
       "</table>\n",
       "<p>604 rows × 7 columns</p>\n",
       "</div>"
      ],
      "text/plain": [
       "       index            name  \\\n",
       "118      118  Jessica Nelson   \n",
       "753      753         la Cruz   \n",
       "1133    1133   Richard Smith   \n",
       "1134    1134   Richard Smith   \n",
       "1135    1135   Richard Smith   \n",
       "...      ...             ...   \n",
       "47930  47930    Justin White   \n",
       "47931  47931    Justin White   \n",
       "48089  48089  Frank Viggiano   \n",
       "48090  48090  Frank Viggiano   \n",
       "48091  48091  Frank Viggiano   \n",
       "\n",
       "                                                  sample  enc_label rule  \\\n",
       "118    In addition , police have killed nine black wo...          1        \n",
       "753    Attorney TARGET , who represents the family , ...          1        \n",
       "1133   Police identified the officers involved in the...          1        \n",
       "1134   The two officers who shot Jester were identifi...          1        \n",
       "1135   PERSON Father TARGET listens to speakers at a ...          1        \n",
       "...                                                  ...        ...  ...   \n",
       "47930  Two other officers were killed in car crashes ...          1        \n",
       "47931  Two other officers were killed in car crashes ...          1        \n",
       "48089  trailer killed a fellow Linden officer TARGET ...          1        \n",
       "48090  Two of PERSON 's passengers were killed , amon...          1        \n",
       "48091  count indictment charging him with vehicular h...          1        \n",
       "\n",
       "      enc_rule     label  \n",
       "118             positive  \n",
       "753             positive  \n",
       "1133            positive  \n",
       "1134            positive  \n",
       "1135            positive  \n",
       "...        ...       ...  \n",
       "47930           positive  \n",
       "47931           positive  \n",
       "48089           positive  \n",
       "48090           positive  \n",
       "48091           positive  \n",
       "\n",
       "[604 rows x 7 columns]"
      ]
     },
     "execution_count": 40,
     "metadata": {},
     "output_type": "execute_result"
    }
   ],
   "source": [
    "test_data[(test_data[\"label\"] == \"positive\") & (test_data[\"enc_rule\"] == \"\")]"
   ]
  },
  {
   "cell_type": "markdown",
   "metadata": {},
   "source": [
    "## Finish"
   ]
  },
  {
   "cell_type": "markdown",
   "metadata": {},
   "source": [
    "Now our dataset is ready for the training.The rule accuracy is surprisingly high when we use the entries of the Fatal Encounters Database as rules! The F1-Score of 0.912 proves that our labels are already almost perfect. In the next step using Knodle we will see if we can even further improve them."
   ]
  }
 ],
 "metadata": {
  "kernelspec": {
   "display_name": "Python 3",
   "language": "python",
   "name": "python3"
  },
  "language_info": {
   "codemirror_mode": {
    "name": "ipython",
    "version": 3
   },
   "file_extension": ".py",
   "mimetype": "text/x-python",
   "name": "python",
   "nbconvert_exporter": "python",
   "pygments_lexer": "ipython3",
   "version": "3.8.5"
  }
 },
 "nbformat": 4,
 "nbformat_minor": 4
}
