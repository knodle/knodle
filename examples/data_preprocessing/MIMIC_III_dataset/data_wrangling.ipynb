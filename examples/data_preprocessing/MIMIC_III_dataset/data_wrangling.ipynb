{
 "cells": [
  {
   "cell_type": "markdown",
   "metadata": {},
   "source": [
    "<h1>Task 2 Data Wrangling</h1>"
   ]
  },
  {
   "cell_type": "code",
   "execution_count": 1,
   "metadata": {},
   "outputs": [],
   "source": [
    "import pandas as pd\n",
    "import os\n",
    "import nltk\n",
    "from nltk.corpus import stopwords\n",
    "from nltk.util import ngrams\n",
    "from string import punctuation\n",
    "import re\n",
    "\n",
    "pd.set_option('display.max_rows', 10)"
   ]
  },
  {
   "cell_type": "markdown",
   "metadata": {},
   "source": [
    "<h2>MIMIC III</h2>"
   ]
  },
  {
   "cell_type": "markdown",
   "metadata": {},
   "source": [
    "First we load the MIMIC III dataset, which will function as our training/development dataset. Before we can use the data for building our weak supervision models we still have to do some preprocessing of certain columns."
   ]
  },
  {
   "cell_type": "code",
   "execution_count": 2,
   "metadata": {},
   "outputs": [],
   "source": [
    "df_notes = pd.read_csv('./data/train/mimic-iii-clinical-database-1.4/NOTEEVENTS.csv', low_memory=False)"
   ]
  },
  {
   "cell_type": "code",
   "execution_count": 5,
   "metadata": {},
   "outputs": [
    {
     "data": {
      "text/plain": [
       "(2083180, 11)"
      ]
     },
     "execution_count": 5,
     "metadata": {},
     "output_type": "execute_result"
    }
   ],
   "source": [
    "df_notes.shape"
   ]
  },
  {
   "cell_type": "code",
   "execution_count": 5,
   "metadata": {},
   "outputs": [
    {
     "data": {
      "text/html": [
       "<div>\n",
       "<style scoped>\n",
       "    .dataframe tbody tr th:only-of-type {\n",
       "        vertical-align: middle;\n",
       "    }\n",
       "\n",
       "    .dataframe tbody tr th {\n",
       "        vertical-align: top;\n",
       "    }\n",
       "\n",
       "    .dataframe thead th {\n",
       "        text-align: right;\n",
       "    }\n",
       "</style>\n",
       "<table border=\"1\" class=\"dataframe\">\n",
       "  <thead>\n",
       "    <tr style=\"text-align: right;\">\n",
       "      <th></th>\n",
       "      <th>ROW_ID</th>\n",
       "      <th>SUBJECT_ID</th>\n",
       "      <th>HADM_ID</th>\n",
       "      <th>CHARTDATE</th>\n",
       "      <th>CHARTTIME</th>\n",
       "      <th>STORETIME</th>\n",
       "      <th>CATEGORY</th>\n",
       "      <th>DESCRIPTION</th>\n",
       "      <th>CGID</th>\n",
       "      <th>ISERROR</th>\n",
       "      <th>TEXT</th>\n",
       "    </tr>\n",
       "  </thead>\n",
       "  <tbody>\n",
       "    <tr>\n",
       "      <th>0</th>\n",
       "      <td>174</td>\n",
       "      <td>22532</td>\n",
       "      <td>167853.0</td>\n",
       "      <td>2151-08-04</td>\n",
       "      <td>NaN</td>\n",
       "      <td>NaN</td>\n",
       "      <td>Discharge summary</td>\n",
       "      <td>Report</td>\n",
       "      <td>NaN</td>\n",
       "      <td>NaN</td>\n",
       "      <td>Admission Date:  [**2151-7-16**]       Dischar...</td>\n",
       "    </tr>\n",
       "    <tr>\n",
       "      <th>1</th>\n",
       "      <td>175</td>\n",
       "      <td>13702</td>\n",
       "      <td>107527.0</td>\n",
       "      <td>2118-06-14</td>\n",
       "      <td>NaN</td>\n",
       "      <td>NaN</td>\n",
       "      <td>Discharge summary</td>\n",
       "      <td>Report</td>\n",
       "      <td>NaN</td>\n",
       "      <td>NaN</td>\n",
       "      <td>Admission Date:  [**2118-6-2**]       Discharg...</td>\n",
       "    </tr>\n",
       "    <tr>\n",
       "      <th>2</th>\n",
       "      <td>176</td>\n",
       "      <td>13702</td>\n",
       "      <td>167118.0</td>\n",
       "      <td>2119-05-25</td>\n",
       "      <td>NaN</td>\n",
       "      <td>NaN</td>\n",
       "      <td>Discharge summary</td>\n",
       "      <td>Report</td>\n",
       "      <td>NaN</td>\n",
       "      <td>NaN</td>\n",
       "      <td>Admission Date:  [**2119-5-4**]              D...</td>\n",
       "    </tr>\n",
       "    <tr>\n",
       "      <th>3</th>\n",
       "      <td>177</td>\n",
       "      <td>13702</td>\n",
       "      <td>196489.0</td>\n",
       "      <td>2124-08-18</td>\n",
       "      <td>NaN</td>\n",
       "      <td>NaN</td>\n",
       "      <td>Discharge summary</td>\n",
       "      <td>Report</td>\n",
       "      <td>NaN</td>\n",
       "      <td>NaN</td>\n",
       "      <td>Admission Date:  [**2124-7-21**]              ...</td>\n",
       "    </tr>\n",
       "    <tr>\n",
       "      <th>4</th>\n",
       "      <td>178</td>\n",
       "      <td>26880</td>\n",
       "      <td>135453.0</td>\n",
       "      <td>2162-03-25</td>\n",
       "      <td>NaN</td>\n",
       "      <td>NaN</td>\n",
       "      <td>Discharge summary</td>\n",
       "      <td>Report</td>\n",
       "      <td>NaN</td>\n",
       "      <td>NaN</td>\n",
       "      <td>Admission Date:  [**2162-3-3**]              D...</td>\n",
       "    </tr>\n",
       "  </tbody>\n",
       "</table>\n",
       "</div>"
      ],
      "text/plain": [
       "   ROW_ID  SUBJECT_ID   HADM_ID   CHARTDATE CHARTTIME STORETIME  \\\n",
       "0     174       22532  167853.0  2151-08-04       NaN       NaN   \n",
       "1     175       13702  107527.0  2118-06-14       NaN       NaN   \n",
       "2     176       13702  167118.0  2119-05-25       NaN       NaN   \n",
       "3     177       13702  196489.0  2124-08-18       NaN       NaN   \n",
       "4     178       26880  135453.0  2162-03-25       NaN       NaN   \n",
       "\n",
       "            CATEGORY DESCRIPTION  CGID  ISERROR  \\\n",
       "0  Discharge summary      Report   NaN      NaN   \n",
       "1  Discharge summary      Report   NaN      NaN   \n",
       "2  Discharge summary      Report   NaN      NaN   \n",
       "3  Discharge summary      Report   NaN      NaN   \n",
       "4  Discharge summary      Report   NaN      NaN   \n",
       "\n",
       "                                                TEXT  \n",
       "0  Admission Date:  [**2151-7-16**]       Dischar...  \n",
       "1  Admission Date:  [**2118-6-2**]       Discharg...  \n",
       "2  Admission Date:  [**2119-5-4**]              D...  \n",
       "3  Admission Date:  [**2124-7-21**]              ...  \n",
       "4  Admission Date:  [**2162-3-3**]              D...  "
      ]
     },
     "execution_count": 5,
     "metadata": {},
     "output_type": "execute_result"
    }
   ],
   "source": [
    "df_notes.head()"
   ]
  },
  {
   "cell_type": "markdown",
   "metadata": {},
   "source": [
    "<h2>Preprocessing</h2>"
   ]
  },
  {
   "cell_type": "code",
   "execution_count": 3,
   "metadata": {},
   "outputs": [],
   "source": [
    "notes_text = df_notes.TEXT"
   ]
  },
  {
   "cell_type": "code",
   "execution_count": 4,
   "metadata": {},
   "outputs": [
    {
     "name": "stderr",
     "output_type": "stream",
     "text": [
      "/home/david/.local/lib/python3.7/site-packages/ipykernel_launcher.py:1: FutureWarning: The default value of regex will change from True to False in a future version.\n",
      "  \"\"\"Entry point for launching an IPython kernel.\n"
     ]
    }
   ],
   "source": [
    "notes_text = notes_text.str.replace(r'\\[\\*\\*\\d{4}-\\d{1,2}-\\d{1,2}\\*\\*\\]', '') # extracting date values"
   ]
  },
  {
   "cell_type": "code",
   "execution_count": 5,
   "metadata": {},
   "outputs": [],
   "source": [
    "punctuation = list(punctuation)\n",
    "stopwords = stopwords.words('english')\n",
    "sentence_ids = {'.', '!', '?', '\\''}\n",
    "punctuation = [p for p in punctuation if p not in sentence_ids] # punctuation without sentence identifiers\n",
    "remove_words = stopwords + punctuation"
   ]
  },
  {
   "cell_type": "code",
   "execution_count": 6,
   "metadata": {},
   "outputs": [],
   "source": [
    "notes_text = notes_text.apply(lambda x: ' '.join([word for word in x.split() if word not in (remove_words)]))"
   ]
  },
  {
   "cell_type": "markdown",
   "metadata": {},
   "source": [
    "For feeding the MIMIC III data to our labeling functions we opted for a n-gram approach - i. e. every note entry is split into x n-grams corresponding to x number of rows. As a starting point we opted for a value of 3 for our n-gram parameter, which can of course still be adapted if a given subtask requires finetuning."
   ]
  },
  {
   "cell_type": "code",
   "execution_count": null,
   "metadata": {},
   "outputs": [],
   "source": [
    "notes_ngrams = notes_text.str.split().apply(lambda x: list(map(' '.join, ngrams(x, n=3)))).explode()"
   ]
  },
  {
   "cell_type": "code",
   "execution_count": null,
   "metadata": {},
   "outputs": [],
   "source": [
    "notes_ngrams.to_csv('./data/train/notes_preprocessed.csv', index=False)"
   ]
  },
  {
   "cell_type": "markdown",
   "metadata": {},
   "source": [
    "<h2>Labeling Functions</h2>"
   ]
  },
  {
   "cell_type": "markdown",
   "metadata": {},
   "source": [
    "As a next step we load a text file containing a list of the most important clinical departments. This list was scraped from different sources, which are also provided in the text file. The input from the text file is then transformed into a dictionary, consisting of various key-value pairs, with each key denoting a different clinical department while the corresponding value refers to a list of different possible names and acronomys for the respective key. This dictionary will later be used as an input for our labeling functions."
   ]
  },
  {
   "cell_type": "code",
   "execution_count": 1,
   "metadata": {},
   "outputs": [
    {
     "data": {
      "text/plain": [
       "{'Department of Admissions': ['Admission',\n",
       "  'Admissions',\n",
       "  'Admitting Department'],\n",
       " 'Department of Anaesthesia, Intensive Care Medicine and Pain Medicine': ['Anesthetics',\n",
       "  'Anesthesiology'],\n",
       " 'Department of Blood Group Serology and Transfusion Medicine': ['Serology',\n",
       "  'Transfusion Medicine'],\n",
       " 'Department of Cardiac Surgery': ['Cardiology'],\n",
       " 'Department of Clinical Pathology': ['Clinical Pathology',\n",
       "  'Medical Laboratory'],\n",
       " 'Department of Dermatology': ['Dermatology'],\n",
       " 'Department of Ear, Nose and Throat Diseases': ['Otolaryngology',\n",
       "  'ENT Department',\n",
       "  'Ear',\n",
       "  'Nose and Throat Diseases'],\n",
       " 'Department of Emergency Medicine': ['Accident and emergency',\n",
       "  'A&E',\n",
       "  'Casualty Department'],\n",
       " 'Department of Gastroenterology': ['Gastroenterology'],\n",
       " 'Department of General Surgery': ['General Surgery', 'Surgery'],\n",
       " 'Department of Geriatry': ['Geriatric Department', 'Geriatrics'],\n",
       " 'Department of Haematology': ['Haematology'],\n",
       " 'Department of Hospital Hygiene and Infection Control': ['Central Sterile Services Department',\n",
       "  'CSSD',\n",
       "  'Sterile Processing Department',\n",
       "  'SPD',\n",
       "  'Sterile Processing',\n",
       "  'Infection Control'],\n",
       " 'Department of Medicine': ['Pharmacy', 'Medicine Department'],\n",
       " 'Department of Neurology': ['Neurology'],\n",
       " 'Department of Nursing': ['Nursing Department'],\n",
       " 'Department of Nutrition and Dietetics': ['Nutrition Department',\n",
       "  'Dietetics'],\n",
       " 'Department of Obstetrics and Gynaecology': ['Gynaecology',\n",
       "  'Gynecology',\n",
       "  'Obstetrics'],\n",
       " 'Department of Ophthalmology and Optometry': ['Ophthalmology', 'Optometry'],\n",
       " 'Department of Oral and Maxillofacial Surgery': ['Oral Surgery',\n",
       "  'Maxillofacial Surgery'],\n",
       " 'Department of Orthopedics': ['Orthopedics', 'Orthopaedics'],\n",
       " 'Department of Pediatrics': ['Pediatrics', 'Paediatrics'],\n",
       " 'Department of Plastic, Reconstructive and Aesthetic Surgery': ['Plastic Surgery Department',\n",
       "  'Aesthetic Surgery Department',\n",
       "  'Reconstructive Surgery Department'],\n",
       " 'Department of Physical Medicine, Rehabilitation and Occupational Medicine': ['Physiotherapy',\n",
       "  'Rehab',\n",
       "  'Rehabilitation Department'],\n",
       " 'Department of Psychiatry': ['Psychiatry'],\n",
       " 'Department of Psychoanalysis and Psychotherapy': ['Psychotherapy',\n",
       "  'Psychoanalysis'],\n",
       " 'Department of Radiation Oncology': ['X-Ray Department',\n",
       "  'Diagnostic Imaging',\n",
       "  'Oncology',\n",
       "  'Radiology',\n",
       "  'Oncology'],\n",
       " 'Department of Thoracic Surgery': ['Thoracic Surgery Department'],\n",
       " 'Department of Urology': ['Urology'],\n",
       " 'Clinic of Dentistry': ['Dentistry'],\n",
       " 'Critical Care': ['Critical Care',\n",
       "  'Intensive Care',\n",
       "  'Intensive Care Unit',\n",
       "  'ICU',\n",
       "  'Critical Care Unit',\n",
       "  'CCU',\n",
       "  'Intensive Treatment Unit',\n",
       "  'ITU',\n",
       "  'Intensive Therapy Unit'],\n",
       " 'Operating Theatre': ['Operating Theatre',\n",
       "  'OT',\n",
       "  'Operating Room',\n",
       "  'Operating Suite',\n",
       "  'Operation Suite'],\n",
       " 'Inpatient Department': ['IPD', 'Inpatient Department'],\n",
       " 'Outpatient Department': ['OPD', 'Outpatient Department']}"
      ]
     },
     "execution_count": 1,
     "metadata": {},
     "output_type": "execute_result"
    }
   ],
   "source": [
    "with open(\"./data/keywords/departments_list.txt\") as dataFile:\n",
    "    departments = {}\n",
    "    for line in dataFile:\n",
    "        if line.strip() == '': # exclude unnecessary lines\n",
    "            break\n",
    "        else:\n",
    "            line = line.split(':')\n",
    "            key, value = line[0], line[1:]\n",
    "            value = [i.replace(';', ',') for i in value]\n",
    "            value = [i.split(',') for i in value]\n",
    "            [[value]] = [value]\n",
    "            value = [i.strip() for i in value]\n",
    "            departments[key] = value\n",
    "\n",
    "departments"
   ]
  },
  {
   "cell_type": "code",
   "execution_count": 8,
   "metadata": {},
   "outputs": [],
   "source": [
    "departments_keywords = list(departments.values())\n",
    "departments_keywords = [item for i in departments_keywords for item in i]"
   ]
  },
  {
   "cell_type": "code",
   "execution_count": 9,
   "metadata": {},
   "outputs": [
    {
     "data": {
      "text/plain": [
       "['Admission',\n",
       " 'Admissions',\n",
       " 'Admitting Department',\n",
       " 'Anesthetics',\n",
       " 'Anesthesiology',\n",
       " 'Serology',\n",
       " 'Transfusion Medicine',\n",
       " 'Cardiology',\n",
       " 'Clinical Pathology',\n",
       " 'Medical Laboratory',\n",
       " 'Dermatology',\n",
       " 'Otolaryngology',\n",
       " 'ENT Department',\n",
       " 'Ear',\n",
       " 'Nose and Throat Diseases',\n",
       " 'Accident and emergency',\n",
       " 'A&E',\n",
       " 'Casualty Department',\n",
       " 'Gastroenterology',\n",
       " 'General Surgery',\n",
       " 'Surgery',\n",
       " 'Geriatric Department',\n",
       " 'Geriatrics',\n",
       " 'Haematology',\n",
       " 'Central Sterile Services Department',\n",
       " 'CSSD',\n",
       " 'Sterile Processing Department',\n",
       " 'SPD',\n",
       " 'Sterile Processing',\n",
       " 'Infection Control',\n",
       " 'Pharmacy',\n",
       " 'Medicine Department',\n",
       " 'Neurology',\n",
       " 'Nursing Department',\n",
       " 'Nutrition Department',\n",
       " 'Dietetics',\n",
       " 'Gynaecology',\n",
       " 'Gynecology',\n",
       " 'Obstetrics',\n",
       " 'Ophthalmology',\n",
       " 'Optometry',\n",
       " 'Oral Surgery',\n",
       " 'Maxillofacial Surgery',\n",
       " 'Orthopedics',\n",
       " 'Orthopaedics',\n",
       " 'Pediatrics',\n",
       " 'Paediatrics',\n",
       " 'Plastic Surgery Department',\n",
       " 'Aesthetic Surgery Department',\n",
       " 'Reconstructive Surgery Department',\n",
       " 'Physiotherapy',\n",
       " 'Rehab',\n",
       " 'Rehabilitation Department',\n",
       " 'Psychiatry',\n",
       " 'Psychotherapy',\n",
       " 'Psychoanalysis',\n",
       " 'X-Ray Department',\n",
       " 'Diagnostic Imaging',\n",
       " 'Oncology',\n",
       " 'Radiology',\n",
       " 'Oncology',\n",
       " 'Thoracic Surgery Department',\n",
       " 'Urology',\n",
       " 'Dentistry',\n",
       " 'Critical Care',\n",
       " 'Intensive Care',\n",
       " 'Intensive Care Unit',\n",
       " 'ICU',\n",
       " 'Critical Care Unit',\n",
       " 'CCU',\n",
       " 'Intensive Treatment Unit',\n",
       " 'ITU',\n",
       " 'Intensive Therapy Unit',\n",
       " 'Operating Theatre',\n",
       " 'OT',\n",
       " 'Operating Room',\n",
       " 'Operating Suite',\n",
       " 'Operation Suite',\n",
       " 'IPD',\n",
       " 'Inpatient Department',\n",
       " 'OPD',\n",
       " 'Outpatient Department']"
      ]
     },
     "execution_count": 9,
     "metadata": {},
     "output_type": "execute_result"
    }
   ],
   "source": [
    "departments_keywords"
   ]
  },
  {
   "cell_type": "code",
   "execution_count": null,
   "metadata": {},
   "outputs": [],
   "source": []
  }
 ],
 "metadata": {
  "kernelspec": {
   "display_name": "Python 3.7.14 64-bit",
   "language": "python",
   "name": "python3"
  },
  "language_info": {
   "codemirror_mode": {
    "name": "ipython",
    "version": 3
   },
   "file_extension": ".py",
   "mimetype": "text/x-python",
   "name": "python",
   "nbconvert_exporter": "python",
   "pygments_lexer": "ipython3",
   "version": "3.7.15"
  },
  "orig_nbformat": 4,
  "vscode": {
   "interpreter": {
    "hash": "fd69f43f58546b570e94fd7eba7b65e6bcc7a5bbc4eab0408017d18902915d69"
   }
  }
 },
 "nbformat": 4,
 "nbformat_minor": 2
}
