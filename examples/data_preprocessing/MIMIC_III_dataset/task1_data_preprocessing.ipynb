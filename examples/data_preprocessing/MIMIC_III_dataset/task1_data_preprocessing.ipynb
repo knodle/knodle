{
 "cells": [
  {
   "cell_type": "markdown",
   "metadata": {},
   "source": [
    "# Task 1 - Disease Named Entity Recognition (D-NER)\n",
    "## Preprocessing Steps"
   ]
  },
  {
   "cell_type": "markdown",
   "metadata": {},
   "source": [
    "### Introduction"
   ]
  },
  {
   "cell_type": "markdown",
   "metadata": {},
   "source": [
    "This project will utilize the Mimic III dataset as training data for a Kndole sequence tagger model.\n",
    "For the development and evaluation of the model, the NCIT dataset will be used, for which the existing tags are as follows:\n",
    "DiseaseClass, SpecificDisease, Modifier, CompositeMention\n",
    "In order to supplement the Mimic III dataset for this task, three other datasets where consulted to aid in the fitting of specific categories for the matching with the structure of the classes:\n",
    "\n",
    "National Cancer Institute Thesaurus: NCI9d - Thesaurus.txt: NCI Thesaurus Version 22.09d - flattened from the owl format \n",
    "from their own webpage: https://evs.nci.nih.gov/evs-download/thesaurus-downloads\n",
    "\n",
    "The vast ULMS dataset (Unified Medical Language System),\n",
    "after authentification, to be accessed at: https://www.nlm.nih.gov/research/umls/licensedcontent/umlsknowledgesources.html\n",
    "Specifically the table NB.DB\n",
    "\n",
    "MEDIC - CTD's MEDIC disease vocabulary is a modified subset of descriptors from the “Diseases” [C] branch of the U.S. National Library of Medicine's Medical Subject Headings (MeSH®),combined with genetic disorders from the Online Mendelian Inheritance in Man® (OMIM®) database. Comparative Toxicogenomics Database: https://ctdbase.org/downloads/#alldiseases"
   ]
  },
  {
   "cell_type": "markdown",
   "metadata": {},
   "source": [
    "Note 1: In a subsequent section all of the prevously processed elements shall be exported and imported, for reuse it is convenient to simply skip to this section."
   ]
  },
  {
   "cell_type": "markdown",
   "metadata": {},
   "source": [
    "Note 2: All the data which is too big for github, will be available for download through a link in the repository discription."
   ]
  },
  {
   "cell_type": "markdown",
   "metadata": {},
   "source": [
    "### Examination"
   ]
  },
  {
   "cell_type": "markdown",
   "metadata": {},
   "source": [
    "In the following section each of the datasets in use will be examined, the relevant sections stripped from them and further processed into lists of strings to be used in rule based labeling functions."
   ]
  },
  {
   "cell_type": "code",
   "execution_count": 81,
   "metadata": {},
   "outputs": [
    {
     "data": {
      "text/html": [
       "<div>\n",
       "<style scoped>\n",
       "    .dataframe tbody tr th:only-of-type {\n",
       "        vertical-align: middle;\n",
       "    }\n",
       "\n",
       "    .dataframe tbody tr th {\n",
       "        vertical-align: top;\n",
       "    }\n",
       "\n",
       "    .dataframe thead th {\n",
       "        text-align: right;\n",
       "    }\n",
       "</style>\n",
       "<table border=\"1\" class=\"dataframe\">\n",
       "  <thead>\n",
       "    <tr style=\"text-align: right;\">\n",
       "      <th></th>\n",
       "      <th>ROW_ID</th>\n",
       "      <th>ICD9_CODE</th>\n",
       "      <th>SHORT_TITLE</th>\n",
       "      <th>LONG_TITLE</th>\n",
       "    </tr>\n",
       "  </thead>\n",
       "  <tbody>\n",
       "    <tr>\n",
       "      <th>0</th>\n",
       "      <td>174</td>\n",
       "      <td>01166</td>\n",
       "      <td>TB pneumonia-oth test</td>\n",
       "      <td>Tuberculous pneumonia [any form], tubercle bac...</td>\n",
       "    </tr>\n",
       "    <tr>\n",
       "      <th>1</th>\n",
       "      <td>175</td>\n",
       "      <td>01170</td>\n",
       "      <td>TB pneumothorax-unspec</td>\n",
       "      <td>Tuberculous pneumothorax, unspecified</td>\n",
       "    </tr>\n",
       "    <tr>\n",
       "      <th>2</th>\n",
       "      <td>176</td>\n",
       "      <td>01171</td>\n",
       "      <td>TB pneumothorax-no exam</td>\n",
       "      <td>Tuberculous pneumothorax, bacteriological or h...</td>\n",
       "    </tr>\n",
       "    <tr>\n",
       "      <th>3</th>\n",
       "      <td>177</td>\n",
       "      <td>01172</td>\n",
       "      <td>TB pneumothorx-exam unkn</td>\n",
       "      <td>Tuberculous pneumothorax, bacteriological or h...</td>\n",
       "    </tr>\n",
       "    <tr>\n",
       "      <th>4</th>\n",
       "      <td>178</td>\n",
       "      <td>01173</td>\n",
       "      <td>TB pneumothorax-micro dx</td>\n",
       "      <td>Tuberculous pneumothorax, tubercle bacilli fou...</td>\n",
       "    </tr>\n",
       "  </tbody>\n",
       "</table>\n",
       "</div>"
      ],
      "text/plain": [
       "   ROW_ID ICD9_CODE               SHORT_TITLE  \\\n",
       "0     174     01166     TB pneumonia-oth test   \n",
       "1     175     01170    TB pneumothorax-unspec   \n",
       "2     176     01171   TB pneumothorax-no exam   \n",
       "3     177     01172  TB pneumothorx-exam unkn   \n",
       "4     178     01173  TB pneumothorax-micro dx   \n",
       "\n",
       "                                          LONG_TITLE  \n",
       "0  Tuberculous pneumonia [any form], tubercle bac...  \n",
       "1              Tuberculous pneumothorax, unspecified  \n",
       "2  Tuberculous pneumothorax, bacteriological or h...  \n",
       "3  Tuberculous pneumothorax, bacteriological or h...  \n",
       "4  Tuberculous pneumothorax, tubercle bacilli fou...  "
      ]
     },
     "execution_count": 81,
     "metadata": {},
     "output_type": "execute_result"
    }
   ],
   "source": [
    "import pandas as pd\n",
    "import os\n",
    "from collections import Counter\n",
    "D_ICD_DIAGNOSES=pd.read_csv('../../../mimic-iii-clinical-database-1.4/D_ICD_DIAGNOSES.csv', sep=',', header=0)\n",
    "D_ICD_DIAGNOSES.head(5)\n"
   ]
  },
  {
   "cell_type": "code",
   "execution_count": 82,
   "metadata": {},
   "outputs": [],
   "source": [
    "DiseaseClass1=D_ICD_DIAGNOSES.loc[:,'SHORT_TITLE']\n",
    "DC1=set(DiseaseClass1.values.tolist()) \n",
    "SpecificDisease1=D_ICD_DIAGNOSES.loc[:,'LONG_TITLE']\n",
    "SD1=set(SpecificDisease1.values.tolist())"
   ]
  },
  {
   "cell_type": "code",
   "execution_count": 83,
   "metadata": {},
   "outputs": [
    {
     "data": {
      "text/html": [
       "<div>\n",
       "<style scoped>\n",
       "    .dataframe tbody tr th:only-of-type {\n",
       "        vertical-align: middle;\n",
       "    }\n",
       "\n",
       "    .dataframe tbody tr th {\n",
       "        vertical-align: top;\n",
       "    }\n",
       "\n",
       "    .dataframe thead th {\n",
       "        text-align: right;\n",
       "    }\n",
       "</style>\n",
       "<table border=\"1\" class=\"dataframe\">\n",
       "  <thead>\n",
       "    <tr style=\"text-align: right;\">\n",
       "      <th></th>\n",
       "      <th>DiseaseName</th>\n",
       "      <th>DiseaseID</th>\n",
       "      <th>AltDiseaseIDs</th>\n",
       "      <th>Definition</th>\n",
       "      <th>ParentIDs</th>\n",
       "      <th>TreeNumbers</th>\n",
       "      <th>ParentTreeNumbers</th>\n",
       "      <th>Synonyms</th>\n",
       "      <th>SlimMappings</th>\n",
       "    </tr>\n",
       "  </thead>\n",
       "  <tbody>\n",
       "    <tr>\n",
       "      <th>0</th>\n",
       "      <td>10p Deletion Syndrome (Partial)</td>\n",
       "      <td>MESH:C538288</td>\n",
       "      <td>NaN</td>\n",
       "      <td>NaN</td>\n",
       "      <td>MESH:D002872|MESH:D025063</td>\n",
       "      <td>C16.131.260/C538288|C16.320.180/C538288|C23.55...</td>\n",
       "      <td>C16.131.260|C16.320.180|C23.550.210.050.500.500</td>\n",
       "      <td>Chromosome 10, 10p- Partial|Chromosome 10, mon...</td>\n",
       "      <td>Congenital abnormality|Genetic disease (inborn...</td>\n",
       "    </tr>\n",
       "    <tr>\n",
       "      <th>1</th>\n",
       "      <td>13q deletion syndrome</td>\n",
       "      <td>MESH:C535484</td>\n",
       "      <td>NaN</td>\n",
       "      <td>NaN</td>\n",
       "      <td>MESH:D002872|MESH:D025063</td>\n",
       "      <td>C16.131.260/C535484|C16.320.180/C535484|C23.55...</td>\n",
       "      <td>C16.131.260|C16.320.180|C23.550.210.050.500.500</td>\n",
       "      <td>Chromosome 13q deletion|Chromosome 13q deletio...</td>\n",
       "      <td>Congenital abnormality|Genetic disease (inborn...</td>\n",
       "    </tr>\n",
       "    <tr>\n",
       "      <th>2</th>\n",
       "      <td>15q24 Microdeletion</td>\n",
       "      <td>MESH:C579849</td>\n",
       "      <td>DO:DOID:0060395</td>\n",
       "      <td>NaN</td>\n",
       "      <td>MESH:D002872|MESH:D008607|MESH:D025063</td>\n",
       "      <td>C10.597.606.360/C579849|C16.131.260/C579849|C1...</td>\n",
       "      <td>C10.597.606.360|C16.131.260|C16.320.180|C23.55...</td>\n",
       "      <td>15q24 Deletion|15q24 Microdeletion Syndrome|In...</td>\n",
       "      <td>Congenital abnormality|Genetic disease (inborn...</td>\n",
       "    </tr>\n",
       "    <tr>\n",
       "      <th>3</th>\n",
       "      <td>16p11.2 Deletion Syndrome</td>\n",
       "      <td>MESH:C579850</td>\n",
       "      <td>NaN</td>\n",
       "      <td>NaN</td>\n",
       "      <td>MESH:D001321|MESH:D002872|MESH:D008607|MESH:D0...</td>\n",
       "      <td>C10.597.606.360/C579850|C16.131.260/C579850|C1...</td>\n",
       "      <td>C10.597.606.360|C16.131.260|C16.320.180|C23.55...</td>\n",
       "      <td>NaN</td>\n",
       "      <td>Congenital abnormality|Genetic disease (inborn...</td>\n",
       "    </tr>\n",
       "    <tr>\n",
       "      <th>4</th>\n",
       "      <td>17,20-Lyase Deficiency, Isolated</td>\n",
       "      <td>MESH:C567076</td>\n",
       "      <td>NaN</td>\n",
       "      <td>NaN</td>\n",
       "      <td>MESH:D000312</td>\n",
       "      <td>C12.050.351.875.253.090.500/C567076|C12.200.70...</td>\n",
       "      <td>C12.050.351.875.253.090.500|C12.200.706.316.09...</td>\n",
       "      <td>17-Alpha-Hydroxylase-17,20-Lyase Deficiency, C...</td>\n",
       "      <td>Congenital abnormality|Endocrine system diseas...</td>\n",
       "    </tr>\n",
       "  </tbody>\n",
       "</table>\n",
       "</div>"
      ],
      "text/plain": [
       "                        DiseaseName     DiseaseID    AltDiseaseIDs Definition  \\\n",
       "0   10p Deletion Syndrome (Partial)  MESH:C538288              NaN        NaN   \n",
       "1             13q deletion syndrome  MESH:C535484              NaN        NaN   \n",
       "2               15q24 Microdeletion  MESH:C579849  DO:DOID:0060395        NaN   \n",
       "3         16p11.2 Deletion Syndrome  MESH:C579850              NaN        NaN   \n",
       "4  17,20-Lyase Deficiency, Isolated  MESH:C567076              NaN        NaN   \n",
       "\n",
       "                                           ParentIDs  \\\n",
       "0                          MESH:D002872|MESH:D025063   \n",
       "1                          MESH:D002872|MESH:D025063   \n",
       "2             MESH:D002872|MESH:D008607|MESH:D025063   \n",
       "3  MESH:D001321|MESH:D002872|MESH:D008607|MESH:D0...   \n",
       "4                                       MESH:D000312   \n",
       "\n",
       "                                         TreeNumbers  \\\n",
       "0  C16.131.260/C538288|C16.320.180/C538288|C23.55...   \n",
       "1  C16.131.260/C535484|C16.320.180/C535484|C23.55...   \n",
       "2  C10.597.606.360/C579849|C16.131.260/C579849|C1...   \n",
       "3  C10.597.606.360/C579850|C16.131.260/C579850|C1...   \n",
       "4  C12.050.351.875.253.090.500/C567076|C12.200.70...   \n",
       "\n",
       "                                   ParentTreeNumbers  \\\n",
       "0    C16.131.260|C16.320.180|C23.550.210.050.500.500   \n",
       "1    C16.131.260|C16.320.180|C23.550.210.050.500.500   \n",
       "2  C10.597.606.360|C16.131.260|C16.320.180|C23.55...   \n",
       "3  C10.597.606.360|C16.131.260|C16.320.180|C23.55...   \n",
       "4  C12.050.351.875.253.090.500|C12.200.706.316.09...   \n",
       "\n",
       "                                            Synonyms  \\\n",
       "0  Chromosome 10, 10p- Partial|Chromosome 10, mon...   \n",
       "1  Chromosome 13q deletion|Chromosome 13q deletio...   \n",
       "2  15q24 Deletion|15q24 Microdeletion Syndrome|In...   \n",
       "3                                                NaN   \n",
       "4  17-Alpha-Hydroxylase-17,20-Lyase Deficiency, C...   \n",
       "\n",
       "                                        SlimMappings  \n",
       "0  Congenital abnormality|Genetic disease (inborn...  \n",
       "1  Congenital abnormality|Genetic disease (inborn...  \n",
       "2  Congenital abnormality|Genetic disease (inborn...  \n",
       "3  Congenital abnormality|Genetic disease (inborn...  \n",
       "4  Congenital abnormality|Endocrine system diseas...  "
      ]
     },
     "execution_count": 83,
     "metadata": {},
     "output_type": "execute_result"
    }
   ],
   "source": [
    "CTD_diseases=pd.read_csv('./CTD_diseases.csv', sep=',', header=0)\n",
    "CTD_diseases.head(5)"
   ]
  },
  {
   "cell_type": "code",
   "execution_count": 84,
   "metadata": {},
   "outputs": [],
   "source": [
    "DiseaseClass2=CTD_diseases.loc[:,'SlimMappings']\n",
    "DC2_input= DiseaseClass2.values.tolist()\n",
    "DC2=[]\n",
    "for former_row in DC2_input:\n",
    "    Sublist=str(former_row).split('|')\n",
    "    for item in Sublist:\n",
    "        DC2.append(item) \n",
    "DC2=set(DC2)"
   ]
  },
  {
   "cell_type": "code",
   "execution_count": 85,
   "metadata": {},
   "outputs": [],
   "source": [
    "SpecificDisease2=CTD_diseases.loc[:,'DiseaseName']\n",
    "SD2=set(SpecificDisease2.values.tolist())\n",
    "SpecificDisease3=CTD_diseases.loc[:,'Synonyms']\n",
    "SD3_input=set(SpecificDisease3.values.tolist())"
   ]
  },
  {
   "cell_type": "code",
   "execution_count": 86,
   "metadata": {},
   "outputs": [],
   "source": [
    "SD3=[]\n",
    "for former_row in SD3_input:\n",
    "    Sublist=str(former_row).split('|')\n",
    "    for item in Sublist:\n",
    "        SD3.append(item) \n",
    "SD3=set(SD3)"
   ]
  },
  {
   "cell_type": "code",
   "execution_count": 87,
   "metadata": {},
   "outputs": [
    {
     "data": {
      "text/html": [
       "<div>\n",
       "<style scoped>\n",
       "    .dataframe tbody tr th:only-of-type {\n",
       "        vertical-align: middle;\n",
       "    }\n",
       "\n",
       "    .dataframe tbody tr th {\n",
       "        vertical-align: top;\n",
       "    }\n",
       "\n",
       "    .dataframe thead th {\n",
       "        text-align: right;\n",
       "    }\n",
       "</style>\n",
       "<table border=\"1\" class=\"dataframe\">\n",
       "  <thead>\n",
       "    <tr style=\"text-align: right;\">\n",
       "      <th></th>\n",
       "      <th>C100000</th>\n",
       "      <th>&lt;http://ncicb.nci.nih.gov/xml/owl/EVS/Thesaurus.owl#C100000&gt;</th>\n",
       "      <th>C99521</th>\n",
       "      <th>Percutaneous Coronary Intervention for ST Elevation Myocardial Infarction-Stable-Over 12 Hours From Symptom Onset|PERCUTANEOUS CORONARY INTERVENTION (PCI) FOR ST ELEVATION MYOCARDIAL INFARCTION (STEMI) (STABLE, &gt;12 HRS FROM SYMPTOM ONSET)</th>\n",
       "      <th>A percutaneous coronary intervention is necessary for a myocardial infarction that presents with ST segment elevation and the subject does not have recurrent or persistent symptoms, symptoms of heart failure or ventricular arrhythmia. The presentation is past twelve hours since onset of symptoms. (ACC)</th>\n",
       "      <th>Unnamed: 5</th>\n",
       "      <th>Unnamed: 6</th>\n",
       "      <th>Therapeutic or Preventive Procedure</th>\n",
       "    </tr>\n",
       "  </thead>\n",
       "  <tbody>\n",
       "    <tr>\n",
       "      <th>12</th>\n",
       "      <td>C100012</td>\n",
       "      <td>&lt;http://ncicb.nci.nih.gov/xml/owl/EVS/Thesauru...</td>\n",
       "      <td>C50797</td>\n",
       "      <td>Severe Cardiac Valve Regurgitation</td>\n",
       "      <td>Evidence of severe retrograde blood flow throu...</td>\n",
       "      <td>NaN</td>\n",
       "      <td>NaN</td>\n",
       "      <td>Disease or Syndrome</td>\n",
       "    </tr>\n",
       "    <tr>\n",
       "      <th>21</th>\n",
       "      <td>C100020</td>\n",
       "      <td>&lt;http://ncicb.nci.nih.gov/xml/owl/EVS/Thesauru...</td>\n",
       "      <td>C35317</td>\n",
       "      <td>Three Vessel Coronary Disease|THREE VESSEL DIS...</td>\n",
       "      <td>There was greater than or equal to 50% stenosi...</td>\n",
       "      <td>NaN</td>\n",
       "      <td>NaN</td>\n",
       "      <td>Disease or Syndrome</td>\n",
       "    </tr>\n",
       "    <tr>\n",
       "      <th>24</th>\n",
       "      <td>C100023</td>\n",
       "      <td>&lt;http://ncicb.nci.nih.gov/xml/owl/EVS/Thesauru...</td>\n",
       "      <td>C35317</td>\n",
       "      <td>Two Vessel Coronary Disease|TWO VESSEL DISEASE</td>\n",
       "      <td>There was greater than or equal to 50% stenosi...</td>\n",
       "      <td>NaN</td>\n",
       "      <td>NaN</td>\n",
       "      <td>Disease or Syndrome</td>\n",
       "    </tr>\n",
       "    <tr>\n",
       "      <th>67</th>\n",
       "      <td>C100062</td>\n",
       "      <td>&lt;http://ncicb.nci.nih.gov/xml/owl/EVS/Thesauru...</td>\n",
       "      <td>C99938</td>\n",
       "      <td>Chronic Total Coronary Artery Occlusion</td>\n",
       "      <td>Prolonged complete obstruction of the coronary...</td>\n",
       "      <td>NaN</td>\n",
       "      <td>NaN</td>\n",
       "      <td>Disease or Syndrome</td>\n",
       "    </tr>\n",
       "    <tr>\n",
       "      <th>76</th>\n",
       "      <td>C100070</td>\n",
       "      <td>&lt;http://ncicb.nci.nih.gov/xml/owl/EVS/Thesauru...</td>\n",
       "      <td>C35279</td>\n",
       "      <td>Coronary Venous Dissection</td>\n",
       "      <td>A tear within the wall of a coronary vein. (ACC)</td>\n",
       "      <td>NaN</td>\n",
       "      <td>NaN</td>\n",
       "      <td>Disease or Syndrome</td>\n",
       "    </tr>\n",
       "  </tbody>\n",
       "</table>\n",
       "</div>"
      ],
      "text/plain": [
       "    C100000 <http://ncicb.nci.nih.gov/xml/owl/EVS/Thesaurus.owl#C100000>  \\\n",
       "12  C100012  <http://ncicb.nci.nih.gov/xml/owl/EVS/Thesauru...             \n",
       "21  C100020  <http://ncicb.nci.nih.gov/xml/owl/EVS/Thesauru...             \n",
       "24  C100023  <http://ncicb.nci.nih.gov/xml/owl/EVS/Thesauru...             \n",
       "67  C100062  <http://ncicb.nci.nih.gov/xml/owl/EVS/Thesauru...             \n",
       "76  C100070  <http://ncicb.nci.nih.gov/xml/owl/EVS/Thesauru...             \n",
       "\n",
       "    C99521  \\\n",
       "12  C50797   \n",
       "21  C35317   \n",
       "24  C35317   \n",
       "67  C99938   \n",
       "76  C35279   \n",
       "\n",
       "   Percutaneous Coronary Intervention for ST Elevation Myocardial Infarction-Stable-Over 12 Hours From Symptom Onset|PERCUTANEOUS CORONARY INTERVENTION (PCI) FOR ST ELEVATION MYOCARDIAL INFARCTION (STEMI) (STABLE, >12 HRS FROM SYMPTOM ONSET)  \\\n",
       "12                 Severe Cardiac Valve Regurgitation                                                                                                                                                                                               \n",
       "21  Three Vessel Coronary Disease|THREE VESSEL DIS...                                                                                                                                                                                               \n",
       "24     Two Vessel Coronary Disease|TWO VESSEL DISEASE                                                                                                                                                                                               \n",
       "67            Chronic Total Coronary Artery Occlusion                                                                                                                                                                                               \n",
       "76                         Coronary Venous Dissection                                                                                                                                                                                               \n",
       "\n",
       "   A percutaneous coronary intervention is necessary for a myocardial infarction that presents with ST segment elevation and the subject does not have recurrent or persistent symptoms, symptoms of heart failure or ventricular arrhythmia. The presentation is past twelve hours since onset of symptoms. (ACC)  \\\n",
       "12  Evidence of severe retrograde blood flow throu...                                                                                                                                                                                                                                                                \n",
       "21  There was greater than or equal to 50% stenosi...                                                                                                                                                                                                                                                                \n",
       "24  There was greater than or equal to 50% stenosi...                                                                                                                                                                                                                                                                \n",
       "67  Prolonged complete obstruction of the coronary...                                                                                                                                                                                                                                                                \n",
       "76   A tear within the wall of a coronary vein. (ACC)                                                                                                                                                                                                                                                                \n",
       "\n",
       "   Unnamed: 5 Unnamed: 6 Therapeutic or Preventive Procedure  \n",
       "12        NaN        NaN                 Disease or Syndrome  \n",
       "21        NaN        NaN                 Disease or Syndrome  \n",
       "24        NaN        NaN                 Disease or Syndrome  \n",
       "67        NaN        NaN                 Disease or Syndrome  \n",
       "76        NaN        NaN                 Disease or Syndrome  "
      ]
     },
     "execution_count": 87,
     "metadata": {},
     "output_type": "execute_result"
    }
   ],
   "source": [
    "NCI9d=pd.read_csv('./Thesaurus.text', sep='\\t')\n",
    "NCI9d_disease_subset=NCI9d.loc[NCI9d['Therapeutic or Preventive Procedure'] == 'Disease or Syndrome']\n",
    "NCI9d_disease_subset.head()"
   ]
  },
  {
   "cell_type": "code",
   "execution_count": 88,
   "metadata": {},
   "outputs": [],
   "source": [
    "SpecificDisease4=NCI9d_disease_subset.iloc[:,3]\n",
    "SD4_input=SpecificDisease4.values.tolist()\n",
    "\n",
    "SD4=[]\n",
    "for former_row in SD4_input:\n",
    "    Sublist=str(former_row).split('|')\n",
    "    for item in Sublist:\n",
    "        SD4.append(item) \n",
    "SD4=set(SD4)\n",
    "#print(SD4)"
   ]
  },
  {
   "cell_type": "code",
   "execution_count": 89,
   "metadata": {},
   "outputs": [],
   "source": [
    "ULMS_terminology=pd.read_csv(\"./NC.DB\", sep = '|')\n",
    "Modifiers=ULMS_terminology.iloc[:,0]\n",
    "Mod_pre=Modifiers.values.tolist()"
   ]
  },
  {
   "cell_type": "code",
   "execution_count": 90,
   "metadata": {},
   "outputs": [],
   "source": [
    "def skip_brackets(test_str):\n",
    "    ret = ''\n",
    "    skip1c = 0\n",
    "    skip2c = 0\n",
    "    for i in test_str:\n",
    "        if i == '[':\n",
    "            skip1c += 1\n",
    "        elif i == '(':\n",
    "            skip2c += 1\n",
    "        elif i == ']' and skip1c > 0:\n",
    "            skip1c -= 1\n",
    "        elif i == ')'and skip2c > 0:\n",
    "            skip2c -= 1\n",
    "        elif skip1c == 0 and skip2c == 0:\n",
    "            ret += i\n",
    "    return ret\n",
    "\n",
    "    "
   ]
  },
  {
   "cell_type": "code",
   "execution_count": 91,
   "metadata": {},
   "outputs": [],
   "source": [
    "Mod=[]\n",
    "\n",
    "for term in Mod_pre:\n",
    "    a=skip_brackets(str(term))\n",
    "    Mod.append(a)\n",
    "\n",
    "for term in Mod_pre:\n",
    "    x=term.replace('(','').replace(')','').replace(r'[0-9]+', '')\n",
    "    Mod.append(x)\n",
    "    \n",
    "Mod=set(Mod)"
   ]
  },
  {
   "cell_type": "code",
   "execution_count": 92,
   "metadata": {},
   "outputs": [],
   "source": [
    "SD1 = [str(x).lower() for x in SD1]\n",
    "SD2 = [str(x).lower() for x in SD2]\n",
    "SD3 = [str(x).lower() for x in SD3]\n",
    "SD4 = [str(x).lower() for x in SD4]\n",
    "DC1 = [str(x).lower() for x in DC1]\n",
    "DC2 = [str(x).lower() for x in DC2]\n",
    "Mod = [str(x).lower() for x in Mod]"
   ]
  },
  {
   "cell_type": "markdown",
   "metadata": {},
   "source": [
    "For the Class of CompositeDisease the occurence of a term of DiseaseClass or SpecificDisease followed by another will be used, with an instance of and, or or / \\ between them."
   ]
  },
  {
   "cell_type": "markdown",
   "metadata": {},
   "source": [
    "### Measuring and Pruning"
   ]
  },
  {
   "cell_type": "markdown",
   "metadata": {},
   "source": [
    "In order to evaluate the requirements for an n-gram upper limit, we take a look at our keyword element distributions.\n",
    "At the same time we will remove stopwords, punctuation and digits."
   ]
  },
  {
   "cell_type": "code",
   "execution_count": 93,
   "metadata": {},
   "outputs": [
    {
     "name": "stdout",
     "output_type": "stream",
     "text": [
      "Pretty printing has been turned OFF\n",
      "Counter({3: 5052, 4: 3769, 2: 3077, 5: 1561, 1: 564, 6: 263, 7: 38, 8: 4})\n"
     ]
    }
   ],
   "source": [
    "#import nltk\n",
    "#nltk.download('stopwords')\n",
    "from nltk.corpus import stopwords\n",
    "stopwords = stopwords.words('english')\n",
    "import copy\n",
    "import string\n",
    "\n",
    "punctuation = string.punctuation.replace('/', '')\n",
    "punctuation = punctuation.replace('\\\\', '')\n",
    "\n",
    "\n",
    "%pprint\n",
    "num_words_DC1 = [len(element.split()) for element in DC1]  \n",
    "print(Counter(num_words_DC1))\n",
    "\n",
    "DC1_tidy = []\n",
    "DC1_cleaned=copy.deepcopy(SD3)\n",
    "for string in DC1_cleaned:\n",
    "    if string not in stopwords:\n",
    "        DC1_tidy.append(string.translate(str.maketrans('', '', punctuation)))"
   ]
  },
  {
   "cell_type": "code",
   "execution_count": 94,
   "metadata": {},
   "outputs": [
    {
     "name": "stdout",
     "output_type": "stream",
     "text": [
      "Pretty printing has been turned ON\n",
      "Counter({2: 21, 3: 13, 1: 2, 4: 1})\n"
     ]
    }
   ],
   "source": [
    "%pprint\n",
    "num_words_DC2 = [len(element.split()) for element in DC2]  \n",
    "print(Counter(num_words_DC2))\n",
    "\n",
    "DC2_tidy = []\n",
    "DC2_cleaned=copy.deepcopy(SD3)\n",
    "for string in DC2_cleaned:\n",
    "    if string not in stopwords:\n",
    "        DC2_tidy.append(string.translate(str.maketrans('', '', punctuation)))"
   ]
  },
  {
   "cell_type": "code",
   "execution_count": 95,
   "metadata": {},
   "outputs": [
    {
     "name": "stdout",
     "output_type": "stream",
     "text": [
      "Pretty printing has been turned OFF\n"
     ]
    }
   ],
   "source": [
    "%pprint\n",
    "num_words_SD1 = [len(element.split()) for element in SD1]  \n",
    "#print(Counter(num_words_SD1))"
   ]
  },
  {
   "cell_type": "code",
   "execution_count": 96,
   "metadata": {},
   "outputs": [
    {
     "name": "stdout",
     "output_type": "stream",
     "text": [
      "Pretty printing has been turned ON\n",
      "Counter({2: 26708, 3: 23179, 1: 9959, 4: 6596, 5: 3883, 6: 2028, 7: 1169, 8: 603, 9: 378, 10: 244, 11: 178, 12: 80, 13: 43, 14: 43, 15: 19, 16: 8, 18: 7, 17: 4, 20: 3, 19: 3, 21: 2, 24: 2})\n"
     ]
    }
   ],
   "source": [
    "%pprint\n",
    "num_words_SD3 = [len(element.split()) for element in SD3]  \n",
    "print(Counter(num_words_SD3))"
   ]
  },
  {
   "cell_type": "code",
   "execution_count": 97,
   "metadata": {},
   "outputs": [],
   "source": [
    "SD3_tidy = []\n",
    "SD3_cleaned=copy.deepcopy(SD3)\n",
    "for string in SD3_cleaned:\n",
    "    if string not in stopwords:\n",
    "        SD3_tidy.append(string.translate(str.maketrans('', '', punctuation)))\n",
    "#SD3_tidy"
   ]
  },
  {
   "cell_type": "code",
   "execution_count": 98,
   "metadata": {},
   "outputs": [
    {
     "name": "stdout",
     "output_type": "stream",
     "text": [
      "Pretty printing has been turned OFF\n",
      "Counter({2: 26709, 3: 23184, 1: 9951, 4: 6596, 5: 3880, 6: 2030, 7: 1166, 8: 601, 9: 379, 10: 243, 11: 178, 12: 80, 13: 43, 14: 43, 15: 19, 16: 8, 18: 7, 17: 4, 19: 4, 20: 2, 21: 2, 24: 2})\n"
     ]
    }
   ],
   "source": [
    "%pprint\n",
    "num_words_SD3_tidy = [len(element.split()) for element in SD3_tidy]  \n",
    "print(Counter(num_words_SD3_tidy))"
   ]
  },
  {
   "cell_type": "code",
   "execution_count": 99,
   "metadata": {},
   "outputs": [
    {
     "name": "stdout",
     "output_type": "stream",
     "text": [
      "Pretty printing has been turned ON\n",
      "Pretty printing has been turned OFF\n",
      "Counter({2: 26709, 3: 23184, 1: 9951, 4: 6596, 5: 3880, 6: 2030, 7: 1166, 8: 601, 9: 379, 10: 243, 11: 178, 12: 80, 13: 43, 14: 43, 15: 19, 16: 8, 18: 7, 17: 4, 19: 4, 20: 2, 21: 2, 24: 2})\n"
     ]
    }
   ],
   "source": [
    "%pprint\n",
    "num_words_SD1 = [len(element.split()) for element in SD1]  \n",
    "#print(Counter(num_words_SD1))\n",
    "SD1_tidy = []\n",
    "SD1_cleaned=copy.deepcopy(SD3)\n",
    "for string in SD1_cleaned:\n",
    "    if string not in stopwords:\n",
    "        SD1_tidy.append(string.translate(str.maketrans('', '', punctuation)))\n",
    "\n",
    "%pprint\n",
    "num_words_SD1_tidy = [len(element.split()) for element in SD1_tidy]  \n",
    "print(Counter(num_words_SD1_tidy))"
   ]
  },
  {
   "cell_type": "code",
   "execution_count": 100,
   "metadata": {},
   "outputs": [
    {
     "name": "stdout",
     "output_type": "stream",
     "text": [
      "Pretty printing has been turned ON\n",
      "Counter({2: 3629, 3: 2782, 4: 2296, 5: 1373, 1: 1373, 6: 733, 7: 378, 8: 253, 9: 162, 10: 98, 11: 58, 12: 30, 13: 11, 14: 7, 15: 5, 16: 1, 19: 1})\n",
      "Counter({2: 26709, 3: 23184, 1: 9951, 4: 6596, 5: 3880, 6: 2030, 7: 1166, 8: 601, 9: 379, 10: 243, 11: 178, 12: 80, 13: 43, 14: 43, 15: 19, 16: 8, 18: 7, 17: 4, 19: 4, 20: 2, 21: 2, 24: 2})\n"
     ]
    }
   ],
   "source": [
    "%pprint\n",
    "num_words_SD2 = [len(element.split()) for element in SD2]  \n",
    "print(Counter(num_words_SD2))\n",
    "\n",
    "SD2_tidy = []\n",
    "SD2_cleaned=copy.deepcopy(SD3)\n",
    "for string in SD2_cleaned:\n",
    "    if string not in stopwords:\n",
    "        SD2_tidy.append(string.translate(str.maketrans('', '', punctuation)))\n",
    "\n",
    "num_words_SD2_tidy = [len(element.split()) for element in SD2_tidy]  \n",
    "print(Counter(num_words_SD2_tidy))"
   ]
  },
  {
   "cell_type": "code",
   "execution_count": 101,
   "metadata": {},
   "outputs": [
    {
     "name": "stdout",
     "output_type": "stream",
     "text": [
      "Pretty printing has been turned OFF\n",
      "Counter({2: 26709, 3: 23184, 1: 9951, 4: 6596, 5: 3880, 6: 2030, 7: 1166, 8: 601, 9: 379, 10: 243, 11: 178, 12: 80, 13: 43, 14: 43, 15: 19, 16: 8, 18: 7, 17: 4, 19: 4, 20: 2, 21: 2, 24: 2})\n"
     ]
    }
   ],
   "source": [
    "%pprint\n",
    "num_words_SD4 = [len(element.split()) for element in SD4]  \n",
    "#print(Counter(num_words_SD4))\n",
    "\n",
    "SD4_tidy = []\n",
    "SD4_cleaned=copy.deepcopy(SD3)\n",
    "for string in SD4_cleaned:\n",
    "    if string not in stopwords:\n",
    "        SD4_tidy.append(string.translate(str.maketrans('', '', punctuation)))\n",
    "\n",
    "num_words_SD4_tidy = [len(element.split()) for element in SD4_tidy]  \n",
    "print(Counter(num_words_SD4_tidy))"
   ]
  },
  {
   "cell_type": "code",
   "execution_count": 102,
   "metadata": {},
   "outputs": [
    {
     "name": "stdout",
     "output_type": "stream",
     "text": [
      "Pretty printing has been turned ON\n",
      "Counter({1: 1720})\n"
     ]
    }
   ],
   "source": [
    "%pprint\n",
    "num_words_Mod = [len(element.split()) for element in Mod]  \n",
    "print(Counter(num_words_Mod))\n",
    "\n",
    "Mod_tidy = []\n",
    "Mod_cleaned=copy.deepcopy(SD3)\n",
    "for string in Mod_cleaned:\n",
    "    if string not in stopwords:\n",
    "        Mod_tidy.append(string.translate(str.maketrans('', '', punctuation)))\n"
   ]
  },
  {
   "cell_type": "code",
   "execution_count": 103,
   "metadata": {},
   "outputs": [],
   "source": [
    "DC1_trim = []\n",
    "for element in DC1_tidy:\n",
    "    element=result = ''.join([i for i in element if not i.isdigit()])\n",
    "    DC1_trim.append(element)\n",
    "\n",
    "DC2_trim = []\n",
    "for element in DC2_tidy:\n",
    "    element=result = ''.join([i for i in element if not i.isdigit()])\n",
    "    DC2_trim.append(element)\n",
    "\n",
    "SD1_trim = []\n",
    "for element in SD1_tidy:\n",
    "    element=result = ''.join([i for i in element if not i.isdigit()])\n",
    "    SD1_trim.append(element)\n",
    "\n",
    "SD2_trim = []\n",
    "for element in SD2_tidy:\n",
    "    element=result = ''.join([i for i in element if not i.isdigit()])\n",
    "    SD2_trim.append(element)\n",
    "\n",
    "SD3_trim = []\n",
    "for element in SD3_tidy:\n",
    "    element=result = ''.join([i for i in element if not i.isdigit()])\n",
    "    SD3_trim.append(element)\n",
    "\n",
    "SD4_trim = []\n",
    "for element in SD4_tidy:\n",
    "    element=result = ''.join([i for i in element if not i.isdigit()])\n",
    "    SD4_trim.append(element)\n",
    "\n",
    "Mod_trim = []\n",
    "for element in Mod_tidy:\n",
    "    element=result = ''.join([i for i in element if not i.isdigit()])\n",
    "    Mod_trim.append(element)\n"
   ]
  },
  {
   "cell_type": "markdown",
   "metadata": {},
   "source": [
    "A sensible cutoff point where most of our keywords are retained for rules is going to be 7_grams. In the nextstep, the lists will be ridded of any elements with more terms within them."
   ]
  },
  {
   "cell_type": "code",
   "execution_count": 104,
   "metadata": {},
   "outputs": [],
   "source": [
    "DC1_groomed = []\n",
    "for element in DC1_trim:\n",
    "    if len(element.split()) < 8:\n",
    "        DC1_groomed.append(element)\n",
    "\n",
    "DC2_groomed = []\n",
    "for element in DC2_trim:\n",
    "    if len(element.split()) < 8:\n",
    "        DC2_groomed.append(element)\n",
    "\n",
    "SD1_groomed = []\n",
    "for element in SD1_trim:\n",
    "    if len(element.split()) < 8:\n",
    "        SD1_groomed.append(element)\n",
    "\n",
    "SD2_groomed = []\n",
    "for element in SD2_trim:\n",
    "    if len(element.split()) < 8:\n",
    "        SD2_groomed.append(element)\n",
    "\n",
    "SD3_groomed = []\n",
    "for element in SD3_trim:\n",
    "    if len(element.split()) < 8:\n",
    "        SD3_groomed.append(element)\n",
    "\n",
    "SD4_groomed = []\n",
    "for element in SD4_trim:\n",
    "    if len(element.split()) < 8:\n",
    "        SD4_groomed.append(element)"
   ]
  },
  {
   "cell_type": "markdown",
   "metadata": {},
   "source": [
    "## Export"
   ]
  },
  {
   "cell_type": "markdown",
   "metadata": {},
   "source": [
    "Now that our lists are looking dapper and shiny, we will wrap them up with a bow and store them for later use, and in order to ease collaboration."
   ]
  },
  {
   "cell_type": "code",
   "execution_count": 105,
   "metadata": {},
   "outputs": [
    {
     "name": "stdout",
     "output_type": "stream",
     "text": [
      "Done\n",
      "Done\n",
      "Done\n",
      "Done\n",
      "Done\n",
      "Done\n",
      "Done\n"
     ]
    }
   ],
   "source": [
    "\n",
    "try:\n",
    "    os.remove('DC1.txt')\n",
    "except OSError:\n",
    "    pass\n",
    "\n",
    "try:\n",
    "    os.remove('DC2.txt')\n",
    "except OSError:\n",
    "    pass\n",
    "\n",
    "try:\n",
    "    os.remove('SD1.txt')\n",
    "except OSError:\n",
    "    pass\n",
    "\n",
    "try:\n",
    "    os.remove('SD2.txt')\n",
    "except OSError:\n",
    "    pass\n",
    "\n",
    "try:\n",
    "    os.remove('SD3.txt')\n",
    "except OSError:\n",
    "    pass\n",
    "\n",
    "try:\n",
    "    os.remove('SD4.txt')\n",
    "except OSError:\n",
    "    pass\n",
    "\n",
    "try:\n",
    "    os.remove('Mod.txt')\n",
    "except OSError:\n",
    "    pass\n",
    "\n",
    "with open(r'DC1.txt', 'w') as fp:\n",
    "    for item in DC1_groomed:\n",
    "        #writes each entry on a new line\n",
    "        fp.write(\"%s\\n\" % item)\n",
    "    print('Done')\n",
    "\n",
    "with open(r'DC2.txt', 'w') as fp:\n",
    "    for item in DC2_groomed:\n",
    "        fp.write(\"%s\\n\" % item)\n",
    "    print('Done')\n",
    "\n",
    "with open(r'SD1.txt', 'w') as fp:\n",
    "    for item in SD1_groomed:\n",
    "        fp.write(\"%s\\n\" % item)\n",
    "    print('Done')\n",
    "\n",
    "\n",
    "with open(r'SD2.txt', 'w') as fp:\n",
    "    for item in SD2_groomed:\n",
    "        fp.write(\"%s\\n\" % item)\n",
    "    print('Done')\n",
    "\n",
    "\n",
    "with open(r'SD3.txt', 'w') as fp:\n",
    "    for item in SD3_groomed:\n",
    "        fp.write(\"%s\\n\" % item)\n",
    "    print('Done')  \n",
    "\n",
    "\n",
    "with open(r'SD4.txt', 'w') as fp:\n",
    "    for item in SD4_groomed:\n",
    "        fp.write(\"%s\\n\" % item)\n",
    "    print('Done')\n",
    "\n",
    "\n",
    "with open(r'Mod.txt', 'w') as fp:\n",
    "    for item in Mod_trim:\n",
    "        fp.write(\"%s\\n\" % item)\n",
    "    print('Done')"
   ]
  }
 ],
 "metadata": {
  "kernelspec": {
   "display_name": "Python 3.7.15 64-bit ('3.7.15')",
   "language": "python",
   "name": "python3"
  },
  "language_info": {
   "codemirror_mode": {
    "name": "ipython",
    "version": 3
   },
   "file_extension": ".py",
   "mimetype": "text/x-python",
   "name": "python",
   "nbconvert_exporter": "python",
   "pygments_lexer": "ipython3",
   "version": "3.7.15"
  },
  "orig_nbformat": 4,
  "vscode": {
   "interpreter": {
    "hash": "66d5c63fb80eb6fd04af604839a1d74609fa54c5a8a540ddfe18aa77248ed3d9"
   }
  }
 },
 "nbformat": 4,
 "nbformat_minor": 2
}
