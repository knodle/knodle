{
 "cells": [
  {
   "cell_type": "markdown",
   "metadata": {
    "collapsed": true,
    "pycharm": {
     "name": "#%% md\n"
    }
   },
   "source": [
    "# How to use the CheXpert labeler\n",
    "This notebook's purpose is to illustrate how the adjusted CheXpert labeler is to be used.\n",
    "The original code can be found [here](https://github.com/stanfordmlgroup/chexpert-labeler) and the corresponding paper [here](https://arxiv.org/abs/1901.07031) (Irvin et al., 2019)."
   ]
  },
  {
   "cell_type": "code",
   "execution_count": 7,
   "outputs": [],
   "source": [
    "# Imports\n",
    "import os"
   ],
   "metadata": {
    "collapsed": false,
    "pycharm": {
     "name": "#%%\n"
    }
   }
  },
  {
   "cell_type": "markdown",
   "source": [
    "First, the data for the matches, the patterns and the sample_report needs to be downloaded from Minio. The fastest way is going to [https://knodle.dm.univie.ac.at/minio/knodle/examples/labeler/chexpert/](https://knodle.dm.univie.ac.at/minio/knodle/examples/labeler/chexpert/) and manually downloading the three folders: 'patterns', 'phrases' and 'reports'. Finally, add the three downloaded folders to this location: *'.../knodle/examples/labeler/chexpert'*. In case you want to store the files somewhere else or use different files, you need to adjust the paths in the `constants.py` file."
   ],
   "metadata": {
    "collapsed": false
   }
  },
  {
   "cell_type": "markdown",
   "source": [
    "Check whether the files are where they are supposed to be, by running the line below. Note that you will have to adjust the path to the location where your knodle project is stored. If the output includes the folders 'patterns', 'phrases' and 'reports', continue."
   ],
   "metadata": {
    "collapsed": false,
    "pycharm": {
     "name": "#%% md\n"
    }
   }
  },
  {
   "cell_type": "code",
   "execution_count": 8,
   "outputs": [
    {
     "ename": "FileNotFoundError",
     "evalue": "[Errno 2] No such file or directory: '/home/user/PycharmProjects/knodle/examples/labeler/chexpert'",
     "output_type": "error",
     "traceback": [
      "\u001B[0;31m---------------------------------------------------------------------------\u001B[0m",
      "\u001B[0;31mFileNotFoundError\u001B[0m                         Traceback (most recent call last)",
      "\u001B[0;32m/tmp/ipykernel_47142/4269863138.py\u001B[0m in \u001B[0;36m<module>\u001B[0;34m\u001B[0m\n\u001B[0;32m----> 1\u001B[0;31m \u001B[0mos\u001B[0m\u001B[0;34m.\u001B[0m\u001B[0mlistdir\u001B[0m\u001B[0;34m(\u001B[0m\u001B[0;34m'/home/user/PycharmProjects/knodle/examples/labeler/chexpert'\u001B[0m\u001B[0;34m)\u001B[0m  \u001B[0;31m# adjust the path\u001B[0m\u001B[0;34m\u001B[0m\u001B[0;34m\u001B[0m\u001B[0m\n\u001B[0m",
      "\u001B[0;31mFileNotFoundError\u001B[0m: [Errno 2] No such file or directory: '/home/user/PycharmProjects/knodle/examples/labeler/chexpert'"
     ]
    }
   ],
   "source": [
    "os.listdir('/home/user/PycharmProjects/knodle/examples/labeler/chexpert')  # adjust the path"
   ],
   "metadata": {
    "collapsed": false,
    "pycharm": {
     "name": "#%%\n"
    }
   }
  },
  {
   "cell_type": "markdown",
   "source": [
    "In order for the CheXpert labeler to work, you need to install the [NegBio](https://github.com/ncbi-nlp/NegBio) package. If you follow the steps below, you should be able to run the labeler without encountering problems."
   ],
   "metadata": {
    "collapsed": false,
    "pycharm": {
     "name": "#%% md\n"
    }
   }
  },
  {
   "cell_type": "markdown",
   "source": [
    "#### Run the following lines of code from your terminal\n",
    "**0) Go to home directory**\n",
    "`cd`\n",
    "\n",
    "**1) Clone the repository**\n",
    "`git clone https://github.com/ncbi-nlp/NegBio.git`\n",
    "\n",
    "**2) Add the NegBio directory to your PYTHONPATH**\n",
    "`export PYTHONPATH=\"${PYTHONPATH}:/home/elisabear/NegBio\"`\n",
    "\n",
    "**3) Create the virtual environment**\n",
    "`cd ~/PycharmProjects/knodle/knodle/labeler/CheXpert\n",
    "conda env create -f environment.yml`\n",
    "\n",
    "**4) Activate the virtual environment**\n",
    "`conda activate chexpert-label`\n",
    "\n",
    "**5) Install NLTK data**\n",
    "`python -m nltk.downloader universal_tagset punkt wordnet`\n",
    "\n",
    "**6) Run label.py**\n",
    "`cd ~/PycharmProjects/knodle`\n",
    "`python examples/labeler/chexpert/chexpert_tutorial.py`"
   ],
   "metadata": {
    "collapsed": false,
    "pycharm": {
     "name": "#%% md\n"
    }
   }
  }
 ],
 "metadata": {
  "kernelspec": {
   "display_name": "Python 3",
   "language": "python",
   "name": "python3"
  },
  "language_info": {
   "codemirror_mode": {
    "name": "ipython",
    "version": 2
   },
   "file_extension": ".py",
   "mimetype": "text/x-python",
   "name": "python",
   "nbconvert_exporter": "python",
   "pygments_lexer": "ipython2",
   "version": "2.7.6"
  }
 },
 "nbformat": 4,
 "nbformat_minor": 0
}