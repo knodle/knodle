{
 "cells": [
  {
   "cell_type": "markdown",
   "metadata": {
    "collapsed": true,
    "pycharm": {
     "name": "#%% md\n"
    }
   },
   "source": [
    "This notebook demonstrates how negation and uncertainty patterns can be created for the CheXpert labeler. This is illustrated using a small set of sample data on weather forecasts. The text data was created using weather forecast transcripts which can be found [here](https://learnenglishteens.britishcouncil.org/sites/teens/files/weather_forecast_-_transcript_4.pdf)."
   ]
  },
  {
   "cell_type": "markdown",
   "metadata": {
    "pycharm": {
     "name": "#%% md\n"
    }
   },
   "source": [
    "First, the data has to be loaded from a Knodle dataset collection. The data consists of \"phrases\", which include mentions and unmentions of eight different weather labels, and \"patterns\", which are divided into pre-negation uncertainty, negation and post-negation uncertainty patterns.\n",
    "While the mentions are used as main rules for the corresponding labels and represented in the T and Z matrices, the unmentions and the patterns are used to finetune the matches. The unmentions, like the mentions, are saved in plain text files consisting of simple keywords corresponding to the respective labels. The patterns are saved in three different text files comprised of [SemgrexPatterns](https://nlp.stanford.edu/nlp/javadoc/javanlp/edu/stanford/nlp/semgraph/semgrex/SemgrexPattern.html) which are patterns for matching node and edge configurations of a dependency graph. The patterns are composed of nodes, which represent IndexedWords, and the relations between them, which represent edges in a SemanticGraph. For more detailed information, please have a look at the syntax [here](https://nlp.stanford.edu/nlp/javadoc/javanlp/edu/stanford/nlp/semgraph/semgrex/SemgrexPattern.html)."
   ]
  },
  {
   "cell_type": "markdown",
   "metadata": {
    "pycharm": {
     "name": "#%% md\n"
    }
   },
   "source": []
  },
  {
   "cell_type": "code",
   "execution_count": 166,
   "metadata": {
    "pycharm": {
     "name": "#%%\n"
    }
   },
   "outputs": [],
   "source": [
    "# Imports\n",
    "import os\n",
    "import pandas as pd\n",
    "from tqdm.auto import tqdm\n",
    "from minio import Minio\n",
    "from knodle.labeler.CheXpert.label import Labeler\n",
    "\n",
    "# Client to access the dataset collection\n",
    "client = Minio(\"knodle.cc\", secure=False)"
   ]
  },
  {
   "cell_type": "markdown",
   "metadata": {
    "pycharm": {
     "name": "#%% md\n"
    }
   },
   "source": [
    "## Download Data"
   ]
  },
  {
   "cell_type": "markdown",
   "metadata": {
    "pycharm": {
     "name": "#%% md\n"
    }
   },
   "source": [
    "Specify the path to the directory where you want all files to be saved to as `CHEXPERT_DATA_DIR`. The default path is given below, simply adjust it if you wish to."
   ]
  },
  {
   "cell_type": "code",
   "execution_count": 167,
   "metadata": {
    "pycharm": {
     "name": "#%%\n"
    }
   },
   "outputs": [],
   "source": [
    "# DATA DIRECTORY -------------------------------------------------------------------------------------\n",
    "CHEXPERT_DATA_DIR = os.path.join(os.getcwd(), \"examples\", \"labeler\", \"chexpert\")"
   ]
  },
  {
   "cell_type": "markdown",
   "metadata": {
    "pycharm": {
     "name": "#%% md\n"
    }
   },
   "source": [
    "The next step is downloading the data from Minio. In the next section of code, the `mention`, `unmention` & `pattern` directories are first created and then the text files are saved to them. In case you want to download other data, just change the path to the correct Minio folder and adjust the file names."
   ]
  },
  {
   "cell_type": "code",
   "execution_count": 168,
   "metadata": {
    "pycharm": {
     "name": "#%%\n"
    }
   },
   "outputs": [
    {
     "data": {
      "text/plain": "HBox(children=(FloatProgress(value=0.0, max=8.0), HTML(value='')))",
      "application/vnd.jupyter.widget-view+json": {
       "version_major": 2,
       "version_minor": 0,
       "model_id": "e0191c52109046a592bcc96e1066792e"
      }
     },
     "metadata": {},
     "output_type": "display_data"
    },
    {
     "name": "stderr",
     "output_type": "stream",
     "text": [
      "2022-01-24 16:04:36,094 urllib3.poolmanager INFO     Redirecting http://knodle.cc/knodle/datasets/weather/phrases/mention/clouds.txt -> https://knodle.cc/knodle/datasets/weather/phrases/mention/clouds.txt\n",
      "2022-01-24 16:04:36,193 urllib3.poolmanager INFO     Redirecting http://knodle.cc/knodle/datasets/weather/phrases/mention/clouds.txt -> https://knodle.cc/knodle/datasets/weather/phrases/mention/clouds.txt\n",
      "2022-01-24 16:04:36,217 urllib3.poolmanager INFO     Redirecting http://knodle.cc/knodle/datasets/weather/phrases/mention/cold.txt -> https://knodle.cc/knodle/datasets/weather/phrases/mention/cold.txt\n",
      "2022-01-24 16:04:36,239 urllib3.poolmanager INFO     Redirecting http://knodle.cc/knodle/datasets/weather/phrases/mention/cold.txt -> https://knodle.cc/knodle/datasets/weather/phrases/mention/cold.txt\n",
      "2022-01-24 16:04:36,262 urllib3.poolmanager INFO     Redirecting http://knodle.cc/knodle/datasets/weather/phrases/mention/rain.txt -> https://knodle.cc/knodle/datasets/weather/phrases/mention/rain.txt\n",
      "2022-01-24 16:04:36,282 urllib3.poolmanager INFO     Redirecting http://knodle.cc/knodle/datasets/weather/phrases/mention/rain.txt -> https://knodle.cc/knodle/datasets/weather/phrases/mention/rain.txt\n",
      "2022-01-24 16:04:36,308 urllib3.poolmanager INFO     Redirecting http://knodle.cc/knodle/datasets/weather/phrases/mention/snow.txt -> https://knodle.cc/knodle/datasets/weather/phrases/mention/snow.txt\n",
      "2022-01-24 16:04:36,328 urllib3.poolmanager INFO     Redirecting http://knodle.cc/knodle/datasets/weather/phrases/mention/snow.txt -> https://knodle.cc/knodle/datasets/weather/phrases/mention/snow.txt\n",
      "2022-01-24 16:04:36,349 urllib3.poolmanager INFO     Redirecting http://knodle.cc/knodle/datasets/weather/phrases/mention/storm.txt -> https://knodle.cc/knodle/datasets/weather/phrases/mention/storm.txt\n",
      "2022-01-24 16:04:36,368 urllib3.poolmanager INFO     Redirecting http://knodle.cc/knodle/datasets/weather/phrases/mention/storm.txt -> https://knodle.cc/knodle/datasets/weather/phrases/mention/storm.txt\n",
      "2022-01-24 16:04:36,395 urllib3.poolmanager INFO     Redirecting http://knodle.cc/knodle/datasets/weather/phrases/mention/sun.txt -> https://knodle.cc/knodle/datasets/weather/phrases/mention/sun.txt\n",
      "2022-01-24 16:04:36,415 urllib3.poolmanager INFO     Redirecting http://knodle.cc/knodle/datasets/weather/phrases/mention/sun.txt -> https://knodle.cc/knodle/datasets/weather/phrases/mention/sun.txt\n",
      "2022-01-24 16:04:36,434 urllib3.poolmanager INFO     Redirecting http://knodle.cc/knodle/datasets/weather/phrases/mention/warm.txt -> https://knodle.cc/knodle/datasets/weather/phrases/mention/warm.txt\n",
      "2022-01-24 16:04:36,453 urllib3.poolmanager INFO     Redirecting http://knodle.cc/knodle/datasets/weather/phrases/mention/warm.txt -> https://knodle.cc/knodle/datasets/weather/phrases/mention/warm.txt\n",
      "2022-01-24 16:04:36,494 urllib3.poolmanager INFO     Redirecting http://knodle.cc/knodle/datasets/weather/phrases/mention/wind.txt -> https://knodle.cc/knodle/datasets/weather/phrases/mention/wind.txt\n",
      "2022-01-24 16:04:36,514 urllib3.poolmanager INFO     Redirecting http://knodle.cc/knodle/datasets/weather/phrases/mention/wind.txt -> https://knodle.cc/knodle/datasets/weather/phrases/mention/wind.txt\n"
     ]
    },
    {
     "name": "stdout",
     "output_type": "stream",
     "text": [
      "\n"
     ]
    },
    {
     "data": {
      "text/plain": "HBox(children=(FloatProgress(value=0.0, max=1.0), HTML(value='')))",
      "application/vnd.jupyter.widget-view+json": {
       "version_major": 2,
       "version_minor": 0,
       "model_id": "fddbdea393044a45835e61655d2a0fe5"
      }
     },
     "metadata": {},
     "output_type": "display_data"
    },
    {
     "name": "stderr",
     "output_type": "stream",
     "text": [
      "2022-01-24 16:04:36,550 urllib3.poolmanager INFO     Redirecting http://knodle.cc/knodle/datasets/weather/phrases/unmention/rain.txt -> https://knodle.cc/knodle/datasets/weather/phrases/unmention/rain.txt\n",
      "2022-01-24 16:04:36,571 urllib3.poolmanager INFO     Redirecting http://knodle.cc/knodle/datasets/weather/phrases/unmention/rain.txt -> https://knodle.cc/knodle/datasets/weather/phrases/unmention/rain.txt\n"
     ]
    },
    {
     "name": "stdout",
     "output_type": "stream",
     "text": [
      "\n"
     ]
    },
    {
     "data": {
      "text/plain": "HBox(children=(FloatProgress(value=0.0, max=3.0), HTML(value='')))",
      "application/vnd.jupyter.widget-view+json": {
       "version_major": 2,
       "version_minor": 0,
       "model_id": "699239f8df5b4b59aebdcce567144954"
      }
     },
     "metadata": {},
     "output_type": "display_data"
    },
    {
     "name": "stderr",
     "output_type": "stream",
     "text": [
      "2022-01-24 16:04:36,606 urllib3.poolmanager INFO     Redirecting http://knodle.cc/knodle/datasets/weather/patterns/pre_negation_uncertainty.txt -> https://knodle.cc/knodle/datasets/weather/patterns/pre_negation_uncertainty.txt\n",
      "2022-01-24 16:04:36,625 urllib3.poolmanager INFO     Redirecting http://knodle.cc/knodle/datasets/weather/patterns/pre_negation_uncertainty.txt -> https://knodle.cc/knodle/datasets/weather/patterns/pre_negation_uncertainty.txt\n",
      "2022-01-24 16:04:36,644 urllib3.poolmanager INFO     Redirecting http://knodle.cc/knodle/datasets/weather/patterns/negation.txt -> https://knodle.cc/knodle/datasets/weather/patterns/negation.txt\n",
      "2022-01-24 16:04:36,664 urllib3.poolmanager INFO     Redirecting http://knodle.cc/knodle/datasets/weather/patterns/negation.txt -> https://knodle.cc/knodle/datasets/weather/patterns/negation.txt\n",
      "2022-01-24 16:04:36,694 urllib3.poolmanager INFO     Redirecting http://knodle.cc/knodle/datasets/weather/patterns/post_negation_uncertainty.txt -> https://knodle.cc/knodle/datasets/weather/patterns/post_negation_uncertainty.txt\n",
      "2022-01-24 16:04:36,717 urllib3.poolmanager INFO     Redirecting http://knodle.cc/knodle/datasets/weather/patterns/post_negation_uncertainty.txt -> https://knodle.cc/knodle/datasets/weather/patterns/post_negation_uncertainty.txt\n"
     ]
    },
    {
     "name": "stdout",
     "output_type": "stream",
     "text": [
      "\n"
     ]
    }
   ],
   "source": [
    "# RULE DIRECTORIES -----------------------------------------------------------------------------------\n",
    "MENTION_DATA_DIR = os.path.join(CHEXPERT_DATA_DIR, \"phrases\", \"mention\")\n",
    "os.makedirs(MENTION_DATA_DIR, exist_ok=True)\n",
    "files_mention = [\n",
    "    \"clouds.txt\", \"cold.txt\", \"rain.txt\", \"snow.txt\",\n",
    "    \"storm.txt\", \"sun.txt\", \"warm.txt\", \"wind.txt\"\n",
    "]\n",
    "for file in tqdm(files_mention):\n",
    "    client.fget_object(\n",
    "        bucket_name=\"knodle\",\n",
    "        object_name=os.path.join(\"datasets/weather/phrases/mention/\", file),\n",
    "        file_path=os.path.join(MENTION_DATA_DIR, file),\n",
    "    )\n",
    "\n",
    "UNMENTION_DATA_DIR = os.path.join(CHEXPERT_DATA_DIR, \"phrases\", \"unmention\")\n",
    "os.makedirs(UNMENTION_DATA_DIR, exist_ok=True)\n",
    "files_unmention = [\n",
    "    \"rain.txt\"\n",
    "]\n",
    "for file in tqdm(files_unmention):\n",
    "    client.fget_object(\n",
    "        bucket_name=\"knodle\",\n",
    "        object_name=os.path.join(\"datasets/weather/phrases/unmention/\", file),\n",
    "        file_path=os.path.join(UNMENTION_DATA_DIR, file),\n",
    "    )\n",
    "\n",
    "\n",
    "# PATTERN DIRECTORY ----------------------------------------------------------------------------------\n",
    "PATTERNS_DIR = os.path.join(CHEXPERT_DATA_DIR, \"patterns\")\n",
    "os.makedirs(PATTERNS_DIR, exist_ok=True)\n",
    "files_patterns = [\n",
    "    \"pre_negation_uncertainty.txt\", \"negation.txt\", \"post_negation_uncertainty.txt\"\n",
    "]\n",
    "for file in tqdm(files_patterns):\n",
    "    client.fget_object(\n",
    "        bucket_name=\"knodle\",\n",
    "        object_name=os.path.join(\"datasets/weather/patterns/\", file),\n",
    "        file_path=os.path.join(PATTERNS_DIR, file),\n",
    "    )"
   ]
  },
  {
   "cell_type": "markdown",
   "metadata": {
    "pycharm": {
     "name": "#%% md\n"
    }
   },
   "source": [
    "Following the same steps as above, the sample data, for which we use weather forecasts, is downloaded and stored. The sample data, in contrast to the other files, needs to be provided in a csv file."
   ]
  },
  {
   "cell_type": "code",
   "execution_count": 169,
   "metadata": {
    "pycharm": {
     "name": "#%%\n"
    }
   },
   "outputs": [
    {
     "data": {
      "text/plain": "HBox(children=(FloatProgress(value=0.0, max=1.0), HTML(value='')))",
      "application/vnd.jupyter.widget-view+json": {
       "version_major": 2,
       "version_minor": 0,
       "model_id": "575026ecdb5f4d56b793eda7ac079495"
      }
     },
     "metadata": {},
     "output_type": "display_data"
    },
    {
     "name": "stderr",
     "output_type": "stream",
     "text": [
      "2022-01-24 16:04:36,757 urllib3.poolmanager INFO     Redirecting http://knodle.cc/knodle/datasets/weather/reports/weather_forecast.csv -> https://knodle.cc/knodle/datasets/weather/reports/weather_forecast.csv\n",
      "2022-01-24 16:04:36,778 urllib3.poolmanager INFO     Redirecting http://knodle.cc/knodle/datasets/weather/reports/weather_forecast.csv -> https://knodle.cc/knodle/datasets/weather/reports/weather_forecast.csv\n"
     ]
    },
    {
     "name": "stdout",
     "output_type": "stream",
     "text": [
      "\n"
     ]
    }
   ],
   "source": [
    "# SAMPLE DIRECTORY -----------------------------------------------------------------------------------\n",
    "SAMPLE_DIR = os.path.join(CHEXPERT_DATA_DIR, \"reports\")\n",
    "os.makedirs(SAMPLE_DIR, exist_ok=True)\n",
    "files_sample = [\n",
    "    \"weather_forecast.csv\"\n",
    "]\n",
    "for file in tqdm(files_sample):\n",
    "    client.fget_object(\n",
    "        bucket_name=\"knodle\",\n",
    "        object_name=os.path.join(\"datasets/weather/reports/\", file),\n",
    "        file_path=os.path.join(SAMPLE_DIR, file),\n",
    "    )"
   ]
  },
  {
   "cell_type": "markdown",
   "metadata": {
    "pycharm": {
     "name": "#%% md\n"
    }
   },
   "source": [
    "Finally, the directory where you want the output matrices X, T and Z to be stored, needs to be specified."
   ]
  },
  {
   "cell_type": "code",
   "execution_count": 170,
   "metadata": {
    "pycharm": {
     "name": "#%%\n"
    }
   },
   "outputs": [],
   "source": [
    "# OUTPUT DIRECTORY -----------------------------------------------------------------------------------\n",
    "OUTPUT_DIR = os.path.join(CHEXPERT_DATA_DIR, \"output\")\n",
    "os.makedirs(OUTPUT_DIR, exist_ok=True)"
   ]
  },
  {
   "cell_type": "markdown",
   "metadata": {
    "pycharm": {
     "name": "#%% md\n"
    }
   },
   "source": [
    "## Preview Dataset & Patterns"
   ]
  },
  {
   "cell_type": "markdown",
   "metadata": {
    "pycharm": {
     "name": "#%% md\n"
    }
   },
   "source": [
    "The sample data, or X matrix as it is called within Knodle, is shown below. It consists of six lines, or documents as they are called within the labeler code, each including information about the weather."
   ]
  },
  {
   "cell_type": "code",
   "execution_count": 171,
   "metadata": {
    "pycharm": {
     "name": "#%%\n"
    }
   },
   "outputs": [
    {
     "data": {
      "text/plain": "                                                                    0\n0       It is very windy and cold. There is going to be rain or snow.\n1  It is rainy all day. There may be a thunderstorm in the afternoon.\n2                   The weather is dry, but cloudy. So no rain today.\n3                           It is cold, but snow is still not likely.\n4           The weather is acting up today, even a storm is possible.\n5        The weather is getting better, no development of rain today.\n6             The clouds have cleared, it is going to be a sunny day.",
      "text/html": "<div>\n<style scoped>\n    .dataframe tbody tr th:only-of-type {\n        vertical-align: middle;\n    }\n\n    .dataframe tbody tr th {\n        vertical-align: top;\n    }\n\n    .dataframe thead th {\n        text-align: right;\n    }\n</style>\n<table border=\"1\" class=\"dataframe\">\n  <thead>\n    <tr style=\"text-align: right;\">\n      <th></th>\n      <th>0</th>\n    </tr>\n  </thead>\n  <tbody>\n    <tr>\n      <th>0</th>\n      <td>It is very windy and cold. There is going to be rain or snow.</td>\n    </tr>\n    <tr>\n      <th>1</th>\n      <td>It is rainy all day. There may be a thunderstorm in the afternoon.</td>\n    </tr>\n    <tr>\n      <th>2</th>\n      <td>The weather is dry, but cloudy. So no rain today.</td>\n    </tr>\n    <tr>\n      <th>3</th>\n      <td>It is cold, but snow is still not likely.</td>\n    </tr>\n    <tr>\n      <th>4</th>\n      <td>The weather is acting up today, even a storm is possible.</td>\n    </tr>\n    <tr>\n      <th>5</th>\n      <td>The weather is getting better, no development of rain today.</td>\n    </tr>\n    <tr>\n      <th>6</th>\n      <td>The clouds have cleared, it is going to be a sunny day.</td>\n    </tr>\n  </tbody>\n</table>\n</div>"
     },
     "execution_count": 171,
     "metadata": {},
     "output_type": "execute_result"
    }
   ],
   "source": [
    "pd.read_csv(os.path.join(SAMPLE_DIR, \"weather_forecast.csv\"), header=None)"
   ]
  },
  {
   "cell_type": "markdown",
   "source": [
    "There are eight different weather labels, so eight different text files with match phrases, that could be assigned to each of these sentences. The labels are: \"clouds\", \"cold\", \"rain\", \"snow\", \"storm\", \"sun\", \"warm\" and \"wind\". Take for example the first line of the data: \"It is very windy and cold. There is going to be rain or snow.\" If we had to assign positive, negative or uncertain for each of these labels here, we would probably assign the following:\n",
    "- **positive**: cold, wind\n",
    "- **negative**: clouds, storm, sun, warm\n",
    "- **uncertain**: rain, snow\n",
    "\n",
    "The author of the sentence mentions the weather conditions \"wind\", \"cold\", \"rain\" and \"snow\". So the labeler will find these labels based on the match phrases in the corresponding text files. However, a mention does not always mean that the label should be positive. In the case of the example sentence, it says \"there is going to be rain or snow\", so there is in fact uncertainty concerning the labels \"rain\" and \"snow\". This uncertainty we want the labeler to recognize and we manage that through providing the necessary uncertainty pattern."
   ],
   "metadata": {
    "collapsed": false,
    "pycharm": {
     "name": "#%% md\n"
    }
   }
  },
  {
   "cell_type": "markdown",
   "source": [
    "Below, the provided post-negation uncertainty patterns are shown. The last two lines of the file show the patterns responsible for \"rain\" and \"snow\" being labelled as uncertain. The first of the two patterns makes sure that \"rain\", the word before the \"or\",  is labelled as uncertain and the other one does the same for \"snow\", the word after the \"or\". As mentioned before, a detailed explanation of Semgrex can be found on the corresponding [website](https://nlp.stanford.edu/nlp/javadoc/javanlp/edu/stanford/nlp/semgraph/semgrex/SemgrexPattern.html). In this example, however, the pattern is quite simple, the following explanation concerning the node relations is taken from the Semgrex website:\n",
    "- A >reln B \tA is the governor of a relation reln with B\n",
    "- A <reln B \tA is the dependent of a relation reln with B\n",
    "\n",
    "In the relation \"rain or snow\", \"rain\" is the governor and \"snow\" the dependent, therefore we need the \">reln\" relation to label \"rain\" as uncertain and \"<reln\" to label \"snow\" as uncertain."
   ],
   "metadata": {
    "collapsed": false
   }
  },
  {
   "cell_type": "code",
   "execution_count": 172,
   "outputs": [
    {
     "data": {
      "text/plain": "                                                       0\n0                             # Rain cannot be excluded.\n1   {} < {} ({lemma:/excluded/} > {dependency:/neg/} {})\n2                         # May/might/would/could be XXX\n3                {} > {} {lemma:/may|might|would|could/}\n4    # '{} >{dependency:/cop/} {lemma:/may|would|could/}\n5                            # A Storm would be possible\n6                              {} <{} {lemma:/possible/}\n7                                           # may be XXX\n8      {} <{} {lemma:/be/} >{} {lemma:/may|could|would/}\n9                                           # XXX or YYY\n10                       #{} > {dependency:/conj:or/} {}\n11                        {} < {dependency:/conj:or/} {}",
      "text/html": "<div>\n<style scoped>\n    .dataframe tbody tr th:only-of-type {\n        vertical-align: middle;\n    }\n\n    .dataframe tbody tr th {\n        vertical-align: top;\n    }\n\n    .dataframe thead th {\n        text-align: right;\n    }\n</style>\n<table border=\"1\" class=\"dataframe\">\n  <thead>\n    <tr style=\"text-align: right;\">\n      <th></th>\n      <th>0</th>\n    </tr>\n  </thead>\n  <tbody>\n    <tr>\n      <th>0</th>\n      <td># Rain cannot be excluded.</td>\n    </tr>\n    <tr>\n      <th>1</th>\n      <td>{} &lt; {} ({lemma:/excluded/} &gt; {dependency:/neg/} {})</td>\n    </tr>\n    <tr>\n      <th>2</th>\n      <td># May/might/would/could be XXX</td>\n    </tr>\n    <tr>\n      <th>3</th>\n      <td>{} &gt; {} {lemma:/may|might|would|could/}</td>\n    </tr>\n    <tr>\n      <th>4</th>\n      <td># '{} &gt;{dependency:/cop/} {lemma:/may|would|could/}</td>\n    </tr>\n    <tr>\n      <th>5</th>\n      <td># A Storm would be possible</td>\n    </tr>\n    <tr>\n      <th>6</th>\n      <td>{} &lt;{} {lemma:/possible/}</td>\n    </tr>\n    <tr>\n      <th>7</th>\n      <td># may be XXX</td>\n    </tr>\n    <tr>\n      <th>8</th>\n      <td>{} &lt;{} {lemma:/be/} &gt;{} {lemma:/may|could|would/}</td>\n    </tr>\n    <tr>\n      <th>9</th>\n      <td># XXX or YYY</td>\n    </tr>\n    <tr>\n      <th>10</th>\n      <td>#{} &gt; {dependency:/conj:or/} {}</td>\n    </tr>\n    <tr>\n      <th>11</th>\n      <td>{} &lt; {dependency:/conj:or/} {}</td>\n    </tr>\n  </tbody>\n</table>\n</div>"
     },
     "execution_count": 172,
     "metadata": {},
     "output_type": "execute_result"
    }
   ],
   "source": [
    "pd.read_csv(os.path.join(PATTERNS_DIR, \"post_negation_uncertainty.txt\"), header=None)"
   ],
   "metadata": {
    "collapsed": false,
    "pycharm": {
     "name": "#%%\n"
    }
   }
  },
  {
   "cell_type": "markdown",
   "source": [
    "Have a look at the other example weather forecasts as well and their corresponding negation or uncertainty patterns. A very helpful website for figuring out dependencies or getting part-of-speech tags for a text is the [CoreNLP website](https://corenlp.run/), referring to it when creating patterns yourself can be quite useful."
   ],
   "metadata": {
    "collapsed": false,
    "pycharm": {
     "name": "#%% md\n"
    }
   }
  },
  {
   "cell_type": "markdown",
   "metadata": {
    "pycharm": {
     "name": "#%% md\n"
    }
   },
   "source": [
    "## Labelling"
   ]
  },
  {
   "cell_type": "markdown",
   "metadata": {
    "pycharm": {
     "name": "#%% md\n"
    }
   },
   "source": [
    "Now, that the data is loaded, use the adjusted [CheXpert labeler](https://github.com/stanfordmlgroup/chexpert-labeler) in Knodle to label the weather forecasts. The labeler is started by initiating the `Labeler()` class, followed by running the associated `label()` function. Since we are not using the original CheXpert data, `chexpert_bool` is set to `False`. And the `config_pattern_tutorial.py` file is specified as config file for the labeler.\n",
    "You can choose yourself how you want the uncertain labels to be used. The default of the labeler is to transform all uncertain labels to positive labels, but this can be changed through the `uncertain` argument in the `label()` function of the `labeler`. Simply specify \"-1\" if you want to keep the uncertain labels or \"0\" if you want the uncertain labels to be changed to negative labels. Unfortunately the other modules e.g. trainers in Knodle can only handle Z matrices containing zeros and ones as of now."
   ]
  },
  {
   "cell_type": "code",
   "execution_count": 173,
   "metadata": {
    "pycharm": {
     "name": "#%%\n"
    }
   },
   "outputs": [
    {
     "ename": "NameError",
     "evalue": "name 'Labeler' is not defined",
     "output_type": "error",
     "traceback": [
      "\u001B[0;31m---------------------------------------------------------------------------\u001B[0m",
      "\u001B[0;31mNameError\u001B[0m                                 Traceback (most recent call last)",
      "\u001B[0;32m/tmp/ipykernel_286686/3443327070.py\u001B[0m in \u001B[0;36m<module>\u001B[0;34m\u001B[0m\n\u001B[1;32m      1\u001B[0m \u001B[0;31m# The labeler class is initiated without passing a config.py file, so the default one is used.\u001B[0m\u001B[0;34m\u001B[0m\u001B[0;34m\u001B[0m\u001B[0;34m\u001B[0m\u001B[0m\n\u001B[0;32m----> 2\u001B[0;31m \u001B[0mlabeler\u001B[0m \u001B[0;34m=\u001B[0m \u001B[0mLabeler\u001B[0m\u001B[0;34m(\u001B[0m\u001B[0;34m)\u001B[0m\u001B[0;34m\u001B[0m\u001B[0;34m\u001B[0m\u001B[0m\n\u001B[0m\u001B[1;32m      3\u001B[0m \u001B[0;34m\u001B[0m\u001B[0m\n\u001B[1;32m      4\u001B[0m \u001B[0;31m# The label function is run, outputting the matrices X, T and Z.\u001B[0m\u001B[0;34m\u001B[0m\u001B[0;34m\u001B[0m\u001B[0;34m\u001B[0m\u001B[0m\n\u001B[1;32m      5\u001B[0m \u001B[0mlabeler\u001B[0m\u001B[0;34m.\u001B[0m\u001B[0mlabel\u001B[0m\u001B[0;34m(\u001B[0m\u001B[0mtransform_patterns\u001B[0m\u001B[0;34m=\u001B[0m\u001B[0;32mFalse\u001B[0m\u001B[0;34m,\u001B[0m \u001B[0muncertain\u001B[0m\u001B[0;34m=\u001B[0m\u001B[0;34m-\u001B[0m\u001B[0;36m1\u001B[0m\u001B[0;34m,\u001B[0m \u001B[0mchexpert_bool\u001B[0m\u001B[0;34m=\u001B[0m\u001B[0;32mFalse\u001B[0m\u001B[0;34m)\u001B[0m\u001B[0;34m\u001B[0m\u001B[0;34m\u001B[0m\u001B[0m\n",
      "\u001B[0;31mNameError\u001B[0m: name 'Labeler' is not defined"
     ]
    }
   ],
   "source": [
    "# The labeler class is initiated without passing a config.py file, so the default one is used.\n",
    "labeler = Labeler()\n",
    "\n",
    "# The label function is run, outputting the matrices X, T and Z.\n",
    "labeler.label(transform_patterns=False, uncertain=-1, chexpert_bool=False)"
   ]
  },
  {
   "cell_type": "markdown",
   "source": [
    "Unfortunately the code cannot be run from this notebook, but must be run in a python file from the terminal, because of NegBio. Please run these lines of code in your terminal:\n",
    "\n",
    "**0) Go to home directory**\n",
    "`cd`\n",
    "\n",
    "**1) Clone the repository**\n",
    "`git clone https://github.com/ncbi-nlp/NegBio.git`\n",
    "\n",
    "**2) Add the NegBio directory to your PYTHONPATH**\n",
    "`export PYTHONPATH=\"${PYTHONPATH}:/home/elisabear/NegBio\"`\n",
    "\n",
    "**3) Create the virtual environment**\n",
    "`cd ~/PycharmProjects/knodle/knodle/labeler/CheXpert\n",
    "conda env create -f environment.yml`\n",
    "\n",
    "**4) Activate the virtual environment**\n",
    "`conda activate chexpert-label`\n",
    "\n",
    "**5) Install NLTK data**\n",
    "`python -m nltk.downloader universal_tagset punkt wordnet`\n",
    "\n",
    "**6) Go to directory where file is saved**\n",
    "`cd ~/PycharmProjects/knodle`\n",
    "\n",
    "**7) Convert the notebook to a Python file**\n",
    "`jupyter nbconvert --to python examples/labeler/chexpert/chexpert_patterns_tutorial.ipynb`\n",
    "\n",
    "**8) Run the notebook**\n",
    "`python examples/labeler/chexpert/chexpert_patterns_tutorial.py`"
   ],
   "metadata": {
    "collapsed": false,
    "pycharm": {
     "name": "#%% md\n"
    }
   }
  }
 ],
 "metadata": {
  "kernelspec": {
   "display_name": "Python 3",
   "language": "python",
   "name": "python3"
  },
  "language_info": {
   "codemirror_mode": {
    "name": "ipython",
    "version": 3
   },
   "file_extension": ".py",
   "mimetype": "text/x-python",
   "name": "python",
   "nbconvert_exporter": "python",
   "pygments_lexer": "ipython3",
   "version": "3.7.3"
  }
 },
 "nbformat": 4,
 "nbformat_minor": 1
}