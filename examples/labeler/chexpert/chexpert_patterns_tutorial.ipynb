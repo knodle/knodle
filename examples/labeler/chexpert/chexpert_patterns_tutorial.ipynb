{
 "cells": [
  {
   "cell_type": "markdown",
   "metadata": {
    "collapsed": true,
    "pycharm": {
     "name": "#%% md\n"
    }
   },
   "source": [
    "This notebook demonstrates how negation and uncertainty patterns for the CheXpert labeler work. This is illustrated using a small set of sample data on weather forecasts. The text data was created using weather forecast transcripts which can be found [here](https://learnenglishteens.britishcouncil.org/sites/teens/files/weather_forecast_-_transcript_4.pdf)."
   ]
  },
  {
   "cell_type": "markdown",
   "metadata": {
    "pycharm": {
     "name": "#%% md\n"
    }
   },
   "source": [
    "First, the data has to be loaded from a Knodle dataset collection. The data consists of \"phrases\", which include mentions and unmentions of eight different weather labels, and \"patterns\", which are divided into pre-negation uncertainty, negation and post-negation uncertainty patterns.\n",
    "While the mentions are used as main rules for the corresponding labels and represented in the T and Z matrices, the unmentions and the patterns are used to finetune the matches. The unmentions, like the mentions, are saved in plain text files consisting of simple keywords corresponding to the respective labels. The patterns are saved in three different text files comprised of [SemgrexPatterns](https://nlp.stanford.edu/nlp/javadoc/javanlp/edu/stanford/nlp/semgraph/semgrex/SemgrexPattern.html) which are patterns for matching node and edge configurations of a dependency graph. The patterns are composed of nodes, which represent IndexedWords, and the relations between them, which represent edges in a SemanticGraph. For more detailed information, please have a look at the syntax [here](https://nlp.stanford.edu/nlp/javadoc/javanlp/edu/stanford/nlp/semgraph/semgrex/SemgrexPattern.html)."
   ]
  },
  {
   "cell_type": "markdown",
   "metadata": {
    "pycharm": {
     "name": "#%% md\n"
    }
   },
   "source": []
  },
  {
   "cell_type": "code",
   "execution_count": 74,
   "metadata": {
    "pycharm": {
     "name": "#%%\n"
    }
   },
   "outputs": [],
   "source": [
    "# Imports\n",
    "import os\n",
    "import pandas as pd\n",
    "from joblib import dump\n",
    "from minio import Minio\n",
    "from tqdm.auto import tqdm\n",
    "\n",
    "# Client to access the dataset collection\n",
    "client = Minio(\"knodle.cc\", secure=False)"
   ]
  },
  {
   "cell_type": "code",
   "execution_count": 67,
   "outputs": [
    {
     "name": "stderr",
     "output_type": "stream",
     "text": [
      "/tmp/ipykernel_45262/1837502687.py:2: FutureWarning: Passing a negative integer is deprecated in version 1.0 and will not be supported in future version. Instead, use None to not limit the column width.\n",
      "  pd.set_option('display.max_colwidth', -1)\n"
     ]
    }
   ],
   "source": [
    "# Adjust pandas options, so tables do not get cut off\n",
    "pd.set_option('display.max_colwidth', -1)"
   ],
   "metadata": {
    "collapsed": false,
    "pycharm": {
     "name": "#%%\n"
    }
   }
  },
  {
   "cell_type": "markdown",
   "metadata": {
    "pycharm": {
     "name": "#%% md\n"
    }
   },
   "source": [
    "## Download Data"
   ]
  },
  {
   "cell_type": "markdown",
   "metadata": {
    "pycharm": {
     "name": "#%% md\n"
    }
   },
   "source": [
    "Specify the path to the directory where you want all files to be saved to as `CHEXPERT_DATA_DIR`. The default path is given below, simply adjust it if you wish to."
   ]
  },
  {
   "cell_type": "code",
   "execution_count": 54,
   "metadata": {
    "pycharm": {
     "name": "#%%\n"
    }
   },
   "outputs": [],
   "source": [
    "# DATA DIRECTORY -------------------------------------------------------------------------------------\n",
    "CHEXPERT_DATA_DIR = os.path.join(os.getcwd(), \"examples\", \"labeler\", \"chexpert\")"
   ]
  },
  {
   "cell_type": "markdown",
   "metadata": {
    "pycharm": {
     "name": "#%% md\n"
    }
   },
   "source": [
    "The next step is downloading the data from Minio. In the next section of code, the `mention`, `unmention` & `pattern` directories are first created and then the text files are saved to them. In case you want to download other data, just change the path to the correct Minio folder and adjust the file names."
   ]
  },
  {
   "cell_type": "code",
   "execution_count": 55,
   "metadata": {
    "pycharm": {
     "name": "#%%\n"
    }
   },
   "outputs": [
    {
     "data": {
      "text/plain": "HBox(children=(FloatProgress(value=0.0, max=8.0), HTML(value='')))",
      "application/vnd.jupyter.widget-view+json": {
       "version_major": 2,
       "version_minor": 0,
       "model_id": "5bb16014103a4e81b5a806bf05640ae1"
      }
     },
     "metadata": {},
     "output_type": "display_data"
    },
    {
     "name": "stderr",
     "output_type": "stream",
     "text": [
      "2022-01-30 13:50:57,372 urllib3.poolmanager INFO     Redirecting http://knodle.cc/knodle/datasets/weather/phrases/mention/clouds.txt -> https://knodle.cc/knodle/datasets/weather/phrases/mention/clouds.txt\n",
      "2022-01-30 13:50:57,401 urllib3.poolmanager INFO     Redirecting http://knodle.cc/knodle/datasets/weather/phrases/mention/clouds.txt -> https://knodle.cc/knodle/datasets/weather/phrases/mention/clouds.txt\n",
      "2022-01-30 13:50:57,431 urllib3.poolmanager INFO     Redirecting http://knodle.cc/knodle/datasets/weather/phrases/mention/cold.txt -> https://knodle.cc/knodle/datasets/weather/phrases/mention/cold.txt\n",
      "2022-01-30 13:50:57,451 urllib3.poolmanager INFO     Redirecting http://knodle.cc/knodle/datasets/weather/phrases/mention/cold.txt -> https://knodle.cc/knodle/datasets/weather/phrases/mention/cold.txt\n",
      "2022-01-30 13:50:57,474 urllib3.poolmanager INFO     Redirecting http://knodle.cc/knodle/datasets/weather/phrases/mention/rain.txt -> https://knodle.cc/knodle/datasets/weather/phrases/mention/rain.txt\n",
      "2022-01-30 13:50:57,494 urllib3.poolmanager INFO     Redirecting http://knodle.cc/knodle/datasets/weather/phrases/mention/rain.txt -> https://knodle.cc/knodle/datasets/weather/phrases/mention/rain.txt\n",
      "2022-01-30 13:50:57,515 urllib3.poolmanager INFO     Redirecting http://knodle.cc/knodle/datasets/weather/phrases/mention/snow.txt -> https://knodle.cc/knodle/datasets/weather/phrases/mention/snow.txt\n",
      "2022-01-30 13:50:57,536 urllib3.poolmanager INFO     Redirecting http://knodle.cc/knodle/datasets/weather/phrases/mention/snow.txt -> https://knodle.cc/knodle/datasets/weather/phrases/mention/snow.txt\n",
      "2022-01-30 13:50:57,556 urllib3.poolmanager INFO     Redirecting http://knodle.cc/knodle/datasets/weather/phrases/mention/storm.txt -> https://knodle.cc/knodle/datasets/weather/phrases/mention/storm.txt\n",
      "2022-01-30 13:50:57,576 urllib3.poolmanager INFO     Redirecting http://knodle.cc/knodle/datasets/weather/phrases/mention/storm.txt -> https://knodle.cc/knodle/datasets/weather/phrases/mention/storm.txt\n",
      "2022-01-30 13:50:57,603 urllib3.poolmanager INFO     Redirecting http://knodle.cc/knodle/datasets/weather/phrases/mention/sun.txt -> https://knodle.cc/knodle/datasets/weather/phrases/mention/sun.txt\n",
      "2022-01-30 13:50:57,621 urllib3.poolmanager INFO     Redirecting http://knodle.cc/knodle/datasets/weather/phrases/mention/sun.txt -> https://knodle.cc/knodle/datasets/weather/phrases/mention/sun.txt\n",
      "2022-01-30 13:50:57,642 urllib3.poolmanager INFO     Redirecting http://knodle.cc/knodle/datasets/weather/phrases/mention/warm.txt -> https://knodle.cc/knodle/datasets/weather/phrases/mention/warm.txt\n",
      "2022-01-30 13:50:57,660 urllib3.poolmanager INFO     Redirecting http://knodle.cc/knodle/datasets/weather/phrases/mention/warm.txt -> https://knodle.cc/knodle/datasets/weather/phrases/mention/warm.txt\n",
      "2022-01-30 13:50:57,679 urllib3.poolmanager INFO     Redirecting http://knodle.cc/knodle/datasets/weather/phrases/mention/wind.txt -> https://knodle.cc/knodle/datasets/weather/phrases/mention/wind.txt\n",
      "2022-01-30 13:50:57,698 urllib3.poolmanager INFO     Redirecting http://knodle.cc/knodle/datasets/weather/phrases/mention/wind.txt -> https://knodle.cc/knodle/datasets/weather/phrases/mention/wind.txt\n"
     ]
    },
    {
     "name": "stdout",
     "output_type": "stream",
     "text": [
      "\n"
     ]
    },
    {
     "data": {
      "text/plain": "HBox(children=(FloatProgress(value=0.0, max=1.0), HTML(value='')))",
      "application/vnd.jupyter.widget-view+json": {
       "version_major": 2,
       "version_minor": 0,
       "model_id": "a741bfcb8c5346478c17b2fc0230074e"
      }
     },
     "metadata": {},
     "output_type": "display_data"
    },
    {
     "name": "stderr",
     "output_type": "stream",
     "text": [
      "2022-01-30 13:50:57,738 urllib3.poolmanager INFO     Redirecting http://knodle.cc/knodle/datasets/weather/phrases/unmention/rain.txt -> https://knodle.cc/knodle/datasets/weather/phrases/unmention/rain.txt\n",
      "2022-01-30 13:50:57,758 urllib3.poolmanager INFO     Redirecting http://knodle.cc/knodle/datasets/weather/phrases/unmention/rain.txt -> https://knodle.cc/knodle/datasets/weather/phrases/unmention/rain.txt\n"
     ]
    },
    {
     "name": "stdout",
     "output_type": "stream",
     "text": [
      "\n"
     ]
    },
    {
     "data": {
      "text/plain": "HBox(children=(FloatProgress(value=0.0, max=3.0), HTML(value='')))",
      "application/vnd.jupyter.widget-view+json": {
       "version_major": 2,
       "version_minor": 0,
       "model_id": "4becb09b24514723aa4459be58d24748"
      }
     },
     "metadata": {},
     "output_type": "display_data"
    },
    {
     "name": "stderr",
     "output_type": "stream",
     "text": [
      "2022-01-30 13:50:57,792 urllib3.poolmanager INFO     Redirecting http://knodle.cc/knodle/datasets/weather/patterns/pre_negation_uncertainty.txt -> https://knodle.cc/knodle/datasets/weather/patterns/pre_negation_uncertainty.txt\n",
      "2022-01-30 13:50:57,811 urllib3.poolmanager INFO     Redirecting http://knodle.cc/knodle/datasets/weather/patterns/pre_negation_uncertainty.txt -> https://knodle.cc/knodle/datasets/weather/patterns/pre_negation_uncertainty.txt\n",
      "2022-01-30 13:50:57,840 urllib3.poolmanager INFO     Redirecting http://knodle.cc/knodle/datasets/weather/patterns/negation.txt -> https://knodle.cc/knodle/datasets/weather/patterns/negation.txt\n",
      "2022-01-30 13:50:57,858 urllib3.poolmanager INFO     Redirecting http://knodle.cc/knodle/datasets/weather/patterns/negation.txt -> https://knodle.cc/knodle/datasets/weather/patterns/negation.txt\n",
      "2022-01-30 13:50:57,877 urllib3.poolmanager INFO     Redirecting http://knodle.cc/knodle/datasets/weather/patterns/post_negation_uncertainty.txt -> https://knodle.cc/knodle/datasets/weather/patterns/post_negation_uncertainty.txt\n",
      "2022-01-30 13:50:57,895 urllib3.poolmanager INFO     Redirecting http://knodle.cc/knodle/datasets/weather/patterns/post_negation_uncertainty.txt -> https://knodle.cc/knodle/datasets/weather/patterns/post_negation_uncertainty.txt\n"
     ]
    },
    {
     "name": "stdout",
     "output_type": "stream",
     "text": [
      "\n"
     ]
    }
   ],
   "source": [
    "# RULE DIRECTORIES -----------------------------------------------------------------------------------\n",
    "MENTION_DATA_DIR = os.path.join(CHEXPERT_DATA_DIR, \"phrases\", \"mention\")\n",
    "os.makedirs(MENTION_DATA_DIR, exist_ok=True)\n",
    "files_mention = [\n",
    "    \"clouds.txt\", \"cold.txt\", \"rain.txt\", \"snow.txt\",\n",
    "    \"storm.txt\", \"sun.txt\", \"warm.txt\", \"wind.txt\"\n",
    "]\n",
    "for file in tqdm(files_mention):\n",
    "    client.fget_object(\n",
    "        bucket_name=\"knodle\",\n",
    "        object_name=os.path.join(\"datasets/weather/phrases/mention/\", file),\n",
    "        file_path=os.path.join(MENTION_DATA_DIR, file),\n",
    "    )\n",
    "\n",
    "UNMENTION_DATA_DIR = os.path.join(CHEXPERT_DATA_DIR, \"phrases\", \"unmention\")\n",
    "os.makedirs(UNMENTION_DATA_DIR, exist_ok=True)\n",
    "files_unmention = [\n",
    "    \"rain.txt\"\n",
    "]\n",
    "for file in tqdm(files_unmention):\n",
    "    client.fget_object(\n",
    "        bucket_name=\"knodle\",\n",
    "        object_name=os.path.join(\"datasets/weather/phrases/unmention/\", file),\n",
    "        file_path=os.path.join(UNMENTION_DATA_DIR, file),\n",
    "    )\n",
    "\n",
    "\n",
    "# PATTERN DIRECTORY ----------------------------------------------------------------------------------\n",
    "PATTERNS_DIR = os.path.join(CHEXPERT_DATA_DIR, \"patterns\")\n",
    "os.makedirs(PATTERNS_DIR, exist_ok=True)\n",
    "files_patterns = [\n",
    "    \"pre_negation_uncertainty.txt\", \"negation.txt\", \"post_negation_uncertainty.txt\"\n",
    "]\n",
    "for file in tqdm(files_patterns):\n",
    "    client.fget_object(\n",
    "        bucket_name=\"knodle\",\n",
    "        object_name=os.path.join(\"datasets/weather/patterns/\", file),\n",
    "        file_path=os.path.join(PATTERNS_DIR, file),\n",
    "    )"
   ]
  },
  {
   "cell_type": "markdown",
   "metadata": {
    "pycharm": {
     "name": "#%% md\n"
    }
   },
   "source": [
    "Following the same steps as above, the sample data, for which we use weather forecasts, is downloaded and stored. The sample data, in contrast to the other files, needs to be provided in a csv file."
   ]
  },
  {
   "cell_type": "code",
   "execution_count": 56,
   "metadata": {
    "pycharm": {
     "name": "#%%\n"
    }
   },
   "outputs": [
    {
     "data": {
      "text/plain": "HBox(children=(FloatProgress(value=0.0, max=1.0), HTML(value='')))",
      "application/vnd.jupyter.widget-view+json": {
       "version_major": 2,
       "version_minor": 0,
       "model_id": "3de4269c53b949d08bdad9a240d8e698"
      }
     },
     "metadata": {},
     "output_type": "display_data"
    },
    {
     "name": "stderr",
     "output_type": "stream",
     "text": [
      "2022-01-30 13:51:01,343 urllib3.poolmanager INFO     Redirecting http://knodle.cc/knodle/datasets/weather/reports/weather_forecast.csv -> https://knodle.cc/knodle/datasets/weather/reports/weather_forecast.csv\n",
      "2022-01-30 13:51:01,369 urllib3.poolmanager INFO     Redirecting http://knodle.cc/knodle/datasets/weather/reports/weather_forecast.csv -> https://knodle.cc/knodle/datasets/weather/reports/weather_forecast.csv\n"
     ]
    },
    {
     "name": "stdout",
     "output_type": "stream",
     "text": [
      "\n"
     ]
    }
   ],
   "source": [
    "# SAMPLE DIRECTORY -----------------------------------------------------------------------------------\n",
    "SAMPLE_DIR = os.path.join(CHEXPERT_DATA_DIR, \"reports\")\n",
    "os.makedirs(SAMPLE_DIR, exist_ok=True)\n",
    "files_sample = [\n",
    "    \"weather_forecast.csv\"\n",
    "]\n",
    "for file in tqdm(files_sample):\n",
    "    client.fget_object(\n",
    "        bucket_name=\"knodle\",\n",
    "        object_name=os.path.join(\"datasets/weather/reports/\", file),\n",
    "        file_path=os.path.join(SAMPLE_DIR, file),\n",
    "    )"
   ]
  },
  {
   "cell_type": "markdown",
   "metadata": {
    "pycharm": {
     "name": "#%% md\n"
    }
   },
   "source": [
    "Finally, the directory where you want the output matrices X, T and Z to be stored, needs to be specified."
   ]
  },
  {
   "cell_type": "code",
   "execution_count": 57,
   "metadata": {
    "pycharm": {
     "name": "#%%\n"
    }
   },
   "outputs": [],
   "source": [
    "# OUTPUT DIRECTORY -----------------------------------------------------------------------------------\n",
    "OUTPUT_DIR = os.path.join(CHEXPERT_DATA_DIR, \"output\")\n",
    "os.makedirs(OUTPUT_DIR, exist_ok=True)"
   ]
  },
  {
   "cell_type": "markdown",
   "metadata": {
    "pycharm": {
     "name": "#%% md\n"
    }
   },
   "source": [
    "## Preview Dataset & Patterns"
   ]
  },
  {
   "cell_type": "markdown",
   "metadata": {
    "pycharm": {
     "name": "#%% md\n"
    }
   },
   "source": [
    "The sample data, or X matrix as it is called within Knodle, is shown below. It consists of six lines, or documents as they are called within the labeler code, each including information about the weather."
   ]
  },
  {
   "cell_type": "code",
   "execution_count": 58,
   "metadata": {
    "pycharm": {
     "name": "#%%\n"
    }
   },
   "outputs": [
    {
     "data": {
      "text/plain": "                                                                    0\n0  It is very windy and cold. There is going to be rain or snow.     \n1  It is rainy all day. There may be a thunderstorm in the afternoon.\n2  It is cloudy, but the weather will stay dry. So no rain today.    \n3  It is cold, but snow is still not likely.                         \n4  The weather is acting up today, even a storm is possible.         \n5  The weather is getting better. No development of rain today.      \n6  The clouds have cleared, it is going to be a sunny day.           ",
      "text/html": "<div>\n<style scoped>\n    .dataframe tbody tr th:only-of-type {\n        vertical-align: middle;\n    }\n\n    .dataframe tbody tr th {\n        vertical-align: top;\n    }\n\n    .dataframe thead th {\n        text-align: right;\n    }\n</style>\n<table border=\"1\" class=\"dataframe\">\n  <thead>\n    <tr style=\"text-align: right;\">\n      <th></th>\n      <th>0</th>\n    </tr>\n  </thead>\n  <tbody>\n    <tr>\n      <th>0</th>\n      <td>It is very windy and cold. There is going to be rain or snow.</td>\n    </tr>\n    <tr>\n      <th>1</th>\n      <td>It is rainy all day. There may be a thunderstorm in the afternoon.</td>\n    </tr>\n    <tr>\n      <th>2</th>\n      <td>It is cloudy, but the weather will stay dry. So no rain today.</td>\n    </tr>\n    <tr>\n      <th>3</th>\n      <td>It is cold, but snow is still not likely.</td>\n    </tr>\n    <tr>\n      <th>4</th>\n      <td>The weather is acting up today, even a storm is possible.</td>\n    </tr>\n    <tr>\n      <th>5</th>\n      <td>The weather is getting better. No development of rain today.</td>\n    </tr>\n    <tr>\n      <th>6</th>\n      <td>The clouds have cleared, it is going to be a sunny day.</td>\n    </tr>\n  </tbody>\n</table>\n</div>"
     },
     "execution_count": 58,
     "metadata": {},
     "output_type": "execute_result"
    }
   ],
   "source": [
    "pd.read_csv(os.path.join(SAMPLE_DIR, \"weather_forecast.csv\"), header=None)"
   ]
  },
  {
   "cell_type": "markdown",
   "source": [
    "There are eight different weather labels, so eight different text files with match phrases, that could be assigned to each of these sentences. The labels are: \"clouds\", \"cold\", \"rain\", \"snow\", \"storm\", \"sun\", \"warm\" and \"wind\". Take for example the first line of the data: \"It is very windy and cold. There is going to be rain or snow.\" If we had to assign positive, negative or uncertain for each of these labels here, we would probably assign the following:\n",
    "- **positive**: cold, wind\n",
    "- **negative**: clouds, storm, sun, warm\n",
    "- **uncertain**: rain, snow\n",
    "\n",
    "The author of the sentence mentions the weather conditions \"wind\", \"cold\", \"rain\" and \"snow\". So the labeler will find these labels based on the match phrases in the corresponding text files. However, a mention does not always mean that the label should be positive. In the case of the example sentence, it says \"there is going to be rain or snow\", so there is in fact uncertainty concerning the labels \"rain\" and \"snow\". This uncertainty we want the labeler to recognize and we manage that through providing the necessary uncertainty pattern."
   ],
   "metadata": {
    "collapsed": false,
    "pycharm": {
     "name": "#%% md\n"
    }
   }
  },
  {
   "cell_type": "code",
   "execution_count": 59,
   "outputs": [
    {
     "data": {
      "text/plain": "                                                       0\n0   # XXX cannot be excluded                            \n1   {} < {} ({lemma:/excluded/} > {dependency:/neg/} {})\n2   # May/might/would/could be XXX                      \n3   {} > {} {lemma:/may|might|would|could/}             \n4   # XXX is possible                                   \n5   {} < {} {lemma:/possible/}                          \n6   # XXX or YYY                                        \n7   {} > {dependency:/conj:or/} {}                      \n8   {} < {dependency:/conj:or/} {}                      \n9   # XXX is not likely                                 \n10  {} < {} ({lemma:/likely/} > {dependency:/neg/} {})  ",
      "text/html": "<div>\n<style scoped>\n    .dataframe tbody tr th:only-of-type {\n        vertical-align: middle;\n    }\n\n    .dataframe tbody tr th {\n        vertical-align: top;\n    }\n\n    .dataframe thead th {\n        text-align: right;\n    }\n</style>\n<table border=\"1\" class=\"dataframe\">\n  <thead>\n    <tr style=\"text-align: right;\">\n      <th></th>\n      <th>0</th>\n    </tr>\n  </thead>\n  <tbody>\n    <tr>\n      <th>0</th>\n      <td># XXX cannot be excluded</td>\n    </tr>\n    <tr>\n      <th>1</th>\n      <td>{} &lt; {} ({lemma:/excluded/} &gt; {dependency:/neg/} {})</td>\n    </tr>\n    <tr>\n      <th>2</th>\n      <td># May/might/would/could be XXX</td>\n    </tr>\n    <tr>\n      <th>3</th>\n      <td>{} &gt; {} {lemma:/may|might|would|could/}</td>\n    </tr>\n    <tr>\n      <th>4</th>\n      <td># XXX is possible</td>\n    </tr>\n    <tr>\n      <th>5</th>\n      <td>{} &lt; {} {lemma:/possible/}</td>\n    </tr>\n    <tr>\n      <th>6</th>\n      <td># XXX or YYY</td>\n    </tr>\n    <tr>\n      <th>7</th>\n      <td>{} &gt; {dependency:/conj:or/} {}</td>\n    </tr>\n    <tr>\n      <th>8</th>\n      <td>{} &lt; {dependency:/conj:or/} {}</td>\n    </tr>\n    <tr>\n      <th>9</th>\n      <td># XXX is not likely</td>\n    </tr>\n    <tr>\n      <th>10</th>\n      <td>{} &lt; {} ({lemma:/likely/} &gt; {dependency:/neg/} {})</td>\n    </tr>\n  </tbody>\n</table>\n</div>"
     },
     "execution_count": 59,
     "metadata": {},
     "output_type": "execute_result"
    }
   ],
   "source": [
    "pd.read_csv(os.path.join(PATTERNS_DIR, \"post_negation_uncertainty.txt\"), header=None)"
   ],
   "metadata": {
    "collapsed": false,
    "pycharm": {
     "name": "#%%\n"
    }
   }
  },
  {
   "cell_type": "markdown",
   "source": [
    "Above, the provided post-negation uncertainty patterns are shown. The last two lines of the file show the patterns responsible for \"rain\" and \"snow\" being labelled as uncertain. The first of the two patterns makes sure that \"rain\", the word before the \"or\",  is labelled as uncertain and the other one does the same for \"snow\", the word after the \"or\". As mentioned before, a detailed explanation of Semgrex can be found on the corresponding [website](https://nlp.stanford.edu/nlp/javadoc/javanlp/edu/stanford/nlp/semgraph/semgrex/SemgrexPattern.html). In this example, however, the pattern is quite simple, the following explanation concerning the node relations is taken from the Semgrex website:\n",
    "- A >reln B \tA is the governor of a relation reln with B\n",
    "- A <reln B \tA is the dependent of a relation reln with B\n",
    "\n",
    "In the relation \"rain or snow\", \"rain\" is the governor and \"snow\" the dependent, therefore we need the \">reln\" relation to label \"rain\" as uncertain and \"<reln\" to label \"snow\" as uncertain."
   ],
   "metadata": {
    "collapsed": false
   }
  },
  {
   "cell_type": "markdown",
   "source": [
    "Let us also have a closer look at the rest of the documents. The second one reads: \"It is rainy all day. There may be a thunderstorm in the afternoon.\"\n",
    "The human label assignment would be:\n",
    "- **positive**: rain\n",
    "- **negative**: clouds, cold, snow, sun, warm, wind\n",
    "- **uncertain**: storm\n",
    "\n",
    "Using the provided mentions, the labeler will find the labels \"rain\" and \"storm\". However, we want the labeler to correctly classify \"storm\" as uncertain, since it says \"there **may** be a thunderstorm\". This is accomplished with the following pattern: \"{ } > { } {lemma:/may|might|would|could/}\". In our example sentence \"thunderstorm\" is the governor of the relation, therefore we need \">\". The \"be\" is represented by \"{ }\" and followed by the node holding our lemma for \"may\".\n",
    "\n",
    "-------------------------------------------\n",
    "Let us continue with the third document: \"It is cloudy, but the weather will stay dry. So no rain today.\"\n",
    "The human label assignment would be:\n",
    "- **positive**: clouds,\n",
    "- **negative**: cold, rain, snow, storm, sun, warm, wind\n",
    "- **uncertain**: /\n",
    "\n",
    "The labels the labeler will find using the mentions are \"clouds\" and \"rain\". However, contrary to the first two examples, the labeler won't actually need the negation or uncertainty patterns, since \"dry\" is an unmention provided for \"rain\".\n",
    "\n",
    "-------------------------------------------\n",
    "The fourth document reads: \"It is cold, but snow is still not likely.\"\n",
    "The human label assignment would be:\n",
    "- **positive**: cold\n",
    "- **negative**: clouds, rain, storm, sun, warm, wind\n",
    "- **uncertain**: snow\n",
    "\n",
    "The labeler will find \"cold\" and \"snow\" using the mentions. The uncertainty pattern responsible for the correct labelling of \"snow\" as uncertain is \"{ } < { } ({lemma:/likely/} > {dependency:/neg/} { })\". \"snow\" is the dependent, therefore \"<\" is needed as dependency and inside the parentheses the \"not likely\" is depicted.\n",
    "\n",
    "-------------------------------------------\n",
    "The fifth document states: \"The weather is acting up today, even a storm is possible.\"\n",
    "The human label assignment would be:\n",
    "- **positive**: /\n",
    "- **negative**: clouds, cold, rain, snow, sun, warm, wind\n",
    "- **uncertain**: storm\n",
    "\n",
    "The following pattern is the reason for the labeler to correctly label \"storm\" as uncertain: \"{ } < { } {lemma:/possible/}\". Since \"storm\" is the dependent, we again need \"<\". The \"is\" is represented by \"{ }\" and followed by the node holding our lemma for \"possible\".\n",
    "\n",
    "-------------------------------------------\n",
    "In the sixth document it reads: \"The weather is getting better. No development of rain today.\"\n",
    "The human label assignment would be:\n",
    "- **positive**: /\n",
    "- **negative**: clouds, cold, rain, snow, storm, sun, warm, wind\n",
    "- **uncertain**: /\n",
    "\n",
    "The only mention found by the labeler corresponds to \"rain\". However, we need the labeler to classify rain as negative, since it says \"No development of rain\". This is accomplished using a negation pattern, please have a look at all the negation patterns below. The one used in this case is \"{ } < {dependency:/nmod:of/} ({lemma:/development/} > { } {lemma:/no/})\". \"rain\" is a dependent of \"development\" and the dependency can be specified with \"nmod:of\". Inside the parentheses the dependency between \"development\" (the governor) and \"no\" is shown.\n",
    "\n",
    "-------------------------------------------\n",
    "The final document states: \"The clouds have cleared, it is going to be a sunny day.\"\n",
    "The human label assignment would be:\n",
    "- **positive**: sun\n",
    "- **negative**: clouds, cold, rain, snow, storm, warm, wind\n",
    "- **uncertain**: /\n",
    "\n",
    "The labeler will find the mentions for \"clouds\" and \"sun\", but we only want the latter to be labeled positive. The negation of \"clouds\" can be achieved with the help of the following negation pattern: \"{ } < { } {lemma:/clear/}\". Since \"clouds\" is the dependent we need \"<\" to express the correct dependency and \"{ } {lemma:/clear/}\" matches \"have cleared\"."
   ],
   "metadata": {
    "collapsed": false,
    "pycharm": {
     "name": "#%% md\n"
    }
   }
  },
  {
   "cell_type": "code",
   "execution_count": 60,
   "outputs": [
    {
     "data": {
      "text/plain": "                                                                       0\n0  # No development of XXX                                              \n1  {} < {dependency:/nmod:of/} ({lemma:/development/} > {} {lemma:/no/})\n2  # XXX has/have cleared                                               \n3  {} < {} {lemma:/clear/}                                              ",
      "text/html": "<div>\n<style scoped>\n    .dataframe tbody tr th:only-of-type {\n        vertical-align: middle;\n    }\n\n    .dataframe tbody tr th {\n        vertical-align: top;\n    }\n\n    .dataframe thead th {\n        text-align: right;\n    }\n</style>\n<table border=\"1\" class=\"dataframe\">\n  <thead>\n    <tr style=\"text-align: right;\">\n      <th></th>\n      <th>0</th>\n    </tr>\n  </thead>\n  <tbody>\n    <tr>\n      <th>0</th>\n      <td># No development of XXX</td>\n    </tr>\n    <tr>\n      <th>1</th>\n      <td>{} &lt; {dependency:/nmod:of/} ({lemma:/development/} &gt; {} {lemma:/no/})</td>\n    </tr>\n    <tr>\n      <th>2</th>\n      <td># XXX has/have cleared</td>\n    </tr>\n    <tr>\n      <th>3</th>\n      <td>{} &lt; {} {lemma:/clear/}</td>\n    </tr>\n  </tbody>\n</table>\n</div>"
     },
     "execution_count": 60,
     "metadata": {},
     "output_type": "execute_result"
    }
   ],
   "source": [
    "pd.read_csv(os.path.join(PATTERNS_DIR, \"negation.txt\"), header=None)"
   ],
   "metadata": {
    "collapsed": false,
    "pycharm": {
     "name": "#%%\n"
    }
   }
  },
  {
   "cell_type": "markdown",
   "source": [
    "Have a look at the CheXpert sample reports as well and their corresponding negation or uncertainty patterns. A very helpful website for figuring out which term is the governor and which the dependent or also for getting part-of-speech tags for a text is the [CoreNLP website](https://corenlp.run/), referring to it when creating patterns yourself can be quite useful."
   ],
   "metadata": {
    "collapsed": false,
    "pycharm": {
     "name": "#%% md\n"
    }
   }
  },
  {
   "cell_type": "markdown",
   "metadata": {
    "pycharm": {
     "name": "#%% md\n"
    }
   },
   "source": [
    "## Labelling"
   ]
  },
  {
   "cell_type": "markdown",
   "metadata": {
    "pycharm": {
     "name": "#%% md\n"
    }
   },
   "source": [
    "Now, that the data is loaded, use the adjusted [CheXpert labeler](https://github.com/stanfordmlgroup/chexpert-labeler) in Knodle to label the weather forecasts. The labeler is started by initiating the `Labeler()` class, followed by running the associated `label()` function. Since we are not using the original CheXpert data, `chexpert_bool` is set to `False`. And the `config_pattern_tutorial.py` file is specified as config file for the labeler.\n",
    "You can choose yourself how you want the uncertain labels to be used. The default of the labeler is to transform all uncertain labels to positive labels, but this can be changed through the `uncertain` argument in the `label()` function of the `labeler`. Simply specify \"-1\" if you want to keep the uncertain labels or \"0\" if you want the uncertain labels to be changed to negative labels. Unfortunately the other modules e.g. trainers in Knodle can only handle Z matrices containing zeros and ones as of now.\n",
    "\n",
    "For running the code, please check the identically named python file and run it as explained below."
   ]
  },
  {
   "cell_type": "markdown",
   "source": [
    "Unfortunately the code cannot be run from this notebook, but must be run in a python file from the terminal, because of NegBio. Please run these lines of code in your terminal and adjust the paths accordingly beforehand:\n",
    "\n",
    "**0) Go to home directory**\n",
    "`cd`\n",
    "\n",
    "**1) Clone the repository**\n",
    "`git clone https://github.com/ncbi-nlp/NegBio.git`\n",
    "\n",
    "**2) Add the NegBio directory to your PYTHONPATH**\n",
    "`export PYTHONPATH=\"${PYTHONPATH}:<insert path to NegBio directory>\"`\n",
    "\n",
    "**3) Create the virtual environment**\n",
    "`cd ~<insert path to knodle/knodle/labeler/CheXpert directory>\n",
    "conda env create -f environment.yml`\n",
    "\n",
    "**4) Activate the virtual environment**\n",
    "`conda activate chexpert-label`\n",
    "\n",
    "**5) Install NLTK data**\n",
    "`python -m nltk.downloader universal_tagset punkt wordnet`\n",
    "\n",
    "**6) Go to knodle directory**\n",
    "`cd ~<insert path to knodle>`\n",
    "\n",
    "**7) Run the file**\n",
    "`python examples/labeler/chexpert/chexpert_patterns_tutorial.py`"
   ],
   "metadata": {
    "collapsed": false,
    "pycharm": {
     "name": "#%% md\n"
    }
   }
  },
  {
   "cell_type": "markdown",
   "source": [
    "## Results"
   ],
   "metadata": {
    "collapsed": false,
    "pycharm": {
     "name": "#%% md\n"
    }
   }
  },
  {
   "cell_type": "markdown",
   "source": [
    "The resulting matrices X, T and Z are printed below."
   ],
   "metadata": {
    "collapsed": false,
    "pycharm": {
     "name": "#%% md\n"
    }
   }
  },
  {
   "cell_type": "code",
   "execution_count": 71,
   "outputs": [
    {
     "data": {
      "text/plain": "                                                                    0\n0  It is very windy and cold. There is going to be rain or snow.     \n1  It is rainy all day. There may be a thunderstorm in the afternoon.\n2  It is cloudy, but the weather will stay dry. So no rain today.    \n3  It is cold, but snow is still not likely.                         \n4  The weather is acting up today, even a storm is possible.         \n5  The weather is getting better. No development of rain today.      \n6  The clouds have cleared, it is going to be a sunny day.           ",
      "text/html": "<div>\n<style scoped>\n    .dataframe tbody tr th:only-of-type {\n        vertical-align: middle;\n    }\n\n    .dataframe tbody tr th {\n        vertical-align: top;\n    }\n\n    .dataframe thead th {\n        text-align: right;\n    }\n</style>\n<table border=\"1\" class=\"dataframe\">\n  <thead>\n    <tr style=\"text-align: right;\">\n      <th></th>\n      <th>0</th>\n    </tr>\n  </thead>\n  <tbody>\n    <tr>\n      <th>0</th>\n      <td>It is very windy and cold. There is going to be rain or snow.</td>\n    </tr>\n    <tr>\n      <th>1</th>\n      <td>It is rainy all day. There may be a thunderstorm in the afternoon.</td>\n    </tr>\n    <tr>\n      <th>2</th>\n      <td>It is cloudy, but the weather will stay dry. So no rain today.</td>\n    </tr>\n    <tr>\n      <th>3</th>\n      <td>It is cold, but snow is still not likely.</td>\n    </tr>\n    <tr>\n      <th>4</th>\n      <td>The weather is acting up today, even a storm is possible.</td>\n    </tr>\n    <tr>\n      <th>5</th>\n      <td>The weather is getting better. No development of rain today.</td>\n    </tr>\n    <tr>\n      <th>6</th>\n      <td>The clouds have cleared, it is going to be a sunny day.</td>\n    </tr>\n  </tbody>\n</table>\n</div>"
     },
     "execution_count": 71,
     "metadata": {},
     "output_type": "execute_result"
    }
   ],
   "source": [
    "X_matrix = os.path.join(OUTPUT_DIR, \"X_matrix.csv\")\n",
    "pd.read_csv(X_matrix, header=None)"
   ],
   "metadata": {
    "collapsed": false,
    "pycharm": {
     "name": "#%%\n"
    }
   }
  },
  {
   "cell_type": "code",
   "execution_count": 72,
   "outputs": [
    {
     "data": {
      "text/plain": "    0  1  2  3  4  5  6  7\n0   1  0  0  0  0  0  0  0\n1   0  1  0  0  0  0  0  0\n2   0  1  0  0  0  0  0  0\n3   0  1  0  0  0  0  0  0\n4   0  1  0  0  0  0  0  0\n5   0  1  0  0  0  0  0  0\n6   0  0  1  0  0  0  0  0\n7   0  0  1  0  0  0  0  0\n8   0  0  1  0  0  0  0  0\n9   0  0  0  1  0  0  0  0\n10  0  0  0  0  1  0  0  0\n11  0  0  0  0  0  1  0  0\n12  0  0  0  0  0  1  0  0\n13  0  0  0  0  0  1  0  0\n14  0  0  0  0  0  1  0  0\n15  0  0  0  0  0  0  1  0\n16  0  0  0  0  0  0  1  0\n17  0  0  0  0  0  0  0  1\n18  0  0  0  0  0  0  0  1\n19  0  0  0  0  0  0  0  1",
      "text/html": "<div>\n<style scoped>\n    .dataframe tbody tr th:only-of-type {\n        vertical-align: middle;\n    }\n\n    .dataframe tbody tr th {\n        vertical-align: top;\n    }\n\n    .dataframe thead th {\n        text-align: right;\n    }\n</style>\n<table border=\"1\" class=\"dataframe\">\n  <thead>\n    <tr style=\"text-align: right;\">\n      <th></th>\n      <th>0</th>\n      <th>1</th>\n      <th>2</th>\n      <th>3</th>\n      <th>4</th>\n      <th>5</th>\n      <th>6</th>\n      <th>7</th>\n    </tr>\n  </thead>\n  <tbody>\n    <tr>\n      <th>0</th>\n      <td>1</td>\n      <td>0</td>\n      <td>0</td>\n      <td>0</td>\n      <td>0</td>\n      <td>0</td>\n      <td>0</td>\n      <td>0</td>\n    </tr>\n    <tr>\n      <th>1</th>\n      <td>0</td>\n      <td>1</td>\n      <td>0</td>\n      <td>0</td>\n      <td>0</td>\n      <td>0</td>\n      <td>0</td>\n      <td>0</td>\n    </tr>\n    <tr>\n      <th>2</th>\n      <td>0</td>\n      <td>1</td>\n      <td>0</td>\n      <td>0</td>\n      <td>0</td>\n      <td>0</td>\n      <td>0</td>\n      <td>0</td>\n    </tr>\n    <tr>\n      <th>3</th>\n      <td>0</td>\n      <td>1</td>\n      <td>0</td>\n      <td>0</td>\n      <td>0</td>\n      <td>0</td>\n      <td>0</td>\n      <td>0</td>\n    </tr>\n    <tr>\n      <th>4</th>\n      <td>0</td>\n      <td>1</td>\n      <td>0</td>\n      <td>0</td>\n      <td>0</td>\n      <td>0</td>\n      <td>0</td>\n      <td>0</td>\n    </tr>\n    <tr>\n      <th>5</th>\n      <td>0</td>\n      <td>1</td>\n      <td>0</td>\n      <td>0</td>\n      <td>0</td>\n      <td>0</td>\n      <td>0</td>\n      <td>0</td>\n    </tr>\n    <tr>\n      <th>6</th>\n      <td>0</td>\n      <td>0</td>\n      <td>1</td>\n      <td>0</td>\n      <td>0</td>\n      <td>0</td>\n      <td>0</td>\n      <td>0</td>\n    </tr>\n    <tr>\n      <th>7</th>\n      <td>0</td>\n      <td>0</td>\n      <td>1</td>\n      <td>0</td>\n      <td>0</td>\n      <td>0</td>\n      <td>0</td>\n      <td>0</td>\n    </tr>\n    <tr>\n      <th>8</th>\n      <td>0</td>\n      <td>0</td>\n      <td>1</td>\n      <td>0</td>\n      <td>0</td>\n      <td>0</td>\n      <td>0</td>\n      <td>0</td>\n    </tr>\n    <tr>\n      <th>9</th>\n      <td>0</td>\n      <td>0</td>\n      <td>0</td>\n      <td>1</td>\n      <td>0</td>\n      <td>0</td>\n      <td>0</td>\n      <td>0</td>\n    </tr>\n    <tr>\n      <th>10</th>\n      <td>0</td>\n      <td>0</td>\n      <td>0</td>\n      <td>0</td>\n      <td>1</td>\n      <td>0</td>\n      <td>0</td>\n      <td>0</td>\n    </tr>\n    <tr>\n      <th>11</th>\n      <td>0</td>\n      <td>0</td>\n      <td>0</td>\n      <td>0</td>\n      <td>0</td>\n      <td>1</td>\n      <td>0</td>\n      <td>0</td>\n    </tr>\n    <tr>\n      <th>12</th>\n      <td>0</td>\n      <td>0</td>\n      <td>0</td>\n      <td>0</td>\n      <td>0</td>\n      <td>1</td>\n      <td>0</td>\n      <td>0</td>\n    </tr>\n    <tr>\n      <th>13</th>\n      <td>0</td>\n      <td>0</td>\n      <td>0</td>\n      <td>0</td>\n      <td>0</td>\n      <td>1</td>\n      <td>0</td>\n      <td>0</td>\n    </tr>\n    <tr>\n      <th>14</th>\n      <td>0</td>\n      <td>0</td>\n      <td>0</td>\n      <td>0</td>\n      <td>0</td>\n      <td>1</td>\n      <td>0</td>\n      <td>0</td>\n    </tr>\n    <tr>\n      <th>15</th>\n      <td>0</td>\n      <td>0</td>\n      <td>0</td>\n      <td>0</td>\n      <td>0</td>\n      <td>0</td>\n      <td>1</td>\n      <td>0</td>\n    </tr>\n    <tr>\n      <th>16</th>\n      <td>0</td>\n      <td>0</td>\n      <td>0</td>\n      <td>0</td>\n      <td>0</td>\n      <td>0</td>\n      <td>1</td>\n      <td>0</td>\n    </tr>\n    <tr>\n      <th>17</th>\n      <td>0</td>\n      <td>0</td>\n      <td>0</td>\n      <td>0</td>\n      <td>0</td>\n      <td>0</td>\n      <td>0</td>\n      <td>1</td>\n    </tr>\n    <tr>\n      <th>18</th>\n      <td>0</td>\n      <td>0</td>\n      <td>0</td>\n      <td>0</td>\n      <td>0</td>\n      <td>0</td>\n      <td>0</td>\n      <td>1</td>\n    </tr>\n    <tr>\n      <th>19</th>\n      <td>0</td>\n      <td>0</td>\n      <td>0</td>\n      <td>0</td>\n      <td>0</td>\n      <td>0</td>\n      <td>0</td>\n      <td>1</td>\n    </tr>\n  </tbody>\n</table>\n</div>"
     },
     "execution_count": 72,
     "metadata": {},
     "output_type": "execute_result"
    }
   ],
   "source": [
    "T_matrix = os.path.join(OUTPUT_DIR, \"T_matrix.csv\")\n",
    "pd.read_csv(T_matrix, header=None, dtype=int)"
   ],
   "metadata": {
    "collapsed": false,
    "pycharm": {
     "name": "#%%\n"
    }
   }
  },
  {
   "cell_type": "markdown",
   "source": [
    "Note, that in this case the argument \"uncertain\" was set to \"-1\", therefore uncertainty is displayed in the matrix below."
   ],
   "metadata": {
    "collapsed": false,
    "pycharm": {
     "name": "#%% md\n"
    }
   }
  },
  {
   "cell_type": "code",
   "execution_count": 88,
   "outputs": [
    {
     "data": {
      "text/plain": "   0  1  2  3  4  5  6  7  8  9  10  11  12  13  14  15  16  17  18  19\n0  0  1  0  0  0  0 -1  0  0 -1  0   0   0   0   0   0   0   1   0   0 \n1  0  0  0  0  0  0  1  0  0  0 -1   0   0   0   0   0   0   0   0   0 \n2  1  0  0  0  0  0  1  0  0  0  0   0   0   0   0   0   0   0   0   0 \n3  0  1  0  0  0  0  0  0  0 -1  0   0   0   0   0   0   0   0   0   0 \n4  0  0  0  0  0  0  0  0  0  0 -1   0   0   0   0   0   0   0   0   0 \n5  0  0  0  0  0  0  0  0  0  0  0   0   0   0   0   0   0   0   0   0 \n6  0  0  0  0  0  0  0  0  0  0  0   1   1   0   0   0   0   0   0   0 ",
      "text/html": "<div>\n<style scoped>\n    .dataframe tbody tr th:only-of-type {\n        vertical-align: middle;\n    }\n\n    .dataframe tbody tr th {\n        vertical-align: top;\n    }\n\n    .dataframe thead th {\n        text-align: right;\n    }\n</style>\n<table border=\"1\" class=\"dataframe\">\n  <thead>\n    <tr style=\"text-align: right;\">\n      <th></th>\n      <th>0</th>\n      <th>1</th>\n      <th>2</th>\n      <th>3</th>\n      <th>4</th>\n      <th>5</th>\n      <th>6</th>\n      <th>7</th>\n      <th>8</th>\n      <th>9</th>\n      <th>10</th>\n      <th>11</th>\n      <th>12</th>\n      <th>13</th>\n      <th>14</th>\n      <th>15</th>\n      <th>16</th>\n      <th>17</th>\n      <th>18</th>\n      <th>19</th>\n    </tr>\n  </thead>\n  <tbody>\n    <tr>\n      <th>0</th>\n      <td>0</td>\n      <td>1</td>\n      <td>0</td>\n      <td>0</td>\n      <td>0</td>\n      <td>0</td>\n      <td>-1</td>\n      <td>0</td>\n      <td>0</td>\n      <td>-1</td>\n      <td>0</td>\n      <td>0</td>\n      <td>0</td>\n      <td>0</td>\n      <td>0</td>\n      <td>0</td>\n      <td>0</td>\n      <td>1</td>\n      <td>0</td>\n      <td>0</td>\n    </tr>\n    <tr>\n      <th>1</th>\n      <td>0</td>\n      <td>0</td>\n      <td>0</td>\n      <td>0</td>\n      <td>0</td>\n      <td>0</td>\n      <td>1</td>\n      <td>0</td>\n      <td>0</td>\n      <td>0</td>\n      <td>-1</td>\n      <td>0</td>\n      <td>0</td>\n      <td>0</td>\n      <td>0</td>\n      <td>0</td>\n      <td>0</td>\n      <td>0</td>\n      <td>0</td>\n      <td>0</td>\n    </tr>\n    <tr>\n      <th>2</th>\n      <td>1</td>\n      <td>0</td>\n      <td>0</td>\n      <td>0</td>\n      <td>0</td>\n      <td>0</td>\n      <td>1</td>\n      <td>0</td>\n      <td>0</td>\n      <td>0</td>\n      <td>0</td>\n      <td>0</td>\n      <td>0</td>\n      <td>0</td>\n      <td>0</td>\n      <td>0</td>\n      <td>0</td>\n      <td>0</td>\n      <td>0</td>\n      <td>0</td>\n    </tr>\n    <tr>\n      <th>3</th>\n      <td>0</td>\n      <td>1</td>\n      <td>0</td>\n      <td>0</td>\n      <td>0</td>\n      <td>0</td>\n      <td>0</td>\n      <td>0</td>\n      <td>0</td>\n      <td>-1</td>\n      <td>0</td>\n      <td>0</td>\n      <td>0</td>\n      <td>0</td>\n      <td>0</td>\n      <td>0</td>\n      <td>0</td>\n      <td>0</td>\n      <td>0</td>\n      <td>0</td>\n    </tr>\n    <tr>\n      <th>4</th>\n      <td>0</td>\n      <td>0</td>\n      <td>0</td>\n      <td>0</td>\n      <td>0</td>\n      <td>0</td>\n      <td>0</td>\n      <td>0</td>\n      <td>0</td>\n      <td>0</td>\n      <td>-1</td>\n      <td>0</td>\n      <td>0</td>\n      <td>0</td>\n      <td>0</td>\n      <td>0</td>\n      <td>0</td>\n      <td>0</td>\n      <td>0</td>\n      <td>0</td>\n    </tr>\n    <tr>\n      <th>5</th>\n      <td>0</td>\n      <td>0</td>\n      <td>0</td>\n      <td>0</td>\n      <td>0</td>\n      <td>0</td>\n      <td>0</td>\n      <td>0</td>\n      <td>0</td>\n      <td>0</td>\n      <td>0</td>\n      <td>0</td>\n      <td>0</td>\n      <td>0</td>\n      <td>0</td>\n      <td>0</td>\n      <td>0</td>\n      <td>0</td>\n      <td>0</td>\n      <td>0</td>\n    </tr>\n    <tr>\n      <th>6</th>\n      <td>0</td>\n      <td>0</td>\n      <td>0</td>\n      <td>0</td>\n      <td>0</td>\n      <td>0</td>\n      <td>0</td>\n      <td>0</td>\n      <td>0</td>\n      <td>0</td>\n      <td>0</td>\n      <td>1</td>\n      <td>1</td>\n      <td>0</td>\n      <td>0</td>\n      <td>0</td>\n      <td>0</td>\n      <td>0</td>\n      <td>0</td>\n      <td>0</td>\n    </tr>\n  </tbody>\n</table>\n</div>"
     },
     "execution_count": 88,
     "metadata": {},
     "output_type": "execute_result"
    }
   ],
   "source": [
    "Z_matrix = os.path.join(OUTPUT_DIR, \"Z_matrix.csv\")\n",
    "pd.read_csv(Z_matrix, header=None, dtype=int)"
   ],
   "metadata": {
    "collapsed": false,
    "pycharm": {
     "name": "#%%\n"
    }
   }
  },
  {
   "cell_type": "markdown",
   "source": [
    "## Save files in lib format"
   ],
   "metadata": {
    "collapsed": false,
    "pycharm": {
     "name": "#%% md\n"
    }
   }
  },
  {
   "cell_type": "code",
   "execution_count": 84,
   "outputs": [
    {
     "data": {
      "text/plain": "['/home/elisabear/PycharmProjects/knodle/examples/labeler/chexpert/output/weather_rule_matches_z.lib']"
     },
     "execution_count": 84,
     "metadata": {},
     "output_type": "execute_result"
    }
   ],
   "source": [
    "dump(X_matrix, os.path.join(OUTPUT_DIR, \"weather_samples_x.lib\"))\n",
    "dump(T_matrix, os.path.join(OUTPUT_DIR, \"weather_mapping_rules_labels_t.lib\"))\n",
    "dump(Z_matrix, os.path.join(OUTPUT_DIR, \"weather_rule_matches_z.lib\"))"
   ],
   "metadata": {
    "collapsed": false,
    "pycharm": {
     "name": "#%%\n"
    }
   }
  }
 ],
 "metadata": {
  "kernelspec": {
   "display_name": "Python 3",
   "language": "python",
   "name": "python3"
  },
  "language_info": {
   "codemirror_mode": {
    "name": "ipython",
    "version": 3
   },
   "file_extension": ".py",
   "mimetype": "text/x-python",
   "name": "python",
   "nbconvert_exporter": "python",
   "pygments_lexer": "ipython3",
   "version": "3.7.3"
  }
 },
 "nbformat": 4,
 "nbformat_minor": 1
}